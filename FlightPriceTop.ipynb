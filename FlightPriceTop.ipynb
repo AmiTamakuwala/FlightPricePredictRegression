{
  "cells": [
    {
      "cell_type": "markdown",
      "metadata": {
        "id": "view-in-github",
        "colab_type": "text"
      },
      "source": [
        "<a href=\"https://colab.research.google.com/github/cuteAmi/FlightPricePredictRegression/blob/main/FlightPriceTop.ipynb\" target=\"_parent\"><img src=\"https://colab.research.google.com/assets/colab-badge.svg\" alt=\"Open In Colab\"/></a>"
      ]
    },
    {
      "cell_type": "code",
      "execution_count": null,
      "metadata": {
        "id": "0SDWeMZ80iXJ",
        "colab": {
          "base_uri": "https://localhost:8080/"
        },
        "outputId": "fbe72549-5baf-411b-d5e2-9ae476bc3db3"
      },
      "outputs": [
        {
          "output_type": "stream",
          "name": "stdout",
          "text": [
            "mkdir: cannot create directory ‘Airline’: File exists\n"
          ]
        }
      ],
      "source": [
        "! mkdir Airline"
      ]
    },
    {
      "cell_type": "code",
      "source": [
        "ls"
      ],
      "metadata": {
        "colab": {
          "base_uri": "https://localhost:8080/"
        },
        "id": "T4wjSS_NnxJN",
        "outputId": "8487d5c4-8226-4470-c1c7-1c10a31b3e71"
      },
      "execution_count": null,
      "outputs": [
        {
          "output_type": "stream",
          "name": "stdout",
          "text": [
            " \u001b[0m\u001b[01;34mAirline\u001b[0m/  'C:\\Users\\amita\\Downloads\\Airline\\Airline\\model\\model.pickle'\n"
          ]
        }
      ]
    },
    {
      "cell_type": "code",
      "source": [
        "! unzip /content/Airline"
      ],
      "metadata": {
        "id": "Yo5c3oZZoATs",
        "colab": {
          "base_uri": "https://localhost:8080/"
        },
        "outputId": "ee30de3d-fcf0-47b5-f697-45aac479945b"
      },
      "execution_count": null,
      "outputs": [
        {
          "output_type": "stream",
          "name": "stdout",
          "text": [
            "Archive:  /content/Airline.zip\n",
            "replace Airline/Airline/data/Data_Train.xlsx? [y]es, [n]o, [A]ll, [N]one, [r]ename: "
          ]
        }
      ]
    },
    {
      "cell_type": "code",
      "source": [
        ""
      ],
      "metadata": {
        "id": "Ds4pwG1ToAiy"
      },
      "execution_count": null,
      "outputs": []
    },
    {
      "cell_type": "code",
      "execution_count": null,
      "metadata": {
        "id": "ZM4svuw40iZt",
        "colab": {
          "base_uri": "https://localhost:8080/"
        },
        "outputId": "fe2cea81-1810-4f90-d69e-97be14933b16"
      },
      "outputs": [
        {
          "output_type": "stream",
          "name": "stdout",
          "text": [
            "/content/Airline\n"
          ]
        }
      ],
      "source": [
        "cd /content/Airline"
      ]
    },
    {
      "cell_type": "code",
      "execution_count": null,
      "metadata": {
        "id": "PiCxrDjl2SXU",
        "colab": {
          "base_uri": "https://localhost:8080/",
          "height": 36
        },
        "outputId": "d888de63-fd8c-461a-e69e-318e4c941a4e"
      },
      "outputs": [
        {
          "output_type": "execute_result",
          "data": {
            "text/plain": [
              "'/content/Airline'"
            ],
            "application/vnd.google.colaboratory.intrinsic+json": {
              "type": "string"
            }
          },
          "metadata": {},
          "execution_count": 314
        }
      ],
      "source": [
        "pwd"
      ]
    },
    {
      "cell_type": "code",
      "execution_count": null,
      "metadata": {
        "id": "foBVvrm72Stt",
        "colab": {
          "base_uri": "https://localhost:8080/"
        },
        "outputId": "0d8855e1-37b2-4710-8421-e730a713fe88"
      },
      "outputs": [
        {
          "output_type": "stream",
          "name": "stdout",
          "text": [
            " \u001b[0m\u001b[01;34mAirline\u001b[0m/  'C:\\Users\\amita\\Downloads\\Airline\\Airline\\model\\model.pickle'\n"
          ]
        }
      ],
      "source": [
        "ls"
      ]
    },
    {
      "cell_type": "code",
      "execution_count": null,
      "metadata": {
        "id": "vXyJ-9Vh0iUA"
      },
      "outputs": [],
      "source": [
        "import pandas as pd\n",
        "import numpy as np\n",
        "import matplotlib.pyplot as plt\n",
        "import seaborn as sns\n"
      ]
    },
    {
      "cell_type": "code",
      "execution_count": null,
      "metadata": {
        "id": "BokTd0myzTG_",
        "colab": {
          "base_uri": "https://localhost:8080/"
        },
        "outputId": "88545ed6-9cf2-462d-d43c-5e4e9f38a784"
      },
      "outputs": [
        {
          "output_type": "stream",
          "name": "stdout",
          "text": [
            "CPU times: user 1.9 s, sys: 19.6 ms, total: 1.92 s\n",
            "Wall time: 1.92 s\n"
          ]
        }
      ],
      "source": [
        "%%time\n",
        "df = pd.read_excel(\"/content/Airline/Airline/data/Data_Train.xlsx\")"
      ]
    },
    {
      "cell_type": "markdown",
      "metadata": {
        "id": "im-rBhOeZAR2"
      },
      "source": [
        "# New Section"
      ]
    },
    {
      "cell_type": "code",
      "execution_count": null,
      "metadata": {
        "id": "JU__JFpY0ie2",
        "colab": {
          "base_uri": "https://localhost:8080/"
        },
        "outputId": "716a7097-6c33-4bcb-b5f1-3cff04ca4ab9"
      },
      "outputs": [
        {
          "output_type": "stream",
          "name": "stdout",
          "text": [
            "<class 'pandas.core.frame.DataFrame'>\n",
            "RangeIndex: 10683 entries, 0 to 10682\n",
            "Data columns (total 11 columns):\n",
            " #   Column           Non-Null Count  Dtype \n",
            "---  ------           --------------  ----- \n",
            " 0   Airline          10683 non-null  object\n",
            " 1   Date_of_Journey  10683 non-null  object\n",
            " 2   Source           10683 non-null  object\n",
            " 3   Destination      10683 non-null  object\n",
            " 4   Route            10682 non-null  object\n",
            " 5   Dep_Time         10683 non-null  object\n",
            " 6   Arrival_Time     10683 non-null  object\n",
            " 7   Duration         10683 non-null  object\n",
            " 8   Total_Stops      10682 non-null  object\n",
            " 9   Additional_Info  10683 non-null  object\n",
            " 10  Price            10683 non-null  int64 \n",
            "dtypes: int64(1), object(10)\n",
            "memory usage: 918.2+ KB\n"
          ]
        }
      ],
      "source": [
        "df.info()"
      ]
    },
    {
      "cell_type": "code",
      "execution_count": null,
      "metadata": {
        "id": "lILJgykH0ihY",
        "colab": {
          "base_uri": "https://localhost:8080/",
          "height": 300
        },
        "outputId": "0b7eeab6-b04b-4ad4-db8a-bab4401c2529"
      },
      "outputs": [
        {
          "output_type": "execute_result",
          "data": {
            "text/plain": [
              "              Price\n",
              "count  10683.000000\n",
              "mean    9087.064121\n",
              "std     4611.359167\n",
              "min     1759.000000\n",
              "25%     5277.000000\n",
              "50%     8372.000000\n",
              "75%    12373.000000\n",
              "max    79512.000000"
            ],
            "text/html": [
              "\n",
              "  <div id=\"df-058c0e89-bdd3-4239-9b6a-9f660915fb9e\">\n",
              "    <div class=\"colab-df-container\">\n",
              "      <div>\n",
              "<style scoped>\n",
              "    .dataframe tbody tr th:only-of-type {\n",
              "        vertical-align: middle;\n",
              "    }\n",
              "\n",
              "    .dataframe tbody tr th {\n",
              "        vertical-align: top;\n",
              "    }\n",
              "\n",
              "    .dataframe thead th {\n",
              "        text-align: right;\n",
              "    }\n",
              "</style>\n",
              "<table border=\"1\" class=\"dataframe\">\n",
              "  <thead>\n",
              "    <tr style=\"text-align: right;\">\n",
              "      <th></th>\n",
              "      <th>Price</th>\n",
              "    </tr>\n",
              "  </thead>\n",
              "  <tbody>\n",
              "    <tr>\n",
              "      <th>count</th>\n",
              "      <td>10683.000000</td>\n",
              "    </tr>\n",
              "    <tr>\n",
              "      <th>mean</th>\n",
              "      <td>9087.064121</td>\n",
              "    </tr>\n",
              "    <tr>\n",
              "      <th>std</th>\n",
              "      <td>4611.359167</td>\n",
              "    </tr>\n",
              "    <tr>\n",
              "      <th>min</th>\n",
              "      <td>1759.000000</td>\n",
              "    </tr>\n",
              "    <tr>\n",
              "      <th>25%</th>\n",
              "      <td>5277.000000</td>\n",
              "    </tr>\n",
              "    <tr>\n",
              "      <th>50%</th>\n",
              "      <td>8372.000000</td>\n",
              "    </tr>\n",
              "    <tr>\n",
              "      <th>75%</th>\n",
              "      <td>12373.000000</td>\n",
              "    </tr>\n",
              "    <tr>\n",
              "      <th>max</th>\n",
              "      <td>79512.000000</td>\n",
              "    </tr>\n",
              "  </tbody>\n",
              "</table>\n",
              "</div>\n",
              "      <button class=\"colab-df-convert\" onclick=\"convertToInteractive('df-058c0e89-bdd3-4239-9b6a-9f660915fb9e')\"\n",
              "              title=\"Convert this dataframe to an interactive table.\"\n",
              "              style=\"display:none;\">\n",
              "        \n",
              "  <svg xmlns=\"http://www.w3.org/2000/svg\" height=\"24px\"viewBox=\"0 0 24 24\"\n",
              "       width=\"24px\">\n",
              "    <path d=\"M0 0h24v24H0V0z\" fill=\"none\"/>\n",
              "    <path d=\"M18.56 5.44l.94 2.06.94-2.06 2.06-.94-2.06-.94-.94-2.06-.94 2.06-2.06.94zm-11 1L8.5 8.5l.94-2.06 2.06-.94-2.06-.94L8.5 2.5l-.94 2.06-2.06.94zm10 10l.94 2.06.94-2.06 2.06-.94-2.06-.94-.94-2.06-.94 2.06-2.06.94z\"/><path d=\"M17.41 7.96l-1.37-1.37c-.4-.4-.92-.59-1.43-.59-.52 0-1.04.2-1.43.59L10.3 9.45l-7.72 7.72c-.78.78-.78 2.05 0 2.83L4 21.41c.39.39.9.59 1.41.59.51 0 1.02-.2 1.41-.59l7.78-7.78 2.81-2.81c.8-.78.8-2.07 0-2.86zM5.41 20L4 18.59l7.72-7.72 1.47 1.35L5.41 20z\"/>\n",
              "  </svg>\n",
              "      </button>\n",
              "      \n",
              "  <style>\n",
              "    .colab-df-container {\n",
              "      display:flex;\n",
              "      flex-wrap:wrap;\n",
              "      gap: 12px;\n",
              "    }\n",
              "\n",
              "    .colab-df-convert {\n",
              "      background-color: #E8F0FE;\n",
              "      border: none;\n",
              "      border-radius: 50%;\n",
              "      cursor: pointer;\n",
              "      display: none;\n",
              "      fill: #1967D2;\n",
              "      height: 32px;\n",
              "      padding: 0 0 0 0;\n",
              "      width: 32px;\n",
              "    }\n",
              "\n",
              "    .colab-df-convert:hover {\n",
              "      background-color: #E2EBFA;\n",
              "      box-shadow: 0px 1px 2px rgba(60, 64, 67, 0.3), 0px 1px 3px 1px rgba(60, 64, 67, 0.15);\n",
              "      fill: #174EA6;\n",
              "    }\n",
              "\n",
              "    [theme=dark] .colab-df-convert {\n",
              "      background-color: #3B4455;\n",
              "      fill: #D2E3FC;\n",
              "    }\n",
              "\n",
              "    [theme=dark] .colab-df-convert:hover {\n",
              "      background-color: #434B5C;\n",
              "      box-shadow: 0px 1px 3px 1px rgba(0, 0, 0, 0.15);\n",
              "      filter: drop-shadow(0px 1px 2px rgba(0, 0, 0, 0.3));\n",
              "      fill: #FFFFFF;\n",
              "    }\n",
              "  </style>\n",
              "\n",
              "      <script>\n",
              "        const buttonEl =\n",
              "          document.querySelector('#df-058c0e89-bdd3-4239-9b6a-9f660915fb9e button.colab-df-convert');\n",
              "        buttonEl.style.display =\n",
              "          google.colab.kernel.accessAllowed ? 'block' : 'none';\n",
              "\n",
              "        async function convertToInteractive(key) {\n",
              "          const element = document.querySelector('#df-058c0e89-bdd3-4239-9b6a-9f660915fb9e');\n",
              "          const dataTable =\n",
              "            await google.colab.kernel.invokeFunction('convertToInteractive',\n",
              "                                                     [key], {});\n",
              "          if (!dataTable) return;\n",
              "\n",
              "          const docLinkHtml = 'Like what you see? Visit the ' +\n",
              "            '<a target=\"_blank\" href=https://colab.research.google.com/notebooks/data_table.ipynb>data table notebook</a>'\n",
              "            + ' to learn more about interactive tables.';\n",
              "          element.innerHTML = '';\n",
              "          dataTable['output_type'] = 'display_data';\n",
              "          await google.colab.output.renderOutput(dataTable, element);\n",
              "          const docLink = document.createElement('div');\n",
              "          docLink.innerHTML = docLinkHtml;\n",
              "          element.appendChild(docLink);\n",
              "        }\n",
              "      </script>\n",
              "    </div>\n",
              "  </div>\n",
              "  "
            ]
          },
          "metadata": {},
          "execution_count": 430
        }
      ],
      "source": [
        "df.describe()"
      ]
    },
    {
      "cell_type": "code",
      "execution_count": null,
      "metadata": {
        "id": "_CG77vbj0imd",
        "colab": {
          "base_uri": "https://localhost:8080/",
          "height": 652
        },
        "outputId": "c5223235-223f-4c1a-caa5-66be4f3650dc"
      },
      "outputs": [
        {
          "output_type": "execute_result",
          "data": {
            "text/plain": [
              "       Airline Date_of_Journey    Source Destination                  Route  \\\n",
              "0       IndiGo      24/03/2019  Banglore   New Delhi              BLR → DEL   \n",
              "1    Air India       1/05/2019   Kolkata    Banglore  CCU → IXR → BBI → BLR   \n",
              "2  Jet Airways       9/06/2019     Delhi      Cochin  DEL → LKO → BOM → COK   \n",
              "3       IndiGo      12/05/2019   Kolkata    Banglore        CCU → NAG → BLR   \n",
              "4       IndiGo      01/03/2019  Banglore   New Delhi        BLR → NAG → DEL   \n",
              "\n",
              "  Dep_Time  Arrival_Time Duration Total_Stops Additional_Info  Price  \n",
              "0    22:20  01:10 22 Mar   2h 50m    non-stop         No info   3897  \n",
              "1    05:50         13:15   7h 25m     2 stops         No info   7662  \n",
              "2    09:25  04:25 10 Jun      19h     2 stops         No info  13882  \n",
              "3    18:05         23:30   5h 25m      1 stop         No info   6218  \n",
              "4    16:50         21:35   4h 45m      1 stop         No info  13302  "
            ],
            "text/html": [
              "\n",
              "  <div id=\"df-59b87689-7a82-4b86-863c-d2349c2efd7f\">\n",
              "    <div class=\"colab-df-container\">\n",
              "      <div>\n",
              "<style scoped>\n",
              "    .dataframe tbody tr th:only-of-type {\n",
              "        vertical-align: middle;\n",
              "    }\n",
              "\n",
              "    .dataframe tbody tr th {\n",
              "        vertical-align: top;\n",
              "    }\n",
              "\n",
              "    .dataframe thead th {\n",
              "        text-align: right;\n",
              "    }\n",
              "</style>\n",
              "<table border=\"1\" class=\"dataframe\">\n",
              "  <thead>\n",
              "    <tr style=\"text-align: right;\">\n",
              "      <th></th>\n",
              "      <th>Airline</th>\n",
              "      <th>Date_of_Journey</th>\n",
              "      <th>Source</th>\n",
              "      <th>Destination</th>\n",
              "      <th>Route</th>\n",
              "      <th>Dep_Time</th>\n",
              "      <th>Arrival_Time</th>\n",
              "      <th>Duration</th>\n",
              "      <th>Total_Stops</th>\n",
              "      <th>Additional_Info</th>\n",
              "      <th>Price</th>\n",
              "    </tr>\n",
              "  </thead>\n",
              "  <tbody>\n",
              "    <tr>\n",
              "      <th>0</th>\n",
              "      <td>IndiGo</td>\n",
              "      <td>24/03/2019</td>\n",
              "      <td>Banglore</td>\n",
              "      <td>New Delhi</td>\n",
              "      <td>BLR → DEL</td>\n",
              "      <td>22:20</td>\n",
              "      <td>01:10 22 Mar</td>\n",
              "      <td>2h 50m</td>\n",
              "      <td>non-stop</td>\n",
              "      <td>No info</td>\n",
              "      <td>3897</td>\n",
              "    </tr>\n",
              "    <tr>\n",
              "      <th>1</th>\n",
              "      <td>Air India</td>\n",
              "      <td>1/05/2019</td>\n",
              "      <td>Kolkata</td>\n",
              "      <td>Banglore</td>\n",
              "      <td>CCU → IXR → BBI → BLR</td>\n",
              "      <td>05:50</td>\n",
              "      <td>13:15</td>\n",
              "      <td>7h 25m</td>\n",
              "      <td>2 stops</td>\n",
              "      <td>No info</td>\n",
              "      <td>7662</td>\n",
              "    </tr>\n",
              "    <tr>\n",
              "      <th>2</th>\n",
              "      <td>Jet Airways</td>\n",
              "      <td>9/06/2019</td>\n",
              "      <td>Delhi</td>\n",
              "      <td>Cochin</td>\n",
              "      <td>DEL → LKO → BOM → COK</td>\n",
              "      <td>09:25</td>\n",
              "      <td>04:25 10 Jun</td>\n",
              "      <td>19h</td>\n",
              "      <td>2 stops</td>\n",
              "      <td>No info</td>\n",
              "      <td>13882</td>\n",
              "    </tr>\n",
              "    <tr>\n",
              "      <th>3</th>\n",
              "      <td>IndiGo</td>\n",
              "      <td>12/05/2019</td>\n",
              "      <td>Kolkata</td>\n",
              "      <td>Banglore</td>\n",
              "      <td>CCU → NAG → BLR</td>\n",
              "      <td>18:05</td>\n",
              "      <td>23:30</td>\n",
              "      <td>5h 25m</td>\n",
              "      <td>1 stop</td>\n",
              "      <td>No info</td>\n",
              "      <td>6218</td>\n",
              "    </tr>\n",
              "    <tr>\n",
              "      <th>4</th>\n",
              "      <td>IndiGo</td>\n",
              "      <td>01/03/2019</td>\n",
              "      <td>Banglore</td>\n",
              "      <td>New Delhi</td>\n",
              "      <td>BLR → NAG → DEL</td>\n",
              "      <td>16:50</td>\n",
              "      <td>21:35</td>\n",
              "      <td>4h 45m</td>\n",
              "      <td>1 stop</td>\n",
              "      <td>No info</td>\n",
              "      <td>13302</td>\n",
              "    </tr>\n",
              "  </tbody>\n",
              "</table>\n",
              "</div>\n",
              "      <button class=\"colab-df-convert\" onclick=\"convertToInteractive('df-59b87689-7a82-4b86-863c-d2349c2efd7f')\"\n",
              "              title=\"Convert this dataframe to an interactive table.\"\n",
              "              style=\"display:none;\">\n",
              "        \n",
              "  <svg xmlns=\"http://www.w3.org/2000/svg\" height=\"24px\"viewBox=\"0 0 24 24\"\n",
              "       width=\"24px\">\n",
              "    <path d=\"M0 0h24v24H0V0z\" fill=\"none\"/>\n",
              "    <path d=\"M18.56 5.44l.94 2.06.94-2.06 2.06-.94-2.06-.94-.94-2.06-.94 2.06-2.06.94zm-11 1L8.5 8.5l.94-2.06 2.06-.94-2.06-.94L8.5 2.5l-.94 2.06-2.06.94zm10 10l.94 2.06.94-2.06 2.06-.94-2.06-.94-.94-2.06-.94 2.06-2.06.94z\"/><path d=\"M17.41 7.96l-1.37-1.37c-.4-.4-.92-.59-1.43-.59-.52 0-1.04.2-1.43.59L10.3 9.45l-7.72 7.72c-.78.78-.78 2.05 0 2.83L4 21.41c.39.39.9.59 1.41.59.51 0 1.02-.2 1.41-.59l7.78-7.78 2.81-2.81c.8-.78.8-2.07 0-2.86zM5.41 20L4 18.59l7.72-7.72 1.47 1.35L5.41 20z\"/>\n",
              "  </svg>\n",
              "      </button>\n",
              "      \n",
              "  <style>\n",
              "    .colab-df-container {\n",
              "      display:flex;\n",
              "      flex-wrap:wrap;\n",
              "      gap: 12px;\n",
              "    }\n",
              "\n",
              "    .colab-df-convert {\n",
              "      background-color: #E8F0FE;\n",
              "      border: none;\n",
              "      border-radius: 50%;\n",
              "      cursor: pointer;\n",
              "      display: none;\n",
              "      fill: #1967D2;\n",
              "      height: 32px;\n",
              "      padding: 0 0 0 0;\n",
              "      width: 32px;\n",
              "    }\n",
              "\n",
              "    .colab-df-convert:hover {\n",
              "      background-color: #E2EBFA;\n",
              "      box-shadow: 0px 1px 2px rgba(60, 64, 67, 0.3), 0px 1px 3px 1px rgba(60, 64, 67, 0.15);\n",
              "      fill: #174EA6;\n",
              "    }\n",
              "\n",
              "    [theme=dark] .colab-df-convert {\n",
              "      background-color: #3B4455;\n",
              "      fill: #D2E3FC;\n",
              "    }\n",
              "\n",
              "    [theme=dark] .colab-df-convert:hover {\n",
              "      background-color: #434B5C;\n",
              "      box-shadow: 0px 1px 3px 1px rgba(0, 0, 0, 0.15);\n",
              "      filter: drop-shadow(0px 1px 2px rgba(0, 0, 0, 0.3));\n",
              "      fill: #FFFFFF;\n",
              "    }\n",
              "  </style>\n",
              "\n",
              "      <script>\n",
              "        const buttonEl =\n",
              "          document.querySelector('#df-59b87689-7a82-4b86-863c-d2349c2efd7f button.colab-df-convert');\n",
              "        buttonEl.style.display =\n",
              "          google.colab.kernel.accessAllowed ? 'block' : 'none';\n",
              "\n",
              "        async function convertToInteractive(key) {\n",
              "          const element = document.querySelector('#df-59b87689-7a82-4b86-863c-d2349c2efd7f');\n",
              "          const dataTable =\n",
              "            await google.colab.kernel.invokeFunction('convertToInteractive',\n",
              "                                                     [key], {});\n",
              "          if (!dataTable) return;\n",
              "\n",
              "          const docLinkHtml = 'Like what you see? Visit the ' +\n",
              "            '<a target=\"_blank\" href=https://colab.research.google.com/notebooks/data_table.ipynb>data table notebook</a>'\n",
              "            + ' to learn more about interactive tables.';\n",
              "          element.innerHTML = '';\n",
              "          dataTable['output_type'] = 'display_data';\n",
              "          await google.colab.output.renderOutput(dataTable, element);\n",
              "          const docLink = document.createElement('div');\n",
              "          docLink.innerHTML = docLinkHtml;\n",
              "          element.appendChild(docLink);\n",
              "        }\n",
              "      </script>\n",
              "    </div>\n",
              "  </div>\n",
              "  "
            ]
          },
          "metadata": {},
          "execution_count": 431
        }
      ],
      "source": [
        "df.head()"
      ]
    },
    {
      "cell_type": "code",
      "execution_count": null,
      "metadata": {
        "id": "lMpeVO4G0ipK",
        "colab": {
          "base_uri": "https://localhost:8080/",
          "height": 308
        },
        "outputId": "a9d7a3c3-2ad9-411b-98e7-e17e88fc042f"
      },
      "outputs": [
        {
          "output_type": "execute_result",
          "data": {
            "text/plain": [
              "            Airline Date_of_Journey Source Destination            Route  \\\n",
              "count         10683           10683  10683       10683            10682   \n",
              "unique           12              44      5           6              128   \n",
              "top     Jet Airways      18/05/2019  Delhi      Cochin  DEL → BOM → COK   \n",
              "freq           3849             504   4537        4537             2376   \n",
              "\n",
              "       Dep_Time Arrival_Time Duration Total_Stops Additional_Info  \n",
              "count     10683        10683    10683       10682           10683  \n",
              "unique      222         1343      368           5              10  \n",
              "top       18:55        19:00   2h 50m      1 stop         No info  \n",
              "freq        233          423      550        5625            8345  "
            ],
            "text/html": [
              "\n",
              "  <div id=\"df-91dcfc4f-151b-450e-9de1-a9f400d874fe\">\n",
              "    <div class=\"colab-df-container\">\n",
              "      <div>\n",
              "<style scoped>\n",
              "    .dataframe tbody tr th:only-of-type {\n",
              "        vertical-align: middle;\n",
              "    }\n",
              "\n",
              "    .dataframe tbody tr th {\n",
              "        vertical-align: top;\n",
              "    }\n",
              "\n",
              "    .dataframe thead th {\n",
              "        text-align: right;\n",
              "    }\n",
              "</style>\n",
              "<table border=\"1\" class=\"dataframe\">\n",
              "  <thead>\n",
              "    <tr style=\"text-align: right;\">\n",
              "      <th></th>\n",
              "      <th>Airline</th>\n",
              "      <th>Date_of_Journey</th>\n",
              "      <th>Source</th>\n",
              "      <th>Destination</th>\n",
              "      <th>Route</th>\n",
              "      <th>Dep_Time</th>\n",
              "      <th>Arrival_Time</th>\n",
              "      <th>Duration</th>\n",
              "      <th>Total_Stops</th>\n",
              "      <th>Additional_Info</th>\n",
              "    </tr>\n",
              "  </thead>\n",
              "  <tbody>\n",
              "    <tr>\n",
              "      <th>count</th>\n",
              "      <td>10683</td>\n",
              "      <td>10683</td>\n",
              "      <td>10683</td>\n",
              "      <td>10683</td>\n",
              "      <td>10682</td>\n",
              "      <td>10683</td>\n",
              "      <td>10683</td>\n",
              "      <td>10683</td>\n",
              "      <td>10682</td>\n",
              "      <td>10683</td>\n",
              "    </tr>\n",
              "    <tr>\n",
              "      <th>unique</th>\n",
              "      <td>12</td>\n",
              "      <td>44</td>\n",
              "      <td>5</td>\n",
              "      <td>6</td>\n",
              "      <td>128</td>\n",
              "      <td>222</td>\n",
              "      <td>1343</td>\n",
              "      <td>368</td>\n",
              "      <td>5</td>\n",
              "      <td>10</td>\n",
              "    </tr>\n",
              "    <tr>\n",
              "      <th>top</th>\n",
              "      <td>Jet Airways</td>\n",
              "      <td>18/05/2019</td>\n",
              "      <td>Delhi</td>\n",
              "      <td>Cochin</td>\n",
              "      <td>DEL → BOM → COK</td>\n",
              "      <td>18:55</td>\n",
              "      <td>19:00</td>\n",
              "      <td>2h 50m</td>\n",
              "      <td>1 stop</td>\n",
              "      <td>No info</td>\n",
              "    </tr>\n",
              "    <tr>\n",
              "      <th>freq</th>\n",
              "      <td>3849</td>\n",
              "      <td>504</td>\n",
              "      <td>4537</td>\n",
              "      <td>4537</td>\n",
              "      <td>2376</td>\n",
              "      <td>233</td>\n",
              "      <td>423</td>\n",
              "      <td>550</td>\n",
              "      <td>5625</td>\n",
              "      <td>8345</td>\n",
              "    </tr>\n",
              "  </tbody>\n",
              "</table>\n",
              "</div>\n",
              "      <button class=\"colab-df-convert\" onclick=\"convertToInteractive('df-91dcfc4f-151b-450e-9de1-a9f400d874fe')\"\n",
              "              title=\"Convert this dataframe to an interactive table.\"\n",
              "              style=\"display:none;\">\n",
              "        \n",
              "  <svg xmlns=\"http://www.w3.org/2000/svg\" height=\"24px\"viewBox=\"0 0 24 24\"\n",
              "       width=\"24px\">\n",
              "    <path d=\"M0 0h24v24H0V0z\" fill=\"none\"/>\n",
              "    <path d=\"M18.56 5.44l.94 2.06.94-2.06 2.06-.94-2.06-.94-.94-2.06-.94 2.06-2.06.94zm-11 1L8.5 8.5l.94-2.06 2.06-.94-2.06-.94L8.5 2.5l-.94 2.06-2.06.94zm10 10l.94 2.06.94-2.06 2.06-.94-2.06-.94-.94-2.06-.94 2.06-2.06.94z\"/><path d=\"M17.41 7.96l-1.37-1.37c-.4-.4-.92-.59-1.43-.59-.52 0-1.04.2-1.43.59L10.3 9.45l-7.72 7.72c-.78.78-.78 2.05 0 2.83L4 21.41c.39.39.9.59 1.41.59.51 0 1.02-.2 1.41-.59l7.78-7.78 2.81-2.81c.8-.78.8-2.07 0-2.86zM5.41 20L4 18.59l7.72-7.72 1.47 1.35L5.41 20z\"/>\n",
              "  </svg>\n",
              "      </button>\n",
              "      \n",
              "  <style>\n",
              "    .colab-df-container {\n",
              "      display:flex;\n",
              "      flex-wrap:wrap;\n",
              "      gap: 12px;\n",
              "    }\n",
              "\n",
              "    .colab-df-convert {\n",
              "      background-color: #E8F0FE;\n",
              "      border: none;\n",
              "      border-radius: 50%;\n",
              "      cursor: pointer;\n",
              "      display: none;\n",
              "      fill: #1967D2;\n",
              "      height: 32px;\n",
              "      padding: 0 0 0 0;\n",
              "      width: 32px;\n",
              "    }\n",
              "\n",
              "    .colab-df-convert:hover {\n",
              "      background-color: #E2EBFA;\n",
              "      box-shadow: 0px 1px 2px rgba(60, 64, 67, 0.3), 0px 1px 3px 1px rgba(60, 64, 67, 0.15);\n",
              "      fill: #174EA6;\n",
              "    }\n",
              "\n",
              "    [theme=dark] .colab-df-convert {\n",
              "      background-color: #3B4455;\n",
              "      fill: #D2E3FC;\n",
              "    }\n",
              "\n",
              "    [theme=dark] .colab-df-convert:hover {\n",
              "      background-color: #434B5C;\n",
              "      box-shadow: 0px 1px 3px 1px rgba(0, 0, 0, 0.15);\n",
              "      filter: drop-shadow(0px 1px 2px rgba(0, 0, 0, 0.3));\n",
              "      fill: #FFFFFF;\n",
              "    }\n",
              "  </style>\n",
              "\n",
              "      <script>\n",
              "        const buttonEl =\n",
              "          document.querySelector('#df-91dcfc4f-151b-450e-9de1-a9f400d874fe button.colab-df-convert');\n",
              "        buttonEl.style.display =\n",
              "          google.colab.kernel.accessAllowed ? 'block' : 'none';\n",
              "\n",
              "        async function convertToInteractive(key) {\n",
              "          const element = document.querySelector('#df-91dcfc4f-151b-450e-9de1-a9f400d874fe');\n",
              "          const dataTable =\n",
              "            await google.colab.kernel.invokeFunction('convertToInteractive',\n",
              "                                                     [key], {});\n",
              "          if (!dataTable) return;\n",
              "\n",
              "          const docLinkHtml = 'Like what you see? Visit the ' +\n",
              "            '<a target=\"_blank\" href=https://colab.research.google.com/notebooks/data_table.ipynb>data table notebook</a>'\n",
              "            + ' to learn more about interactive tables.';\n",
              "          element.innerHTML = '';\n",
              "          dataTable['output_type'] = 'display_data';\n",
              "          await google.colab.output.renderOutput(dataTable, element);\n",
              "          const docLink = document.createElement('div');\n",
              "          docLink.innerHTML = docLinkHtml;\n",
              "          element.appendChild(docLink);\n",
              "        }\n",
              "      </script>\n",
              "    </div>\n",
              "  </div>\n",
              "  "
            ]
          },
          "metadata": {},
          "execution_count": 432
        }
      ],
      "source": [
        "df.describe(include=object)"
      ]
    },
    {
      "cell_type": "markdown",
      "metadata": {
        "id": "3cRKEPRP7gwX"
      },
      "source": [
        "EDA question?\n",
        "1. Which Airline   has the maximum and minimum travel?\n",
        "2. Which City   has the maximum and minimum departures?\n",
        "3. Which City   has the maximum and minimum Arrivals?\n",
        "4. Which month has the maximum / minimum departures?\n",
        "5. What is the highest & lowest Ticket price range fall in?\n",
        "6. On which day in a week has the maximum/minimum departure booking?\n",
        "7. What is the minimum & maximum duration of the travel?\n",
        "8. Month wise Revenue Maximum & minimum?\n",
        "9. On which day of Week Revenue Maximum & minimum?\n",
        "10. Maximum & minimum duration of Flights?\n",
        "11. Which Airline gives maximum and Minimum revenue\n",
        "12. At which hour of day maximum/ minimum departures are there?\n",
        "13. At which hour of day maximum/ minimum arrival are there?\n",
        "14. From which city , which airline departs most?"
      ]
    },
    {
      "cell_type": "markdown",
      "metadata": {
        "id": "wQNsYAB574rM"
      },
      "source": [
        "## Sanity Check / Vakidate data correctness:"
      ]
    },
    {
      "cell_type": "code",
      "execution_count": null,
      "metadata": {
        "id": "S05T3J5Y0iua",
        "colab": {
          "base_uri": "https://localhost:8080/"
        },
        "outputId": "0b4edbe5-3d3c-4ad4-9d01-ea09a03b1df9"
      },
      "outputs": [
        {
          "output_type": "execute_result",
          "data": {
            "text/plain": [
              "10683"
            ]
          },
          "metadata": {},
          "execution_count": 433
        }
      ],
      "source": [
        "len(df)"
      ]
    },
    {
      "cell_type": "code",
      "execution_count": null,
      "metadata": {
        "id": "QvxP8KoD0ixU"
      },
      "outputs": [],
      "source": [
        "# Drop any duplicates:\n",
        "\n",
        "df.drop_duplicates(inplace= True)"
      ]
    },
    {
      "cell_type": "code",
      "execution_count": null,
      "metadata": {
        "id": "1_EtroN70i0g",
        "colab": {
          "base_uri": "https://localhost:8080/"
        },
        "outputId": "1a950629-5cb3-4c64-a595-3e804acfe255"
      },
      "outputs": [
        {
          "output_type": "execute_result",
          "data": {
            "text/plain": [
              "10463"
            ]
          },
          "metadata": {},
          "execution_count": 435
        }
      ],
      "source": [
        "# length of df after deleting the duplicates:\n",
        "len(df)"
      ]
    },
    {
      "cell_type": "code",
      "execution_count": null,
      "metadata": {
        "id": "UUOPbVKV0gBy",
        "colab": {
          "base_uri": "https://localhost:8080/"
        },
        "outputId": "2d0a8f0a-7250-4158-b76a-25e2151b2d09"
      },
      "outputs": [
        {
          "output_type": "stream",
          "name": "stdout",
          "text": [
            "<class 'pandas.core.frame.DataFrame'>\n",
            "Int64Index: 10463 entries, 0 to 10682\n",
            "Data columns (total 11 columns):\n",
            " #   Column           Non-Null Count  Dtype \n",
            "---  ------           --------------  ----- \n",
            " 0   Airline          10463 non-null  object\n",
            " 1   Date_of_Journey  10463 non-null  object\n",
            " 2   Source           10463 non-null  object\n",
            " 3   Destination      10463 non-null  object\n",
            " 4   Route            10462 non-null  object\n",
            " 5   Dep_Time         10463 non-null  object\n",
            " 6   Arrival_Time     10463 non-null  object\n",
            " 7   Duration         10463 non-null  object\n",
            " 8   Total_Stops      10462 non-null  object\n",
            " 9   Additional_Info  10463 non-null  object\n",
            " 10  Price            10463 non-null  int64 \n",
            "dtypes: int64(1), object(10)\n",
            "memory usage: 980.9+ KB\n"
          ]
        }
      ],
      "source": [
        "df.info()"
      ]
    },
    {
      "cell_type": "code",
      "execution_count": null,
      "metadata": {
        "id": "i7dWGij98ndN"
      },
      "outputs": [],
      "source": [
        "# Date_of_journey, Arrival_Time, Dep_Time must be Datetime Object:\n",
        "\n",
        "# df[\"Date_of_Journey\"] = pd.to_datetime(df[\"Date_of_Journey\"])\n",
        "# df[\"Dep_Time\"] = pd.to_datetime(df[\"Dep_Time\"])\n",
        "# df[\"Arrival_Time\"] = pd.to_datetime(df[\"Arrival_Time\"])"
      ]
    },
    {
      "cell_type": "code",
      "execution_count": null,
      "metadata": {
        "id": "EqAOA5D78ozY"
      },
      "outputs": [],
      "source": [
        "# can also use 'for' loop for object to datetime transform:\n",
        "\n",
        "datetime_columns = [\"Date_of_Journey\",\"Dep_Time\",\"Arrival_Time\"]\n",
        "for col in datetime_columns:\n",
        "   df[col] = pd.to_datetime(df[col])"
      ]
    },
    {
      "cell_type": "code",
      "execution_count": null,
      "metadata": {
        "id": "7kqtzOlV8o2L",
        "colab": {
          "base_uri": "https://localhost:8080/"
        },
        "outputId": "b31eee31-4ae9-44bb-c6da-661786445b5e"
      },
      "outputs": [
        {
          "output_type": "stream",
          "name": "stdout",
          "text": [
            "<class 'pandas.core.frame.DataFrame'>\n",
            "Int64Index: 10463 entries, 0 to 10682\n",
            "Data columns (total 11 columns):\n",
            " #   Column           Non-Null Count  Dtype         \n",
            "---  ------           --------------  -----         \n",
            " 0   Airline          10463 non-null  object        \n",
            " 1   Date_of_Journey  10463 non-null  datetime64[ns]\n",
            " 2   Source           10463 non-null  object        \n",
            " 3   Destination      10463 non-null  object        \n",
            " 4   Route            10462 non-null  object        \n",
            " 5   Dep_Time         10463 non-null  datetime64[ns]\n",
            " 6   Arrival_Time     10463 non-null  datetime64[ns]\n",
            " 7   Duration         10463 non-null  object        \n",
            " 8   Total_Stops      10462 non-null  object        \n",
            " 9   Additional_Info  10463 non-null  object        \n",
            " 10  Price            10463 non-null  int64         \n",
            "dtypes: datetime64[ns](3), int64(1), object(7)\n",
            "memory usage: 980.9+ KB\n"
          ]
        }
      ],
      "source": [
        "# let's check info again for datatype:\n",
        "\n",
        "df.info()"
      ]
    },
    {
      "cell_type": "code",
      "execution_count": null,
      "metadata": {
        "id": "JyHI9iMM8o4Q",
        "colab": {
          "base_uri": "https://localhost:8080/"
        },
        "outputId": "d4e0a7c6-d081-481c-d37e-9777f72d6224"
      },
      "outputs": [
        {
          "output_type": "execute_result",
          "data": {
            "text/plain": [
              "Airline                    object\n",
              "Date_of_Journey    datetime64[ns]\n",
              "Source                     object\n",
              "Destination                object\n",
              "Route                      object\n",
              "Dep_Time           datetime64[ns]\n",
              "Arrival_Time       datetime64[ns]\n",
              "Duration                   object\n",
              "Total_Stops                object\n",
              "Additional_Info            object\n",
              "Price                       int64\n",
              "dtype: object"
            ]
          },
          "metadata": {},
          "execution_count": 440
        }
      ],
      "source": [
        "df.dtypes"
      ]
    },
    {
      "cell_type": "code",
      "execution_count": null,
      "metadata": {
        "id": "qkYB4c-D8o6W"
      },
      "outputs": [],
      "source": [
        "# 'Duration' and 'Total_Stops' has to be numerical meaning instead of object:\n",
        "# Convert them into appropriate format.  "
      ]
    },
    {
      "cell_type": "code",
      "execution_count": null,
      "metadata": {
        "id": "Rc8S6LWW8o-v",
        "colab": {
          "base_uri": "https://localhost:8080/",
          "height": 249
        },
        "outputId": "48ec0e6d-4caa-422e-82e1-a558d6e61f60"
      },
      "outputs": [
        {
          "output_type": "execute_result",
          "data": {
            "text/plain": [
              "        Airline Date_of_Journey  Source Destination                  Route  \\\n",
              "6474  Air India      2019-06-03  Mumbai   Hyderabad  BOM → GOI → PNQ → HYD   \n",
              "\n",
              "                Dep_Time        Arrival_Time Duration Total_Stops  \\\n",
              "6474 2022-05-23 16:50:00 2022-05-23 16:55:00       5m     2 stops   \n",
              "\n",
              "     Additional_Info  Price  \n",
              "6474         No info  17327  "
            ],
            "text/html": [
              "\n",
              "  <div id=\"df-45efa907-9f29-4b8b-ad57-b7040fa03b5b\">\n",
              "    <div class=\"colab-df-container\">\n",
              "      <div>\n",
              "<style scoped>\n",
              "    .dataframe tbody tr th:only-of-type {\n",
              "        vertical-align: middle;\n",
              "    }\n",
              "\n",
              "    .dataframe tbody tr th {\n",
              "        vertical-align: top;\n",
              "    }\n",
              "\n",
              "    .dataframe thead th {\n",
              "        text-align: right;\n",
              "    }\n",
              "</style>\n",
              "<table border=\"1\" class=\"dataframe\">\n",
              "  <thead>\n",
              "    <tr style=\"text-align: right;\">\n",
              "      <th></th>\n",
              "      <th>Airline</th>\n",
              "      <th>Date_of_Journey</th>\n",
              "      <th>Source</th>\n",
              "      <th>Destination</th>\n",
              "      <th>Route</th>\n",
              "      <th>Dep_Time</th>\n",
              "      <th>Arrival_Time</th>\n",
              "      <th>Duration</th>\n",
              "      <th>Total_Stops</th>\n",
              "      <th>Additional_Info</th>\n",
              "      <th>Price</th>\n",
              "    </tr>\n",
              "  </thead>\n",
              "  <tbody>\n",
              "    <tr>\n",
              "      <th>6474</th>\n",
              "      <td>Air India</td>\n",
              "      <td>2019-06-03</td>\n",
              "      <td>Mumbai</td>\n",
              "      <td>Hyderabad</td>\n",
              "      <td>BOM → GOI → PNQ → HYD</td>\n",
              "      <td>2022-05-23 16:50:00</td>\n",
              "      <td>2022-05-23 16:55:00</td>\n",
              "      <td>5m</td>\n",
              "      <td>2 stops</td>\n",
              "      <td>No info</td>\n",
              "      <td>17327</td>\n",
              "    </tr>\n",
              "  </tbody>\n",
              "</table>\n",
              "</div>\n",
              "      <button class=\"colab-df-convert\" onclick=\"convertToInteractive('df-45efa907-9f29-4b8b-ad57-b7040fa03b5b')\"\n",
              "              title=\"Convert this dataframe to an interactive table.\"\n",
              "              style=\"display:none;\">\n",
              "        \n",
              "  <svg xmlns=\"http://www.w3.org/2000/svg\" height=\"24px\"viewBox=\"0 0 24 24\"\n",
              "       width=\"24px\">\n",
              "    <path d=\"M0 0h24v24H0V0z\" fill=\"none\"/>\n",
              "    <path d=\"M18.56 5.44l.94 2.06.94-2.06 2.06-.94-2.06-.94-.94-2.06-.94 2.06-2.06.94zm-11 1L8.5 8.5l.94-2.06 2.06-.94-2.06-.94L8.5 2.5l-.94 2.06-2.06.94zm10 10l.94 2.06.94-2.06 2.06-.94-2.06-.94-.94-2.06-.94 2.06-2.06.94z\"/><path d=\"M17.41 7.96l-1.37-1.37c-.4-.4-.92-.59-1.43-.59-.52 0-1.04.2-1.43.59L10.3 9.45l-7.72 7.72c-.78.78-.78 2.05 0 2.83L4 21.41c.39.39.9.59 1.41.59.51 0 1.02-.2 1.41-.59l7.78-7.78 2.81-2.81c.8-.78.8-2.07 0-2.86zM5.41 20L4 18.59l7.72-7.72 1.47 1.35L5.41 20z\"/>\n",
              "  </svg>\n",
              "      </button>\n",
              "      \n",
              "  <style>\n",
              "    .colab-df-container {\n",
              "      display:flex;\n",
              "      flex-wrap:wrap;\n",
              "      gap: 12px;\n",
              "    }\n",
              "\n",
              "    .colab-df-convert {\n",
              "      background-color: #E8F0FE;\n",
              "      border: none;\n",
              "      border-radius: 50%;\n",
              "      cursor: pointer;\n",
              "      display: none;\n",
              "      fill: #1967D2;\n",
              "      height: 32px;\n",
              "      padding: 0 0 0 0;\n",
              "      width: 32px;\n",
              "    }\n",
              "\n",
              "    .colab-df-convert:hover {\n",
              "      background-color: #E2EBFA;\n",
              "      box-shadow: 0px 1px 2px rgba(60, 64, 67, 0.3), 0px 1px 3px 1px rgba(60, 64, 67, 0.15);\n",
              "      fill: #174EA6;\n",
              "    }\n",
              "\n",
              "    [theme=dark] .colab-df-convert {\n",
              "      background-color: #3B4455;\n",
              "      fill: #D2E3FC;\n",
              "    }\n",
              "\n",
              "    [theme=dark] .colab-df-convert:hover {\n",
              "      background-color: #434B5C;\n",
              "      box-shadow: 0px 1px 3px 1px rgba(0, 0, 0, 0.15);\n",
              "      filter: drop-shadow(0px 1px 2px rgba(0, 0, 0, 0.3));\n",
              "      fill: #FFFFFF;\n",
              "    }\n",
              "  </style>\n",
              "\n",
              "      <script>\n",
              "        const buttonEl =\n",
              "          document.querySelector('#df-45efa907-9f29-4b8b-ad57-b7040fa03b5b button.colab-df-convert');\n",
              "        buttonEl.style.display =\n",
              "          google.colab.kernel.accessAllowed ? 'block' : 'none';\n",
              "\n",
              "        async function convertToInteractive(key) {\n",
              "          const element = document.querySelector('#df-45efa907-9f29-4b8b-ad57-b7040fa03b5b');\n",
              "          const dataTable =\n",
              "            await google.colab.kernel.invokeFunction('convertToInteractive',\n",
              "                                                     [key], {});\n",
              "          if (!dataTable) return;\n",
              "\n",
              "          const docLinkHtml = 'Like what you see? Visit the ' +\n",
              "            '<a target=\"_blank\" href=https://colab.research.google.com/notebooks/data_table.ipynb>data table notebook</a>'\n",
              "            + ' to learn more about interactive tables.';\n",
              "          element.innerHTML = '';\n",
              "          dataTable['output_type'] = 'display_data';\n",
              "          await google.colab.output.renderOutput(dataTable, element);\n",
              "          const docLink = document.createElement('div');\n",
              "          docLink.innerHTML = docLinkHtml;\n",
              "          element.appendChild(docLink);\n",
              "        }\n",
              "      </script>\n",
              "    </div>\n",
              "  </div>\n",
              "  "
            ]
          },
          "metadata": {},
          "execution_count": 442
        }
      ],
      "source": [
        "df[df['Duration'] == '5m']"
      ]
    },
    {
      "cell_type": "code",
      "execution_count": null,
      "metadata": {
        "id": "i8ed5kyb8pBQ"
      },
      "outputs": [],
      "source": [
        "# understanding for calculate total min. and split \"h\" and \"m\" from the numerical values:\n",
        "\n",
        "# duration = df.loc[0, 'Duration']\n",
        "# duration\n",
        "# # 2h 50m  --> minutes?\n",
        "# # 170 m --> 2*60 + 50\n",
        "# duration.split(\" \")\n",
        "# hour_value = int(duration.split(\" \")[0].replace(\"h\",\"\"))\n",
        "# minute_value = int(duration.split(\" \")[1].replace(\"m\",\"\"))\n",
        "# hour_value*60 + minute_value\n"
      ]
    },
    {
      "cell_type": "code",
      "execution_count": null,
      "metadata": {
        "id": "krqL5j2l8pDO"
      },
      "outputs": [],
      "source": [
        "\n",
        "\n",
        "\n",
        "\n",
        "# # now let's check if only hour or only min. will be inside the data than how can we calculate whole data?:\n",
        "\n",
        "# a = '2h 40m'\n",
        "# b = '3h'\n",
        "# c = '40m'\n",
        "\n",
        "# # this calcultiuon for only hours convert into total minutes.\n",
        "\n",
        "# len(b.split(\" \"))\n",
        "# duration = \"3h\"\n",
        "# if b.endswith('h'):\n",
        "#   minutes_value = 0\n",
        "#   hour_value = int(duration.split(\" \")[0].replace('h', ''))\n",
        "#   total_minute = hour_value*60 + minutes_value\n",
        "#   print(total_minute)"
      ]
    },
    {
      "cell_type": "code",
      "execution_count": null,
      "metadata": {
        "id": "KgFt2Z3V8pFl"
      },
      "outputs": [],
      "source": [
        "# Let's check onlu for minutes when only minutes has been given:\n",
        "\n",
        "# duration = '40m'\n",
        "# if duration.endswith('m'):\n",
        "#   min_value = int(duration.split(\" \")[0].replace(\"m\",\"\"))\n",
        "#   hour_value = 0\n",
        "#   total_minute = hour_value*60 + min_value\n",
        "#   print(total_minute)"
      ]
    },
    {
      "cell_type": "code",
      "execution_count": null,
      "metadata": {
        "id": "aRMMyOGw8pHt"
      },
      "outputs": [],
      "source": [
        "# Exception Handling: [what we check above for that will make function]\n",
        "\n",
        "def convert_toduration(duration):\n",
        "    \"\"\"\n",
        "    This function convert hour minute duration to minutes.\n",
        "    Input:\n",
        "        duration: A duration value in format '2h 50m'\n",
        "    return : duration value in minutes.\n",
        "    \"\"\"\n",
        "    try:\n",
        "      if len(duration.split(\" \")) > 1:\n",
        "          hour_value = int(duration.split(\" \")[0].replace(\"h\",\"\"))\n",
        "          minute_value = int(duration.split(\" \")[1].replace(\"m\",\"\"))\n",
        "      else:\n",
        "        if duration.endswith('h'):\n",
        "            minute_value = 0\n",
        "            hour_value = int(duration.replace(\"h\",\"\"))\n",
        "        elif duration.endswith('m'):\n",
        "            hour_value = 0\n",
        "            minute_value = int(duration.replace(\"m\",\"\"))\n",
        "    except (IndexError, ValueError) as e:\n",
        "          hour_value = np.nan\n",
        "          minute_value = np.nan\n",
        "    return hour_value*60 + minute_value"
      ]
    },
    {
      "cell_type": "code",
      "execution_count": null,
      "metadata": {
        "id": "b6i9Z21y8pJ6"
      },
      "outputs": [],
      "source": [
        "# df['Duration_converted_new'] = df['Duration'].apply(lambda x: convert_toduration(x))"
      ]
    },
    {
      "cell_type": "code",
      "execution_count": null,
      "metadata": {
        "id": "YLX_9mQm8pMe",
        "colab": {
          "base_uri": "https://localhost:8080/",
          "height": 249
        },
        "outputId": "de7ca86b-a7d5-4a21-9a1d-58cea934ef17"
      },
      "outputs": [
        {
          "output_type": "execute_result",
          "data": {
            "text/plain": [
              "        Airline Date_of_Journey  Source Destination                  Route  \\\n",
              "6474  Air India      2019-06-03  Mumbai   Hyderabad  BOM → GOI → PNQ → HYD   \n",
              "\n",
              "                Dep_Time        Arrival_Time Duration Total_Stops  \\\n",
              "6474 2022-05-23 16:50:00 2022-05-23 16:55:00       5m     2 stops   \n",
              "\n",
              "     Additional_Info  Price  \n",
              "6474         No info  17327  "
            ],
            "text/html": [
              "\n",
              "  <div id=\"df-716b2423-b335-49ce-a46d-fe34d66c3283\">\n",
              "    <div class=\"colab-df-container\">\n",
              "      <div>\n",
              "<style scoped>\n",
              "    .dataframe tbody tr th:only-of-type {\n",
              "        vertical-align: middle;\n",
              "    }\n",
              "\n",
              "    .dataframe tbody tr th {\n",
              "        vertical-align: top;\n",
              "    }\n",
              "\n",
              "    .dataframe thead th {\n",
              "        text-align: right;\n",
              "    }\n",
              "</style>\n",
              "<table border=\"1\" class=\"dataframe\">\n",
              "  <thead>\n",
              "    <tr style=\"text-align: right;\">\n",
              "      <th></th>\n",
              "      <th>Airline</th>\n",
              "      <th>Date_of_Journey</th>\n",
              "      <th>Source</th>\n",
              "      <th>Destination</th>\n",
              "      <th>Route</th>\n",
              "      <th>Dep_Time</th>\n",
              "      <th>Arrival_Time</th>\n",
              "      <th>Duration</th>\n",
              "      <th>Total_Stops</th>\n",
              "      <th>Additional_Info</th>\n",
              "      <th>Price</th>\n",
              "    </tr>\n",
              "  </thead>\n",
              "  <tbody>\n",
              "    <tr>\n",
              "      <th>6474</th>\n",
              "      <td>Air India</td>\n",
              "      <td>2019-06-03</td>\n",
              "      <td>Mumbai</td>\n",
              "      <td>Hyderabad</td>\n",
              "      <td>BOM → GOI → PNQ → HYD</td>\n",
              "      <td>2022-05-23 16:50:00</td>\n",
              "      <td>2022-05-23 16:55:00</td>\n",
              "      <td>5m</td>\n",
              "      <td>2 stops</td>\n",
              "      <td>No info</td>\n",
              "      <td>17327</td>\n",
              "    </tr>\n",
              "  </tbody>\n",
              "</table>\n",
              "</div>\n",
              "      <button class=\"colab-df-convert\" onclick=\"convertToInteractive('df-716b2423-b335-49ce-a46d-fe34d66c3283')\"\n",
              "              title=\"Convert this dataframe to an interactive table.\"\n",
              "              style=\"display:none;\">\n",
              "        \n",
              "  <svg xmlns=\"http://www.w3.org/2000/svg\" height=\"24px\"viewBox=\"0 0 24 24\"\n",
              "       width=\"24px\">\n",
              "    <path d=\"M0 0h24v24H0V0z\" fill=\"none\"/>\n",
              "    <path d=\"M18.56 5.44l.94 2.06.94-2.06 2.06-.94-2.06-.94-.94-2.06-.94 2.06-2.06.94zm-11 1L8.5 8.5l.94-2.06 2.06-.94-2.06-.94L8.5 2.5l-.94 2.06-2.06.94zm10 10l.94 2.06.94-2.06 2.06-.94-2.06-.94-.94-2.06-.94 2.06-2.06.94z\"/><path d=\"M17.41 7.96l-1.37-1.37c-.4-.4-.92-.59-1.43-.59-.52 0-1.04.2-1.43.59L10.3 9.45l-7.72 7.72c-.78.78-.78 2.05 0 2.83L4 21.41c.39.39.9.59 1.41.59.51 0 1.02-.2 1.41-.59l7.78-7.78 2.81-2.81c.8-.78.8-2.07 0-2.86zM5.41 20L4 18.59l7.72-7.72 1.47 1.35L5.41 20z\"/>\n",
              "  </svg>\n",
              "      </button>\n",
              "      \n",
              "  <style>\n",
              "    .colab-df-container {\n",
              "      display:flex;\n",
              "      flex-wrap:wrap;\n",
              "      gap: 12px;\n",
              "    }\n",
              "\n",
              "    .colab-df-convert {\n",
              "      background-color: #E8F0FE;\n",
              "      border: none;\n",
              "      border-radius: 50%;\n",
              "      cursor: pointer;\n",
              "      display: none;\n",
              "      fill: #1967D2;\n",
              "      height: 32px;\n",
              "      padding: 0 0 0 0;\n",
              "      width: 32px;\n",
              "    }\n",
              "\n",
              "    .colab-df-convert:hover {\n",
              "      background-color: #E2EBFA;\n",
              "      box-shadow: 0px 1px 2px rgba(60, 64, 67, 0.3), 0px 1px 3px 1px rgba(60, 64, 67, 0.15);\n",
              "      fill: #174EA6;\n",
              "    }\n",
              "\n",
              "    [theme=dark] .colab-df-convert {\n",
              "      background-color: #3B4455;\n",
              "      fill: #D2E3FC;\n",
              "    }\n",
              "\n",
              "    [theme=dark] .colab-df-convert:hover {\n",
              "      background-color: #434B5C;\n",
              "      box-shadow: 0px 1px 3px 1px rgba(0, 0, 0, 0.15);\n",
              "      filter: drop-shadow(0px 1px 2px rgba(0, 0, 0, 0.3));\n",
              "      fill: #FFFFFF;\n",
              "    }\n",
              "  </style>\n",
              "\n",
              "      <script>\n",
              "        const buttonEl =\n",
              "          document.querySelector('#df-716b2423-b335-49ce-a46d-fe34d66c3283 button.colab-df-convert');\n",
              "        buttonEl.style.display =\n",
              "          google.colab.kernel.accessAllowed ? 'block' : 'none';\n",
              "\n",
              "        async function convertToInteractive(key) {\n",
              "          const element = document.querySelector('#df-716b2423-b335-49ce-a46d-fe34d66c3283');\n",
              "          const dataTable =\n",
              "            await google.colab.kernel.invokeFunction('convertToInteractive',\n",
              "                                                     [key], {});\n",
              "          if (!dataTable) return;\n",
              "\n",
              "          const docLinkHtml = 'Like what you see? Visit the ' +\n",
              "            '<a target=\"_blank\" href=https://colab.research.google.com/notebooks/data_table.ipynb>data table notebook</a>'\n",
              "            + ' to learn more about interactive tables.';\n",
              "          element.innerHTML = '';\n",
              "          dataTable['output_type'] = 'display_data';\n",
              "          await google.colab.output.renderOutput(dataTable, element);\n",
              "          const docLink = document.createElement('div');\n",
              "          docLink.innerHTML = docLinkHtml;\n",
              "          element.appendChild(docLink);\n",
              "        }\n",
              "      </script>\n",
              "    </div>\n",
              "  </div>\n",
              "  "
            ]
          },
          "metadata": {},
          "execution_count": 448
        }
      ],
      "source": [
        "df[df['Duration'] == '5m']"
      ]
    },
    {
      "cell_type": "code",
      "execution_count": null,
      "metadata": {
        "id": "N-97si2w8pOx"
      },
      "outputs": [],
      "source": [
        "# May there is sometakes in dataframe in Duration column as no flight can reach in 5m it could be \"5h\":\n",
        "\n",
        "# df.loc[6474, \"Duration\"] = '5h'"
      ]
    },
    {
      "cell_type": "code",
      "execution_count": null,
      "metadata": {
        "id": "weKYVw8M8pRB"
      },
      "outputs": [],
      "source": [
        "# df.loc[6474,\"Duration\"]"
      ]
    },
    {
      "cell_type": "code",
      "execution_count": null,
      "metadata": {
        "id": "bobBB3B_8pTa",
        "colab": {
          "base_uri": "https://localhost:8080/"
        },
        "outputId": "1e284d54-fab9-4452-d964-a6f6b8185ed6"
      },
      "outputs": [
        {
          "output_type": "execute_result",
          "data": {
            "text/plain": [
              "1 stop      53.766010\n",
              "non-stop    33.215446\n",
              "2 stops     12.597974\n",
              "3 stops      0.411011\n",
              "4 stops      0.009558\n",
              "Name: Total_Stops, dtype: float64"
            ]
          },
          "metadata": {},
          "execution_count": 451
        }
      ],
      "source": [
        "df['Total_Stops'].value_counts(normalize= True)*100"
      ]
    },
    {
      "cell_type": "code",
      "execution_count": null,
      "metadata": {
        "id": "lIHddPH68pWA"
      },
      "outputs": [],
      "source": [
        "# 'Total_Stops' converted into integer:\n",
        "\n",
        "stop_map = {\n",
        "    'non-stop' : 0,\n",
        "    '1 stop' : 1,\n",
        "    '2 stops' : 2,\n",
        "    '3 stops' : 3,\n",
        "    '4 stops' : 4\n",
        "}"
      ]
    },
    {
      "cell_type": "code",
      "execution_count": null,
      "metadata": {
        "id": "gEWH4_yfNcN9"
      },
      "outputs": [],
      "source": [
        "df['Total_Stops'] = df['Total_Stops'].replace(stop_map)"
      ]
    },
    {
      "cell_type": "code",
      "source": [
        "df.info()"
      ],
      "metadata": {
        "colab": {
          "base_uri": "https://localhost:8080/"
        },
        "id": "3PzwWxpvDVIt",
        "outputId": "9bd1d7d6-335e-487a-87a5-50fc86f5d05f"
      },
      "execution_count": null,
      "outputs": [
        {
          "output_type": "stream",
          "name": "stdout",
          "text": [
            "<class 'pandas.core.frame.DataFrame'>\n",
            "Int64Index: 10463 entries, 0 to 10682\n",
            "Data columns (total 11 columns):\n",
            " #   Column           Non-Null Count  Dtype         \n",
            "---  ------           --------------  -----         \n",
            " 0   Airline          10463 non-null  object        \n",
            " 1   Date_of_Journey  10463 non-null  datetime64[ns]\n",
            " 2   Source           10463 non-null  object        \n",
            " 3   Destination      10463 non-null  object        \n",
            " 4   Route            10462 non-null  object        \n",
            " 5   Dep_Time         10463 non-null  datetime64[ns]\n",
            " 6   Arrival_Time     10463 non-null  datetime64[ns]\n",
            " 7   Duration         10463 non-null  object        \n",
            " 8   Total_Stops      10462 non-null  float64       \n",
            " 9   Additional_Info  10463 non-null  object        \n",
            " 10  Price            10463 non-null  int64         \n",
            "dtypes: datetime64[ns](3), float64(1), int64(1), object(6)\n",
            "memory usage: 980.9+ KB\n"
          ]
        }
      ]
    },
    {
      "cell_type": "code",
      "source": [
        " ## Building a sanity_check function:\n",
        "def sanity_check(df, mode='train'):\n",
        "  \"\"\"\n",
        "    This function perform sanity check to create wa dataframe.\n",
        "  Input:\n",
        "    df: DataFrame which require sanity-check\n",
        "    mode: train or predict\n",
        "  Return : None\n",
        "  \"\"\"\n",
        "\n",
        "  if mode == 'train':\n",
        "      # Drop any duplicaties (check size before and after dropping duplicates.)\n",
        "      df.drop_duplicates(inplace=True)\n",
        "\n",
        "  # Date_of_Journey. Arrival_Time and Dep_Time must be datetime object\n",
        "  df['Date_of_Journey'] = pd.to_datetime(df['Date_of_Journey'])\n",
        "  df['Arrival_Time'] = pd.to_datetime(df['Arrival_Time'])\n",
        "  df['Dep_Time'] = pd.to_datetime(df['Dep_Time'])\n",
        "\n",
        "  # Duration converted to Minutes.\n",
        "  df['Duration'] = df['Duration'].apply(lambda x: to_minutes(x))\n",
        "\n",
        "  # Total_stops column converted ti integer.\n",
        "  df['Total_Stops']  = df['Total_Stops'].replace(stop_map)"
      ],
      "metadata": {
        "id": "Z9lqBcJPDkFS"
      },
      "execution_count": null,
      "outputs": []
    },
    {
      "cell_type": "code",
      "source": [
        "sanity_check(df)"
      ],
      "metadata": {
        "id": "aaWdiTVBNww6"
      },
      "execution_count": null,
      "outputs": []
    },
    {
      "cell_type": "code",
      "source": [
        "df.info()"
      ],
      "metadata": {
        "colab": {
          "base_uri": "https://localhost:8080/"
        },
        "id": "I_v8AFruSB6m",
        "outputId": "fb7fa339-c6d6-400a-e9d6-aa1ce1d698e7"
      },
      "execution_count": null,
      "outputs": [
        {
          "output_type": "stream",
          "name": "stdout",
          "text": [
            "<class 'pandas.core.frame.DataFrame'>\n",
            "Int64Index: 10463 entries, 0 to 10682\n",
            "Data columns (total 11 columns):\n",
            " #   Column           Non-Null Count  Dtype         \n",
            "---  ------           --------------  -----         \n",
            " 0   Airline          10463 non-null  object        \n",
            " 1   Date_of_Journey  10463 non-null  datetime64[ns]\n",
            " 2   Source           10463 non-null  object        \n",
            " 3   Destination      10463 non-null  object        \n",
            " 4   Route            10462 non-null  object        \n",
            " 5   Dep_Time         10463 non-null  datetime64[ns]\n",
            " 6   Arrival_Time     10463 non-null  datetime64[ns]\n",
            " 7   Duration         10463 non-null  int64         \n",
            " 8   Total_Stops      10462 non-null  float64       \n",
            " 9   Additional_Info  10463 non-null  object        \n",
            " 10  Price            10463 non-null  int64         \n",
            "dtypes: datetime64[ns](3), float64(1), int64(2), object(5)\n",
            "memory usage: 980.9+ KB\n"
          ]
        }
      ]
    },
    {
      "cell_type": "code",
      "execution_count": null,
      "metadata": {
        "id": "Etuzl0-M8pdC"
      },
      "outputs": [],
      "source": [
        "# def to_minutes(duration):\n",
        "    # \"\"\"\n",
        "    # This function convert hour minute duration to minutes.\n",
        "    # Input:\n",
        "    #     duration: A duration value in format '2h 50m'\n",
        "    # return : duration value in minutes.\n",
        "    # \"\"\"\n",
        "    # try:\n",
        "    #   if len(duration.split(\" \")) > 1:\n",
        "    #       hour_value = int(duration.split(\" \")[0].replace(\"h\",\"\"))\n",
        "    #       minute_value = int(duration.split(\" \")[1].replace(\"m\",\"\"))\n",
        "    #   else:\n",
        "    #     if duration.endswith('h'):\n",
        "    #         minute_value = 0\n",
        "    #         hour_value = int(duration.replace(\"h\",\"\"))\n",
        "    #     elif duration.endswith('m'):\n",
        "    #         hour_value = 0\n",
        "    #         minute_value = int(duration.replace(\"m\",\"\"))\n",
        "    # except (IndexError, ValueError) as e:\n",
        "    #       hour_value = np.nan\n",
        "    #       minute_value = np.nan\n",
        "    # return hour_value*60 + minute_value"
      ]
    },
    {
      "cell_type": "code",
      "execution_count": null,
      "metadata": {
        "id": "M0O301Qb8pae"
      },
      "outputs": [],
      "source": [
        "#df['Duration'] = df['Duration'].apply(lambda x: to_minutes(x))"
      ]
    },
    {
      "cell_type": "code",
      "execution_count": null,
      "metadata": {
        "colab": {
          "base_uri": "https://localhost:8080/"
        },
        "id": "m1YtCxhc8pfn",
        "outputId": "6f25b73f-1ded-4ecc-cce7-92527f85b2f1"
      },
      "outputs": [
        {
          "output_type": "stream",
          "name": "stdout",
          "text": [
            "<class 'pandas.core.frame.DataFrame'>\n",
            "Int64Index: 10463 entries, 0 to 10682\n",
            "Data columns (total 11 columns):\n",
            " #   Column           Non-Null Count  Dtype         \n",
            "---  ------           --------------  -----         \n",
            " 0   Airline          10463 non-null  object        \n",
            " 1   Date_of_Journey  10463 non-null  datetime64[ns]\n",
            " 2   Source           10463 non-null  object        \n",
            " 3   Destination      10463 non-null  object        \n",
            " 4   Route            10462 non-null  object        \n",
            " 5   Dep_Time         10463 non-null  datetime64[ns]\n",
            " 6   Arrival_Time     10463 non-null  datetime64[ns]\n",
            " 7   Duration         10463 non-null  int64         \n",
            " 8   Total_Stops      10462 non-null  float64       \n",
            " 9   Additional_Info  10463 non-null  object        \n",
            " 10  Price            10463 non-null  int64         \n",
            "dtypes: datetime64[ns](3), float64(1), int64(2), object(5)\n",
            "memory usage: 980.9+ KB\n"
          ]
        }
      ],
      "source": [
        "# now after transform data Senity check of df:\n",
        "\n",
        "df.info()"
      ]
    },
    {
      "cell_type": "code",
      "execution_count": null,
      "metadata": {
        "colab": {
          "base_uri": "https://localhost:8080/",
          "height": 652
        },
        "id": "VFwnlHxt8phw",
        "outputId": "c3746986-89f1-434b-c75d-3eb807991795"
      },
      "outputs": [
        {
          "output_type": "execute_result",
          "data": {
            "text/plain": [
              "       Airline Date_of_Journey    Source Destination                  Route  \\\n",
              "0       IndiGo      2019-03-24  Banglore   New Delhi              BLR → DEL   \n",
              "1    Air India      2019-01-05   Kolkata    Banglore  CCU → IXR → BBI → BLR   \n",
              "2  Jet Airways      2019-09-06     Delhi      Cochin  DEL → LKO → BOM → COK   \n",
              "3       IndiGo      2019-12-05   Kolkata    Banglore        CCU → NAG → BLR   \n",
              "4       IndiGo      2019-01-03  Banglore   New Delhi        BLR → NAG → DEL   \n",
              "\n",
              "             Dep_Time        Arrival_Time  Duration  Total_Stops  \\\n",
              "0 2022-05-23 22:20:00 2022-03-22 01:10:00       170          0.0   \n",
              "1 2022-05-23 05:50:00 2022-05-23 13:15:00       445          2.0   \n",
              "2 2022-05-23 09:25:00 2022-06-10 04:25:00      1140          2.0   \n",
              "3 2022-05-23 18:05:00 2022-05-23 23:30:00       325          1.0   \n",
              "4 2022-05-23 16:50:00 2022-05-23 21:35:00       285          1.0   \n",
              "\n",
              "  Additional_Info  Price  \n",
              "0         No info   3897  \n",
              "1         No info   7662  \n",
              "2         No info  13882  \n",
              "3         No info   6218  \n",
              "4         No info  13302  "
            ],
            "text/html": [
              "\n",
              "  <div id=\"df-06735d2a-28b3-4d48-9b5d-2efff21771b3\">\n",
              "    <div class=\"colab-df-container\">\n",
              "      <div>\n",
              "<style scoped>\n",
              "    .dataframe tbody tr th:only-of-type {\n",
              "        vertical-align: middle;\n",
              "    }\n",
              "\n",
              "    .dataframe tbody tr th {\n",
              "        vertical-align: top;\n",
              "    }\n",
              "\n",
              "    .dataframe thead th {\n",
              "        text-align: right;\n",
              "    }\n",
              "</style>\n",
              "<table border=\"1\" class=\"dataframe\">\n",
              "  <thead>\n",
              "    <tr style=\"text-align: right;\">\n",
              "      <th></th>\n",
              "      <th>Airline</th>\n",
              "      <th>Date_of_Journey</th>\n",
              "      <th>Source</th>\n",
              "      <th>Destination</th>\n",
              "      <th>Route</th>\n",
              "      <th>Dep_Time</th>\n",
              "      <th>Arrival_Time</th>\n",
              "      <th>Duration</th>\n",
              "      <th>Total_Stops</th>\n",
              "      <th>Additional_Info</th>\n",
              "      <th>Price</th>\n",
              "    </tr>\n",
              "  </thead>\n",
              "  <tbody>\n",
              "    <tr>\n",
              "      <th>0</th>\n",
              "      <td>IndiGo</td>\n",
              "      <td>2019-03-24</td>\n",
              "      <td>Banglore</td>\n",
              "      <td>New Delhi</td>\n",
              "      <td>BLR → DEL</td>\n",
              "      <td>2022-05-23 22:20:00</td>\n",
              "      <td>2022-03-22 01:10:00</td>\n",
              "      <td>170</td>\n",
              "      <td>0.0</td>\n",
              "      <td>No info</td>\n",
              "      <td>3897</td>\n",
              "    </tr>\n",
              "    <tr>\n",
              "      <th>1</th>\n",
              "      <td>Air India</td>\n",
              "      <td>2019-01-05</td>\n",
              "      <td>Kolkata</td>\n",
              "      <td>Banglore</td>\n",
              "      <td>CCU → IXR → BBI → BLR</td>\n",
              "      <td>2022-05-23 05:50:00</td>\n",
              "      <td>2022-05-23 13:15:00</td>\n",
              "      <td>445</td>\n",
              "      <td>2.0</td>\n",
              "      <td>No info</td>\n",
              "      <td>7662</td>\n",
              "    </tr>\n",
              "    <tr>\n",
              "      <th>2</th>\n",
              "      <td>Jet Airways</td>\n",
              "      <td>2019-09-06</td>\n",
              "      <td>Delhi</td>\n",
              "      <td>Cochin</td>\n",
              "      <td>DEL → LKO → BOM → COK</td>\n",
              "      <td>2022-05-23 09:25:00</td>\n",
              "      <td>2022-06-10 04:25:00</td>\n",
              "      <td>1140</td>\n",
              "      <td>2.0</td>\n",
              "      <td>No info</td>\n",
              "      <td>13882</td>\n",
              "    </tr>\n",
              "    <tr>\n",
              "      <th>3</th>\n",
              "      <td>IndiGo</td>\n",
              "      <td>2019-12-05</td>\n",
              "      <td>Kolkata</td>\n",
              "      <td>Banglore</td>\n",
              "      <td>CCU → NAG → BLR</td>\n",
              "      <td>2022-05-23 18:05:00</td>\n",
              "      <td>2022-05-23 23:30:00</td>\n",
              "      <td>325</td>\n",
              "      <td>1.0</td>\n",
              "      <td>No info</td>\n",
              "      <td>6218</td>\n",
              "    </tr>\n",
              "    <tr>\n",
              "      <th>4</th>\n",
              "      <td>IndiGo</td>\n",
              "      <td>2019-01-03</td>\n",
              "      <td>Banglore</td>\n",
              "      <td>New Delhi</td>\n",
              "      <td>BLR → NAG → DEL</td>\n",
              "      <td>2022-05-23 16:50:00</td>\n",
              "      <td>2022-05-23 21:35:00</td>\n",
              "      <td>285</td>\n",
              "      <td>1.0</td>\n",
              "      <td>No info</td>\n",
              "      <td>13302</td>\n",
              "    </tr>\n",
              "  </tbody>\n",
              "</table>\n",
              "</div>\n",
              "      <button class=\"colab-df-convert\" onclick=\"convertToInteractive('df-06735d2a-28b3-4d48-9b5d-2efff21771b3')\"\n",
              "              title=\"Convert this dataframe to an interactive table.\"\n",
              "              style=\"display:none;\">\n",
              "        \n",
              "  <svg xmlns=\"http://www.w3.org/2000/svg\" height=\"24px\"viewBox=\"0 0 24 24\"\n",
              "       width=\"24px\">\n",
              "    <path d=\"M0 0h24v24H0V0z\" fill=\"none\"/>\n",
              "    <path d=\"M18.56 5.44l.94 2.06.94-2.06 2.06-.94-2.06-.94-.94-2.06-.94 2.06-2.06.94zm-11 1L8.5 8.5l.94-2.06 2.06-.94-2.06-.94L8.5 2.5l-.94 2.06-2.06.94zm10 10l.94 2.06.94-2.06 2.06-.94-2.06-.94-.94-2.06-.94 2.06-2.06.94z\"/><path d=\"M17.41 7.96l-1.37-1.37c-.4-.4-.92-.59-1.43-.59-.52 0-1.04.2-1.43.59L10.3 9.45l-7.72 7.72c-.78.78-.78 2.05 0 2.83L4 21.41c.39.39.9.59 1.41.59.51 0 1.02-.2 1.41-.59l7.78-7.78 2.81-2.81c.8-.78.8-2.07 0-2.86zM5.41 20L4 18.59l7.72-7.72 1.47 1.35L5.41 20z\"/>\n",
              "  </svg>\n",
              "      </button>\n",
              "      \n",
              "  <style>\n",
              "    .colab-df-container {\n",
              "      display:flex;\n",
              "      flex-wrap:wrap;\n",
              "      gap: 12px;\n",
              "    }\n",
              "\n",
              "    .colab-df-convert {\n",
              "      background-color: #E8F0FE;\n",
              "      border: none;\n",
              "      border-radius: 50%;\n",
              "      cursor: pointer;\n",
              "      display: none;\n",
              "      fill: #1967D2;\n",
              "      height: 32px;\n",
              "      padding: 0 0 0 0;\n",
              "      width: 32px;\n",
              "    }\n",
              "\n",
              "    .colab-df-convert:hover {\n",
              "      background-color: #E2EBFA;\n",
              "      box-shadow: 0px 1px 2px rgba(60, 64, 67, 0.3), 0px 1px 3px 1px rgba(60, 64, 67, 0.15);\n",
              "      fill: #174EA6;\n",
              "    }\n",
              "\n",
              "    [theme=dark] .colab-df-convert {\n",
              "      background-color: #3B4455;\n",
              "      fill: #D2E3FC;\n",
              "    }\n",
              "\n",
              "    [theme=dark] .colab-df-convert:hover {\n",
              "      background-color: #434B5C;\n",
              "      box-shadow: 0px 1px 3px 1px rgba(0, 0, 0, 0.15);\n",
              "      filter: drop-shadow(0px 1px 2px rgba(0, 0, 0, 0.3));\n",
              "      fill: #FFFFFF;\n",
              "    }\n",
              "  </style>\n",
              "\n",
              "      <script>\n",
              "        const buttonEl =\n",
              "          document.querySelector('#df-06735d2a-28b3-4d48-9b5d-2efff21771b3 button.colab-df-convert');\n",
              "        buttonEl.style.display =\n",
              "          google.colab.kernel.accessAllowed ? 'block' : 'none';\n",
              "\n",
              "        async function convertToInteractive(key) {\n",
              "          const element = document.querySelector('#df-06735d2a-28b3-4d48-9b5d-2efff21771b3');\n",
              "          const dataTable =\n",
              "            await google.colab.kernel.invokeFunction('convertToInteractive',\n",
              "                                                     [key], {});\n",
              "          if (!dataTable) return;\n",
              "\n",
              "          const docLinkHtml = 'Like what you see? Visit the ' +\n",
              "            '<a target=\"_blank\" href=https://colab.research.google.com/notebooks/data_table.ipynb>data table notebook</a>'\n",
              "            + ' to learn more about interactive tables.';\n",
              "          element.innerHTML = '';\n",
              "          dataTable['output_type'] = 'display_data';\n",
              "          await google.colab.output.renderOutput(dataTable, element);\n",
              "          const docLink = document.createElement('div');\n",
              "          docLink.innerHTML = docLinkHtml;\n",
              "          element.appendChild(docLink);\n",
              "        }\n",
              "      </script>\n",
              "    </div>\n",
              "  </div>\n",
              "  "
            ]
          },
          "metadata": {},
          "execution_count": 461
        }
      ],
      "source": [
        "df.head()"
      ]
    },
    {
      "cell_type": "markdown",
      "metadata": {
        "id": "vhgkhZ5laj80"
      },
      "source": [
        "## Handaling Missing Values:"
      ]
    },
    {
      "cell_type": "markdown",
      "metadata": {
        "id": "8NxHJH6Hawup"
      },
      "source": [
        "Check for missing values in the columns. and if columns have more than 30% of mossing data justified it or drop it.. also drop rows having NaN's or substitute using appropriate stategies."
      ]
    },
    {
      "cell_type": "code",
      "execution_count": null,
      "metadata": {
        "colab": {
          "base_uri": "https://localhost:8080/"
        },
        "id": "i6uPAEZgak4X",
        "outputId": "d5f9d0e4-7c55-4048-d66b-08d686edfe07"
      },
      "outputs": [
        {
          "output_type": "execute_result",
          "data": {
            "text/plain": [
              "Airline            0.000000\n",
              "Date_of_Journey    0.000000\n",
              "Source             0.000000\n",
              "Destination        0.000000\n",
              "Route              0.000096\n",
              "Dep_Time           0.000000\n",
              "Arrival_Time       0.000000\n",
              "Duration           0.000000\n",
              "Total_Stops        0.000096\n",
              "Additional_Info    0.000000\n",
              "Price              0.000000\n",
              "dtype: float64"
            ]
          },
          "metadata": {},
          "execution_count": 462
        }
      ],
      "source": [
        "# Checking null values:\n",
        "\n",
        "df.isnull().sum()/len(df)"
      ]
    },
    {
      "cell_type": "code",
      "execution_count": null,
      "metadata": {
        "colab": {
          "base_uri": "https://localhost:8080/",
          "height": 113
        },
        "id": "Vtmw1nuu8pkV",
        "outputId": "2538fba4-086c-43ce-d703-bd435f2e8608"
      },
      "outputs": [
        {
          "output_type": "execute_result",
          "data": {
            "text/plain": [
              "Empty DataFrame\n",
              "Columns: [Airline, Date_of_Journey, Source, Destination, Route, Dep_Time, Arrival_Time, Duration, Total_Stops, Additional_Info, Price]\n",
              "Index: []"
            ],
            "text/html": [
              "\n",
              "  <div id=\"df-de5f56e2-da40-4e98-bab9-c484eee4b600\">\n",
              "    <div class=\"colab-df-container\">\n",
              "      <div>\n",
              "<style scoped>\n",
              "    .dataframe tbody tr th:only-of-type {\n",
              "        vertical-align: middle;\n",
              "    }\n",
              "\n",
              "    .dataframe tbody tr th {\n",
              "        vertical-align: top;\n",
              "    }\n",
              "\n",
              "    .dataframe thead th {\n",
              "        text-align: right;\n",
              "    }\n",
              "</style>\n",
              "<table border=\"1\" class=\"dataframe\">\n",
              "  <thead>\n",
              "    <tr style=\"text-align: right;\">\n",
              "      <th></th>\n",
              "      <th>Airline</th>\n",
              "      <th>Date_of_Journey</th>\n",
              "      <th>Source</th>\n",
              "      <th>Destination</th>\n",
              "      <th>Route</th>\n",
              "      <th>Dep_Time</th>\n",
              "      <th>Arrival_Time</th>\n",
              "      <th>Duration</th>\n",
              "      <th>Total_Stops</th>\n",
              "      <th>Additional_Info</th>\n",
              "      <th>Price</th>\n",
              "    </tr>\n",
              "  </thead>\n",
              "  <tbody>\n",
              "  </tbody>\n",
              "</table>\n",
              "</div>\n",
              "      <button class=\"colab-df-convert\" onclick=\"convertToInteractive('df-de5f56e2-da40-4e98-bab9-c484eee4b600')\"\n",
              "              title=\"Convert this dataframe to an interactive table.\"\n",
              "              style=\"display:none;\">\n",
              "        \n",
              "  <svg xmlns=\"http://www.w3.org/2000/svg\" height=\"24px\"viewBox=\"0 0 24 24\"\n",
              "       width=\"24px\">\n",
              "    <path d=\"M0 0h24v24H0V0z\" fill=\"none\"/>\n",
              "    <path d=\"M18.56 5.44l.94 2.06.94-2.06 2.06-.94-2.06-.94-.94-2.06-.94 2.06-2.06.94zm-11 1L8.5 8.5l.94-2.06 2.06-.94-2.06-.94L8.5 2.5l-.94 2.06-2.06.94zm10 10l.94 2.06.94-2.06 2.06-.94-2.06-.94-.94-2.06-.94 2.06-2.06.94z\"/><path d=\"M17.41 7.96l-1.37-1.37c-.4-.4-.92-.59-1.43-.59-.52 0-1.04.2-1.43.59L10.3 9.45l-7.72 7.72c-.78.78-.78 2.05 0 2.83L4 21.41c.39.39.9.59 1.41.59.51 0 1.02-.2 1.41-.59l7.78-7.78 2.81-2.81c.8-.78.8-2.07 0-2.86zM5.41 20L4 18.59l7.72-7.72 1.47 1.35L5.41 20z\"/>\n",
              "  </svg>\n",
              "      </button>\n",
              "      \n",
              "  <style>\n",
              "    .colab-df-container {\n",
              "      display:flex;\n",
              "      flex-wrap:wrap;\n",
              "      gap: 12px;\n",
              "    }\n",
              "\n",
              "    .colab-df-convert {\n",
              "      background-color: #E8F0FE;\n",
              "      border: none;\n",
              "      border-radius: 50%;\n",
              "      cursor: pointer;\n",
              "      display: none;\n",
              "      fill: #1967D2;\n",
              "      height: 32px;\n",
              "      padding: 0 0 0 0;\n",
              "      width: 32px;\n",
              "    }\n",
              "\n",
              "    .colab-df-convert:hover {\n",
              "      background-color: #E2EBFA;\n",
              "      box-shadow: 0px 1px 2px rgba(60, 64, 67, 0.3), 0px 1px 3px 1px rgba(60, 64, 67, 0.15);\n",
              "      fill: #174EA6;\n",
              "    }\n",
              "\n",
              "    [theme=dark] .colab-df-convert {\n",
              "      background-color: #3B4455;\n",
              "      fill: #D2E3FC;\n",
              "    }\n",
              "\n",
              "    [theme=dark] .colab-df-convert:hover {\n",
              "      background-color: #434B5C;\n",
              "      box-shadow: 0px 1px 3px 1px rgba(0, 0, 0, 0.15);\n",
              "      filter: drop-shadow(0px 1px 2px rgba(0, 0, 0, 0.3));\n",
              "      fill: #FFFFFF;\n",
              "    }\n",
              "  </style>\n",
              "\n",
              "      <script>\n",
              "        const buttonEl =\n",
              "          document.querySelector('#df-de5f56e2-da40-4e98-bab9-c484eee4b600 button.colab-df-convert');\n",
              "        buttonEl.style.display =\n",
              "          google.colab.kernel.accessAllowed ? 'block' : 'none';\n",
              "\n",
              "        async function convertToInteractive(key) {\n",
              "          const element = document.querySelector('#df-de5f56e2-da40-4e98-bab9-c484eee4b600');\n",
              "          const dataTable =\n",
              "            await google.colab.kernel.invokeFunction('convertToInteractive',\n",
              "                                                     [key], {});\n",
              "          if (!dataTable) return;\n",
              "\n",
              "          const docLinkHtml = 'Like what you see? Visit the ' +\n",
              "            '<a target=\"_blank\" href=https://colab.research.google.com/notebooks/data_table.ipynb>data table notebook</a>'\n",
              "            + ' to learn more about interactive tables.';\n",
              "          element.innerHTML = '';\n",
              "          dataTable['output_type'] = 'display_data';\n",
              "          await google.colab.output.renderOutput(dataTable, element);\n",
              "          const docLink = document.createElement('div');\n",
              "          docLink.innerHTML = docLinkHtml;\n",
              "          element.appendChild(docLink);\n",
              "        }\n",
              "      </script>\n",
              "    </div>\n",
              "  </div>\n",
              "  "
            ]
          },
          "metadata": {},
          "execution_count": 463
        }
      ],
      "source": [
        "# np.nan doesn't equate with np.nan. \n",
        "# so, filtering nana values using np.nan is not a good strategy.\n",
        "# so, let's check if we use np.nan, what will be the result [it gives you no result]\n",
        "\n",
        "df[df[\"Route\"] == np.nan]"
      ]
    },
    {
      "cell_type": "code",
      "execution_count": null,
      "metadata": {
        "colab": {
          "base_uri": "https://localhost:8080/",
          "height": 300
        },
        "id": "IukpjOS98pmq",
        "outputId": "0943bf8a-654e-4208-e721-a6794905b91a"
      },
      "outputs": [
        {
          "output_type": "execute_result",
          "data": {
            "text/plain": [
              "          Duration  Total_Stops         Price\n",
              "count  4346.000000  4345.000000   4346.000000\n",
              "mean    793.977220     1.174223  10460.914634\n",
              "std     451.039785     0.502552   3817.579577\n",
              "min     170.000000     0.000000   3876.000000\n",
              "25%     455.000000     1.000000   7174.000000\n",
              "50%     665.000000     1.000000  10262.000000\n",
              "75%    1025.000000     1.000000  13292.000000\n",
              "max    2860.000000     3.000000  52285.000000"
            ],
            "text/html": [
              "\n",
              "  <div id=\"df-40d2af9a-0a07-4aa9-9f12-646ca1663b75\">\n",
              "    <div class=\"colab-df-container\">\n",
              "      <div>\n",
              "<style scoped>\n",
              "    .dataframe tbody tr th:only-of-type {\n",
              "        vertical-align: middle;\n",
              "    }\n",
              "\n",
              "    .dataframe tbody tr th {\n",
              "        vertical-align: top;\n",
              "    }\n",
              "\n",
              "    .dataframe thead th {\n",
              "        text-align: right;\n",
              "    }\n",
              "</style>\n",
              "<table border=\"1\" class=\"dataframe\">\n",
              "  <thead>\n",
              "    <tr style=\"text-align: right;\">\n",
              "      <th></th>\n",
              "      <th>Duration</th>\n",
              "      <th>Total_Stops</th>\n",
              "      <th>Price</th>\n",
              "    </tr>\n",
              "  </thead>\n",
              "  <tbody>\n",
              "    <tr>\n",
              "      <th>count</th>\n",
              "      <td>4346.000000</td>\n",
              "      <td>4345.000000</td>\n",
              "      <td>4346.000000</td>\n",
              "    </tr>\n",
              "    <tr>\n",
              "      <th>mean</th>\n",
              "      <td>793.977220</td>\n",
              "      <td>1.174223</td>\n",
              "      <td>10460.914634</td>\n",
              "    </tr>\n",
              "    <tr>\n",
              "      <th>std</th>\n",
              "      <td>451.039785</td>\n",
              "      <td>0.502552</td>\n",
              "      <td>3817.579577</td>\n",
              "    </tr>\n",
              "    <tr>\n",
              "      <th>min</th>\n",
              "      <td>170.000000</td>\n",
              "      <td>0.000000</td>\n",
              "      <td>3876.000000</td>\n",
              "    </tr>\n",
              "    <tr>\n",
              "      <th>25%</th>\n",
              "      <td>455.000000</td>\n",
              "      <td>1.000000</td>\n",
              "      <td>7174.000000</td>\n",
              "    </tr>\n",
              "    <tr>\n",
              "      <th>50%</th>\n",
              "      <td>665.000000</td>\n",
              "      <td>1.000000</td>\n",
              "      <td>10262.000000</td>\n",
              "    </tr>\n",
              "    <tr>\n",
              "      <th>75%</th>\n",
              "      <td>1025.000000</td>\n",
              "      <td>1.000000</td>\n",
              "      <td>13292.000000</td>\n",
              "    </tr>\n",
              "    <tr>\n",
              "      <th>max</th>\n",
              "      <td>2860.000000</td>\n",
              "      <td>3.000000</td>\n",
              "      <td>52285.000000</td>\n",
              "    </tr>\n",
              "  </tbody>\n",
              "</table>\n",
              "</div>\n",
              "      <button class=\"colab-df-convert\" onclick=\"convertToInteractive('df-40d2af9a-0a07-4aa9-9f12-646ca1663b75')\"\n",
              "              title=\"Convert this dataframe to an interactive table.\"\n",
              "              style=\"display:none;\">\n",
              "        \n",
              "  <svg xmlns=\"http://www.w3.org/2000/svg\" height=\"24px\"viewBox=\"0 0 24 24\"\n",
              "       width=\"24px\">\n",
              "    <path d=\"M0 0h24v24H0V0z\" fill=\"none\"/>\n",
              "    <path d=\"M18.56 5.44l.94 2.06.94-2.06 2.06-.94-2.06-.94-.94-2.06-.94 2.06-2.06.94zm-11 1L8.5 8.5l.94-2.06 2.06-.94-2.06-.94L8.5 2.5l-.94 2.06-2.06.94zm10 10l.94 2.06.94-2.06 2.06-.94-2.06-.94-.94-2.06-.94 2.06-2.06.94z\"/><path d=\"M17.41 7.96l-1.37-1.37c-.4-.4-.92-.59-1.43-.59-.52 0-1.04.2-1.43.59L10.3 9.45l-7.72 7.72c-.78.78-.78 2.05 0 2.83L4 21.41c.39.39.9.59 1.41.59.51 0 1.02-.2 1.41-.59l7.78-7.78 2.81-2.81c.8-.78.8-2.07 0-2.86zM5.41 20L4 18.59l7.72-7.72 1.47 1.35L5.41 20z\"/>\n",
              "  </svg>\n",
              "      </button>\n",
              "      \n",
              "  <style>\n",
              "    .colab-df-container {\n",
              "      display:flex;\n",
              "      flex-wrap:wrap;\n",
              "      gap: 12px;\n",
              "    }\n",
              "\n",
              "    .colab-df-convert {\n",
              "      background-color: #E8F0FE;\n",
              "      border: none;\n",
              "      border-radius: 50%;\n",
              "      cursor: pointer;\n",
              "      display: none;\n",
              "      fill: #1967D2;\n",
              "      height: 32px;\n",
              "      padding: 0 0 0 0;\n",
              "      width: 32px;\n",
              "    }\n",
              "\n",
              "    .colab-df-convert:hover {\n",
              "      background-color: #E2EBFA;\n",
              "      box-shadow: 0px 1px 2px rgba(60, 64, 67, 0.3), 0px 1px 3px 1px rgba(60, 64, 67, 0.15);\n",
              "      fill: #174EA6;\n",
              "    }\n",
              "\n",
              "    [theme=dark] .colab-df-convert {\n",
              "      background-color: #3B4455;\n",
              "      fill: #D2E3FC;\n",
              "    }\n",
              "\n",
              "    [theme=dark] .colab-df-convert:hover {\n",
              "      background-color: #434B5C;\n",
              "      box-shadow: 0px 1px 3px 1px rgba(0, 0, 0, 0.15);\n",
              "      filter: drop-shadow(0px 1px 2px rgba(0, 0, 0, 0.3));\n",
              "      fill: #FFFFFF;\n",
              "    }\n",
              "  </style>\n",
              "\n",
              "      <script>\n",
              "        const buttonEl =\n",
              "          document.querySelector('#df-40d2af9a-0a07-4aa9-9f12-646ca1663b75 button.colab-df-convert');\n",
              "        buttonEl.style.display =\n",
              "          google.colab.kernel.accessAllowed ? 'block' : 'none';\n",
              "\n",
              "        async function convertToInteractive(key) {\n",
              "          const element = document.querySelector('#df-40d2af9a-0a07-4aa9-9f12-646ca1663b75');\n",
              "          const dataTable =\n",
              "            await google.colab.kernel.invokeFunction('convertToInteractive',\n",
              "                                                     [key], {});\n",
              "          if (!dataTable) return;\n",
              "\n",
              "          const docLinkHtml = 'Like what you see? Visit the ' +\n",
              "            '<a target=\"_blank\" href=https://colab.research.google.com/notebooks/data_table.ipynb>data table notebook</a>'\n",
              "            + ' to learn more about interactive tables.';\n",
              "          element.innerHTML = '';\n",
              "          dataTable['output_type'] = 'display_data';\n",
              "          await google.colab.output.renderOutput(dataTable, element);\n",
              "          const docLink = document.createElement('div');\n",
              "          docLink.innerHTML = docLinkHtml;\n",
              "          element.appendChild(docLink);\n",
              "        }\n",
              "      </script>\n",
              "    </div>\n",
              "  </div>\n",
              "  "
            ]
          },
          "metadata": {},
          "execution_count": 464
        }
      ],
      "source": [
        "# check \"Source\" and \"Destination\" columns:\n",
        "\n",
        "df[(df[\"Source\"] == 'Delhi') & (df[\"Destination\"] == 'Cochin')].describe()"
      ]
    },
    {
      "cell_type": "code",
      "execution_count": null,
      "metadata": {
        "colab": {
          "base_uri": "https://localhost:8080/",
          "height": 175
        },
        "id": "s5K4R_WM8ppR",
        "outputId": "bcad22ec-e3bc-403c-af87-ae72f48b2a24"
      },
      "outputs": [
        {
          "output_type": "execute_result",
          "data": {
            "text/plain": [
              "            Airline Source Destination            Route Additional_Info\n",
              "count          4346   4346        4346             4345            4346\n",
              "unique           10      1           1               30               4\n",
              "top     Jet Airways  Delhi      Cochin  DEL → BOM → COK         No info\n",
              "freq           1438   4346        4346             2376            3477"
            ],
            "text/html": [
              "\n",
              "  <div id=\"df-60f3f758-4353-49d7-8435-42d189dee7ea\">\n",
              "    <div class=\"colab-df-container\">\n",
              "      <div>\n",
              "<style scoped>\n",
              "    .dataframe tbody tr th:only-of-type {\n",
              "        vertical-align: middle;\n",
              "    }\n",
              "\n",
              "    .dataframe tbody tr th {\n",
              "        vertical-align: top;\n",
              "    }\n",
              "\n",
              "    .dataframe thead th {\n",
              "        text-align: right;\n",
              "    }\n",
              "</style>\n",
              "<table border=\"1\" class=\"dataframe\">\n",
              "  <thead>\n",
              "    <tr style=\"text-align: right;\">\n",
              "      <th></th>\n",
              "      <th>Airline</th>\n",
              "      <th>Source</th>\n",
              "      <th>Destination</th>\n",
              "      <th>Route</th>\n",
              "      <th>Additional_Info</th>\n",
              "    </tr>\n",
              "  </thead>\n",
              "  <tbody>\n",
              "    <tr>\n",
              "      <th>count</th>\n",
              "      <td>4346</td>\n",
              "      <td>4346</td>\n",
              "      <td>4346</td>\n",
              "      <td>4345</td>\n",
              "      <td>4346</td>\n",
              "    </tr>\n",
              "    <tr>\n",
              "      <th>unique</th>\n",
              "      <td>10</td>\n",
              "      <td>1</td>\n",
              "      <td>1</td>\n",
              "      <td>30</td>\n",
              "      <td>4</td>\n",
              "    </tr>\n",
              "    <tr>\n",
              "      <th>top</th>\n",
              "      <td>Jet Airways</td>\n",
              "      <td>Delhi</td>\n",
              "      <td>Cochin</td>\n",
              "      <td>DEL → BOM → COK</td>\n",
              "      <td>No info</td>\n",
              "    </tr>\n",
              "    <tr>\n",
              "      <th>freq</th>\n",
              "      <td>1438</td>\n",
              "      <td>4346</td>\n",
              "      <td>4346</td>\n",
              "      <td>2376</td>\n",
              "      <td>3477</td>\n",
              "    </tr>\n",
              "  </tbody>\n",
              "</table>\n",
              "</div>\n",
              "      <button class=\"colab-df-convert\" onclick=\"convertToInteractive('df-60f3f758-4353-49d7-8435-42d189dee7ea')\"\n",
              "              title=\"Convert this dataframe to an interactive table.\"\n",
              "              style=\"display:none;\">\n",
              "        \n",
              "  <svg xmlns=\"http://www.w3.org/2000/svg\" height=\"24px\"viewBox=\"0 0 24 24\"\n",
              "       width=\"24px\">\n",
              "    <path d=\"M0 0h24v24H0V0z\" fill=\"none\"/>\n",
              "    <path d=\"M18.56 5.44l.94 2.06.94-2.06 2.06-.94-2.06-.94-.94-2.06-.94 2.06-2.06.94zm-11 1L8.5 8.5l.94-2.06 2.06-.94-2.06-.94L8.5 2.5l-.94 2.06-2.06.94zm10 10l.94 2.06.94-2.06 2.06-.94-2.06-.94-.94-2.06-.94 2.06-2.06.94z\"/><path d=\"M17.41 7.96l-1.37-1.37c-.4-.4-.92-.59-1.43-.59-.52 0-1.04.2-1.43.59L10.3 9.45l-7.72 7.72c-.78.78-.78 2.05 0 2.83L4 21.41c.39.39.9.59 1.41.59.51 0 1.02-.2 1.41-.59l7.78-7.78 2.81-2.81c.8-.78.8-2.07 0-2.86zM5.41 20L4 18.59l7.72-7.72 1.47 1.35L5.41 20z\"/>\n",
              "  </svg>\n",
              "      </button>\n",
              "      \n",
              "  <style>\n",
              "    .colab-df-container {\n",
              "      display:flex;\n",
              "      flex-wrap:wrap;\n",
              "      gap: 12px;\n",
              "    }\n",
              "\n",
              "    .colab-df-convert {\n",
              "      background-color: #E8F0FE;\n",
              "      border: none;\n",
              "      border-radius: 50%;\n",
              "      cursor: pointer;\n",
              "      display: none;\n",
              "      fill: #1967D2;\n",
              "      height: 32px;\n",
              "      padding: 0 0 0 0;\n",
              "      width: 32px;\n",
              "    }\n",
              "\n",
              "    .colab-df-convert:hover {\n",
              "      background-color: #E2EBFA;\n",
              "      box-shadow: 0px 1px 2px rgba(60, 64, 67, 0.3), 0px 1px 3px 1px rgba(60, 64, 67, 0.15);\n",
              "      fill: #174EA6;\n",
              "    }\n",
              "\n",
              "    [theme=dark] .colab-df-convert {\n",
              "      background-color: #3B4455;\n",
              "      fill: #D2E3FC;\n",
              "    }\n",
              "\n",
              "    [theme=dark] .colab-df-convert:hover {\n",
              "      background-color: #434B5C;\n",
              "      box-shadow: 0px 1px 3px 1px rgba(0, 0, 0, 0.15);\n",
              "      filter: drop-shadow(0px 1px 2px rgba(0, 0, 0, 0.3));\n",
              "      fill: #FFFFFF;\n",
              "    }\n",
              "  </style>\n",
              "\n",
              "      <script>\n",
              "        const buttonEl =\n",
              "          document.querySelector('#df-60f3f758-4353-49d7-8435-42d189dee7ea button.colab-df-convert');\n",
              "        buttonEl.style.display =\n",
              "          google.colab.kernel.accessAllowed ? 'block' : 'none';\n",
              "\n",
              "        async function convertToInteractive(key) {\n",
              "          const element = document.querySelector('#df-60f3f758-4353-49d7-8435-42d189dee7ea');\n",
              "          const dataTable =\n",
              "            await google.colab.kernel.invokeFunction('convertToInteractive',\n",
              "                                                     [key], {});\n",
              "          if (!dataTable) return;\n",
              "\n",
              "          const docLinkHtml = 'Like what you see? Visit the ' +\n",
              "            '<a target=\"_blank\" href=https://colab.research.google.com/notebooks/data_table.ipynb>data table notebook</a>'\n",
              "            + ' to learn more about interactive tables.';\n",
              "          element.innerHTML = '';\n",
              "          dataTable['output_type'] = 'display_data';\n",
              "          await google.colab.output.renderOutput(dataTable, element);\n",
              "          const docLink = document.createElement('div');\n",
              "          docLink.innerHTML = docLinkHtml;\n",
              "          element.appendChild(docLink);\n",
              "        }\n",
              "      </script>\n",
              "    </div>\n",
              "  </div>\n",
              "  "
            ]
          },
          "metadata": {},
          "execution_count": 465
        }
      ],
      "source": [
        "df[(df[\"Source\"] == 'Delhi') & (df[\"Destination\"] == 'Cochin')].describe(include=object)"
      ]
    },
    {
      "cell_type": "markdown",
      "metadata": {
        "id": "Wkqmnv6hepcU"
      },
      "source": [
        "as we can see here, 'Jet Airway' Airline is the top Airline and it's Source is Delhi and Destination is Cochin. and Route: Del-Bom-Cok.\n",
        " "
      ]
    },
    {
      "cell_type": "markdown",
      "metadata": {
        "id": "YXrfZieLf3n7"
      },
      "source": [
        "As we checked \"Route\" and \"Total_stops\" having nana values. let's check it."
      ]
    },
    {
      "cell_type": "code",
      "execution_count": null,
      "metadata": {
        "colab": {
          "base_uri": "https://localhost:8080/",
          "height": 179
        },
        "id": "SKYVHi8e8prv",
        "outputId": "09fbedf6-9226-4c2f-bb11-1ccdbabc3821"
      },
      "outputs": [
        {
          "output_type": "execute_result",
          "data": {
            "text/plain": [
              "        Airline Date_of_Journey Source Destination Route            Dep_Time  \\\n",
              "9039  Air India      2019-06-05  Delhi      Cochin   NaN 2022-05-23 09:45:00   \n",
              "\n",
              "            Arrival_Time  Duration  Total_Stops Additional_Info  Price  \n",
              "9039 2022-05-07 09:25:00      1420          NaN         No info   7480  "
            ],
            "text/html": [
              "\n",
              "  <div id=\"df-cc9e1e45-b279-4daf-8908-0bc112c991ce\">\n",
              "    <div class=\"colab-df-container\">\n",
              "      <div>\n",
              "<style scoped>\n",
              "    .dataframe tbody tr th:only-of-type {\n",
              "        vertical-align: middle;\n",
              "    }\n",
              "\n",
              "    .dataframe tbody tr th {\n",
              "        vertical-align: top;\n",
              "    }\n",
              "\n",
              "    .dataframe thead th {\n",
              "        text-align: right;\n",
              "    }\n",
              "</style>\n",
              "<table border=\"1\" class=\"dataframe\">\n",
              "  <thead>\n",
              "    <tr style=\"text-align: right;\">\n",
              "      <th></th>\n",
              "      <th>Airline</th>\n",
              "      <th>Date_of_Journey</th>\n",
              "      <th>Source</th>\n",
              "      <th>Destination</th>\n",
              "      <th>Route</th>\n",
              "      <th>Dep_Time</th>\n",
              "      <th>Arrival_Time</th>\n",
              "      <th>Duration</th>\n",
              "      <th>Total_Stops</th>\n",
              "      <th>Additional_Info</th>\n",
              "      <th>Price</th>\n",
              "    </tr>\n",
              "  </thead>\n",
              "  <tbody>\n",
              "    <tr>\n",
              "      <th>9039</th>\n",
              "      <td>Air India</td>\n",
              "      <td>2019-06-05</td>\n",
              "      <td>Delhi</td>\n",
              "      <td>Cochin</td>\n",
              "      <td>NaN</td>\n",
              "      <td>2022-05-23 09:45:00</td>\n",
              "      <td>2022-05-07 09:25:00</td>\n",
              "      <td>1420</td>\n",
              "      <td>NaN</td>\n",
              "      <td>No info</td>\n",
              "      <td>7480</td>\n",
              "    </tr>\n",
              "  </tbody>\n",
              "</table>\n",
              "</div>\n",
              "      <button class=\"colab-df-convert\" onclick=\"convertToInteractive('df-cc9e1e45-b279-4daf-8908-0bc112c991ce')\"\n",
              "              title=\"Convert this dataframe to an interactive table.\"\n",
              "              style=\"display:none;\">\n",
              "        \n",
              "  <svg xmlns=\"http://www.w3.org/2000/svg\" height=\"24px\"viewBox=\"0 0 24 24\"\n",
              "       width=\"24px\">\n",
              "    <path d=\"M0 0h24v24H0V0z\" fill=\"none\"/>\n",
              "    <path d=\"M18.56 5.44l.94 2.06.94-2.06 2.06-.94-2.06-.94-.94-2.06-.94 2.06-2.06.94zm-11 1L8.5 8.5l.94-2.06 2.06-.94-2.06-.94L8.5 2.5l-.94 2.06-2.06.94zm10 10l.94 2.06.94-2.06 2.06-.94-2.06-.94-.94-2.06-.94 2.06-2.06.94z\"/><path d=\"M17.41 7.96l-1.37-1.37c-.4-.4-.92-.59-1.43-.59-.52 0-1.04.2-1.43.59L10.3 9.45l-7.72 7.72c-.78.78-.78 2.05 0 2.83L4 21.41c.39.39.9.59 1.41.59.51 0 1.02-.2 1.41-.59l7.78-7.78 2.81-2.81c.8-.78.8-2.07 0-2.86zM5.41 20L4 18.59l7.72-7.72 1.47 1.35L5.41 20z\"/>\n",
              "  </svg>\n",
              "      </button>\n",
              "      \n",
              "  <style>\n",
              "    .colab-df-container {\n",
              "      display:flex;\n",
              "      flex-wrap:wrap;\n",
              "      gap: 12px;\n",
              "    }\n",
              "\n",
              "    .colab-df-convert {\n",
              "      background-color: #E8F0FE;\n",
              "      border: none;\n",
              "      border-radius: 50%;\n",
              "      cursor: pointer;\n",
              "      display: none;\n",
              "      fill: #1967D2;\n",
              "      height: 32px;\n",
              "      padding: 0 0 0 0;\n",
              "      width: 32px;\n",
              "    }\n",
              "\n",
              "    .colab-df-convert:hover {\n",
              "      background-color: #E2EBFA;\n",
              "      box-shadow: 0px 1px 2px rgba(60, 64, 67, 0.3), 0px 1px 3px 1px rgba(60, 64, 67, 0.15);\n",
              "      fill: #174EA6;\n",
              "    }\n",
              "\n",
              "    [theme=dark] .colab-df-convert {\n",
              "      background-color: #3B4455;\n",
              "      fill: #D2E3FC;\n",
              "    }\n",
              "\n",
              "    [theme=dark] .colab-df-convert:hover {\n",
              "      background-color: #434B5C;\n",
              "      box-shadow: 0px 1px 3px 1px rgba(0, 0, 0, 0.15);\n",
              "      filter: drop-shadow(0px 1px 2px rgba(0, 0, 0, 0.3));\n",
              "      fill: #FFFFFF;\n",
              "    }\n",
              "  </style>\n",
              "\n",
              "      <script>\n",
              "        const buttonEl =\n",
              "          document.querySelector('#df-cc9e1e45-b279-4daf-8908-0bc112c991ce button.colab-df-convert');\n",
              "        buttonEl.style.display =\n",
              "          google.colab.kernel.accessAllowed ? 'block' : 'none';\n",
              "\n",
              "        async function convertToInteractive(key) {\n",
              "          const element = document.querySelector('#df-cc9e1e45-b279-4daf-8908-0bc112c991ce');\n",
              "          const dataTable =\n",
              "            await google.colab.kernel.invokeFunction('convertToInteractive',\n",
              "                                                     [key], {});\n",
              "          if (!dataTable) return;\n",
              "\n",
              "          const docLinkHtml = 'Like what you see? Visit the ' +\n",
              "            '<a target=\"_blank\" href=https://colab.research.google.com/notebooks/data_table.ipynb>data table notebook</a>'\n",
              "            + ' to learn more about interactive tables.';\n",
              "          element.innerHTML = '';\n",
              "          dataTable['output_type'] = 'display_data';\n",
              "          await google.colab.output.renderOutput(dataTable, element);\n",
              "          const docLink = document.createElement('div');\n",
              "          docLink.innerHTML = docLinkHtml;\n",
              "          element.appendChild(docLink);\n",
              "        }\n",
              "      </script>\n",
              "    </div>\n",
              "  </div>\n",
              "  "
            ]
          },
          "metadata": {},
          "execution_count": 466
        }
      ],
      "source": [
        "df[df[\"Route\"].isna()]"
      ]
    },
    {
      "cell_type": "code",
      "execution_count": null,
      "metadata": {
        "colab": {
          "base_uri": "https://localhost:8080/",
          "height": 179
        },
        "id": "nhqKjhuW8puD",
        "outputId": "f3799db4-bde9-47e3-b0c4-5ac31b8ab545"
      },
      "outputs": [
        {
          "output_type": "execute_result",
          "data": {
            "text/plain": [
              "        Airline Date_of_Journey Source Destination Route            Dep_Time  \\\n",
              "9039  Air India      2019-06-05  Delhi      Cochin   NaN 2022-05-23 09:45:00   \n",
              "\n",
              "            Arrival_Time  Duration  Total_Stops Additional_Info  Price  \n",
              "9039 2022-05-07 09:25:00      1420          NaN         No info   7480  "
            ],
            "text/html": [
              "\n",
              "  <div id=\"df-da356517-98c5-48a2-b2a6-f06f617062fe\">\n",
              "    <div class=\"colab-df-container\">\n",
              "      <div>\n",
              "<style scoped>\n",
              "    .dataframe tbody tr th:only-of-type {\n",
              "        vertical-align: middle;\n",
              "    }\n",
              "\n",
              "    .dataframe tbody tr th {\n",
              "        vertical-align: top;\n",
              "    }\n",
              "\n",
              "    .dataframe thead th {\n",
              "        text-align: right;\n",
              "    }\n",
              "</style>\n",
              "<table border=\"1\" class=\"dataframe\">\n",
              "  <thead>\n",
              "    <tr style=\"text-align: right;\">\n",
              "      <th></th>\n",
              "      <th>Airline</th>\n",
              "      <th>Date_of_Journey</th>\n",
              "      <th>Source</th>\n",
              "      <th>Destination</th>\n",
              "      <th>Route</th>\n",
              "      <th>Dep_Time</th>\n",
              "      <th>Arrival_Time</th>\n",
              "      <th>Duration</th>\n",
              "      <th>Total_Stops</th>\n",
              "      <th>Additional_Info</th>\n",
              "      <th>Price</th>\n",
              "    </tr>\n",
              "  </thead>\n",
              "  <tbody>\n",
              "    <tr>\n",
              "      <th>9039</th>\n",
              "      <td>Air India</td>\n",
              "      <td>2019-06-05</td>\n",
              "      <td>Delhi</td>\n",
              "      <td>Cochin</td>\n",
              "      <td>NaN</td>\n",
              "      <td>2022-05-23 09:45:00</td>\n",
              "      <td>2022-05-07 09:25:00</td>\n",
              "      <td>1420</td>\n",
              "      <td>NaN</td>\n",
              "      <td>No info</td>\n",
              "      <td>7480</td>\n",
              "    </tr>\n",
              "  </tbody>\n",
              "</table>\n",
              "</div>\n",
              "      <button class=\"colab-df-convert\" onclick=\"convertToInteractive('df-da356517-98c5-48a2-b2a6-f06f617062fe')\"\n",
              "              title=\"Convert this dataframe to an interactive table.\"\n",
              "              style=\"display:none;\">\n",
              "        \n",
              "  <svg xmlns=\"http://www.w3.org/2000/svg\" height=\"24px\"viewBox=\"0 0 24 24\"\n",
              "       width=\"24px\">\n",
              "    <path d=\"M0 0h24v24H0V0z\" fill=\"none\"/>\n",
              "    <path d=\"M18.56 5.44l.94 2.06.94-2.06 2.06-.94-2.06-.94-.94-2.06-.94 2.06-2.06.94zm-11 1L8.5 8.5l.94-2.06 2.06-.94-2.06-.94L8.5 2.5l-.94 2.06-2.06.94zm10 10l.94 2.06.94-2.06 2.06-.94-2.06-.94-.94-2.06-.94 2.06-2.06.94z\"/><path d=\"M17.41 7.96l-1.37-1.37c-.4-.4-.92-.59-1.43-.59-.52 0-1.04.2-1.43.59L10.3 9.45l-7.72 7.72c-.78.78-.78 2.05 0 2.83L4 21.41c.39.39.9.59 1.41.59.51 0 1.02-.2 1.41-.59l7.78-7.78 2.81-2.81c.8-.78.8-2.07 0-2.86zM5.41 20L4 18.59l7.72-7.72 1.47 1.35L5.41 20z\"/>\n",
              "  </svg>\n",
              "      </button>\n",
              "      \n",
              "  <style>\n",
              "    .colab-df-container {\n",
              "      display:flex;\n",
              "      flex-wrap:wrap;\n",
              "      gap: 12px;\n",
              "    }\n",
              "\n",
              "    .colab-df-convert {\n",
              "      background-color: #E8F0FE;\n",
              "      border: none;\n",
              "      border-radius: 50%;\n",
              "      cursor: pointer;\n",
              "      display: none;\n",
              "      fill: #1967D2;\n",
              "      height: 32px;\n",
              "      padding: 0 0 0 0;\n",
              "      width: 32px;\n",
              "    }\n",
              "\n",
              "    .colab-df-convert:hover {\n",
              "      background-color: #E2EBFA;\n",
              "      box-shadow: 0px 1px 2px rgba(60, 64, 67, 0.3), 0px 1px 3px 1px rgba(60, 64, 67, 0.15);\n",
              "      fill: #174EA6;\n",
              "    }\n",
              "\n",
              "    [theme=dark] .colab-df-convert {\n",
              "      background-color: #3B4455;\n",
              "      fill: #D2E3FC;\n",
              "    }\n",
              "\n",
              "    [theme=dark] .colab-df-convert:hover {\n",
              "      background-color: #434B5C;\n",
              "      box-shadow: 0px 1px 3px 1px rgba(0, 0, 0, 0.15);\n",
              "      filter: drop-shadow(0px 1px 2px rgba(0, 0, 0, 0.3));\n",
              "      fill: #FFFFFF;\n",
              "    }\n",
              "  </style>\n",
              "\n",
              "      <script>\n",
              "        const buttonEl =\n",
              "          document.querySelector('#df-da356517-98c5-48a2-b2a6-f06f617062fe button.colab-df-convert');\n",
              "        buttonEl.style.display =\n",
              "          google.colab.kernel.accessAllowed ? 'block' : 'none';\n",
              "\n",
              "        async function convertToInteractive(key) {\n",
              "          const element = document.querySelector('#df-da356517-98c5-48a2-b2a6-f06f617062fe');\n",
              "          const dataTable =\n",
              "            await google.colab.kernel.invokeFunction('convertToInteractive',\n",
              "                                                     [key], {});\n",
              "          if (!dataTable) return;\n",
              "\n",
              "          const docLinkHtml = 'Like what you see? Visit the ' +\n",
              "            '<a target=\"_blank\" href=https://colab.research.google.com/notebooks/data_table.ipynb>data table notebook</a>'\n",
              "            + ' to learn more about interactive tables.';\n",
              "          element.innerHTML = '';\n",
              "          dataTable['output_type'] = 'display_data';\n",
              "          await google.colab.output.renderOutput(dataTable, element);\n",
              "          const docLink = document.createElement('div');\n",
              "          docLink.innerHTML = docLinkHtml;\n",
              "          element.appendChild(docLink);\n",
              "        }\n",
              "      </script>\n",
              "    </div>\n",
              "  </div>\n",
              "  "
            ]
          },
          "metadata": {},
          "execution_count": 467
        }
      ],
      "source": [
        "df[df[\"Total_Stops\"].isna()]"
      ]
    },
    {
      "cell_type": "markdown",
      "metadata": {
        "id": "Enfm--q4hKsA"
      },
      "source": [
        "Seems to, in the same row has nan values. if we don't have route, we can't decde the stops.so, it better to drop the row:"
      ]
    },
    {
      "cell_type": "code",
      "execution_count": null,
      "metadata": {
        "id": "4HuxN8X-8pw0"
      },
      "outputs": [],
      "source": [
        "df.dropna(inplace=True)"
      ]
    },
    {
      "cell_type": "code",
      "execution_count": null,
      "metadata": {
        "colab": {
          "base_uri": "https://localhost:8080/"
        },
        "id": "qYoCFg-c8pzi",
        "outputId": "22361831-ebc9-42d2-e454-dd5825328218"
      },
      "outputs": [
        {
          "output_type": "execute_result",
          "data": {
            "text/plain": [
              "Airline            0.0\n",
              "Date_of_Journey    0.0\n",
              "Source             0.0\n",
              "Destination        0.0\n",
              "Route              0.0\n",
              "Dep_Time           0.0\n",
              "Arrival_Time       0.0\n",
              "Duration           0.0\n",
              "Total_Stops        0.0\n",
              "Additional_Info    0.0\n",
              "Price              0.0\n",
              "dtype: float64"
            ]
          },
          "metadata": {},
          "execution_count": 469
        }
      ],
      "source": [
        "df.isnull().sum() / len(df)"
      ]
    },
    {
      "cell_type": "markdown",
      "metadata": {
        "id": "nuSnWToChzov"
      },
      "source": [
        "So, now we don't have nan values in our data. "
      ]
    },
    {
      "cell_type": "code",
      "execution_count": null,
      "metadata": {
        "colab": {
          "base_uri": "https://localhost:8080/"
        },
        "id": "h1M5ic7y8p1x",
        "outputId": "7397e3ab-c3f8-4e3d-e8ae-de42feb47925"
      },
      "outputs": [
        {
          "output_type": "execute_result",
          "data": {
            "text/plain": [
              "10462"
            ]
          },
          "metadata": {},
          "execution_count": 470
        }
      ],
      "source": [
        "len(df)"
      ]
    },
    {
      "cell_type": "code",
      "execution_count": null,
      "metadata": {
        "colab": {
          "base_uri": "https://localhost:8080/"
        },
        "id": "_NfaqiJW8p4Y",
        "outputId": "810fbc51-4ea0-41ed-a519-db9f4b86a083"
      },
      "outputs": [
        {
          "output_type": "execute_result",
          "data": {
            "text/plain": [
              "No info                         78.206844\n",
              "In-flight meal not included     18.409482\n",
              "No check-in baggage included     3.039572\n",
              "1 Long layover                   0.181610\n",
              "Change airports                  0.066909\n",
              "Business class                   0.038234\n",
              "No Info                          0.028675\n",
              "1 Short layover                  0.009558\n",
              "Red-eye flight                   0.009558\n",
              "2 Long layover                   0.009558\n",
              "Name: Additional_Info, dtype: float64"
            ]
          },
          "metadata": {},
          "execution_count": 471
        }
      ],
      "source": [
        "# Now checking with \"Additional_info\" column. there are many entries which have 'no info'.\n",
        "# value 'No info' is as good as emplty as NaN values:\n",
        "\n",
        "df[\"Additional_Info\"].value_counts(normalize=True)*100"
      ]
    },
    {
      "cell_type": "code",
      "execution_count": null,
      "metadata": {
        "id": "nK2DdR6h8p6u"
      },
      "outputs": [],
      "source": [
        "# Dropping Additional_info col, as it has around 78% of values are not provided.\n",
        "\n",
        "df.drop(\"Additional_Info\", axis=1, inplace=True)"
      ]
    },
    {
      "cell_type": "code",
      "execution_count": null,
      "metadata": {
        "colab": {
          "base_uri": "https://localhost:8080/"
        },
        "id": "FkaOQ-Rm8p9V",
        "outputId": "e410fccd-1567-41ab-9041-27aa16593bba"
      },
      "outputs": [
        {
          "output_type": "stream",
          "name": "stdout",
          "text": [
            "<class 'pandas.core.frame.DataFrame'>\n",
            "Int64Index: 10462 entries, 0 to 10682\n",
            "Data columns (total 10 columns):\n",
            " #   Column           Non-Null Count  Dtype         \n",
            "---  ------           --------------  -----         \n",
            " 0   Airline          10462 non-null  object        \n",
            " 1   Date_of_Journey  10462 non-null  datetime64[ns]\n",
            " 2   Source           10462 non-null  object        \n",
            " 3   Destination      10462 non-null  object        \n",
            " 4   Route            10462 non-null  object        \n",
            " 5   Dep_Time         10462 non-null  datetime64[ns]\n",
            " 6   Arrival_Time     10462 non-null  datetime64[ns]\n",
            " 7   Duration         10462 non-null  int64         \n",
            " 8   Total_Stops      10462 non-null  float64       \n",
            " 9   Price            10462 non-null  int64         \n",
            "dtypes: datetime64[ns](3), float64(1), int64(2), object(4)\n",
            "memory usage: 899.1+ KB\n"
          ]
        }
      ],
      "source": [
        "df.info()"
      ]
    },
    {
      "cell_type": "code",
      "execution_count": null,
      "metadata": {
        "id": "sAAgr73S8p_7"
      },
      "outputs": [],
      "source": [
        "# OR we can build the function to handle missing values for \"Additional_Info\" col:\n",
        "\n",
        "\n",
        "def handle_missing_value(df,mode='train'):\n",
        "   \"\"\"\n",
        "     This function handles missing values and create a dataframe.\n",
        "   Input:\n",
        "       df: DataFrame which require missing values treatment\n",
        "       mode : train or predict.\n",
        "   return:\n",
        "       DataFrame with all missing value handle.\n",
        "   \"\"\"\n",
        "\n",
        "   if mode == 'train':\n",
        "       # Seems to be the same row and if you don't have route can't decide on stops.\n",
        "       # It would be appropriate to drop them in this case.\n",
        "       df.dropna(inplace=True)\n",
        "\n",
        "   # Dropping Additional_Info col as around 78% of values are not provided.\n",
        "   df.drop('Additional_Info', axis=1, inplace=True)"
      ]
    },
    {
      "cell_type": "code",
      "execution_count": null,
      "metadata": {
        "id": "SuvUpYq48qCX"
      },
      "outputs": [],
      "source": [
        "# df.info()"
      ]
    },
    {
      "cell_type": "markdown",
      "metadata": {
        "id": "7i5LPp4Tlgk7"
      },
      "source": [
        "## Handling Categorical Attributes:"
      ]
    },
    {
      "cell_type": "code",
      "execution_count": null,
      "metadata": {
        "colab": {
          "base_uri": "https://localhost:8080/"
        },
        "id": "02jrwq_n8qEs",
        "outputId": "35452155-e9af-4c99-a556-95de06cbaef4"
      },
      "outputs": [
        {
          "output_type": "execute_result",
          "data": {
            "text/plain": [
              "Index(['Airline', 'Source', 'Destination', 'Route'], dtype='object')"
            ]
          },
          "metadata": {},
          "execution_count": 476
        }
      ],
      "source": [
        "# chhecking columns which have object (Categorical) data types:\n",
        "object_columns = df.select_dtypes(object).columns\n",
        "object_columns"
      ]
    },
    {
      "cell_type": "code",
      "execution_count": null,
      "metadata": {
        "colab": {
          "base_uri": "https://localhost:8080/",
          "height": 613
        },
        "id": "19N1WttIvOTS",
        "outputId": "e3aa6fb6-2f07-46f9-8212-102c1d50f5d5"
      },
      "outputs": [
        {
          "output_type": "stream",
          "name": "stderr",
          "text": [
            "/usr/local/lib/python3.7/dist-packages/seaborn/_decorators.py:43: FutureWarning: Pass the following variable as a keyword arg: x. From version 0.12, the only valid positional argument will be `data`, and passing other arguments without an explicit keyword will result in an error or misinterpretation.\n",
            "  FutureWarning\n",
            "/usr/local/lib/python3.7/dist-packages/seaborn/_decorators.py:43: FutureWarning: Pass the following variable as a keyword arg: x. From version 0.12, the only valid positional argument will be `data`, and passing other arguments without an explicit keyword will result in an error or misinterpretation.\n",
            "  FutureWarning\n",
            "/usr/local/lib/python3.7/dist-packages/seaborn/_decorators.py:43: FutureWarning: Pass the following variable as a keyword arg: x. From version 0.12, the only valid positional argument will be `data`, and passing other arguments without an explicit keyword will result in an error or misinterpretation.\n",
            "  FutureWarning\n",
            "/usr/local/lib/python3.7/dist-packages/seaborn/_decorators.py:43: FutureWarning: Pass the following variable as a keyword arg: x. From version 0.12, the only valid positional argument will be `data`, and passing other arguments without an explicit keyword will result in an error or misinterpretation.\n",
            "  FutureWarning\n"
          ]
        },
        {
          "output_type": "display_data",
          "data": {
            "text/plain": [
              "<Figure size 2520x3240 with 4 Axes>"
            ],
            "image/png": "[encoded data removed]"
          },
          "metadata": {
            "needs_background": "light"
          }
        }
      ],
      "source": [
        "c = 1\n",
        "plt.figure(figsize=(35,45))\n",
        "\n",
        "for i in object_columns:\n",
        "  plt.subplot(6,3,c)\n",
        "  sns.countplot(df[i])\n",
        "  plt.xticks(rotation = 90)\n",
        "  plt.tight_layout(pad = 3.0)\n",
        "  c = c+1\n",
        "plt.show()"
      ]
    },
    {
      "cell_type": "markdown",
      "metadata": {
        "id": "f87VaLiywgi2"
      },
      "source": [
        "Insights:\n",
        "  - Jet Airways is the most preferred airline with the highest row count, followed by indigo and AirIndia.\n",
        "  - Count for Vistara Premium economy, Trujet, Multiple carries premium economy and Jet Airways business is quuite low.\n",
        "  - Source: Majority of the flights take off from Delhi. Chennai has the minimum count of flight take-offs.\n",
        "  - Destination: Maximum flights land in Cochin.\n",
        "  - Kolkatta has the lowest count of receiving the flights.\n",
        "  - Major Route is Delhi- Bombay- cochin. "
      ]
    },
    {
      "cell_type": "code",
      "execution_count": null,
      "metadata": {
        "colab": {
          "base_uri": "https://localhost:8080/",
          "height": 372
        },
        "id": "PZTWGNyir9I_",
        "outputId": "18f43989-ebb3-4b2d-b335-d576912568b1"
      },
      "outputs": [
        {
          "output_type": "execute_result",
          "data": {
            "text/plain": [
              "       Airline Date_of_Journey    Source Destination                  Route  \\\n",
              "0       IndiGo      2019-03-24  Banglore   New Delhi              BLR → DEL   \n",
              "1    Air India      2019-01-05   Kolkata    Banglore  CCU → IXR → BBI → BLR   \n",
              "2  Jet Airways      2019-09-06     Delhi      Cochin  DEL → LKO → BOM → COK   \n",
              "3       IndiGo      2019-12-05   Kolkata    Banglore        CCU → NAG → BLR   \n",
              "4       IndiGo      2019-01-03  Banglore   New Delhi        BLR → NAG → DEL   \n",
              "\n",
              "             Dep_Time        Arrival_Time  Duration  Total_Stops  Price  \n",
              "0 2022-05-23 22:20:00 2022-03-22 01:10:00       170          0.0   3897  \n",
              "1 2022-05-23 05:50:00 2022-05-23 13:15:00       445          2.0   7662  \n",
              "2 2022-05-23 09:25:00 2022-06-10 04:25:00      1140          2.0  13882  \n",
              "3 2022-05-23 18:05:00 2022-05-23 23:30:00       325          1.0   6218  \n",
              "4 2022-05-23 16:50:00 2022-05-23 21:35:00       285          1.0  13302  "
            ],
            "text/html": [
              "\n",
              "  <div id=\"df-40757a28-ec18-4d33-829b-d7fdb430e42f\">\n",
              "    <div class=\"colab-df-container\">\n",
              "      <div>\n",
              "<style scoped>\n",
              "    .dataframe tbody tr th:only-of-type {\n",
              "        vertical-align: middle;\n",
              "    }\n",
              "\n",
              "    .dataframe tbody tr th {\n",
              "        vertical-align: top;\n",
              "    }\n",
              "\n",
              "    .dataframe thead th {\n",
              "        text-align: right;\n",
              "    }\n",
              "</style>\n",
              "<table border=\"1\" class=\"dataframe\">\n",
              "  <thead>\n",
              "    <tr style=\"text-align: right;\">\n",
              "      <th></th>\n",
              "      <th>Airline</th>\n",
              "      <th>Date_of_Journey</th>\n",
              "      <th>Source</th>\n",
              "      <th>Destination</th>\n",
              "      <th>Route</th>\n",
              "      <th>Dep_Time</th>\n",
              "      <th>Arrival_Time</th>\n",
              "      <th>Duration</th>\n",
              "      <th>Total_Stops</th>\n",
              "      <th>Price</th>\n",
              "    </tr>\n",
              "  </thead>\n",
              "  <tbody>\n",
              "    <tr>\n",
              "      <th>0</th>\n",
              "      <td>IndiGo</td>\n",
              "      <td>2019-03-24</td>\n",
              "      <td>Banglore</td>\n",
              "      <td>New Delhi</td>\n",
              "      <td>BLR → DEL</td>\n",
              "      <td>2022-05-23 22:20:00</td>\n",
              "      <td>2022-03-22 01:10:00</td>\n",
              "      <td>170</td>\n",
              "      <td>0.0</td>\n",
              "      <td>3897</td>\n",
              "    </tr>\n",
              "    <tr>\n",
              "      <th>1</th>\n",
              "      <td>Air India</td>\n",
              "      <td>2019-01-05</td>\n",
              "      <td>Kolkata</td>\n",
              "      <td>Banglore</td>\n",
              "      <td>CCU → IXR → BBI → BLR</td>\n",
              "      <td>2022-05-23 05:50:00</td>\n",
              "      <td>2022-05-23 13:15:00</td>\n",
              "      <td>445</td>\n",
              "      <td>2.0</td>\n",
              "      <td>7662</td>\n",
              "    </tr>\n",
              "    <tr>\n",
              "      <th>2</th>\n",
              "      <td>Jet Airways</td>\n",
              "      <td>2019-09-06</td>\n",
              "      <td>Delhi</td>\n",
              "      <td>Cochin</td>\n",
              "      <td>DEL → LKO → BOM → COK</td>\n",
              "      <td>2022-05-23 09:25:00</td>\n",
              "      <td>2022-06-10 04:25:00</td>\n",
              "      <td>1140</td>\n",
              "      <td>2.0</td>\n",
              "      <td>13882</td>\n",
              "    </tr>\n",
              "    <tr>\n",
              "      <th>3</th>\n",
              "      <td>IndiGo</td>\n",
              "      <td>2019-12-05</td>\n",
              "      <td>Kolkata</td>\n",
              "      <td>Banglore</td>\n",
              "      <td>CCU → NAG → BLR</td>\n",
              "      <td>2022-05-23 18:05:00</td>\n",
              "      <td>2022-05-23 23:30:00</td>\n",
              "      <td>325</td>\n",
              "      <td>1.0</td>\n",
              "      <td>6218</td>\n",
              "    </tr>\n",
              "    <tr>\n",
              "      <th>4</th>\n",
              "      <td>IndiGo</td>\n",
              "      <td>2019-01-03</td>\n",
              "      <td>Banglore</td>\n",
              "      <td>New Delhi</td>\n",
              "      <td>BLR → NAG → DEL</td>\n",
              "      <td>2022-05-23 16:50:00</td>\n",
              "      <td>2022-05-23 21:35:00</td>\n",
              "      <td>285</td>\n",
              "      <td>1.0</td>\n",
              "      <td>13302</td>\n",
              "    </tr>\n",
              "  </tbody>\n",
              "</table>\n",
              "</div>\n",
              "      <button class=\"colab-df-convert\" onclick=\"convertToInteractive('df-40757a28-ec18-4d33-829b-d7fdb430e42f')\"\n",
              "              title=\"Convert this dataframe to an interactive table.\"\n",
              "              style=\"display:none;\">\n",
              "        \n",
              "  <svg xmlns=\"http://www.w3.org/2000/svg\" height=\"24px\"viewBox=\"0 0 24 24\"\n",
              "       width=\"24px\">\n",
              "    <path d=\"M0 0h24v24H0V0z\" fill=\"none\"/>\n",
              "    <path d=\"M18.56 5.44l.94 2.06.94-2.06 2.06-.94-2.06-.94-.94-2.06-.94 2.06-2.06.94zm-11 1L8.5 8.5l.94-2.06 2.06-.94-2.06-.94L8.5 2.5l-.94 2.06-2.06.94zm10 10l.94 2.06.94-2.06 2.06-.94-2.06-.94-.94-2.06-.94 2.06-2.06.94z\"/><path d=\"M17.41 7.96l-1.37-1.37c-.4-.4-.92-.59-1.43-.59-.52 0-1.04.2-1.43.59L10.3 9.45l-7.72 7.72c-.78.78-.78 2.05 0 2.83L4 21.41c.39.39.9.59 1.41.59.51 0 1.02-.2 1.41-.59l7.78-7.78 2.81-2.81c.8-.78.8-2.07 0-2.86zM5.41 20L4 18.59l7.72-7.72 1.47 1.35L5.41 20z\"/>\n",
              "  </svg>\n",
              "      </button>\n",
              "      \n",
              "  <style>\n",
              "    .colab-df-container {\n",
              "      display:flex;\n",
              "      flex-wrap:wrap;\n",
              "      gap: 12px;\n",
              "    }\n",
              "\n",
              "    .colab-df-convert {\n",
              "      background-color: #E8F0FE;\n",
              "      border: none;\n",
              "      border-radius: 50%;\n",
              "      cursor: pointer;\n",
              "      display: none;\n",
              "      fill: #1967D2;\n",
              "      height: 32px;\n",
              "      padding: 0 0 0 0;\n",
              "      width: 32px;\n",
              "    }\n",
              "\n",
              "    .colab-df-convert:hover {\n",
              "      background-color: #E2EBFA;\n",
              "      box-shadow: 0px 1px 2px rgba(60, 64, 67, 0.3), 0px 1px 3px 1px rgba(60, 64, 67, 0.15);\n",
              "      fill: #174EA6;\n",
              "    }\n",
              "\n",
              "    [theme=dark] .colab-df-convert {\n",
              "      background-color: #3B4455;\n",
              "      fill: #D2E3FC;\n",
              "    }\n",
              "\n",
              "    [theme=dark] .colab-df-convert:hover {\n",
              "      background-color: #434B5C;\n",
              "      box-shadow: 0px 1px 3px 1px rgba(0, 0, 0, 0.15);\n",
              "      filter: drop-shadow(0px 1px 2px rgba(0, 0, 0, 0.3));\n",
              "      fill: #FFFFFF;\n",
              "    }\n",
              "  </style>\n",
              "\n",
              "      <script>\n",
              "        const buttonEl =\n",
              "          document.querySelector('#df-40757a28-ec18-4d33-829b-d7fdb430e42f button.colab-df-convert');\n",
              "        buttonEl.style.display =\n",
              "          google.colab.kernel.accessAllowed ? 'block' : 'none';\n",
              "\n",
              "        async function convertToInteractive(key) {\n",
              "          const element = document.querySelector('#df-40757a28-ec18-4d33-829b-d7fdb430e42f');\n",
              "          const dataTable =\n",
              "            await google.colab.kernel.invokeFunction('convertToInteractive',\n",
              "                                                     [key], {});\n",
              "          if (!dataTable) return;\n",
              "\n",
              "          const docLinkHtml = 'Like what you see? Visit the ' +\n",
              "            '<a target=\"_blank\" href=https://colab.research.google.com/notebooks/data_table.ipynb>data table notebook</a>'\n",
              "            + ' to learn more about interactive tables.';\n",
              "          element.innerHTML = '';\n",
              "          dataTable['output_type'] = 'display_data';\n",
              "          await google.colab.output.renderOutput(dataTable, element);\n",
              "          const docLink = document.createElement('div');\n",
              "          docLink.innerHTML = docLinkHtml;\n",
              "          element.appendChild(docLink);\n",
              "        }\n",
              "      </script>\n",
              "    </div>\n",
              "  </div>\n",
              "  "
            ]
          },
          "metadata": {},
          "execution_count": 478
        }
      ],
      "source": [
        "df.head()"
      ]
    },
    {
      "cell_type": "code",
      "execution_count": null,
      "metadata": {
        "colab": {
          "base_uri": "https://localhost:8080/"
        },
        "id": "pb5wDu618qMr",
        "outputId": "27f74ec6-7182-4c0f-f7bd-11f09d3d39eb"
      },
      "outputs": [
        {
          "output_type": "execute_result",
          "data": {
            "text/plain": [
              "Jet Airways                          3700\n",
              "IndiGo                               2043\n",
              "Air India                            1694\n",
              "Multiple carriers                    1196\n",
              "SpiceJet                              815\n",
              "Vistara                               478\n",
              "Air Asia                              319\n",
              "GoAir                                 194\n",
              "Multiple carriers Premium economy      13\n",
              "Jet Airways Business                    6\n",
              "Vistara Premium economy                 3\n",
              "Trujet                                  1\n",
              "Name: Airline, dtype: int64"
            ]
          },
          "metadata": {},
          "execution_count": 479
        }
      ],
      "source": [
        "df[\"Airline\"].value_counts()"
      ]
    },
    {
      "cell_type": "code",
      "execution_count": null,
      "metadata": {
        "colab": {
          "base_uri": "https://localhost:8080/",
          "height": 203
        },
        "id": "C0K9dMel8qPS",
        "outputId": "318dfaf4-eb90-4b01-8a10-60659ef315f6"
      },
      "outputs": [
        {
          "output_type": "display_data",
          "data": {
            "text/plain": [
              "<Figure size 2160x432 with 1 Axes>"
            ],
            "image/png": "[encoded data removed]"
          },
          "metadata": {
            "needs_background": "light"
          }
        }
      ],
      "source": [
        "\n",
        "# the first Airline almost all are having similar median.\n",
        "\n",
        "# Airline vs Price:\n",
        "\n",
        "sns.catplot(x = \"Airline\", y=\"Price\", data = df.sort_values(\"Price\", ascending=False), kind = \"boxen\", height = 6, aspect = 5)\n",
        "plt.show()"
      ]
    },
    {
      "cell_type": "markdown",
      "metadata": {
        "id": "izZshVtfszCS"
      },
      "source": [
        "From graph we can see that Jet Airways Business has highest price."
      ]
    },
    {
      "cell_type": "code",
      "execution_count": null,
      "metadata": {
        "colab": {
          "base_uri": "https://localhost:8080/"
        },
        "id": "Mge5p22v8qR-",
        "outputId": "1ba3b740-0119-43c3-aa5e-1d2aeffb05f4"
      },
      "outputs": [
        {
          "output_type": "execute_result",
          "data": {
            "text/plain": [
              "Delhi       4345\n",
              "Kolkata     2860\n",
              "Banglore    2179\n",
              "Mumbai       697\n",
              "Chennai      381\n",
              "Name: Source, dtype: int64"
            ]
          },
          "metadata": {},
          "execution_count": 481
        }
      ],
      "source": [
        "# like wise \"Source\" column:\n",
        "df[\"Source\"].value_counts()"
      ]
    },
    {
      "cell_type": "code",
      "execution_count": null,
      "metadata": {
        "colab": {
          "base_uri": "https://localhost:8080/",
          "height": 203
        },
        "id": "n23D3SRn8qUQ",
        "outputId": "e91064d6-a37f-4f5b-d7d2-dcc03bacaaa3"
      },
      "outputs": [
        {
          "output_type": "display_data",
          "data": {
            "text/plain": [
              "<Figure size 2160x432 with 1 Axes>"
            ],
            "image/png": "[encoded data removed]"
          },
          "metadata": {
            "needs_background": "light"
          }
        }
      ],
      "source": [
        "# Source vs Price:\n",
        "\n",
        "sns.catplot(y = \"Price\", x = \"Source\", data = df.sort_values(\"Price\", ascending=False), kind = \"boxen\", height = 6, aspect = 5 )\n",
        "plt.show()"
      ]
    },
    {
      "cell_type": "markdown",
      "metadata": {
        "id": "MKHq7VvNtvZr"
      },
      "source": [
        "As we can see most Sources are in Bangalore. there is high demand for the flight."
      ]
    },
    {
      "cell_type": "code",
      "execution_count": null,
      "metadata": {
        "colab": {
          "base_uri": "https://localhost:8080/"
        },
        "id": "O12I81xx8qJ8",
        "outputId": "9c2a74aa-a35b-41e0-9a76-b8af684d1698"
      },
      "outputs": [
        {
          "output_type": "stream",
          "name": "stdout",
          "text": [
            "Value counts for Airline are as below: \n",
            "Jet Airways                          35.366087\n",
            "IndiGo                               19.527815\n",
            "Air India                            16.191933\n",
            "Multiple carriers                    11.431849\n",
            "SpiceJet                              7.790097\n",
            "Vistara                               4.568916\n",
            "Air Asia                              3.049130\n",
            "GoAir                                 1.854330\n",
            "Multiple carriers Premium economy     0.124259\n",
            "Jet Airways Business                  0.057350\n",
            "Vistara Premium economy               0.028675\n",
            "Trujet                                0.009558\n",
            "Name: Airline, dtype: float64\n",
            "and ,\n",
            " No. of unique values for Airline is 12\n",
            "--------------------------------------------------------------------------------\n",
            "Value counts for Source are as below: \n",
            "Delhi       41.531256\n",
            "Kolkata     27.337029\n",
            "Banglore    20.827758\n",
            "Mumbai       6.662206\n",
            "Chennai      3.641751\n",
            "Name: Source, dtype: float64\n",
            "and ,\n",
            " No. of unique values for Source is 5\n",
            "--------------------------------------------------------------------------------\n",
            "Value counts for Destination are as below: \n",
            "Cochin       41.531256\n",
            "Banglore     27.337029\n",
            "Delhi        12.091378\n",
            "New Delhi     8.736379\n",
            "Hyderabad     6.662206\n",
            "Kolkata       3.641751\n",
            "Name: Destination, dtype: float64\n",
            "and ,\n",
            " No. of unique values for Destination is 6\n",
            "--------------------------------------------------------------------------------\n",
            "Value counts for Route are as below: \n",
            "DEL → BOM → COK          22.710763\n",
            "BLR → DEL                14.681705\n",
            "CCU → BOM → BLR           9.357675\n",
            "CCU → BLR                 6.920283\n",
            "BOM → HYD                 5.935768\n",
            "                           ...    \n",
            "CCU → VTZ → BLR           0.009558\n",
            "CCU → IXZ → MAA → BLR     0.009558\n",
            "BOM → COK → MAA → HYD     0.009558\n",
            "BOM → CCU → HYD           0.009558\n",
            "BOM → BBI → HYD           0.009558\n",
            "Name: Route, Length: 128, dtype: float64\n",
            "and ,\n",
            " No. of unique values for Route is 128\n",
            "--------------------------------------------------------------------------------\n"
          ]
        }
      ],
      "source": [
        "# Perform a value count on all columns as check for appropriate conversion technique.\n",
        "for col in object_columns:\n",
        "    print(f\"Value counts for {col} are as below: \")\n",
        "    print(df[col].value_counts(normalize=True)*100)\n",
        "    print(\"and ,\")\n",
        "    print(f\" No. of unique values for {col} is {df[col].nunique()}\")\n",
        "    print(\"-\"*80)"
      ]
    },
    {
      "cell_type": "markdown",
      "metadata": {
        "id": "ys-N_3BTztfr"
      },
      "source": [
        "So, here we can see the value counts of categorical (object_columns) values which we already checked with the plot, but here we can see proper ratio of categorical values."
      ]
    },
    {
      "cell_type": "markdown",
      "metadata": {
        "id": "npMDCx380LCC"
      },
      "source": [
        "Insights: \n",
        "  - Jet Airways Airline is the most expensive flight and it's ratio is 35.36%. Vistara Premium economy and Trujet Airline is the cheapest airline.\n",
        "  - Source: Delhi has 41.53% ratio- highest ratio and Chennai has lowest ratio that is 3.64%.\n",
        "  - Destination: Cochin- highest landing or departure place with 41.53% ratio. and otherhands Kolkata has lowest depature ratio- 3.64%.\n",
        "  - Route: Best route for flight is Delhi to bombay to Cochin. \n",
        "  - Unique value for.. \n",
        "    - Airline: 12,\n",
        "    - Source : 5 , \n",
        "    - Destination : 6,\n",
        "    - Route : 128."
      ]
    },
    {
      "cell_type": "markdown",
      "metadata": {
        "id": "vH6nfA3h2SBe"
      },
      "source": [
        "- For \"Airline\" and \"Route\" columns we can not use 'One-Hot encoding' or 'Label encoding' as no. of uniques are high and these are not ordinal values.\n",
        "- Other possible alternative are 'frequency encoding', 'mean encoding' and 'hash encoding'.\n",
        "\n",
        "- For 'Source' and 'Destination' columns we should use One-hot encoding but not 'label encoding' because no. of uniques are less than 10 and these are also not ordinal."
      ]
    },
    {
      "cell_type": "code",
      "execution_count": null,
      "metadata": {
        "colab": {
          "base_uri": "https://localhost:8080/"
        },
        "id": "2wACUseQ8qWo",
        "outputId": "15555c2e-8377-46fd-d3d6-f87c74a3e1af"
      },
      "outputs": [
        {
          "output_type": "stream",
          "name": "stdout",
          "text": [
            "<class 'pandas.core.frame.DataFrame'>\n",
            "Int64Index: 10462 entries, 0 to 10682\n",
            "Data columns (total 10 columns):\n",
            " #   Column           Non-Null Count  Dtype         \n",
            "---  ------           --------------  -----         \n",
            " 0   Airline          10462 non-null  object        \n",
            " 1   Date_of_Journey  10462 non-null  datetime64[ns]\n",
            " 2   Source           10462 non-null  object        \n",
            " 3   Destination      10462 non-null  object        \n",
            " 4   Route            10462 non-null  object        \n",
            " 5   Dep_Time         10462 non-null  datetime64[ns]\n",
            " 6   Arrival_Time     10462 non-null  datetime64[ns]\n",
            " 7   Duration         10462 non-null  int64         \n",
            " 8   Total_Stops      10462 non-null  float64       \n",
            " 9   Price            10462 non-null  int64         \n",
            "dtypes: datetime64[ns](3), float64(1), int64(2), object(4)\n",
            "memory usage: 1.1+ MB\n"
          ]
        }
      ],
      "source": [
        "df.info()"
      ]
    },
    {
      "cell_type": "markdown",
      "metadata": {
        "id": "JUaf3q1npGhz"
      },
      "source": [
        "###Frequency Encoding:"
      ]
    },
    {
      "cell_type": "code",
      "execution_count": null,
      "metadata": {
        "id": "2lfsXqE18qbl"
      },
      "outputs": [],
      "source": [
        "# use \"frequency encoding\" for 'Airline' column:\n",
        "\n",
        "airline_freq = df.groupby('Airline').size()/len(df)\n",
        "airline_freq_dict = airline_freq.to_dict()\n",
        "df[\"Freq_encoded_Airline\"] = df[\"Airline\"].replace(airline_freq_dict)\n"
      ]
    },
    {
      "cell_type": "code",
      "execution_count": null,
      "metadata": {
        "colab": {
          "base_uri": "https://localhost:8080/"
        },
        "id": "CELqq_R88qeg",
        "outputId": "c271b543-0678-4ec7-ff04-97eeccabc7bf"
      },
      "outputs": [
        {
          "output_type": "stream",
          "name": "stdout",
          "text": [
            "Airline\n",
            "Air Asia                             0.030491\n",
            "Air India                            0.161919\n",
            "GoAir                                0.018543\n",
            "IndiGo                               0.195278\n",
            "Jet Airways                          0.353661\n",
            "Jet Airways Business                 0.000574\n",
            "Multiple carriers                    0.114318\n",
            "Multiple carriers Premium economy    0.001243\n",
            "SpiceJet                             0.077901\n",
            "Trujet                               0.000096\n",
            "Vistara                              0.045689\n",
            "Vistara Premium economy              0.000287\n",
            "dtype: float64\n",
            "{'Air Asia': 0.030491301854329956, 'Air India': 0.1619193270885108, 'GoAir': 0.018543299560313517, 'IndiGo': 0.1952781494934047, 'Jet Airways': 0.35366086790288664, 'Jet Airways Business': 0.0005735041101127892, 'Multiple carriers': 0.1143184859491493, 'Multiple carriers Premium economy': 0.0012425922385777097, 'SpiceJet': 0.0779009749569872, 'Trujet': 9.558401835213153e-05, 'Vistara': 0.04568916077231887, 'Vistara Premium economy': 0.0002867520550563946}\n"
          ]
        },
        {
          "output_type": "execute_result",
          "data": {
            "text/plain": [
              "Airline\n",
              "Air Asia                             0.030491\n",
              "Air India                            0.161919\n",
              "GoAir                                0.018543\n",
              "IndiGo                               0.195278\n",
              "Jet Airways                          0.353661\n",
              "Jet Airways Business                 0.000574\n",
              "Multiple carriers                    0.114318\n",
              "Multiple carriers Premium economy    0.001243\n",
              "SpiceJet                             0.077901\n",
              "Trujet                               0.000096\n",
              "Vistara                              0.045689\n",
              "Vistara Premium economy              0.000287\n",
              "dtype: float64"
            ]
          },
          "metadata": {},
          "execution_count": 486
        }
      ],
      "source": [
        "# Explaning:\n",
        "airline_freq = df.groupby(\"Airline\").size()/len(df)\n",
        "print(airline_freq)\n",
        "airline_freq_dict = airline_freq.to_dict()\n",
        "print(airline_freq_dict)\n",
        "df[\"Freq_encoded_Airline\"] = df[\"Airline\"].replace(airline_freq_dict)\n",
        "df[['Airline', 'Freq_encoded_Airline']]\n",
        "\n",
        "airline_freq"
      ]
    },
    {
      "cell_type": "code",
      "execution_count": null,
      "metadata": {
        "id": "YOkxQB9Dglf0"
      },
      "outputs": [],
      "source": [
        "_freq = df.groupby('Airline').size()/len(df)\n",
        "_freq_dict = _freq.to_dict()\n",
        "df['Freq_encoded_' + 'Airline'] = df['Airline'].replace(_freq_dict)"
      ]
    },
    {
      "cell_type": "code",
      "execution_count": null,
      "metadata": {
        "id": "P_OebTwoglie"
      },
      "outputs": [],
      "source": [
        "def frequency_encoder(df, col):\n",
        "  \"\"\"\n",
        "  This function encodes a categorical column based on the frequency of their occurance.\n",
        "  Input:\n",
        "      df : Input DataFrame in which encoding has to be created.\n",
        "      col : Column name which has to be encoded. \n",
        "  Return:\n",
        "      frequency encoded dictionary for columns.\n",
        "  \"\"\"\n",
        "  freq_value = df.groupby(col).size()/len(df)\n",
        "  freq_dict = freq_value.to_dict()\n",
        "  df['Freq_encoded_' + col] = df[col].replace(freq_dict)\n",
        "  return freq_dict\n"
      ]
    },
    {
      "cell_type": "code",
      "execution_count": null,
      "metadata": {
        "colab": {
          "base_uri": "https://localhost:8080/"
        },
        "id": "-h4FDibugllB",
        "outputId": "1ff31391-f5e2-4d58-9698-0895f33d2805"
      },
      "outputs": [
        {
          "output_type": "stream",
          "name": "stdout",
          "text": [
            "<class 'pandas.core.frame.DataFrame'>\n",
            "Int64Index: 10462 entries, 0 to 10682\n",
            "Data columns (total 11 columns):\n",
            " #   Column                Non-Null Count  Dtype         \n",
            "---  ------                --------------  -----         \n",
            " 0   Airline               10462 non-null  object        \n",
            " 1   Date_of_Journey       10462 non-null  datetime64[ns]\n",
            " 2   Source                10462 non-null  object        \n",
            " 3   Destination           10462 non-null  object        \n",
            " 4   Route                 10462 non-null  object        \n",
            " 5   Dep_Time              10462 non-null  datetime64[ns]\n",
            " 6   Arrival_Time          10462 non-null  datetime64[ns]\n",
            " 7   Duration              10462 non-null  int64         \n",
            " 8   Total_Stops           10462 non-null  float64       \n",
            " 9   Price                 10462 non-null  int64         \n",
            " 10  Freq_encoded_Airline  10462 non-null  float64       \n",
            "dtypes: datetime64[ns](3), float64(2), int64(2), object(4)\n",
            "memory usage: 1.2+ MB\n"
          ]
        }
      ],
      "source": [
        "df.info()"
      ]
    },
    {
      "cell_type": "code",
      "execution_count": null,
      "metadata": {
        "colab": {
          "base_uri": "https://localhost:8080/"
        },
        "id": "KmlXaILPglqS",
        "outputId": "0f40ec7c-b2de-4597-a1fb-4a07b708fe44"
      },
      "outputs": [
        {
          "output_type": "execute_result",
          "data": {
            "text/plain": [
              "{'BLR → AMD → DEL': 0.0017205123303383673,\n",
              " 'BLR → BBI → DEL': 0.0004779200917606576,\n",
              " 'BLR → BDQ → DEL': 0.0007646721468170522,\n",
              " 'BLR → BOM → AMD → DEL': 0.0003823360734085261,\n",
              " 'BLR → BOM → BHO → DEL': 0.0010514242018734468,\n",
              " 'BLR → BOM → DEL': 0.038424775377556876,\n",
              " 'BLR → BOM → IDR → DEL': 0.0004779200917606576,\n",
              " 'BLR → BOM → IDR → GWL → DEL': 0.00019116803670426305,\n",
              " 'BLR → BOM → IXC → DEL': 9.558401835213153e-05,\n",
              " 'BLR → BOM → JDH → DEL': 0.0005735041101127892,\n",
              " 'BLR → BOM → NAG → DEL': 0.0008602561651691837,\n",
              " 'BLR → BOM → UDR → DEL': 0.0002867520550563946,\n",
              " 'BLR → CCU → BBI → DEL': 0.0004779200917606576,\n",
              " 'BLR → CCU → BBI → HYD → DEL': 0.00019116803670426305,\n",
              " 'BLR → CCU → BBI → HYD → VGA → DEL': 9.558401835213153e-05,\n",
              " 'BLR → CCU → DEL': 0.0010514242018734468,\n",
              " 'BLR → CCU → GAU → DEL': 0.0010514242018734468,\n",
              " 'BLR → COK → DEL': 0.0014337602752819729,\n",
              " 'BLR → DEL': 0.14681705218887403,\n",
              " 'BLR → GAU → DEL': 0.0002867520550563946,\n",
              " 'BLR → GOI → DEL': 0.0006690881284649206,\n",
              " 'BLR → HBX → BOM → AMD → DEL': 9.558401835213153e-05,\n",
              " 'BLR → HBX → BOM → BHO → DEL': 9.558401835213153e-05,\n",
              " 'BLR → HBX → BOM → NAG → DEL': 9.558401835213153e-05,\n",
              " 'BLR → HYD → DEL': 0.0035366086790288662,\n",
              " 'BLR → HYD → VGA → DEL': 0.0009558401835213152,\n",
              " 'BLR → IDR → DEL': 0.0004779200917606576,\n",
              " 'BLR → LKO → DEL': 0.0002867520550563946,\n",
              " 'BLR → MAA → DEL': 0.002771936532211814,\n",
              " 'BLR → NAG → DEL': 0.0002867520550563946,\n",
              " 'BLR → PNQ → DEL': 0.0004779200917606576,\n",
              " 'BLR → STV → DEL': 0.00019116803670426305,\n",
              " 'BLR → TRV → COK → DEL': 0.00019116803670426305,\n",
              " 'BLR → VGA → DEL': 0.0008602561651691837,\n",
              " 'BLR → VGA → HYD → DEL': 0.0003823360734085261,\n",
              " 'BLR → VGA → VTZ → DEL': 0.00019116803670426305,\n",
              " 'BOM → AMD → ISK → HYD': 0.0003823360734085261,\n",
              " 'BOM → BBI → HYD': 9.558401835213153e-05,\n",
              " 'BOM → BDQ → DEL → HYD': 0.00019116803670426305,\n",
              " 'BOM → BHO → DEL → HYD': 0.0006690881284649206,\n",
              " 'BOM → BLR → CCU → BBI → HYD': 9.558401835213153e-05,\n",
              " 'BOM → BLR → HYD': 0.0002867520550563946,\n",
              " 'BOM → CCU → HYD': 9.558401835213153e-05,\n",
              " 'BOM → COK → MAA → HYD': 9.558401835213153e-05,\n",
              " 'BOM → DED → DEL → HYD': 9.558401835213153e-05,\n",
              " 'BOM → DEL → HYD': 0.0031542726056203404,\n",
              " 'BOM → GOI → HYD': 9.558401835213153e-05,\n",
              " 'BOM → GOI → PNQ → HYD': 0.0005735041101127892,\n",
              " 'BOM → HYD': 0.05935767539667368,\n",
              " 'BOM → IDR → DEL → HYD': 0.00019116803670426305,\n",
              " 'BOM → JAI → DEL → HYD': 9.558401835213153e-05,\n",
              " 'BOM → JDH → DEL → HYD': 0.0002867520550563946,\n",
              " 'BOM → JDH → JAI → DEL → HYD': 9.558401835213153e-05,\n",
              " 'BOM → JLR → HYD': 9.558401835213153e-05,\n",
              " 'BOM → MAA → HYD': 0.0002867520550563946,\n",
              " 'BOM → NDC → HYD': 9.558401835213153e-05,\n",
              " 'BOM → RPR → VTZ → HYD': 9.558401835213153e-05,\n",
              " 'BOM → UDR → DEL → HYD': 9.558401835213153e-05,\n",
              " 'BOM → VNS → DEL → HYD': 9.558401835213153e-05,\n",
              " 'CCU → AMD → BLR': 0.0010514242018734468,\n",
              " 'CCU → BBI → BLR': 0.004779200917606577,\n",
              " 'CCU → BBI → BOM → BLR': 0.004014528770789524,\n",
              " 'CCU → BBI → HYD → BLR': 0.0008602561651691837,\n",
              " 'CCU → BBI → IXR → DEL → BLR': 0.00019116803670426305,\n",
              " 'CCU → BLR': 0.06920282928694323,\n",
              " 'CCU → BOM → AMD → BLR': 0.0008602561651691837,\n",
              " 'CCU → BOM → BLR': 0.09357675396673676,\n",
              " 'CCU → BOM → COK → BLR': 0.0028675205505639457,\n",
              " 'CCU → BOM → GOI → BLR': 0.0012425922385777097,\n",
              " 'CCU → BOM → HBX → BLR': 0.0005735041101127892,\n",
              " 'CCU → BOM → PNQ → BLR': 0.0003823360734085261,\n",
              " 'CCU → BOM → TRV → BLR': 0.00019116803670426305,\n",
              " 'CCU → DEL → AMD → BLR': 0.002007264385394762,\n",
              " 'CCU → DEL → BLR': 0.05400497036895431,\n",
              " 'CCU → DEL → COK → BLR': 0.002771936532211814,\n",
              " 'CCU → DEL → COK → TRV → BLR': 0.0003823360734085261,\n",
              " 'CCU → DEL → VGA → BLR': 0.0003823360734085261,\n",
              " 'CCU → GAU → BLR': 0.0039189447524373925,\n",
              " 'CCU → GAU → DEL → BLR': 0.003632192697380998,\n",
              " 'CCU → GAU → IMF → DEL → BLR': 0.0004779200917606576,\n",
              " 'CCU → HYD → BLR': 0.0050659529726629704,\n",
              " 'CCU → IXA → BLR': 9.558401835213153e-05,\n",
              " 'CCU → IXB → BLR': 0.0019116803670426305,\n",
              " 'CCU → IXB → DEL → BLR': 9.558401835213153e-05,\n",
              " 'CCU → IXR → BBI → BLR': 0.0005735041101127892,\n",
              " 'CCU → IXR → DEL → BLR': 0.00439686484419805,\n",
              " 'CCU → IXZ → MAA → BLR': 9.558401835213153e-05,\n",
              " 'CCU → JAI → BOM → BLR': 0.0012425922385777097,\n",
              " 'CCU → JAI → DEL → BLR': 0.0005735041101127892,\n",
              " 'CCU → KNU → BLR': 0.0009558401835213152,\n",
              " 'CCU → MAA → BLR': 0.006212961192888549,\n",
              " 'CCU → NAG → BLR': 0.0008602561651691837,\n",
              " 'CCU → PAT → BLR': 0.0009558401835213152,\n",
              " 'CCU → PNQ → BLR': 0.001816096348690499,\n",
              " 'CCU → RPR → HYD → BLR': 9.558401835213153e-05,\n",
              " 'CCU → VNS → DEL → BLR': 0.0009558401835213152,\n",
              " 'CCU → VTZ → BLR': 9.558401835213153e-05,\n",
              " 'DEL → AMD → BOM → COK': 0.013764098642706939,\n",
              " 'DEL → AMD → COK': 0.0023896004588032883,\n",
              " 'DEL → ATQ → BOM → COK': 0.003823360734085261,\n",
              " 'DEL → BBI → COK': 0.0004779200917606576,\n",
              " 'DEL → BDQ → BOM → COK': 0.002580768495507551,\n",
              " 'DEL → BHO → BOM → COK': 0.0045880328809023135,\n",
              " 'DEL → BLR → COK': 0.022175492257694513,\n",
              " 'DEL → BOM → COK': 0.2271076276046645,\n",
              " 'DEL → CCU → BOM → COK': 0.004205696807493787,\n",
              " 'DEL → COK': 0.020359395909004013,\n",
              " 'DEL → DED → BOM → COK': 0.00019116803670426305,\n",
              " 'DEL → GOI → BOM → COK': 0.004205696807493787,\n",
              " 'DEL → GWL → IDR → BOM → COK': 0.0007646721468170522,\n",
              " 'DEL → HYD → BOM → COK': 0.004301280825845919,\n",
              " 'DEL → HYD → COK': 0.031160389982794877,\n",
              " 'DEL → HYD → MAA → COK': 0.007933473523226917,\n",
              " 'DEL → IDR → BOM → COK': 0.008602561651691838,\n",
              " 'DEL → IXC → BOM → COK': 0.0010514242018734468,\n",
              " 'DEL → IXU → BOM → COK': 0.0011470082202255784,\n",
              " 'DEL → JAI → BOM → COK': 0.01749187535844007,\n",
              " 'DEL → JDH → BOM → COK': 0.0035366086790288662,\n",
              " 'DEL → LKO → BOM → COK': 0.0039189447524373925,\n",
              " 'DEL → LKO → COK': 0.001624928311986236,\n",
              " 'DEL → MAA → BOM → COK': 0.0010514242018734468,\n",
              " 'DEL → MAA → COK': 0.013955266679411202,\n",
              " 'DEL → NAG → BOM → COK': 0.004205696807493787,\n",
              " 'DEL → PNQ → COK': 0.004014528770789524,\n",
              " 'DEL → RPR → NAG → BOM → COK': 0.0014337602752819729,\n",
              " 'DEL → TRV → COK': 0.0015293442936341044,\n",
              " 'DEL → UDR → BOM → COK': 0.0017205123303383673,\n",
              " 'MAA → CCU': 0.03641751099216211}"
            ]
          },
          "metadata": {},
          "execution_count": 490
        }
      ],
      "source": [
        "frequency_encoder(df, 'Source')\n",
        "frequency_encoder(df, 'Destination')\n",
        "frequency_encoder(df, 'Route')"
      ]
    },
    {
      "cell_type": "code",
      "execution_count": null,
      "metadata": {
        "colab": {
          "base_uri": "https://localhost:8080/"
        },
        "id": "TWKSiy5bgltS",
        "outputId": "2fa61d33-7f4c-4374-c026-f425af793c98"
      },
      "outputs": [
        {
          "output_type": "stream",
          "name": "stdout",
          "text": [
            "<class 'pandas.core.frame.DataFrame'>\n",
            "Int64Index: 10462 entries, 0 to 10682\n",
            "Data columns (total 14 columns):\n",
            " #   Column                    Non-Null Count  Dtype         \n",
            "---  ------                    --------------  -----         \n",
            " 0   Airline                   10462 non-null  object        \n",
            " 1   Date_of_Journey           10462 non-null  datetime64[ns]\n",
            " 2   Source                    10462 non-null  object        \n",
            " 3   Destination               10462 non-null  object        \n",
            " 4   Route                     10462 non-null  object        \n",
            " 5   Dep_Time                  10462 non-null  datetime64[ns]\n",
            " 6   Arrival_Time              10462 non-null  datetime64[ns]\n",
            " 7   Duration                  10462 non-null  int64         \n",
            " 8   Total_Stops               10462 non-null  float64       \n",
            " 9   Price                     10462 non-null  int64         \n",
            " 10  Freq_encoded_Airline      10462 non-null  float64       \n",
            " 11  Freq_encoded_Source       10462 non-null  float64       \n",
            " 12  Freq_encoded_Destination  10462 non-null  float64       \n",
            " 13  Freq_encoded_Route        10462 non-null  float64       \n",
            "dtypes: datetime64[ns](3), float64(5), int64(2), object(4)\n",
            "memory usage: 1.4+ MB\n"
          ]
        }
      ],
      "source": [
        "df.info()"
      ]
    },
    {
      "cell_type": "markdown",
      "metadata": {
        "id": "tUIEY84CpQyS"
      },
      "source": [
        "### Mean_encoding:"
      ]
    },
    {
      "cell_type": "markdown",
      "metadata": {
        "id": "NGae2E5bn1Ok"
      },
      "source": [
        "Also we can try \"Mean-Target_encoding\" for the categorical columns. \n",
        "- Caution it can prove to overfit model and should be validated and treated for it."
      ]
    },
    {
      "cell_type": "code",
      "execution_count": null,
      "metadata": {
        "id": "u8QJPibdglwu"
      },
      "outputs": [],
      "source": [
        "# try \"mean encoding\":\n",
        "\n",
        "mean_value = df.groupby('Airline')['Price'].mean()\n",
        "mean_dict = mean_value.to_dict()\n",
        "df[\"Mean_encoded_Airline\"] = df['Airline'].replace(mean_dict)"
      ]
    },
    {
      "cell_type": "code",
      "execution_count": null,
      "metadata": {
        "colab": {
          "base_uri": "https://localhost:8080/"
        },
        "id": "-mkMbl-9glzs",
        "outputId": "69c4a561-0581-4acb-b3c5-e59ea1b70b50"
      },
      "outputs": [
        {
          "output_type": "stream",
          "name": "stdout",
          "text": [
            "Airline\n",
            "Air Asia                              5590.260188\n",
            "Air India                             9556.608028\n",
            "GoAir                                 5861.056701\n",
            "IndiGo                                5668.469897\n",
            "Jet Airways                          11599.021081\n",
            "Jet Airways Business                 58358.666667\n",
            "Multiple carriers                    10902.678094\n",
            "Multiple carriers Premium economy    11418.846154\n",
            "SpiceJet                              4335.841718\n",
            "Trujet                                4140.000000\n",
            "Vistara                               7801.355649\n",
            "Vistara Premium economy               8962.333333\n",
            "Name: Price, dtype: float64\n",
            "{'Air Asia': 5590.260188087775, 'Air India': 9556.6080283353, 'GoAir': 5861.056701030928, 'IndiGo': 5668.469897209985, 'Jet Airways': 11599.02108108108, 'Jet Airways Business': 58358.666666666664, 'Multiple carriers': 10902.678093645485, 'Multiple carriers Premium economy': 11418.846153846154, 'SpiceJet': 4335.841717791411, 'Trujet': 4140.0, 'Vistara': 7801.355648535565, 'Vistara Premium economy': 8962.333333333334}\n"
          ]
        }
      ],
      "source": [
        "\n",
        "print(mean_value),\n",
        "print(mean_dict)"
      ]
    },
    {
      "cell_type": "code",
      "execution_count": null,
      "metadata": {
        "colab": {
          "base_uri": "https://localhost:8080/",
          "height": 364
        },
        "id": "qEJk-dQDgl3M",
        "outputId": "f0ccc7bb-c5c0-4f82-83c5-00883ee1af8e"
      },
      "outputs": [
        {
          "output_type": "execute_result",
          "data": {
            "text/plain": [
              "          Duration  Total_Stops         Price  Freq_encoded_Airline  \\\n",
              "count  1694.000000  1694.000000   1694.000000          1.694000e+03   \n",
              "mean    926.912633     1.211924   9556.608028          1.619193e-01   \n",
              "std     604.288329     0.838712   3937.875634          4.636550e-15   \n",
              "min       5.000000     0.000000   2050.000000          1.619193e-01   \n",
              "25%     245.000000     1.000000   6597.750000          1.619193e-01   \n",
              "50%     920.000000     1.000000   9316.000000          1.619193e-01   \n",
              "75%    1440.000000     2.000000  12199.000000          1.619193e-01   \n",
              "max    2480.000000     4.000000  31945.000000          1.619193e-01   \n",
              "\n",
              "       Freq_encoded_Source  Freq_encoded_Destination  Freq_encoded_Route  \\\n",
              "count          1694.000000               1694.000000         1694.000000   \n",
              "mean              0.299538                  0.278432            0.044470   \n",
              "std               0.112992                  0.136095            0.065908   \n",
              "min               0.036418                  0.036418            0.000096   \n",
              "25%               0.208278                  0.120914            0.003537   \n",
              "50%               0.273370                  0.273370            0.013764   \n",
              "75%               0.415313                  0.415313            0.059358   \n",
              "max               0.415313                  0.415313            0.227108   \n",
              "\n",
              "       Mean_encoded_Airline  \n",
              "count          1.694000e+03  \n",
              "mean           9.556608e+03  \n",
              "std            1.673964e-10  \n",
              "min            9.556608e+03  \n",
              "25%            9.556608e+03  \n",
              "50%            9.556608e+03  \n",
              "75%            9.556608e+03  \n",
              "max            9.556608e+03  "
            ],
            "text/html": [
              "\n",
              "  <div id=\"df-48b0c6f6-5f3e-4e72-84c7-67264a7f330e\">\n",
              "    <div class=\"colab-df-container\">\n",
              "      <div>\n",
              "<style scoped>\n",
              "    .dataframe tbody tr th:only-of-type {\n",
              "        vertical-align: middle;\n",
              "    }\n",
              "\n",
              "    .dataframe tbody tr th {\n",
              "        vertical-align: top;\n",
              "    }\n",
              "\n",
              "    .dataframe thead th {\n",
              "        text-align: right;\n",
              "    }\n",
              "</style>\n",
              "<table border=\"1\" class=\"dataframe\">\n",
              "  <thead>\n",
              "    <tr style=\"text-align: right;\">\n",
              "      <th></th>\n",
              "      <th>Duration</th>\n",
              "      <th>Total_Stops</th>\n",
              "      <th>Price</th>\n",
              "      <th>Freq_encoded_Airline</th>\n",
              "      <th>Freq_encoded_Source</th>\n",
              "      <th>Freq_encoded_Destination</th>\n",
              "      <th>Freq_encoded_Route</th>\n",
              "      <th>Mean_encoded_Airline</th>\n",
              "    </tr>\n",
              "  </thead>\n",
              "  <tbody>\n",
              "    <tr>\n",
              "      <th>count</th>\n",
              "      <td>1694.000000</td>\n",
              "      <td>1694.000000</td>\n",
              "      <td>1694.000000</td>\n",
              "      <td>1.694000e+03</td>\n",
              "      <td>1694.000000</td>\n",
              "      <td>1694.000000</td>\n",
              "      <td>1694.000000</td>\n",
              "      <td>1.694000e+03</td>\n",
              "    </tr>\n",
              "    <tr>\n",
              "      <th>mean</th>\n",
              "      <td>926.912633</td>\n",
              "      <td>1.211924</td>\n",
              "      <td>9556.608028</td>\n",
              "      <td>1.619193e-01</td>\n",
              "      <td>0.299538</td>\n",
              "      <td>0.278432</td>\n",
              "      <td>0.044470</td>\n",
              "      <td>9.556608e+03</td>\n",
              "    </tr>\n",
              "    <tr>\n",
              "      <th>std</th>\n",
              "      <td>604.288329</td>\n",
              "      <td>0.838712</td>\n",
              "      <td>3937.875634</td>\n",
              "      <td>4.636550e-15</td>\n",
              "      <td>0.112992</td>\n",
              "      <td>0.136095</td>\n",
              "      <td>0.065908</td>\n",
              "      <td>1.673964e-10</td>\n",
              "    </tr>\n",
              "    <tr>\n",
              "      <th>min</th>\n",
              "      <td>5.000000</td>\n",
              "      <td>0.000000</td>\n",
              "      <td>2050.000000</td>\n",
              "      <td>1.619193e-01</td>\n",
              "      <td>0.036418</td>\n",
              "      <td>0.036418</td>\n",
              "      <td>0.000096</td>\n",
              "      <td>9.556608e+03</td>\n",
              "    </tr>\n",
              "    <tr>\n",
              "      <th>25%</th>\n",
              "      <td>245.000000</td>\n",
              "      <td>1.000000</td>\n",
              "      <td>6597.750000</td>\n",
              "      <td>1.619193e-01</td>\n",
              "      <td>0.208278</td>\n",
              "      <td>0.120914</td>\n",
              "      <td>0.003537</td>\n",
              "      <td>9.556608e+03</td>\n",
              "    </tr>\n",
              "    <tr>\n",
              "      <th>50%</th>\n",
              "      <td>920.000000</td>\n",
              "      <td>1.000000</td>\n",
              "      <td>9316.000000</td>\n",
              "      <td>1.619193e-01</td>\n",
              "      <td>0.273370</td>\n",
              "      <td>0.273370</td>\n",
              "      <td>0.013764</td>\n",
              "      <td>9.556608e+03</td>\n",
              "    </tr>\n",
              "    <tr>\n",
              "      <th>75%</th>\n",
              "      <td>1440.000000</td>\n",
              "      <td>2.000000</td>\n",
              "      <td>12199.000000</td>\n",
              "      <td>1.619193e-01</td>\n",
              "      <td>0.415313</td>\n",
              "      <td>0.415313</td>\n",
              "      <td>0.059358</td>\n",
              "      <td>9.556608e+03</td>\n",
              "    </tr>\n",
              "    <tr>\n",
              "      <th>max</th>\n",
              "      <td>2480.000000</td>\n",
              "      <td>4.000000</td>\n",
              "      <td>31945.000000</td>\n",
              "      <td>1.619193e-01</td>\n",
              "      <td>0.415313</td>\n",
              "      <td>0.415313</td>\n",
              "      <td>0.227108</td>\n",
              "      <td>9.556608e+03</td>\n",
              "    </tr>\n",
              "  </tbody>\n",
              "</table>\n",
              "</div>\n",
              "      <button class=\"colab-df-convert\" onclick=\"convertToInteractive('df-48b0c6f6-5f3e-4e72-84c7-67264a7f330e')\"\n",
              "              title=\"Convert this dataframe to an interactive table.\"\n",
              "              style=\"display:none;\">\n",
              "        \n",
              "  <svg xmlns=\"http://www.w3.org/2000/svg\" height=\"24px\"viewBox=\"0 0 24 24\"\n",
              "       width=\"24px\">\n",
              "    <path d=\"M0 0h24v24H0V0z\" fill=\"none\"/>\n",
              "    <path d=\"M18.56 5.44l.94 2.06.94-2.06 2.06-.94-2.06-.94-.94-2.06-.94 2.06-2.06.94zm-11 1L8.5 8.5l.94-2.06 2.06-.94-2.06-.94L8.5 2.5l-.94 2.06-2.06.94zm10 10l.94 2.06.94-2.06 2.06-.94-2.06-.94-.94-2.06-.94 2.06-2.06.94z\"/><path d=\"M17.41 7.96l-1.37-1.37c-.4-.4-.92-.59-1.43-.59-.52 0-1.04.2-1.43.59L10.3 9.45l-7.72 7.72c-.78.78-.78 2.05 0 2.83L4 21.41c.39.39.9.59 1.41.59.51 0 1.02-.2 1.41-.59l7.78-7.78 2.81-2.81c.8-.78.8-2.07 0-2.86zM5.41 20L4 18.59l7.72-7.72 1.47 1.35L5.41 20z\"/>\n",
              "  </svg>\n",
              "      </button>\n",
              "      \n",
              "  <style>\n",
              "    .colab-df-container {\n",
              "      display:flex;\n",
              "      flex-wrap:wrap;\n",
              "      gap: 12px;\n",
              "    }\n",
              "\n",
              "    .colab-df-convert {\n",
              "      background-color: #E8F0FE;\n",
              "      border: none;\n",
              "      border-radius: 50%;\n",
              "      cursor: pointer;\n",
              "      display: none;\n",
              "      fill: #1967D2;\n",
              "      height: 32px;\n",
              "      padding: 0 0 0 0;\n",
              "      width: 32px;\n",
              "    }\n",
              "\n",
              "    .colab-df-convert:hover {\n",
              "      background-color: #E2EBFA;\n",
              "      box-shadow: 0px 1px 2px rgba(60, 64, 67, 0.3), 0px 1px 3px 1px rgba(60, 64, 67, 0.15);\n",
              "      fill: #174EA6;\n",
              "    }\n",
              "\n",
              "    [theme=dark] .colab-df-convert {\n",
              "      background-color: #3B4455;\n",
              "      fill: #D2E3FC;\n",
              "    }\n",
              "\n",
              "    [theme=dark] .colab-df-convert:hover {\n",
              "      background-color: #434B5C;\n",
              "      box-shadow: 0px 1px 3px 1px rgba(0, 0, 0, 0.15);\n",
              "      filter: drop-shadow(0px 1px 2px rgba(0, 0, 0, 0.3));\n",
              "      fill: #FFFFFF;\n",
              "    }\n",
              "  </style>\n",
              "\n",
              "      <script>\n",
              "        const buttonEl =\n",
              "          document.querySelector('#df-48b0c6f6-5f3e-4e72-84c7-67264a7f330e button.colab-df-convert');\n",
              "        buttonEl.style.display =\n",
              "          google.colab.kernel.accessAllowed ? 'block' : 'none';\n",
              "\n",
              "        async function convertToInteractive(key) {\n",
              "          const element = document.querySelector('#df-48b0c6f6-5f3e-4e72-84c7-67264a7f330e');\n",
              "          const dataTable =\n",
              "            await google.colab.kernel.invokeFunction('convertToInteractive',\n",
              "                                                     [key], {});\n",
              "          if (!dataTable) return;\n",
              "\n",
              "          const docLinkHtml = 'Like what you see? Visit the ' +\n",
              "            '<a target=\"_blank\" href=https://colab.research.google.com/notebooks/data_table.ipynb>data table notebook</a>'\n",
              "            + ' to learn more about interactive tables.';\n",
              "          element.innerHTML = '';\n",
              "          dataTable['output_type'] = 'display_data';\n",
              "          await google.colab.output.renderOutput(dataTable, element);\n",
              "          const docLink = document.createElement('div');\n",
              "          docLink.innerHTML = docLinkHtml;\n",
              "          element.appendChild(docLink);\n",
              "        }\n",
              "      </script>\n",
              "    </div>\n",
              "  </div>\n",
              "  "
            ]
          },
          "metadata": {},
          "execution_count": 494
        }
      ],
      "source": [
        "df[df['Airline'] == \"Air India\"].describe()"
      ]
    },
    {
      "cell_type": "code",
      "execution_count": null,
      "metadata": {
        "colab": {
          "base_uri": "https://localhost:8080/",
          "height": 423
        },
        "id": "HWZkUIAygl7K",
        "outputId": "04b4be12-e11a-4b81-f698-f0a7cfab72f6"
      },
      "outputs": [
        {
          "output_type": "execute_result",
          "data": {
            "text/plain": [
              "           Airline  Mean_encoded_Airline\n",
              "0           IndiGo           5668.469897\n",
              "1        Air India           9556.608028\n",
              "2      Jet Airways          11599.021081\n",
              "3           IndiGo           5668.469897\n",
              "4           IndiGo           5668.469897\n",
              "...            ...                   ...\n",
              "10678     Air Asia           5590.260188\n",
              "10679    Air India           9556.608028\n",
              "10680  Jet Airways          11599.021081\n",
              "10681      Vistara           7801.355649\n",
              "10682    Air India           9556.608028\n",
              "\n",
              "[10462 rows x 2 columns]"
            ],
            "text/html": [
              "\n",
              "  <div id=\"df-90d0df30-dce2-43cd-b438-0f7e309c2c18\">\n",
              "    <div class=\"colab-df-container\">\n",
              "      <div>\n",
              "<style scoped>\n",
              "    .dataframe tbody tr th:only-of-type {\n",
              "        vertical-align: middle;\n",
              "    }\n",
              "\n",
              "    .dataframe tbody tr th {\n",
              "        vertical-align: top;\n",
              "    }\n",
              "\n",
              "    .dataframe thead th {\n",
              "        text-align: right;\n",
              "    }\n",
              "</style>\n",
              "<table border=\"1\" class=\"dataframe\">\n",
              "  <thead>\n",
              "    <tr style=\"text-align: right;\">\n",
              "      <th></th>\n",
              "      <th>Airline</th>\n",
              "      <th>Mean_encoded_Airline</th>\n",
              "    </tr>\n",
              "  </thead>\n",
              "  <tbody>\n",
              "    <tr>\n",
              "      <th>0</th>\n",
              "      <td>IndiGo</td>\n",
              "      <td>5668.469897</td>\n",
              "    </tr>\n",
              "    <tr>\n",
              "      <th>1</th>\n",
              "      <td>Air India</td>\n",
              "      <td>9556.608028</td>\n",
              "    </tr>\n",
              "    <tr>\n",
              "      <th>2</th>\n",
              "      <td>Jet Airways</td>\n",
              "      <td>11599.021081</td>\n",
              "    </tr>\n",
              "    <tr>\n",
              "      <th>3</th>\n",
              "      <td>IndiGo</td>\n",
              "      <td>5668.469897</td>\n",
              "    </tr>\n",
              "    <tr>\n",
              "      <th>4</th>\n",
              "      <td>IndiGo</td>\n",
              "      <td>5668.469897</td>\n",
              "    </tr>\n",
              "    <tr>\n",
              "      <th>...</th>\n",
              "      <td>...</td>\n",
              "      <td>...</td>\n",
              "    </tr>\n",
              "    <tr>\n",
              "      <th>10678</th>\n",
              "      <td>Air Asia</td>\n",
              "      <td>5590.260188</td>\n",
              "    </tr>\n",
              "    <tr>\n",
              "      <th>10679</th>\n",
              "      <td>Air India</td>\n",
              "      <td>9556.608028</td>\n",
              "    </tr>\n",
              "    <tr>\n",
              "      <th>10680</th>\n",
              "      <td>Jet Airways</td>\n",
              "      <td>11599.021081</td>\n",
              "    </tr>\n",
              "    <tr>\n",
              "      <th>10681</th>\n",
              "      <td>Vistara</td>\n",
              "      <td>7801.355649</td>\n",
              "    </tr>\n",
              "    <tr>\n",
              "      <th>10682</th>\n",
              "      <td>Air India</td>\n",
              "      <td>9556.608028</td>\n",
              "    </tr>\n",
              "  </tbody>\n",
              "</table>\n",
              "<p>10462 rows × 2 columns</p>\n",
              "</div>\n",
              "      <button class=\"colab-df-convert\" onclick=\"convertToInteractive('df-90d0df30-dce2-43cd-b438-0f7e309c2c18')\"\n",
              "              title=\"Convert this dataframe to an interactive table.\"\n",
              "              style=\"display:none;\">\n",
              "        \n",
              "  <svg xmlns=\"http://www.w3.org/2000/svg\" height=\"24px\"viewBox=\"0 0 24 24\"\n",
              "       width=\"24px\">\n",
              "    <path d=\"M0 0h24v24H0V0z\" fill=\"none\"/>\n",
              "    <path d=\"M18.56 5.44l.94 2.06.94-2.06 2.06-.94-2.06-.94-.94-2.06-.94 2.06-2.06.94zm-11 1L8.5 8.5l.94-2.06 2.06-.94-2.06-.94L8.5 2.5l-.94 2.06-2.06.94zm10 10l.94 2.06.94-2.06 2.06-.94-2.06-.94-.94-2.06-.94 2.06-2.06.94z\"/><path d=\"M17.41 7.96l-1.37-1.37c-.4-.4-.92-.59-1.43-.59-.52 0-1.04.2-1.43.59L10.3 9.45l-7.72 7.72c-.78.78-.78 2.05 0 2.83L4 21.41c.39.39.9.59 1.41.59.51 0 1.02-.2 1.41-.59l7.78-7.78 2.81-2.81c.8-.78.8-2.07 0-2.86zM5.41 20L4 18.59l7.72-7.72 1.47 1.35L5.41 20z\"/>\n",
              "  </svg>\n",
              "      </button>\n",
              "      \n",
              "  <style>\n",
              "    .colab-df-container {\n",
              "      display:flex;\n",
              "      flex-wrap:wrap;\n",
              "      gap: 12px;\n",
              "    }\n",
              "\n",
              "    .colab-df-convert {\n",
              "      background-color: #E8F0FE;\n",
              "      border: none;\n",
              "      border-radius: 50%;\n",
              "      cursor: pointer;\n",
              "      display: none;\n",
              "      fill: #1967D2;\n",
              "      height: 32px;\n",
              "      padding: 0 0 0 0;\n",
              "      width: 32px;\n",
              "    }\n",
              "\n",
              "    .colab-df-convert:hover {\n",
              "      background-color: #E2EBFA;\n",
              "      box-shadow: 0px 1px 2px rgba(60, 64, 67, 0.3), 0px 1px 3px 1px rgba(60, 64, 67, 0.15);\n",
              "      fill: #174EA6;\n",
              "    }\n",
              "\n",
              "    [theme=dark] .colab-df-convert {\n",
              "      background-color: #3B4455;\n",
              "      fill: #D2E3FC;\n",
              "    }\n",
              "\n",
              "    [theme=dark] .colab-df-convert:hover {\n",
              "      background-color: #434B5C;\n",
              "      box-shadow: 0px 1px 3px 1px rgba(0, 0, 0, 0.15);\n",
              "      filter: drop-shadow(0px 1px 2px rgba(0, 0, 0, 0.3));\n",
              "      fill: #FFFFFF;\n",
              "    }\n",
              "  </style>\n",
              "\n",
              "      <script>\n",
              "        const buttonEl =\n",
              "          document.querySelector('#df-90d0df30-dce2-43cd-b438-0f7e309c2c18 button.colab-df-convert');\n",
              "        buttonEl.style.display =\n",
              "          google.colab.kernel.accessAllowed ? 'block' : 'none';\n",
              "\n",
              "        async function convertToInteractive(key) {\n",
              "          const element = document.querySelector('#df-90d0df30-dce2-43cd-b438-0f7e309c2c18');\n",
              "          const dataTable =\n",
              "            await google.colab.kernel.invokeFunction('convertToInteractive',\n",
              "                                                     [key], {});\n",
              "          if (!dataTable) return;\n",
              "\n",
              "          const docLinkHtml = 'Like what you see? Visit the ' +\n",
              "            '<a target=\"_blank\" href=https://colab.research.google.com/notebooks/data_table.ipynb>data table notebook</a>'\n",
              "            + ' to learn more about interactive tables.';\n",
              "          element.innerHTML = '';\n",
              "          dataTable['output_type'] = 'display_data';\n",
              "          await google.colab.output.renderOutput(dataTable, element);\n",
              "          const docLink = document.createElement('div');\n",
              "          docLink.innerHTML = docLinkHtml;\n",
              "          element.appendChild(docLink);\n",
              "        }\n",
              "      </script>\n",
              "    </div>\n",
              "  </div>\n",
              "  "
            ]
          },
          "metadata": {},
          "execution_count": 495
        }
      ],
      "source": [
        "df[['Airline','Mean_encoded_Airline']]"
      ]
    },
    {
      "cell_type": "code",
      "execution_count": null,
      "metadata": {
        "id": "OKJtiD1Lgl-e"
      },
      "outputs": [],
      "source": [
        "# creating a function which encodes all categorical column based on the 'mean encoding'\n",
        " \n",
        "def mean_encoder(df,col,target_col):\n",
        "    \"\"\"\n",
        "    This function encodes a categorical column based on mean-encoding.\n",
        "    Input:\n",
        "        df: Input DataFrame in which encoding has to be created.\n",
        "        col: Column name which has to be encoded.\n",
        "        target_col: Dependent column to be predicted.\n",
        "    return:\n",
        "        Mean encoded dict for categorical columns.\n",
        "    \"\"\"\n",
        "    mean_value = df.groupby(col)[target_col].mean()\n",
        "    mean_dict = mean_value.to_dict()\n",
        "    df[\"Mean_encoded_\" + col] = df[col].replace(mean_dict)\n",
        "    return mean_dict"
      ]
    },
    {
      "cell_type": "code",
      "execution_count": null,
      "metadata": {
        "colab": {
          "base_uri": "https://localhost:8080/"
        },
        "id": "7b1MOb3ggmB5",
        "outputId": "a44df7a7-2678-4435-8fb9-688871740167"
      },
      "outputs": [
        {
          "output_type": "execute_result",
          "data": {
            "text/plain": [
              "{'BLR → AMD → DEL': 11134.166666666666,\n",
              " 'BLR → BBI → DEL': 11486.0,\n",
              " 'BLR → BDQ → DEL': 11550.5,\n",
              " 'BLR → BOM → AMD → DEL': 14155.75,\n",
              " 'BLR → BOM → BHO → DEL': 17211.545454545456,\n",
              " 'BLR → BOM → DEL': 15723.174129353234,\n",
              " 'BLR → BOM → IDR → DEL': 15360.6,\n",
              " 'BLR → BOM → IDR → GWL → DEL': 13387.0,\n",
              " 'BLR → BOM → IXC → DEL': 13303.0,\n",
              " 'BLR → BOM → JDH → DEL': 14845.833333333334,\n",
              " 'BLR → BOM → NAG → DEL': 14685.333333333334,\n",
              " 'BLR → BOM → UDR → DEL': 11937.666666666666,\n",
              " 'BLR → CCU → BBI → DEL': 9155.0,\n",
              " 'BLR → CCU → BBI → HYD → DEL': 12713.5,\n",
              " 'BLR → CCU → BBI → HYD → VGA → DEL': 17686.0,\n",
              " 'BLR → CCU → DEL': 12260.272727272728,\n",
              " 'BLR → CCU → GAU → DEL': 11810.0,\n",
              " 'BLR → COK → DEL': 9139.133333333333,\n",
              " 'BLR → DEL': 5552.235677083333,\n",
              " 'BLR → GAU → DEL': 12508.333333333334,\n",
              " 'BLR → GOI → DEL': 8759.857142857143,\n",
              " 'BLR → HBX → BOM → AMD → DEL': 10573.0,\n",
              " 'BLR → HBX → BOM → BHO → DEL': 14195.0,\n",
              " 'BLR → HBX → BOM → NAG → DEL': 12358.0,\n",
              " 'BLR → HYD → DEL': 6473.027027027027,\n",
              " 'BLR → HYD → VGA → DEL': 10770.7,\n",
              " 'BLR → IDR → DEL': 7610.4,\n",
              " 'BLR → LKO → DEL': 7334.333333333333,\n",
              " 'BLR → MAA → DEL': 12071.965517241379,\n",
              " 'BLR → NAG → DEL': 11313.0,\n",
              " 'BLR → PNQ → DEL': 11888.4,\n",
              " 'BLR → STV → DEL': 5746.0,\n",
              " 'BLR → TRV → COK → DEL': 11838.0,\n",
              " 'BLR → VGA → DEL': 9002.222222222223,\n",
              " 'BLR → VGA → HYD → DEL': 9598.75,\n",
              " 'BLR → VGA → VTZ → DEL': 15361.0,\n",
              " 'BOM → AMD → ISK → HYD': 11762.0,\n",
              " 'BOM → BBI → HYD': 14408.0,\n",
              " 'BOM → BDQ → DEL → HYD': 22792.5,\n",
              " 'BOM → BHO → DEL → HYD': 13161.57142857143,\n",
              " 'BOM → BLR → CCU → BBI → HYD': 14260.0,\n",
              " 'BOM → BLR → HYD': 9045.0,\n",
              " 'BOM → CCU → HYD': 16666.0,\n",
              " 'BOM → COK → MAA → HYD': 9678.0,\n",
              " 'BOM → DED → DEL → HYD': 24115.0,\n",
              " 'BOM → DEL → HYD': 13379.515151515152,\n",
              " 'BOM → GOI → HYD': 7681.0,\n",
              " 'BOM → GOI → PNQ → HYD': 17082.0,\n",
              " 'BOM → HYD': 3932.8099838969406,\n",
              " 'BOM → IDR → DEL → HYD': 17049.0,\n",
              " 'BOM → JAI → DEL → HYD': 17926.0,\n",
              " 'BOM → JDH → DEL → HYD': 23867.0,\n",
              " 'BOM → JDH → JAI → DEL → HYD': 18293.0,\n",
              " 'BOM → JLR → HYD': 13552.0,\n",
              " 'BOM → MAA → HYD': 8598.333333333334,\n",
              " 'BOM → NDC → HYD': 4140.0,\n",
              " 'BOM → RPR → VTZ → HYD': 9736.0,\n",
              " 'BOM → UDR → DEL → HYD': 22950.0,\n",
              " 'BOM → VNS → DEL → HYD': 23528.0,\n",
              " 'CCU → AMD → BLR': 8382.636363636364,\n",
              " 'CCU → BBI → BLR': 6060.6,\n",
              " 'CCU → BBI → BOM → BLR': 10457.404761904761,\n",
              " 'CCU → BBI → HYD → BLR': 5790.333333333333,\n",
              " 'CCU → BBI → IXR → DEL → BLR': 12606.0,\n",
              " 'CCU → BLR': 4556.055248618784,\n",
              " 'CCU → BOM → AMD → BLR': 14424.444444444445,\n",
              " 'CCU → BOM → BLR': 11487.788559754852,\n",
              " 'CCU → BOM → COK → BLR': 12864.833333333334,\n",
              " 'CCU → BOM → GOI → BLR': 11809.76923076923,\n",
              " 'CCU → BOM → HBX → BLR': 10037.166666666666,\n",
              " 'CCU → BOM → PNQ → BLR': 10118.0,\n",
              " 'CCU → BOM → TRV → BLR': 12403.0,\n",
              " 'CCU → DEL → AMD → BLR': 13719.095238095239,\n",
              " 'CCU → DEL → BLR': 10763.258407079646,\n",
              " 'CCU → DEL → COK → BLR': 13486.241379310344,\n",
              " 'CCU → DEL → COK → TRV → BLR': 12941.25,\n",
              " 'CCU → DEL → VGA → BLR': 12533.25,\n",
              " 'CCU → GAU → BLR': 7612.682926829269,\n",
              " 'CCU → GAU → DEL → BLR': 13892.052631578947,\n",
              " 'CCU → GAU → IMF → DEL → BLR': 13537.4,\n",
              " 'CCU → HYD → BLR': 4910.018867924528,\n",
              " 'CCU → IXA → BLR': 9413.0,\n",
              " 'CCU → IXB → BLR': 9275.25,\n",
              " 'CCU → IXB → DEL → BLR': 15292.0,\n",
              " 'CCU → IXR → BBI → BLR': 7369.166666666667,\n",
              " 'CCU → IXR → DEL → BLR': 10969.065217391304,\n",
              " 'CCU → IXZ → MAA → BLR': 11522.0,\n",
              " 'CCU → JAI → BOM → BLR': 10874.692307692309,\n",
              " 'CCU → JAI → DEL → BLR': 12053.0,\n",
              " 'CCU → KNU → BLR': 8623.4,\n",
              " 'CCU → MAA → BLR': 5240.876923076923,\n",
              " 'CCU → NAG → BLR': 6279.333333333333,\n",
              " 'CCU → PAT → BLR': 10821.3,\n",
              " 'CCU → PNQ → BLR': 6703.421052631579,\n",
              " 'CCU → RPR → HYD → BLR': 6103.0,\n",
              " 'CCU → VNS → DEL → BLR': 15164.5,\n",
              " 'CCU → VTZ → BLR': 6301.0,\n",
              " 'DEL → AMD → BOM → COK': 12630.173611111111,\n",
              " 'DEL → AMD → COK': 5606.2,\n",
              " 'DEL → ATQ → BOM → COK': 16699.675,\n",
              " 'DEL → BBI → COK': 11062.6,\n",
              " 'DEL → BDQ → BOM → COK': 12339.444444444445,\n",
              " 'DEL → BHO → BOM → COK': 14120.645833333334,\n",
              " 'DEL → BLR → COK': 7559.612068965517,\n",
              " 'DEL → BOM → COK': 10954.205808080807,\n",
              " 'DEL → CCU → BOM → COK': 13962.431818181818,\n",
              " 'DEL → COK': 6315.816901408451,\n",
              " 'DEL → DED → BOM → COK': 19539.5,\n",
              " 'DEL → GOI → BOM → COK': 11941.818181818182,\n",
              " 'DEL → GWL → IDR → BOM → COK': 17292.75,\n",
              " 'DEL → HYD → BOM → COK': 11724.577777777778,\n",
              " 'DEL → HYD → COK': 7299.331288343558,\n",
              " 'DEL → HYD → MAA → COK': 9133.469879518072,\n",
              " 'DEL → IDR → BOM → COK': 14038.122222222222,\n",
              " 'DEL → IXC → BOM → COK': 12514.545454545454,\n",
              " 'DEL → IXU → BOM → COK': 19381.333333333332,\n",
              " 'DEL → JAI → BOM → COK': 12210.196721311475,\n",
              " 'DEL → JDH → BOM → COK': 16163.135135135135,\n",
              " 'DEL → LKO → BOM → COK': 13277.19512195122,\n",
              " 'DEL → LKO → COK': 7166.176470588235,\n",
              " 'DEL → MAA → BOM → COK': 9161.636363636364,\n",
              " 'DEL → MAA → COK': 7312.431506849315,\n",
              " 'DEL → NAG → BOM → COK': 12171.227272727272,\n",
              " 'DEL → PNQ → COK': 6602.071428571428,\n",
              " 'DEL → RPR → NAG → BOM → COK': 11021.533333333333,\n",
              " 'DEL → TRV → COK': 7835.625,\n",
              " 'DEL → UDR → BOM → COK': 13859.277777777777,\n",
              " 'MAA → CCU': 4789.892388451443}"
            ]
          },
          "metadata": {},
          "execution_count": 497
        }
      ],
      "source": [
        "mean_encoder(df, 'Source','Price')\n",
        "mean_encoder(df, 'Destination', 'Price')\n",
        "mean_encoder(df, 'Route', 'Price')"
      ]
    },
    {
      "cell_type": "code",
      "execution_count": null,
      "metadata": {
        "colab": {
          "base_uri": "https://localhost:8080/"
        },
        "id": "1Drk0C0HgmHu",
        "outputId": "8ace5bda-1371-42be-881a-011ef15fbc34"
      },
      "outputs": [
        {
          "output_type": "stream",
          "name": "stdout",
          "text": [
            "<class 'pandas.core.frame.DataFrame'>\n",
            "Int64Index: 10462 entries, 0 to 10682\n",
            "Data columns (total 18 columns):\n",
            " #   Column                    Non-Null Count  Dtype         \n",
            "---  ------                    --------------  -----         \n",
            " 0   Airline                   10462 non-null  object        \n",
            " 1   Date_of_Journey           10462 non-null  datetime64[ns]\n",
            " 2   Source                    10462 non-null  object        \n",
            " 3   Destination               10462 non-null  object        \n",
            " 4   Route                     10462 non-null  object        \n",
            " 5   Dep_Time                  10462 non-null  datetime64[ns]\n",
            " 6   Arrival_Time              10462 non-null  datetime64[ns]\n",
            " 7   Duration                  10462 non-null  int64         \n",
            " 8   Total_Stops               10462 non-null  float64       \n",
            " 9   Price                     10462 non-null  int64         \n",
            " 10  Freq_encoded_Airline      10462 non-null  float64       \n",
            " 11  Freq_encoded_Source       10462 non-null  float64       \n",
            " 12  Freq_encoded_Destination  10462 non-null  float64       \n",
            " 13  Freq_encoded_Route        10462 non-null  float64       \n",
            " 14  Mean_encoded_Airline      10462 non-null  float64       \n",
            " 15  Mean_encoded_Source       10462 non-null  float64       \n",
            " 16  Mean_encoded_Destination  10462 non-null  float64       \n",
            " 17  Mean_encoded_Route        10462 non-null  float64       \n",
            "dtypes: datetime64[ns](3), float64(9), int64(2), object(4)\n",
            "memory usage: 1.8+ MB\n"
          ]
        }
      ],
      "source": [
        "df.info()"
      ]
    },
    {
      "cell_type": "markdown",
      "metadata": {
        "id": "dgx-xIYVw5Uj"
      },
      "source": [
        "Hash Encoding:"
      ]
    },
    {
      "cell_type": "markdown",
      "metadata": {
        "id": "cEGxnv-AxAPh"
      },
      "source": [
        "tried Frequency encoding and mean-encoding for categorical(or object value) we can also try \"Hash_Encoding\" for categorical columns.\n",
        "- Suitable when number of uniques are high and data is not ordinal.\n",
        "- install in your packages library category_encoder to use it.\n",
        "- ! pip install category_encoders.\n",
        "- from category_encoder.hashing import HashingEncoder\n",
        "- to be added as a pipeline."
      ]
    },
    {
      "cell_type": "markdown",
      "metadata": {
        "id": "p35AkOBXzb4E"
      },
      "source": [
        "Label Encoding."
      ]
    },
    {
      "cell_type": "code",
      "execution_count": null,
      "metadata": {
        "id": "uL9UWevcgmLP"
      },
      "outputs": [],
      "source": [
        "# Applying \"Label Encoding\" to categorical columns [as Hit and Trail]\n",
        "\n",
        "from sklearn.preprocessing import LabelEncoder\n"
      ]
    },
    {
      "cell_type": "code",
      "execution_count": null,
      "metadata": {
        "id": "3QVPhzeDgmRY"
      },
      "outputs": [],
      "source": [
        "# Creating a function for Label encoder to categorical columns:\n",
        "\n",
        "def label_encoder(df, col):\n",
        "  \"\"\"\n",
        "  This function encodes a categorical column based on the basis of their order label.\n",
        "  Input:\n",
        "      df: Input DataFrame in which encoding ha sto be created.\n",
        "      col: Column name which has to be encoded.\n",
        "  Return:\n",
        "      Label encoded dict for columns.\n",
        "  \"\"\"\n",
        "  le = LabelEncoder()\n",
        "  le.fit(df[col])\n",
        "  label_dict = dict(zip((le.classes_),le.transform(le.classes_)))\n",
        "  df[\"Label_encoded_\" + col] = df[col].replace(label_dict)\n",
        "  return label_dict"
      ]
    },
    {
      "cell_type": "code",
      "execution_count": null,
      "metadata": {
        "colab": {
          "base_uri": "https://localhost:8080/"
        },
        "id": "Hd9pPEPagmUY",
        "outputId": "cf577b44-7621-4593-8c7a-14e6b6bffaf0"
      },
      "outputs": [
        {
          "output_type": "stream",
          "name": "stdout",
          "text": [
            "{'Air Asia': 0, 'Air India': 1, 'GoAir': 2, 'IndiGo': 3, 'Jet Airways': 4, 'Jet Airways Business': 5, 'Multiple carriers': 6, 'Multiple carriers Premium economy': 7, 'SpiceJet': 8, 'Trujet': 9, 'Vistara': 10, 'Vistara Premium economy': 11}\n"
          ]
        }
      ],
      "source": [
        "print(label_encoder(df,'Airline'))"
      ]
    },
    {
      "cell_type": "code",
      "execution_count": null,
      "metadata": {
        "colab": {
          "base_uri": "https://localhost:8080/"
        },
        "id": "mT15I_c7gmaP",
        "outputId": "a0bd3e17-86ce-42cf-d8e8-1986754adac1"
      },
      "outputs": [
        {
          "output_type": "execute_result",
          "data": {
            "text/plain": [
              "{'BLR → AMD → DEL': 0,\n",
              " 'BLR → BBI → DEL': 1,\n",
              " 'BLR → BDQ → DEL': 2,\n",
              " 'BLR → BOM → AMD → DEL': 3,\n",
              " 'BLR → BOM → BHO → DEL': 4,\n",
              " 'BLR → BOM → DEL': 5,\n",
              " 'BLR → BOM → IDR → DEL': 6,\n",
              " 'BLR → BOM → IDR → GWL → DEL': 7,\n",
              " 'BLR → BOM → IXC → DEL': 8,\n",
              " 'BLR → BOM → JDH → DEL': 9,\n",
              " 'BLR → BOM → NAG → DEL': 10,\n",
              " 'BLR → BOM → UDR → DEL': 11,\n",
              " 'BLR → CCU → BBI → DEL': 12,\n",
              " 'BLR → CCU → BBI → HYD → DEL': 13,\n",
              " 'BLR → CCU → BBI → HYD → VGA → DEL': 14,\n",
              " 'BLR → CCU → DEL': 15,\n",
              " 'BLR → CCU → GAU → DEL': 16,\n",
              " 'BLR → COK → DEL': 17,\n",
              " 'BLR → DEL': 18,\n",
              " 'BLR → GAU → DEL': 19,\n",
              " 'BLR → GOI → DEL': 20,\n",
              " 'BLR → HBX → BOM → AMD → DEL': 21,\n",
              " 'BLR → HBX → BOM → BHO → DEL': 22,\n",
              " 'BLR → HBX → BOM → NAG → DEL': 23,\n",
              " 'BLR → HYD → DEL': 24,\n",
              " 'BLR → HYD → VGA → DEL': 25,\n",
              " 'BLR → IDR → DEL': 26,\n",
              " 'BLR → LKO → DEL': 27,\n",
              " 'BLR → MAA → DEL': 28,\n",
              " 'BLR → NAG → DEL': 29,\n",
              " 'BLR → PNQ → DEL': 30,\n",
              " 'BLR → STV → DEL': 31,\n",
              " 'BLR → TRV → COK → DEL': 32,\n",
              " 'BLR → VGA → DEL': 33,\n",
              " 'BLR → VGA → HYD → DEL': 34,\n",
              " 'BLR → VGA → VTZ → DEL': 35,\n",
              " 'BOM → AMD → ISK → HYD': 36,\n",
              " 'BOM → BBI → HYD': 37,\n",
              " 'BOM → BDQ → DEL → HYD': 38,\n",
              " 'BOM → BHO → DEL → HYD': 39,\n",
              " 'BOM → BLR → CCU → BBI → HYD': 40,\n",
              " 'BOM → BLR → HYD': 41,\n",
              " 'BOM → CCU → HYD': 42,\n",
              " 'BOM → COK → MAA → HYD': 43,\n",
              " 'BOM → DED → DEL → HYD': 44,\n",
              " 'BOM → DEL → HYD': 45,\n",
              " 'BOM → GOI → HYD': 46,\n",
              " 'BOM → GOI → PNQ → HYD': 47,\n",
              " 'BOM → HYD': 48,\n",
              " 'BOM → IDR → DEL → HYD': 49,\n",
              " 'BOM → JAI → DEL → HYD': 50,\n",
              " 'BOM → JDH → DEL → HYD': 51,\n",
              " 'BOM → JDH → JAI → DEL → HYD': 52,\n",
              " 'BOM → JLR → HYD': 53,\n",
              " 'BOM → MAA → HYD': 54,\n",
              " 'BOM → NDC → HYD': 55,\n",
              " 'BOM → RPR → VTZ → HYD': 56,\n",
              " 'BOM → UDR → DEL → HYD': 57,\n",
              " 'BOM → VNS → DEL → HYD': 58,\n",
              " 'CCU → AMD → BLR': 59,\n",
              " 'CCU → BBI → BLR': 60,\n",
              " 'CCU → BBI → BOM → BLR': 61,\n",
              " 'CCU → BBI → HYD → BLR': 62,\n",
              " 'CCU → BBI → IXR → DEL → BLR': 63,\n",
              " 'CCU → BLR': 64,\n",
              " 'CCU → BOM → AMD → BLR': 65,\n",
              " 'CCU → BOM → BLR': 66,\n",
              " 'CCU → BOM → COK → BLR': 67,\n",
              " 'CCU → BOM → GOI → BLR': 68,\n",
              " 'CCU → BOM → HBX → BLR': 69,\n",
              " 'CCU → BOM → PNQ → BLR': 70,\n",
              " 'CCU → BOM → TRV → BLR': 71,\n",
              " 'CCU → DEL → AMD → BLR': 72,\n",
              " 'CCU → DEL → BLR': 73,\n",
              " 'CCU → DEL → COK → BLR': 74,\n",
              " 'CCU → DEL → COK → TRV → BLR': 75,\n",
              " 'CCU → DEL → VGA → BLR': 76,\n",
              " 'CCU → GAU → BLR': 77,\n",
              " 'CCU → GAU → DEL → BLR': 78,\n",
              " 'CCU → GAU → IMF → DEL → BLR': 79,\n",
              " 'CCU → HYD → BLR': 80,\n",
              " 'CCU → IXA → BLR': 81,\n",
              " 'CCU → IXB → BLR': 82,\n",
              " 'CCU → IXB → DEL → BLR': 83,\n",
              " 'CCU → IXR → BBI → BLR': 84,\n",
              " 'CCU → IXR → DEL → BLR': 85,\n",
              " 'CCU → IXZ → MAA → BLR': 86,\n",
              " 'CCU → JAI → BOM → BLR': 87,\n",
              " 'CCU → JAI → DEL → BLR': 88,\n",
              " 'CCU → KNU → BLR': 89,\n",
              " 'CCU → MAA → BLR': 90,\n",
              " 'CCU → NAG → BLR': 91,\n",
              " 'CCU → PAT → BLR': 92,\n",
              " 'CCU → PNQ → BLR': 93,\n",
              " 'CCU → RPR → HYD → BLR': 94,\n",
              " 'CCU → VNS → DEL → BLR': 95,\n",
              " 'CCU → VTZ → BLR': 96,\n",
              " 'DEL → AMD → BOM → COK': 97,\n",
              " 'DEL → AMD → COK': 98,\n",
              " 'DEL → ATQ → BOM → COK': 99,\n",
              " 'DEL → BBI → COK': 100,\n",
              " 'DEL → BDQ → BOM → COK': 101,\n",
              " 'DEL → BHO → BOM → COK': 102,\n",
              " 'DEL → BLR → COK': 103,\n",
              " 'DEL → BOM → COK': 104,\n",
              " 'DEL → CCU → BOM → COK': 105,\n",
              " 'DEL → COK': 106,\n",
              " 'DEL → DED → BOM → COK': 107,\n",
              " 'DEL → GOI → BOM → COK': 108,\n",
              " 'DEL → GWL → IDR → BOM → COK': 109,\n",
              " 'DEL → HYD → BOM → COK': 110,\n",
              " 'DEL → HYD → COK': 111,\n",
              " 'DEL → HYD → MAA → COK': 112,\n",
              " 'DEL → IDR → BOM → COK': 113,\n",
              " 'DEL → IXC → BOM → COK': 114,\n",
              " 'DEL → IXU → BOM → COK': 115,\n",
              " 'DEL → JAI → BOM → COK': 116,\n",
              " 'DEL → JDH → BOM → COK': 117,\n",
              " 'DEL → LKO → BOM → COK': 118,\n",
              " 'DEL → LKO → COK': 119,\n",
              " 'DEL → MAA → BOM → COK': 120,\n",
              " 'DEL → MAA → COK': 121,\n",
              " 'DEL → NAG → BOM → COK': 122,\n",
              " 'DEL → PNQ → COK': 123,\n",
              " 'DEL → RPR → NAG → BOM → COK': 124,\n",
              " 'DEL → TRV → COK': 125,\n",
              " 'DEL → UDR → BOM → COK': 126,\n",
              " 'MAA → CCU': 127}"
            ]
          },
          "metadata": {},
          "execution_count": 502
        }
      ],
      "source": [
        "label_encoder(df, \"Source\")\n",
        "label_encoder(df, \"Destination\")\n",
        "label_encoder(df, \"Route\")"
      ]
    },
    {
      "cell_type": "code",
      "execution_count": null,
      "metadata": {
        "colab": {
          "base_uri": "https://localhost:8080/",
          "height": 423
        },
        "id": "KK8vzALtgmdH",
        "outputId": "11851e28-e83e-4bd8-c320-f59911f8a0a1"
      },
      "outputs": [
        {
          "output_type": "execute_result",
          "data": {
            "text/plain": [
              "           Airline  Label_encoded_Airline\n",
              "0           IndiGo                      3\n",
              "1        Air India                      1\n",
              "2      Jet Airways                      4\n",
              "3           IndiGo                      3\n",
              "4           IndiGo                      3\n",
              "...            ...                    ...\n",
              "10678     Air Asia                      0\n",
              "10679    Air India                      1\n",
              "10680  Jet Airways                      4\n",
              "10681      Vistara                     10\n",
              "10682    Air India                      1\n",
              "\n",
              "[10462 rows x 2 columns]"
            ],
            "text/html": [
              "\n",
              "  <div id=\"df-ffc37b9d-f131-4576-bc37-2c139cc4adfb\">\n",
              "    <div class=\"colab-df-container\">\n",
              "      <div>\n",
              "<style scoped>\n",
              "    .dataframe tbody tr th:only-of-type {\n",
              "        vertical-align: middle;\n",
              "    }\n",
              "\n",
              "    .dataframe tbody tr th {\n",
              "        vertical-align: top;\n",
              "    }\n",
              "\n",
              "    .dataframe thead th {\n",
              "        text-align: right;\n",
              "    }\n",
              "</style>\n",
              "<table border=\"1\" class=\"dataframe\">\n",
              "  <thead>\n",
              "    <tr style=\"text-align: right;\">\n",
              "      <th></th>\n",
              "      <th>Airline</th>\n",
              "      <th>Label_encoded_Airline</th>\n",
              "    </tr>\n",
              "  </thead>\n",
              "  <tbody>\n",
              "    <tr>\n",
              "      <th>0</th>\n",
              "      <td>IndiGo</td>\n",
              "      <td>3</td>\n",
              "    </tr>\n",
              "    <tr>\n",
              "      <th>1</th>\n",
              "      <td>Air India</td>\n",
              "      <td>1</td>\n",
              "    </tr>\n",
              "    <tr>\n",
              "      <th>2</th>\n",
              "      <td>Jet Airways</td>\n",
              "      <td>4</td>\n",
              "    </tr>\n",
              "    <tr>\n",
              "      <th>3</th>\n",
              "      <td>IndiGo</td>\n",
              "      <td>3</td>\n",
              "    </tr>\n",
              "    <tr>\n",
              "      <th>4</th>\n",
              "      <td>IndiGo</td>\n",
              "      <td>3</td>\n",
              "    </tr>\n",
              "    <tr>\n",
              "      <th>...</th>\n",
              "      <td>...</td>\n",
              "      <td>...</td>\n",
              "    </tr>\n",
              "    <tr>\n",
              "      <th>10678</th>\n",
              "      <td>Air Asia</td>\n",
              "      <td>0</td>\n",
              "    </tr>\n",
              "    <tr>\n",
              "      <th>10679</th>\n",
              "      <td>Air India</td>\n",
              "      <td>1</td>\n",
              "    </tr>\n",
              "    <tr>\n",
              "      <th>10680</th>\n",
              "      <td>Jet Airways</td>\n",
              "      <td>4</td>\n",
              "    </tr>\n",
              "    <tr>\n",
              "      <th>10681</th>\n",
              "      <td>Vistara</td>\n",
              "      <td>10</td>\n",
              "    </tr>\n",
              "    <tr>\n",
              "      <th>10682</th>\n",
              "      <td>Air India</td>\n",
              "      <td>1</td>\n",
              "    </tr>\n",
              "  </tbody>\n",
              "</table>\n",
              "<p>10462 rows × 2 columns</p>\n",
              "</div>\n",
              "      <button class=\"colab-df-convert\" onclick=\"convertToInteractive('df-ffc37b9d-f131-4576-bc37-2c139cc4adfb')\"\n",
              "              title=\"Convert this dataframe to an interactive table.\"\n",
              "              style=\"display:none;\">\n",
              "        \n",
              "  <svg xmlns=\"http://www.w3.org/2000/svg\" height=\"24px\"viewBox=\"0 0 24 24\"\n",
              "       width=\"24px\">\n",
              "    <path d=\"M0 0h24v24H0V0z\" fill=\"none\"/>\n",
              "    <path d=\"M18.56 5.44l.94 2.06.94-2.06 2.06-.94-2.06-.94-.94-2.06-.94 2.06-2.06.94zm-11 1L8.5 8.5l.94-2.06 2.06-.94-2.06-.94L8.5 2.5l-.94 2.06-2.06.94zm10 10l.94 2.06.94-2.06 2.06-.94-2.06-.94-.94-2.06-.94 2.06-2.06.94z\"/><path d=\"M17.41 7.96l-1.37-1.37c-.4-.4-.92-.59-1.43-.59-.52 0-1.04.2-1.43.59L10.3 9.45l-7.72 7.72c-.78.78-.78 2.05 0 2.83L4 21.41c.39.39.9.59 1.41.59.51 0 1.02-.2 1.41-.59l7.78-7.78 2.81-2.81c.8-.78.8-2.07 0-2.86zM5.41 20L4 18.59l7.72-7.72 1.47 1.35L5.41 20z\"/>\n",
              "  </svg>\n",
              "      </button>\n",
              "      \n",
              "  <style>\n",
              "    .colab-df-container {\n",
              "      display:flex;\n",
              "      flex-wrap:wrap;\n",
              "      gap: 12px;\n",
              "    }\n",
              "\n",
              "    .colab-df-convert {\n",
              "      background-color: #E8F0FE;\n",
              "      border: none;\n",
              "      border-radius: 50%;\n",
              "      cursor: pointer;\n",
              "      display: none;\n",
              "      fill: #1967D2;\n",
              "      height: 32px;\n",
              "      padding: 0 0 0 0;\n",
              "      width: 32px;\n",
              "    }\n",
              "\n",
              "    .colab-df-convert:hover {\n",
              "      background-color: #E2EBFA;\n",
              "      box-shadow: 0px 1px 2px rgba(60, 64, 67, 0.3), 0px 1px 3px 1px rgba(60, 64, 67, 0.15);\n",
              "      fill: #174EA6;\n",
              "    }\n",
              "\n",
              "    [theme=dark] .colab-df-convert {\n",
              "      background-color: #3B4455;\n",
              "      fill: #D2E3FC;\n",
              "    }\n",
              "\n",
              "    [theme=dark] .colab-df-convert:hover {\n",
              "      background-color: #434B5C;\n",
              "      box-shadow: 0px 1px 3px 1px rgba(0, 0, 0, 0.15);\n",
              "      filter: drop-shadow(0px 1px 2px rgba(0, 0, 0, 0.3));\n",
              "      fill: #FFFFFF;\n",
              "    }\n",
              "  </style>\n",
              "\n",
              "      <script>\n",
              "        const buttonEl =\n",
              "          document.querySelector('#df-ffc37b9d-f131-4576-bc37-2c139cc4adfb button.colab-df-convert');\n",
              "        buttonEl.style.display =\n",
              "          google.colab.kernel.accessAllowed ? 'block' : 'none';\n",
              "\n",
              "        async function convertToInteractive(key) {\n",
              "          const element = document.querySelector('#df-ffc37b9d-f131-4576-bc37-2c139cc4adfb');\n",
              "          const dataTable =\n",
              "            await google.colab.kernel.invokeFunction('convertToInteractive',\n",
              "                                                     [key], {});\n",
              "          if (!dataTable) return;\n",
              "\n",
              "          const docLinkHtml = 'Like what you see? Visit the ' +\n",
              "            '<a target=\"_blank\" href=https://colab.research.google.com/notebooks/data_table.ipynb>data table notebook</a>'\n",
              "            + ' to learn more about interactive tables.';\n",
              "          element.innerHTML = '';\n",
              "          dataTable['output_type'] = 'display_data';\n",
              "          await google.colab.output.renderOutput(dataTable, element);\n",
              "          const docLink = document.createElement('div');\n",
              "          docLink.innerHTML = docLinkHtml;\n",
              "          element.appendChild(docLink);\n",
              "        }\n",
              "      </script>\n",
              "    </div>\n",
              "  </div>\n",
              "  "
            ]
          },
          "metadata": {},
          "execution_count": 503
        }
      ],
      "source": [
        "df[[\"Airline\", \"Label_encoded_Airline\"]]"
      ]
    },
    {
      "cell_type": "code",
      "execution_count": null,
      "metadata": {
        "colab": {
          "base_uri": "https://localhost:8080/"
        },
        "id": "qqj6VU8cgmiI",
        "outputId": "e0c386be-9823-412c-c586-1f8e0e0ff03d"
      },
      "outputs": [
        {
          "output_type": "stream",
          "name": "stdout",
          "text": [
            "<class 'pandas.core.frame.DataFrame'>\n",
            "Int64Index: 10462 entries, 0 to 10682\n",
            "Data columns (total 22 columns):\n",
            " #   Column                     Non-Null Count  Dtype         \n",
            "---  ------                     --------------  -----         \n",
            " 0   Airline                    10462 non-null  object        \n",
            " 1   Date_of_Journey            10462 non-null  datetime64[ns]\n",
            " 2   Source                     10462 non-null  object        \n",
            " 3   Destination                10462 non-null  object        \n",
            " 4   Route                      10462 non-null  object        \n",
            " 5   Dep_Time                   10462 non-null  datetime64[ns]\n",
            " 6   Arrival_Time               10462 non-null  datetime64[ns]\n",
            " 7   Duration                   10462 non-null  int64         \n",
            " 8   Total_Stops                10462 non-null  float64       \n",
            " 9   Price                      10462 non-null  int64         \n",
            " 10  Freq_encoded_Airline       10462 non-null  float64       \n",
            " 11  Freq_encoded_Source        10462 non-null  float64       \n",
            " 12  Freq_encoded_Destination   10462 non-null  float64       \n",
            " 13  Freq_encoded_Route         10462 non-null  float64       \n",
            " 14  Mean_encoded_Airline       10462 non-null  float64       \n",
            " 15  Mean_encoded_Source        10462 non-null  float64       \n",
            " 16  Mean_encoded_Destination   10462 non-null  float64       \n",
            " 17  Mean_encoded_Route         10462 non-null  float64       \n",
            " 18  Label_encoded_Airline      10462 non-null  int64         \n",
            " 19  Label_encoded_Source       10462 non-null  int64         \n",
            " 20  Label_encoded_Destination  10462 non-null  int64         \n",
            " 21  Label_encoded_Route        10462 non-null  int64         \n",
            "dtypes: datetime64[ns](3), float64(9), int64(6), object(4)\n",
            "memory usage: 2.1+ MB\n"
          ]
        }
      ],
      "source": [
        "df.info()"
      ]
    },
    {
      "cell_type": "code",
      "execution_count": null,
      "metadata": {
        "id": "eWAeXeRLgmps"
      },
      "outputs": [],
      "source": [
        "# creating a function to handle categorical value:\n",
        "\n",
        "def handle_categorical_values(df, target):\n",
        "  \"\"\"\n",
        "  This function handles categorical value and create a dataframe.\n",
        "  Input: \n",
        "      df: DataFrame which require categorical value treatment.\n",
        "  Return:\n",
        "      DataFrame with all categorical value handled.\n",
        "  \"\"\"\n",
        "\n",
        "  encoded_dict = {}\n",
        "  # Getting all object columns:\n",
        "  object_columns = df.select_dtypes(object).columns\n",
        "\n",
        "  # generate frequency encoded categorical values.\n",
        "  frequency_encoded_dict = {}\n",
        "  for col in object_columns:\n",
        "    freq_dict = frequency_encoder(df, col)\n",
        "    frequency_encoded_dict[col] = freq_dict\n",
        "\n",
        "  # generate target mean encoded categorical values:\n",
        "  mean_encoded_dict = {}\n",
        "  for col in object_columns:\n",
        "    mean_dict = mean_encoder(df, col, target)\n",
        "    mean_encoded_dict[col] = mean_dict\n",
        "\n",
        "  # generate label encoded categorical values:\n",
        "  label_encoded_dict = {}\n",
        "  for col in object_columns:\n",
        "    label_dict = label_encoder(df, col)\n",
        "    label_encoded_dict[col] = label_dict\n",
        "\n",
        "  encoded_dict[\"Frequency\"] = frequency_encoded_dict\n",
        "  encoded_dict[\"Mean\"] = mean_encoded_dict\n",
        "  encoded_dict[\"Label\"] = label_encoded_dict\n",
        "\n",
        "  return encoded_dict"
      ]
    },
    {
      "cell_type": "code",
      "execution_count": null,
      "metadata": {
        "colab": {
          "base_uri": "https://localhost:8080/"
        },
        "id": "7c4g3lTrgmsf",
        "outputId": "ed2835e1-0d40-48bb-d0dc-e1358c74a0e2"
      },
      "outputs": [
        {
          "output_type": "stream",
          "name": "stdout",
          "text": [
            "<class 'pandas.core.frame.DataFrame'>\n",
            "Int64Index: 10462 entries, 0 to 10682\n",
            "Data columns (total 22 columns):\n",
            " #   Column                     Non-Null Count  Dtype         \n",
            "---  ------                     --------------  -----         \n",
            " 0   Airline                    10462 non-null  object        \n",
            " 1   Date_of_Journey            10462 non-null  datetime64[ns]\n",
            " 2   Source                     10462 non-null  object        \n",
            " 3   Destination                10462 non-null  object        \n",
            " 4   Route                      10462 non-null  object        \n",
            " 5   Dep_Time                   10462 non-null  datetime64[ns]\n",
            " 6   Arrival_Time               10462 non-null  datetime64[ns]\n",
            " 7   Duration                   10462 non-null  int64         \n",
            " 8   Total_Stops                10462 non-null  float64       \n",
            " 9   Price                      10462 non-null  int64         \n",
            " 10  Freq_encoded_Airline       10462 non-null  float64       \n",
            " 11  Freq_encoded_Source        10462 non-null  float64       \n",
            " 12  Freq_encoded_Destination   10462 non-null  float64       \n",
            " 13  Freq_encoded_Route         10462 non-null  float64       \n",
            " 14  Mean_encoded_Airline       10462 non-null  float64       \n",
            " 15  Mean_encoded_Source        10462 non-null  float64       \n",
            " 16  Mean_encoded_Destination   10462 non-null  float64       \n",
            " 17  Mean_encoded_Route         10462 non-null  float64       \n",
            " 18  Label_encoded_Airline      10462 non-null  int64         \n",
            " 19  Label_encoded_Source       10462 non-null  int64         \n",
            " 20  Label_encoded_Destination  10462 non-null  int64         \n",
            " 21  Label_encoded_Route        10462 non-null  int64         \n",
            "dtypes: datetime64[ns](3), float64(9), int64(6), object(4)\n",
            "memory usage: 2.1+ MB\n"
          ]
        }
      ],
      "source": [
        "df.info()"
      ]
    },
    {
      "cell_type": "code",
      "execution_count": null,
      "metadata": {
        "id": "BS_l5i3Jgm2n"
      },
      "outputs": [],
      "source": [
        "encoded_dict = handle_categorical_values(df, 'Price')"
      ]
    },
    {
      "cell_type": "code",
      "execution_count": null,
      "metadata": {
        "colab": {
          "base_uri": "https://localhost:8080/"
        },
        "id": "06rjG4Icgm5f",
        "outputId": "5008851c-6cf0-4ffe-b85e-6845210f55ae"
      },
      "outputs": [
        {
          "output_type": "stream",
          "name": "stdout",
          "text": [
            "<class 'pandas.core.frame.DataFrame'>\n",
            "Int64Index: 10462 entries, 0 to 10682\n",
            "Data columns (total 22 columns):\n",
            " #   Column                     Non-Null Count  Dtype         \n",
            "---  ------                     --------------  -----         \n",
            " 0   Airline                    10462 non-null  object        \n",
            " 1   Date_of_Journey            10462 non-null  datetime64[ns]\n",
            " 2   Source                     10462 non-null  object        \n",
            " 3   Destination                10462 non-null  object        \n",
            " 4   Route                      10462 non-null  object        \n",
            " 5   Dep_Time                   10462 non-null  datetime64[ns]\n",
            " 6   Arrival_Time               10462 non-null  datetime64[ns]\n",
            " 7   Duration                   10462 non-null  int64         \n",
            " 8   Total_Stops                10462 non-null  float64       \n",
            " 9   Price                      10462 non-null  int64         \n",
            " 10  Freq_encoded_Airline       10462 non-null  float64       \n",
            " 11  Freq_encoded_Source        10462 non-null  float64       \n",
            " 12  Freq_encoded_Destination   10462 non-null  float64       \n",
            " 13  Freq_encoded_Route         10462 non-null  float64       \n",
            " 14  Mean_encoded_Airline       10462 non-null  float64       \n",
            " 15  Mean_encoded_Source        10462 non-null  float64       \n",
            " 16  Mean_encoded_Destination   10462 non-null  float64       \n",
            " 17  Mean_encoded_Route         10462 non-null  float64       \n",
            " 18  Label_encoded_Airline      10462 non-null  int64         \n",
            " 19  Label_encoded_Source       10462 non-null  int64         \n",
            " 20  Label_encoded_Destination  10462 non-null  int64         \n",
            " 21  Label_encoded_Route        10462 non-null  int64         \n",
            "dtypes: datetime64[ns](3), float64(9), int64(6), object(4)\n",
            "memory usage: 2.1+ MB\n"
          ]
        }
      ],
      "source": [
        "df.info()"
      ]
    },
    {
      "cell_type": "markdown",
      "metadata": {
        "id": "xKdou573ohjy"
      },
      "source": [
        "## Handling Outlier Values:"
      ]
    },
    {
      "cell_type": "code",
      "execution_count": null,
      "metadata": {
        "id": "_TUiggc7gm8t"
      },
      "outputs": [],
      "source": [
        "# to be added"
      ]
    },
    {
      "cell_type": "code",
      "execution_count": null,
      "metadata": {
        "id": "8jRHOp6B8qhT"
      },
      "outputs": [],
      "source": [
        "# Can be added as a inbuilt pre-processing pipline."
      ]
    },
    {
      "cell_type": "code",
      "execution_count": null,
      "metadata": {
        "id": "ytDrtTN28qkY"
      },
      "outputs": [],
      "source": [
        ""
      ]
    },
    {
      "cell_type": "markdown",
      "metadata": {
        "id": "R-e2ocv6opmp"
      },
      "source": [
        "## Feature Selection and Engineering:"
      ]
    },
    {
      "cell_type": "code",
      "execution_count": null,
      "metadata": {
        "colab": {
          "base_uri": "https://localhost:8080/",
          "height": 1000
        },
        "id": "KAL_7ZLg8qo_",
        "outputId": "47cad312-07ef-4e0c-cf4c-b12638252ced"
      },
      "outputs": [
        {
          "output_type": "execute_result",
          "data": {
            "text/plain": [
              "           Airline Date_of_Journey    Source Destination  \\\n",
              "0           IndiGo      2019-03-24  Banglore   New Delhi   \n",
              "1        Air India      2019-01-05   Kolkata    Banglore   \n",
              "2      Jet Airways      2019-09-06     Delhi      Cochin   \n",
              "3           IndiGo      2019-12-05   Kolkata    Banglore   \n",
              "4           IndiGo      2019-01-03  Banglore   New Delhi   \n",
              "...            ...             ...       ...         ...   \n",
              "10678     Air Asia      2019-09-04   Kolkata    Banglore   \n",
              "10679    Air India      2019-04-27   Kolkata    Banglore   \n",
              "10680  Jet Airways      2019-04-27  Banglore       Delhi   \n",
              "10681      Vistara      2019-01-03  Banglore   New Delhi   \n",
              "10682    Air India      2019-09-05     Delhi      Cochin   \n",
              "\n",
              "                       Route            Dep_Time        Arrival_Time  \\\n",
              "0                  BLR → DEL 2022-05-23 22:20:00 2022-03-22 01:10:00   \n",
              "1      CCU → IXR → BBI → BLR 2022-05-23 05:50:00 2022-05-23 13:15:00   \n",
              "2      DEL → LKO → BOM → COK 2022-05-23 09:25:00 2022-06-10 04:25:00   \n",
              "3            CCU → NAG → BLR 2022-05-23 18:05:00 2022-05-23 23:30:00   \n",
              "4            BLR → NAG → DEL 2022-05-23 16:50:00 2022-05-23 21:35:00   \n",
              "...                      ...                 ...                 ...   \n",
              "10678              CCU → BLR 2022-05-23 19:55:00 2022-05-23 22:25:00   \n",
              "10679              CCU → BLR 2022-05-23 20:45:00 2022-05-23 23:20:00   \n",
              "10680              BLR → DEL 2022-05-23 08:20:00 2022-05-23 11:20:00   \n",
              "10681              BLR → DEL 2022-05-23 11:30:00 2022-05-23 14:10:00   \n",
              "10682  DEL → GOI → BOM → COK 2022-05-23 10:55:00 2022-05-23 19:15:00   \n",
              "\n",
              "       Duration  Total_Stops  Price  ...  Freq_encoded_Destination  \\\n",
              "0           170          0.0   3897  ...                  0.087364   \n",
              "1           445          2.0   7662  ...                  0.273370   \n",
              "2          1140          2.0  13882  ...                  0.415313   \n",
              "3           325          1.0   6218  ...                  0.273370   \n",
              "4           285          1.0  13302  ...                  0.087364   \n",
              "...         ...          ...    ...  ...                       ...   \n",
              "10678       150          0.0   4107  ...                  0.273370   \n",
              "10679       155          0.0   4145  ...                  0.273370   \n",
              "10680       180          0.0   7229  ...                  0.120914   \n",
              "10681       160          0.0  12648  ...                  0.087364   \n",
              "10682       500          2.0  11753  ...                  0.415313   \n",
              "\n",
              "       Freq_encoded_Route  Mean_encoded_Airline  Mean_encoded_Source  \\\n",
              "0                0.146817           5668.469897          8022.872877   \n",
              "1                0.000574           9556.608028          9143.083566   \n",
              "2                0.003919          11599.021081         10461.600690   \n",
              "3                0.000860           5668.469897          9143.083566   \n",
              "4                0.000287           5668.469897          8022.872877   \n",
              "...                   ...                   ...                  ...   \n",
              "10678            0.069203           5590.260188          9143.083566   \n",
              "10679            0.069203           9556.608028          9143.083566   \n",
              "10680            0.146817          11599.021081          8022.872877   \n",
              "10681            0.146817           7801.355649          8022.872877   \n",
              "10682            0.004206           9556.608028         10461.600690   \n",
              "\n",
              "       Mean_encoded_Destination  Mean_encoded_Route  Label_encoded_Airline  \\\n",
              "0                  12007.421225         5552.235677                      3   \n",
              "1                   9143.083566         7369.166667                      1   \n",
              "2                  10461.600690        13277.195122                      4   \n",
              "3                   9143.083566         6279.333333                      3   \n",
              "4                  12007.421225        11313.000000                      3   \n",
              "...                         ...                 ...                    ...   \n",
              "10678               9143.083566         4556.055249                      0   \n",
              "10679               9143.083566         4556.055249                      1   \n",
              "10680               5143.918577         5552.235677                      4   \n",
              "10681              12007.421225         5552.235677                     10   \n",
              "10682              10461.600690        11941.818182                      1   \n",
              "\n",
              "       Label_encoded_Source  Label_encoded_Destination  Label_encoded_Route  \n",
              "0                         0                          5                   18  \n",
              "1                         3                          0                   84  \n",
              "2                         2                          1                  118  \n",
              "3                         3                          0                   91  \n",
              "4                         0                          5                   29  \n",
              "...                     ...                        ...                  ...  \n",
              "10678                     3                          0                   64  \n",
              "10679                     3                          0                   64  \n",
              "10680                     0                          2                   18  \n",
              "10681                     0                          5                   18  \n",
              "10682                     2                          1                  108  \n",
              "\n",
              "[10462 rows x 22 columns]"
            ],
            "text/html": [
              "\n",
              "  <div id=\"df-195deb77-76f5-499e-a202-dc1895f074e6\">\n",
              "    <div class=\"colab-df-container\">\n",
              "      <div>\n",
              "<style scoped>\n",
              "    .dataframe tbody tr th:only-of-type {\n",
              "        vertical-align: middle;\n",
              "    }\n",
              "\n",
              "    .dataframe tbody tr th {\n",
              "        vertical-align: top;\n",
              "    }\n",
              "\n",
              "    .dataframe thead th {\n",
              "        text-align: right;\n",
              "    }\n",
              "</style>\n",
              "<table border=\"1\" class=\"dataframe\">\n",
              "  <thead>\n",
              "    <tr style=\"text-align: right;\">\n",
              "      <th></th>\n",
              "      <th>Airline</th>\n",
              "      <th>Date_of_Journey</th>\n",
              "      <th>Source</th>\n",
              "      <th>Destination</th>\n",
              "      <th>Route</th>\n",
              "      <th>Dep_Time</th>\n",
              "      <th>Arrival_Time</th>\n",
              "      <th>Duration</th>\n",
              "      <th>Total_Stops</th>\n",
              "      <th>Price</th>\n",
              "      <th>...</th>\n",
              "      <th>Freq_encoded_Destination</th>\n",
              "      <th>Freq_encoded_Route</th>\n",
              "      <th>Mean_encoded_Airline</th>\n",
              "      <th>Mean_encoded_Source</th>\n",
              "      <th>Mean_encoded_Destination</th>\n",
              "      <th>Mean_encoded_Route</th>\n",
              "      <th>Label_encoded_Airline</th>\n",
              "      <th>Label_encoded_Source</th>\n",
              "      <th>Label_encoded_Destination</th>\n",
              "      <th>Label_encoded_Route</th>\n",
              "    </tr>\n",
              "  </thead>\n",
              "  <tbody>\n",
              "    <tr>\n",
              "      <th>0</th>\n",
              "      <td>IndiGo</td>\n",
              "      <td>2019-03-24</td>\n",
              "      <td>Banglore</td>\n",
              "      <td>New Delhi</td>\n",
              "      <td>BLR → DEL</td>\n",
              "      <td>2022-05-23 22:20:00</td>\n",
              "      <td>2022-03-22 01:10:00</td>\n",
              "      <td>170</td>\n",
              "      <td>0.0</td>\n",
              "      <td>3897</td>\n",
              "      <td>...</td>\n",
              "      <td>0.087364</td>\n",
              "      <td>0.146817</td>\n",
              "      <td>5668.469897</td>\n",
              "      <td>8022.872877</td>\n",
              "      <td>12007.421225</td>\n",
              "      <td>5552.235677</td>\n",
              "      <td>3</td>\n",
              "      <td>0</td>\n",
              "      <td>5</td>\n",
              "      <td>18</td>\n",
              "    </tr>\n",
              "    <tr>\n",
              "      <th>1</th>\n",
              "      <td>Air India</td>\n",
              "      <td>2019-01-05</td>\n",
              "      <td>Kolkata</td>\n",
              "      <td>Banglore</td>\n",
              "      <td>CCU → IXR → BBI → BLR</td>\n",
              "      <td>2022-05-23 05:50:00</td>\n",
              "      <td>2022-05-23 13:15:00</td>\n",
              "      <td>445</td>\n",
              "      <td>2.0</td>\n",
              "      <td>7662</td>\n",
              "      <td>...</td>\n",
              "      <td>0.273370</td>\n",
              "      <td>0.000574</td>\n",
              "      <td>9556.608028</td>\n",
              "      <td>9143.083566</td>\n",
              "      <td>9143.083566</td>\n",
              "      <td>7369.166667</td>\n",
              "      <td>1</td>\n",
              "      <td>3</td>\n",
              "      <td>0</td>\n",
              "      <td>84</td>\n",
              "    </tr>\n",
              "    <tr>\n",
              "      <th>2</th>\n",
              "      <td>Jet Airways</td>\n",
              "      <td>2019-09-06</td>\n",
              "      <td>Delhi</td>\n",
              "      <td>Cochin</td>\n",
              "      <td>DEL → LKO → BOM → COK</td>\n",
              "      <td>2022-05-23 09:25:00</td>\n",
              "      <td>2022-06-10 04:25:00</td>\n",
              "      <td>1140</td>\n",
              "      <td>2.0</td>\n",
              "      <td>13882</td>\n",
              "      <td>...</td>\n",
              "      <td>0.415313</td>\n",
              "      <td>0.003919</td>\n",
              "      <td>11599.021081</td>\n",
              "      <td>10461.600690</td>\n",
              "      <td>10461.600690</td>\n",
              "      <td>13277.195122</td>\n",
              "      <td>4</td>\n",
              "      <td>2</td>\n",
              "      <td>1</td>\n",
              "      <td>118</td>\n",
              "    </tr>\n",
              "    <tr>\n",
              "      <th>3</th>\n",
              "      <td>IndiGo</td>\n",
              "      <td>2019-12-05</td>\n",
              "      <td>Kolkata</td>\n",
              "      <td>Banglore</td>\n",
              "      <td>CCU → NAG → BLR</td>\n",
              "      <td>2022-05-23 18:05:00</td>\n",
              "      <td>2022-05-23 23:30:00</td>\n",
              "      <td>325</td>\n",
              "      <td>1.0</td>\n",
              "      <td>6218</td>\n",
              "      <td>...</td>\n",
              "      <td>0.273370</td>\n",
              "      <td>0.000860</td>\n",
              "      <td>5668.469897</td>\n",
              "      <td>9143.083566</td>\n",
              "      <td>9143.083566</td>\n",
              "      <td>6279.333333</td>\n",
              "      <td>3</td>\n",
              "      <td>3</td>\n",
              "      <td>0</td>\n",
              "      <td>91</td>\n",
              "    </tr>\n",
              "    <tr>\n",
              "      <th>4</th>\n",
              "      <td>IndiGo</td>\n",
              "      <td>2019-01-03</td>\n",
              "      <td>Banglore</td>\n",
              "      <td>New Delhi</td>\n",
              "      <td>BLR → NAG → DEL</td>\n",
              "      <td>2022-05-23 16:50:00</td>\n",
              "      <td>2022-05-23 21:35:00</td>\n",
              "      <td>285</td>\n",
              "      <td>1.0</td>\n",
              "      <td>13302</td>\n",
              "      <td>...</td>\n",
              "      <td>0.087364</td>\n",
              "      <td>0.000287</td>\n",
              "      <td>5668.469897</td>\n",
              "      <td>8022.872877</td>\n",
              "      <td>12007.421225</td>\n",
              "      <td>11313.000000</td>\n",
              "      <td>3</td>\n",
              "      <td>0</td>\n",
              "      <td>5</td>\n",
              "      <td>29</td>\n",
              "    </tr>\n",
              "    <tr>\n",
              "      <th>...</th>\n",
              "      <td>...</td>\n",
              "      <td>...</td>\n",
              "      <td>...</td>\n",
              "      <td>...</td>\n",
              "      <td>...</td>\n",
              "      <td>...</td>\n",
              "      <td>...</td>\n",
              "      <td>...</td>\n",
              "      <td>...</td>\n",
              "      <td>...</td>\n",
              "      <td>...</td>\n",
              "      <td>...</td>\n",
              "      <td>...</td>\n",
              "      <td>...</td>\n",
              "      <td>...</td>\n",
              "      <td>...</td>\n",
              "      <td>...</td>\n",
              "      <td>...</td>\n",
              "      <td>...</td>\n",
              "      <td>...</td>\n",
              "      <td>...</td>\n",
              "    </tr>\n",
              "    <tr>\n",
              "      <th>10678</th>\n",
              "      <td>Air Asia</td>\n",
              "      <td>2019-09-04</td>\n",
              "      <td>Kolkata</td>\n",
              "      <td>Banglore</td>\n",
              "      <td>CCU → BLR</td>\n",
              "      <td>2022-05-23 19:55:00</td>\n",
              "      <td>2022-05-23 22:25:00</td>\n",
              "      <td>150</td>\n",
              "      <td>0.0</td>\n",
              "      <td>4107</td>\n",
              "      <td>...</td>\n",
              "      <td>0.273370</td>\n",
              "      <td>0.069203</td>\n",
              "      <td>5590.260188</td>\n",
              "      <td>9143.083566</td>\n",
              "      <td>9143.083566</td>\n",
              "      <td>4556.055249</td>\n",
              "      <td>0</td>\n",
              "      <td>3</td>\n",
              "      <td>0</td>\n",
              "      <td>64</td>\n",
              "    </tr>\n",
              "    <tr>\n",
              "      <th>10679</th>\n",
              "      <td>Air India</td>\n",
              "      <td>2019-04-27</td>\n",
              "      <td>Kolkata</td>\n",
              "      <td>Banglore</td>\n",
              "      <td>CCU → BLR</td>\n",
              "      <td>2022-05-23 20:45:00</td>\n",
              "      <td>2022-05-23 23:20:00</td>\n",
              "      <td>155</td>\n",
              "      <td>0.0</td>\n",
              "      <td>4145</td>\n",
              "      <td>...</td>\n",
              "      <td>0.273370</td>\n",
              "      <td>0.069203</td>\n",
              "      <td>9556.608028</td>\n",
              "      <td>9143.083566</td>\n",
              "      <td>9143.083566</td>\n",
              "      <td>4556.055249</td>\n",
              "      <td>1</td>\n",
              "      <td>3</td>\n",
              "      <td>0</td>\n",
              "      <td>64</td>\n",
              "    </tr>\n",
              "    <tr>\n",
              "      <th>10680</th>\n",
              "      <td>Jet Airways</td>\n",
              "      <td>2019-04-27</td>\n",
              "      <td>Banglore</td>\n",
              "      <td>Delhi</td>\n",
              "      <td>BLR → DEL</td>\n",
              "      <td>2022-05-23 08:20:00</td>\n",
              "      <td>2022-05-23 11:20:00</td>\n",
              "      <td>180</td>\n",
              "      <td>0.0</td>\n",
              "      <td>7229</td>\n",
              "      <td>...</td>\n",
              "      <td>0.120914</td>\n",
              "      <td>0.146817</td>\n",
              "      <td>11599.021081</td>\n",
              "      <td>8022.872877</td>\n",
              "      <td>5143.918577</td>\n",
              "      <td>5552.235677</td>\n",
              "      <td>4</td>\n",
              "      <td>0</td>\n",
              "      <td>2</td>\n",
              "      <td>18</td>\n",
              "    </tr>\n",
              "    <tr>\n",
              "      <th>10681</th>\n",
              "      <td>Vistara</td>\n",
              "      <td>2019-01-03</td>\n",
              "      <td>Banglore</td>\n",
              "      <td>New Delhi</td>\n",
              "      <td>BLR → DEL</td>\n",
              "      <td>2022-05-23 11:30:00</td>\n",
              "      <td>2022-05-23 14:10:00</td>\n",
              "      <td>160</td>\n",
              "      <td>0.0</td>\n",
              "      <td>12648</td>\n",
              "      <td>...</td>\n",
              "      <td>0.087364</td>\n",
              "      <td>0.146817</td>\n",
              "      <td>7801.355649</td>\n",
              "      <td>8022.872877</td>\n",
              "      <td>12007.421225</td>\n",
              "      <td>5552.235677</td>\n",
              "      <td>10</td>\n",
              "      <td>0</td>\n",
              "      <td>5</td>\n",
              "      <td>18</td>\n",
              "    </tr>\n",
              "    <tr>\n",
              "      <th>10682</th>\n",
              "      <td>Air India</td>\n",
              "      <td>2019-09-05</td>\n",
              "      <td>Delhi</td>\n",
              "      <td>Cochin</td>\n",
              "      <td>DEL → GOI → BOM → COK</td>\n",
              "      <td>2022-05-23 10:55:00</td>\n",
              "      <td>2022-05-23 19:15:00</td>\n",
              "      <td>500</td>\n",
              "      <td>2.0</td>\n",
              "      <td>11753</td>\n",
              "      <td>...</td>\n",
              "      <td>0.415313</td>\n",
              "      <td>0.004206</td>\n",
              "      <td>9556.608028</td>\n",
              "      <td>10461.600690</td>\n",
              "      <td>10461.600690</td>\n",
              "      <td>11941.818182</td>\n",
              "      <td>1</td>\n",
              "      <td>2</td>\n",
              "      <td>1</td>\n",
              "      <td>108</td>\n",
              "    </tr>\n",
              "  </tbody>\n",
              "</table>\n",
              "<p>10462 rows × 22 columns</p>\n",
              "</div>\n",
              "      <button class=\"colab-df-convert\" onclick=\"convertToInteractive('df-195deb77-76f5-499e-a202-dc1895f074e6')\"\n",
              "              title=\"Convert this dataframe to an interactive table.\"\n",
              "              style=\"display:none;\">\n",
              "        \n",
              "  <svg xmlns=\"http://www.w3.org/2000/svg\" height=\"24px\"viewBox=\"0 0 24 24\"\n",
              "       width=\"24px\">\n",
              "    <path d=\"M0 0h24v24H0V0z\" fill=\"none\"/>\n",
              "    <path d=\"M18.56 5.44l.94 2.06.94-2.06 2.06-.94-2.06-.94-.94-2.06-.94 2.06-2.06.94zm-11 1L8.5 8.5l.94-2.06 2.06-.94-2.06-.94L8.5 2.5l-.94 2.06-2.06.94zm10 10l.94 2.06.94-2.06 2.06-.94-2.06-.94-.94-2.06-.94 2.06-2.06.94z\"/><path d=\"M17.41 7.96l-1.37-1.37c-.4-.4-.92-.59-1.43-.59-.52 0-1.04.2-1.43.59L10.3 9.45l-7.72 7.72c-.78.78-.78 2.05 0 2.83L4 21.41c.39.39.9.59 1.41.59.51 0 1.02-.2 1.41-.59l7.78-7.78 2.81-2.81c.8-.78.8-2.07 0-2.86zM5.41 20L4 18.59l7.72-7.72 1.47 1.35L5.41 20z\"/>\n",
              "  </svg>\n",
              "      </button>\n",
              "      \n",
              "  <style>\n",
              "    .colab-df-container {\n",
              "      display:flex;\n",
              "      flex-wrap:wrap;\n",
              "      gap: 12px;\n",
              "    }\n",
              "\n",
              "    .colab-df-convert {\n",
              "      background-color: #E8F0FE;\n",
              "      border: none;\n",
              "      border-radius: 50%;\n",
              "      cursor: pointer;\n",
              "      display: none;\n",
              "      fill: #1967D2;\n",
              "      height: 32px;\n",
              "      padding: 0 0 0 0;\n",
              "      width: 32px;\n",
              "    }\n",
              "\n",
              "    .colab-df-convert:hover {\n",
              "      background-color: #E2EBFA;\n",
              "      box-shadow: 0px 1px 2px rgba(60, 64, 67, 0.3), 0px 1px 3px 1px rgba(60, 64, 67, 0.15);\n",
              "      fill: #174EA6;\n",
              "    }\n",
              "\n",
              "    [theme=dark] .colab-df-convert {\n",
              "      background-color: #3B4455;\n",
              "      fill: #D2E3FC;\n",
              "    }\n",
              "\n",
              "    [theme=dark] .colab-df-convert:hover {\n",
              "      background-color: #434B5C;\n",
              "      box-shadow: 0px 1px 3px 1px rgba(0, 0, 0, 0.15);\n",
              "      filter: drop-shadow(0px 1px 2px rgba(0, 0, 0, 0.3));\n",
              "      fill: #FFFFFF;\n",
              "    }\n",
              "  </style>\n",
              "\n",
              "      <script>\n",
              "        const buttonEl =\n",
              "          document.querySelector('#df-195deb77-76f5-499e-a202-dc1895f074e6 button.colab-df-convert');\n",
              "        buttonEl.style.display =\n",
              "          google.colab.kernel.accessAllowed ? 'block' : 'none';\n",
              "\n",
              "        async function convertToInteractive(key) {\n",
              "          const element = document.querySelector('#df-195deb77-76f5-499e-a202-dc1895f074e6');\n",
              "          const dataTable =\n",
              "            await google.colab.kernel.invokeFunction('convertToInteractive',\n",
              "                                                     [key], {});\n",
              "          if (!dataTable) return;\n",
              "\n",
              "          const docLinkHtml = 'Like what you see? Visit the ' +\n",
              "            '<a target=\"_blank\" href=https://colab.research.google.com/notebooks/data_table.ipynb>data table notebook</a>'\n",
              "            + ' to learn more about interactive tables.';\n",
              "          element.innerHTML = '';\n",
              "          dataTable['output_type'] = 'display_data';\n",
              "          await google.colab.output.renderOutput(dataTable, element);\n",
              "          const docLink = document.createElement('div');\n",
              "          docLink.innerHTML = docLinkHtml;\n",
              "          element.appendChild(docLink);\n",
              "        }\n",
              "      </script>\n",
              "    </div>\n",
              "  </div>\n",
              "  "
            ]
          },
          "metadata": {},
          "execution_count": 511
        }
      ],
      "source": [
        "df"
      ]
    },
    {
      "cell_type": "code",
      "execution_count": null,
      "metadata": {
        "colab": {
          "base_uri": "https://localhost:8080/"
        },
        "id": "u0GoQwhro_VZ",
        "outputId": "8470452b-82b3-4155-a4c5-d3be2a56ec13"
      },
      "outputs": [
        {
          "output_type": "execute_result",
          "data": {
            "text/plain": [
              "Index(['Airline', 'Date_of_Journey', 'Source', 'Destination', 'Route',\n",
              "       'Dep_Time', 'Arrival_Time', 'Duration', 'Total_Stops', 'Price',\n",
              "       'Freq_encoded_Airline', 'Freq_encoded_Source',\n",
              "       'Freq_encoded_Destination', 'Freq_encoded_Route',\n",
              "       'Mean_encoded_Airline', 'Mean_encoded_Source',\n",
              "       'Mean_encoded_Destination', 'Mean_encoded_Route',\n",
              "       'Label_encoded_Airline', 'Label_encoded_Source',\n",
              "       'Label_encoded_Destination', 'Label_encoded_Route'],\n",
              "      dtype='object')"
            ]
          },
          "metadata": {},
          "execution_count": 512
        }
      ],
      "source": [
        "# check columns:\n",
        "df.columns"
      ]
    },
    {
      "cell_type": "code",
      "execution_count": null,
      "metadata": {
        "colab": {
          "base_uri": "https://localhost:8080/",
          "height": 583
        },
        "id": "qISUGnVxo_Yc",
        "outputId": "fe04ba4e-9f91-433a-a428-f4d7abae2b6a"
      },
      "outputs": [
        {
          "output_type": "execute_result",
          "data": {
            "text/plain": [
              "                           Duration  Total_Stops     Price  \\\n",
              "Duration                   1.000000     0.727982  0.501758   \n",
              "Total_Stops                0.727982     1.000000  0.602013   \n",
              "Price                      0.501758     0.602013  1.000000   \n",
              "Freq_encoded_Airline       0.289457     0.211803  0.371620   \n",
              "Freq_encoded_Source        0.400039     0.571402  0.350997   \n",
              "Freq_encoded_Destination   0.403206     0.575447  0.311329   \n",
              "Freq_encoded_Route        -0.111065    -0.205605  0.038912   \n",
              "Mean_encoded_Airline       0.433989     0.421327  0.638674   \n",
              "Mean_encoded_Source        0.414954     0.559200  0.359938   \n",
              "Mean_encoded_Destination   0.453452     0.595820  0.491191   \n",
              "Mean_encoded_Route         0.671871     0.806690  0.746275   \n",
              "Label_encoded_Airline     -0.153618    -0.194549 -0.036491   \n",
              "Label_encoded_Source       0.162808     0.194203  0.013796   \n",
              "Label_encoded_Destination -0.254243    -0.291763 -0.065875   \n",
              "Label_encoded_Route        0.273200     0.441347  0.154374   \n",
              "\n",
              "                           Freq_encoded_Airline  Freq_encoded_Source  \\\n",
              "Duration                               0.289457             0.400039   \n",
              "Total_Stops                            0.211803             0.571402   \n",
              "Price                                  0.371620             0.350997   \n",
              "Freq_encoded_Airline                   1.000000             0.038026   \n",
              "Freq_encoded_Source                    0.038026             1.000000   \n",
              "Freq_encoded_Destination               0.029203             0.959924   \n",
              "Freq_encoded_Route                     0.019636             0.303115   \n",
              "Mean_encoded_Airline                   0.581861             0.258498   \n",
              "Mean_encoded_Source                    0.056089             0.975159   \n",
              "Mean_encoded_Destination               0.102435             0.714584   \n",
              "Mean_encoded_Route                     0.367567             0.470332   \n",
              "Label_encoded_Airline                 -0.200348            -0.049748   \n",
              "Label_encoded_Source                   0.055926             0.066914   \n",
              "Label_encoded_Destination             -0.035332            -0.544907   \n",
              "Label_encoded_Route                   -0.065789             0.612054   \n",
              "\n",
              "                           Freq_encoded_Destination  Freq_encoded_Route  \\\n",
              "Duration                                   0.403206           -0.111065   \n",
              "Total_Stops                                0.575447           -0.205605   \n",
              "Price                                      0.311329            0.038912   \n",
              "Freq_encoded_Airline                       0.029203            0.019636   \n",
              "Freq_encoded_Source                        0.959924            0.303115   \n",
              "Freq_encoded_Destination                   1.000000            0.247081   \n",
              "Freq_encoded_Route                         0.247081            1.000000   \n",
              "Mean_encoded_Airline                       0.234645            0.158467   \n",
              "Mean_encoded_Source                        0.915733            0.272478   \n",
              "Mean_encoded_Destination                   0.633826            0.039335   \n",
              "Mean_encoded_Route                         0.420651            0.052142   \n",
              "Label_encoded_Airline                     -0.033982            0.194054   \n",
              "Label_encoded_Source                       0.308334           -0.196373   \n",
              "Label_encoded_Destination                 -0.672920           -0.083163   \n",
              "Label_encoded_Route                        0.763369            0.055678   \n",
              "\n",
              "                           Mean_encoded_Airline  Mean_encoded_Source  \\\n",
              "Duration                               0.433989             0.414954   \n",
              "Total_Stops                            0.421327             0.559200   \n",
              "Price                                  0.638674             0.359938   \n",
              "Freq_encoded_Airline                   0.581861             0.056089   \n",
              "Freq_encoded_Source                    0.258498             0.975159   \n",
              "Freq_encoded_Destination               0.234645             0.915733   \n",
              "Freq_encoded_Route                     0.158467             0.272478   \n",
              "Mean_encoded_Airline                   1.000000             0.257259   \n",
              "Mean_encoded_Source                    0.257259             1.000000   \n",
              "Mean_encoded_Destination               0.277117             0.732787   \n",
              "Mean_encoded_Route                     0.572144             0.482313   \n",
              "Label_encoded_Airline                 -0.057135            -0.059864   \n",
              "Label_encoded_Source                   0.047805             0.038329   \n",
              "Label_encoded_Destination             -0.094354            -0.606651   \n",
              "Label_encoded_Route                    0.071608             0.496810   \n",
              "\n",
              "                           Mean_encoded_Destination  Mean_encoded_Route  \\\n",
              "Duration                                   0.453452            0.671871   \n",
              "Total_Stops                                0.595820            0.806690   \n",
              "Price                                      0.491191            0.746275   \n",
              "Freq_encoded_Airline                       0.102435            0.367567   \n",
              "Freq_encoded_Source                        0.714584            0.470332   \n",
              "Freq_encoded_Destination                   0.633826            0.420651   \n",
              "Freq_encoded_Route                         0.039335            0.052142   \n",
              "Mean_encoded_Airline                       0.277117            0.572144   \n",
              "Mean_encoded_Source                        0.732787            0.482313   \n",
              "Mean_encoded_Destination                   1.000000            0.614966   \n",
              "Mean_encoded_Route                         0.614966            1.000000   \n",
              "Label_encoded_Airline                     -0.082190           -0.058168   \n",
              "Label_encoded_Source                       0.028087            0.018486   \n",
              "Label_encoded_Destination                 -0.134114           -0.117251   \n",
              "Label_encoded_Route                        0.339975            0.206860   \n",
              "\n",
              "                           Label_encoded_Airline  Label_encoded_Source  \\\n",
              "Duration                               -0.153618              0.162808   \n",
              "Total_Stops                            -0.194549              0.194203   \n",
              "Price                                  -0.036491              0.013796   \n",
              "Freq_encoded_Airline                   -0.200348              0.055926   \n",
              "Freq_encoded_Source                    -0.049748              0.066914   \n",
              "Freq_encoded_Destination               -0.033982              0.308334   \n",
              "Freq_encoded_Route                      0.194054             -0.196373   \n",
              "Mean_encoded_Airline                   -0.057135              0.047805   \n",
              "Mean_encoded_Source                    -0.059864              0.038329   \n",
              "Mean_encoded_Destination               -0.082190              0.028087   \n",
              "Mean_encoded_Route                     -0.058168              0.018486   \n",
              "Label_encoded_Airline                   1.000000             -0.012172   \n",
              "Label_encoded_Source                   -0.012172              1.000000   \n",
              "Label_encoded_Destination               0.015942             -0.589992   \n",
              "Label_encoded_Route                     0.029636              0.403884   \n",
              "\n",
              "                           Label_encoded_Destination  Label_encoded_Route  \n",
              "Duration                                   -0.254243             0.273200  \n",
              "Total_Stops                                -0.291763             0.441347  \n",
              "Price                                      -0.065875             0.154374  \n",
              "Freq_encoded_Airline                       -0.035332            -0.065789  \n",
              "Freq_encoded_Source                        -0.544907             0.612054  \n",
              "Freq_encoded_Destination                   -0.672920             0.763369  \n",
              "Freq_encoded_Route                         -0.083163             0.055678  \n",
              "Mean_encoded_Airline                       -0.094354             0.071608  \n",
              "Mean_encoded_Source                        -0.606651             0.496810  \n",
              "Mean_encoded_Destination                   -0.134114             0.339975  \n",
              "Mean_encoded_Route                         -0.117251             0.206860  \n",
              "Label_encoded_Airline                       0.015942             0.029636  \n",
              "Label_encoded_Source                       -0.589992             0.403884  \n",
              "Label_encoded_Destination                   1.000000            -0.457559  \n",
              "Label_encoded_Route                        -0.457559             1.000000  "
            ],
            "text/html": [
              "\n",
              "  <div id=\"df-eb699a0b-1edc-4987-a352-2429136ca230\">\n",
              "    <div class=\"colab-df-container\">\n",
              "      <div>\n",
              "<style scoped>\n",
              "    .dataframe tbody tr th:only-of-type {\n",
              "        vertical-align: middle;\n",
              "    }\n",
              "\n",
              "    .dataframe tbody tr th {\n",
              "        vertical-align: top;\n",
              "    }\n",
              "\n",
              "    .dataframe thead th {\n",
              "        text-align: right;\n",
              "    }\n",
              "</style>\n",
              "<table border=\"1\" class=\"dataframe\">\n",
              "  <thead>\n",
              "    <tr style=\"text-align: right;\">\n",
              "      <th></th>\n",
              "      <th>Duration</th>\n",
              "      <th>Total_Stops</th>\n",
              "      <th>Price</th>\n",
              "      <th>Freq_encoded_Airline</th>\n",
              "      <th>Freq_encoded_Source</th>\n",
              "      <th>Freq_encoded_Destination</th>\n",
              "      <th>Freq_encoded_Route</th>\n",
              "      <th>Mean_encoded_Airline</th>\n",
              "      <th>Mean_encoded_Source</th>\n",
              "      <th>Mean_encoded_Destination</th>\n",
              "      <th>Mean_encoded_Route</th>\n",
              "      <th>Label_encoded_Airline</th>\n",
              "      <th>Label_encoded_Source</th>\n",
              "      <th>Label_encoded_Destination</th>\n",
              "      <th>Label_encoded_Route</th>\n",
              "    </tr>\n",
              "  </thead>\n",
              "  <tbody>\n",
              "    <tr>\n",
              "      <th>Duration</th>\n",
              "      <td>1.000000</td>\n",
              "      <td>0.727982</td>\n",
              "      <td>0.501758</td>\n",
              "      <td>0.289457</td>\n",
              "      <td>0.400039</td>\n",
              "      <td>0.403206</td>\n",
              "      <td>-0.111065</td>\n",
              "      <td>0.433989</td>\n",
              "      <td>0.414954</td>\n",
              "      <td>0.453452</td>\n",
              "      <td>0.671871</td>\n",
              "      <td>-0.153618</td>\n",
              "      <td>0.162808</td>\n",
              "      <td>-0.254243</td>\n",
              "      <td>0.273200</td>\n",
              "    </tr>\n",
              "    <tr>\n",
              "      <th>Total_Stops</th>\n",
              "      <td>0.727982</td>\n",
              "      <td>1.000000</td>\n",
              "      <td>0.602013</td>\n",
              "      <td>0.211803</td>\n",
              "      <td>0.571402</td>\n",
              "      <td>0.575447</td>\n",
              "      <td>-0.205605</td>\n",
              "      <td>0.421327</td>\n",
              "      <td>0.559200</td>\n",
              "      <td>0.595820</td>\n",
              "      <td>0.806690</td>\n",
              "      <td>-0.194549</td>\n",
              "      <td>0.194203</td>\n",
              "      <td>-0.291763</td>\n",
              "      <td>0.441347</td>\n",
              "    </tr>\n",
              "    <tr>\n",
              "      <th>Price</th>\n",
              "      <td>0.501758</td>\n",
              "      <td>0.602013</td>\n",
              "      <td>1.000000</td>\n",
              "      <td>0.371620</td>\n",
              "      <td>0.350997</td>\n",
              "      <td>0.311329</td>\n",
              "      <td>0.038912</td>\n",
              "      <td>0.638674</td>\n",
              "      <td>0.359938</td>\n",
              "      <td>0.491191</td>\n",
              "      <td>0.746275</td>\n",
              "      <td>-0.036491</td>\n",
              "      <td>0.013796</td>\n",
              "      <td>-0.065875</td>\n",
              "      <td>0.154374</td>\n",
              "    </tr>\n",
              "    <tr>\n",
              "      <th>Freq_encoded_Airline</th>\n",
              "      <td>0.289457</td>\n",
              "      <td>0.211803</td>\n",
              "      <td>0.371620</td>\n",
              "      <td>1.000000</td>\n",
              "      <td>0.038026</td>\n",
              "      <td>0.029203</td>\n",
              "      <td>0.019636</td>\n",
              "      <td>0.581861</td>\n",
              "      <td>0.056089</td>\n",
              "      <td>0.102435</td>\n",
              "      <td>0.367567</td>\n",
              "      <td>-0.200348</td>\n",
              "      <td>0.055926</td>\n",
              "      <td>-0.035332</td>\n",
              "      <td>-0.065789</td>\n",
              "    </tr>\n",
              "    <tr>\n",
              "      <th>Freq_encoded_Source</th>\n",
              "      <td>0.400039</td>\n",
              "      <td>0.571402</td>\n",
              "      <td>0.350997</td>\n",
              "      <td>0.038026</td>\n",
              "      <td>1.000000</td>\n",
              "      <td>0.959924</td>\n",
              "      <td>0.303115</td>\n",
              "      <td>0.258498</td>\n",
              "      <td>0.975159</td>\n",
              "      <td>0.714584</td>\n",
              "      <td>0.470332</td>\n",
              "      <td>-0.049748</td>\n",
              "      <td>0.066914</td>\n",
              "      <td>-0.544907</td>\n",
              "      <td>0.612054</td>\n",
              "    </tr>\n",
              "    <tr>\n",
              "      <th>Freq_encoded_Destination</th>\n",
              "      <td>0.403206</td>\n",
              "      <td>0.575447</td>\n",
              "      <td>0.311329</td>\n",
              "      <td>0.029203</td>\n",
              "      <td>0.959924</td>\n",
              "      <td>1.000000</td>\n",
              "      <td>0.247081</td>\n",
              "      <td>0.234645</td>\n",
              "      <td>0.915733</td>\n",
              "      <td>0.633826</td>\n",
              "      <td>0.420651</td>\n",
              "      <td>-0.033982</td>\n",
              "      <td>0.308334</td>\n",
              "      <td>-0.672920</td>\n",
              "      <td>0.763369</td>\n",
              "    </tr>\n",
              "    <tr>\n",
              "      <th>Freq_encoded_Route</th>\n",
              "      <td>-0.111065</td>\n",
              "      <td>-0.205605</td>\n",
              "      <td>0.038912</td>\n",
              "      <td>0.019636</td>\n",
              "      <td>0.303115</td>\n",
              "      <td>0.247081</td>\n",
              "      <td>1.000000</td>\n",
              "      <td>0.158467</td>\n",
              "      <td>0.272478</td>\n",
              "      <td>0.039335</td>\n",
              "      <td>0.052142</td>\n",
              "      <td>0.194054</td>\n",
              "      <td>-0.196373</td>\n",
              "      <td>-0.083163</td>\n",
              "      <td>0.055678</td>\n",
              "    </tr>\n",
              "    <tr>\n",
              "      <th>Mean_encoded_Airline</th>\n",
              "      <td>0.433989</td>\n",
              "      <td>0.421327</td>\n",
              "      <td>0.638674</td>\n",
              "      <td>0.581861</td>\n",
              "      <td>0.258498</td>\n",
              "      <td>0.234645</td>\n",
              "      <td>0.158467</td>\n",
              "      <td>1.000000</td>\n",
              "      <td>0.257259</td>\n",
              "      <td>0.277117</td>\n",
              "      <td>0.572144</td>\n",
              "      <td>-0.057135</td>\n",
              "      <td>0.047805</td>\n",
              "      <td>-0.094354</td>\n",
              "      <td>0.071608</td>\n",
              "    </tr>\n",
              "    <tr>\n",
              "      <th>Mean_encoded_Source</th>\n",
              "      <td>0.414954</td>\n",
              "      <td>0.559200</td>\n",
              "      <td>0.359938</td>\n",
              "      <td>0.056089</td>\n",
              "      <td>0.975159</td>\n",
              "      <td>0.915733</td>\n",
              "      <td>0.272478</td>\n",
              "      <td>0.257259</td>\n",
              "      <td>1.000000</td>\n",
              "      <td>0.732787</td>\n",
              "      <td>0.482313</td>\n",
              "      <td>-0.059864</td>\n",
              "      <td>0.038329</td>\n",
              "      <td>-0.606651</td>\n",
              "      <td>0.496810</td>\n",
              "    </tr>\n",
              "    <tr>\n",
              "      <th>Mean_encoded_Destination</th>\n",
              "      <td>0.453452</td>\n",
              "      <td>0.595820</td>\n",
              "      <td>0.491191</td>\n",
              "      <td>0.102435</td>\n",
              "      <td>0.714584</td>\n",
              "      <td>0.633826</td>\n",
              "      <td>0.039335</td>\n",
              "      <td>0.277117</td>\n",
              "      <td>0.732787</td>\n",
              "      <td>1.000000</td>\n",
              "      <td>0.614966</td>\n",
              "      <td>-0.082190</td>\n",
              "      <td>0.028087</td>\n",
              "      <td>-0.134114</td>\n",
              "      <td>0.339975</td>\n",
              "    </tr>\n",
              "    <tr>\n",
              "      <th>Mean_encoded_Route</th>\n",
              "      <td>0.671871</td>\n",
              "      <td>0.806690</td>\n",
              "      <td>0.746275</td>\n",
              "      <td>0.367567</td>\n",
              "      <td>0.470332</td>\n",
              "      <td>0.420651</td>\n",
              "      <td>0.052142</td>\n",
              "      <td>0.572144</td>\n",
              "      <td>0.482313</td>\n",
              "      <td>0.614966</td>\n",
              "      <td>1.000000</td>\n",
              "      <td>-0.058168</td>\n",
              "      <td>0.018486</td>\n",
              "      <td>-0.117251</td>\n",
              "      <td>0.206860</td>\n",
              "    </tr>\n",
              "    <tr>\n",
              "      <th>Label_encoded_Airline</th>\n",
              "      <td>-0.153618</td>\n",
              "      <td>-0.194549</td>\n",
              "      <td>-0.036491</td>\n",
              "      <td>-0.200348</td>\n",
              "      <td>-0.049748</td>\n",
              "      <td>-0.033982</td>\n",
              "      <td>0.194054</td>\n",
              "      <td>-0.057135</td>\n",
              "      <td>-0.059864</td>\n",
              "      <td>-0.082190</td>\n",
              "      <td>-0.058168</td>\n",
              "      <td>1.000000</td>\n",
              "      <td>-0.012172</td>\n",
              "      <td>0.015942</td>\n",
              "      <td>0.029636</td>\n",
              "    </tr>\n",
              "    <tr>\n",
              "      <th>Label_encoded_Source</th>\n",
              "      <td>0.162808</td>\n",
              "      <td>0.194203</td>\n",
              "      <td>0.013796</td>\n",
              "      <td>0.055926</td>\n",
              "      <td>0.066914</td>\n",
              "      <td>0.308334</td>\n",
              "      <td>-0.196373</td>\n",
              "      <td>0.047805</td>\n",
              "      <td>0.038329</td>\n",
              "      <td>0.028087</td>\n",
              "      <td>0.018486</td>\n",
              "      <td>-0.012172</td>\n",
              "      <td>1.000000</td>\n",
              "      <td>-0.589992</td>\n",
              "      <td>0.403884</td>\n",
              "    </tr>\n",
              "    <tr>\n",
              "      <th>Label_encoded_Destination</th>\n",
              "      <td>-0.254243</td>\n",
              "      <td>-0.291763</td>\n",
              "      <td>-0.065875</td>\n",
              "      <td>-0.035332</td>\n",
              "      <td>-0.544907</td>\n",
              "      <td>-0.672920</td>\n",
              "      <td>-0.083163</td>\n",
              "      <td>-0.094354</td>\n",
              "      <td>-0.606651</td>\n",
              "      <td>-0.134114</td>\n",
              "      <td>-0.117251</td>\n",
              "      <td>0.015942</td>\n",
              "      <td>-0.589992</td>\n",
              "      <td>1.000000</td>\n",
              "      <td>-0.457559</td>\n",
              "    </tr>\n",
              "    <tr>\n",
              "      <th>Label_encoded_Route</th>\n",
              "      <td>0.273200</td>\n",
              "      <td>0.441347</td>\n",
              "      <td>0.154374</td>\n",
              "      <td>-0.065789</td>\n",
              "      <td>0.612054</td>\n",
              "      <td>0.763369</td>\n",
              "      <td>0.055678</td>\n",
              "      <td>0.071608</td>\n",
              "      <td>0.496810</td>\n",
              "      <td>0.339975</td>\n",
              "      <td>0.206860</td>\n",
              "      <td>0.029636</td>\n",
              "      <td>0.403884</td>\n",
              "      <td>-0.457559</td>\n",
              "      <td>1.000000</td>\n",
              "    </tr>\n",
              "  </tbody>\n",
              "</table>\n",
              "</div>\n",
              "      <button class=\"colab-df-convert\" onclick=\"convertToInteractive('df-eb699a0b-1edc-4987-a352-2429136ca230')\"\n",
              "              title=\"Convert this dataframe to an interactive table.\"\n",
              "              style=\"display:none;\">\n",
              "        \n",
              "  <svg xmlns=\"http://www.w3.org/2000/svg\" height=\"24px\"viewBox=\"0 0 24 24\"\n",
              "       width=\"24px\">\n",
              "    <path d=\"M0 0h24v24H0V0z\" fill=\"none\"/>\n",
              "    <path d=\"M18.56 5.44l.94 2.06.94-2.06 2.06-.94-2.06-.94-.94-2.06-.94 2.06-2.06.94zm-11 1L8.5 8.5l.94-2.06 2.06-.94-2.06-.94L8.5 2.5l-.94 2.06-2.06.94zm10 10l.94 2.06.94-2.06 2.06-.94-2.06-.94-.94-2.06-.94 2.06-2.06.94z\"/><path d=\"M17.41 7.96l-1.37-1.37c-.4-.4-.92-.59-1.43-.59-.52 0-1.04.2-1.43.59L10.3 9.45l-7.72 7.72c-.78.78-.78 2.05 0 2.83L4 21.41c.39.39.9.59 1.41.59.51 0 1.02-.2 1.41-.59l7.78-7.78 2.81-2.81c.8-.78.8-2.07 0-2.86zM5.41 20L4 18.59l7.72-7.72 1.47 1.35L5.41 20z\"/>\n",
              "  </svg>\n",
              "      </button>\n",
              "      \n",
              "  <style>\n",
              "    .colab-df-container {\n",
              "      display:flex;\n",
              "      flex-wrap:wrap;\n",
              "      gap: 12px;\n",
              "    }\n",
              "\n",
              "    .colab-df-convert {\n",
              "      background-color: #E8F0FE;\n",
              "      border: none;\n",
              "      border-radius: 50%;\n",
              "      cursor: pointer;\n",
              "      display: none;\n",
              "      fill: #1967D2;\n",
              "      height: 32px;\n",
              "      padding: 0 0 0 0;\n",
              "      width: 32px;\n",
              "    }\n",
              "\n",
              "    .colab-df-convert:hover {\n",
              "      background-color: #E2EBFA;\n",
              "      box-shadow: 0px 1px 2px rgba(60, 64, 67, 0.3), 0px 1px 3px 1px rgba(60, 64, 67, 0.15);\n",
              "      fill: #174EA6;\n",
              "    }\n",
              "\n",
              "    [theme=dark] .colab-df-convert {\n",
              "      background-color: #3B4455;\n",
              "      fill: #D2E3FC;\n",
              "    }\n",
              "\n",
              "    [theme=dark] .colab-df-convert:hover {\n",
              "      background-color: #434B5C;\n",
              "      box-shadow: 0px 1px 3px 1px rgba(0, 0, 0, 0.15);\n",
              "      filter: drop-shadow(0px 1px 2px rgba(0, 0, 0, 0.3));\n",
              "      fill: #FFFFFF;\n",
              "    }\n",
              "  </style>\n",
              "\n",
              "      <script>\n",
              "        const buttonEl =\n",
              "          document.querySelector('#df-eb699a0b-1edc-4987-a352-2429136ca230 button.colab-df-convert');\n",
              "        buttonEl.style.display =\n",
              "          google.colab.kernel.accessAllowed ? 'block' : 'none';\n",
              "\n",
              "        async function convertToInteractive(key) {\n",
              "          const element = document.querySelector('#df-eb699a0b-1edc-4987-a352-2429136ca230');\n",
              "          const dataTable =\n",
              "            await google.colab.kernel.invokeFunction('convertToInteractive',\n",
              "                                                     [key], {});\n",
              "          if (!dataTable) return;\n",
              "\n",
              "          const docLinkHtml = 'Like what you see? Visit the ' +\n",
              "            '<a target=\"_blank\" href=https://colab.research.google.com/notebooks/data_table.ipynb>data table notebook</a>'\n",
              "            + ' to learn more about interactive tables.';\n",
              "          element.innerHTML = '';\n",
              "          dataTable['output_type'] = 'display_data';\n",
              "          await google.colab.output.renderOutput(dataTable, element);\n",
              "          const docLink = document.createElement('div');\n",
              "          docLink.innerHTML = docLinkHtml;\n",
              "          element.appendChild(docLink);\n",
              "        }\n",
              "      </script>\n",
              "    </div>\n",
              "  </div>\n",
              "  "
            ]
          },
          "metadata": {},
          "execution_count": 513
        }
      ],
      "source": [
        "# Now, let's check correlation for all columns:\n",
        "\n",
        "df.corr()"
      ]
    },
    {
      "cell_type": "code",
      "execution_count": null,
      "metadata": {
        "colab": {
          "base_uri": "https://localhost:8080/",
          "height": 799
        },
        "id": "Ia4ocFO2o_bH",
        "outputId": "473340e1-b54b-4da7-c7cf-b966c7312282"
      },
      "outputs": [
        {
          "output_type": "display_data",
          "data": {
            "text/plain": [
              "<Figure size 1440x1080 with 2 Axes>"
            ],
            "image/png": "[encoded data removed]"
          },
          "metadata": {
            "needs_background": "light"
          }
        }
      ],
      "source": [
        "# create a heatmap:\n",
        "plt.figure(figsize=(20,15))\n",
        "sns.heatmap(df.corr(),cmap = 'PuRd')\n",
        "plt.show()"
      ]
    },
    {
      "cell_type": "markdown",
      "metadata": {
        "id": "0LAKxq4jrGLn"
      },
      "source": [
        "Insights:\n",
        "  - correlation high between Freq_encoded_Source and Mean_encoded_Source.\n",
        "  - like wise correlation high between Freq_encoded_Source and Freq_encoded_Destination.\n",
        "  - and others value like Total_Stops and Destination, Duration and Total_stops,Freq_encoded_Destination and Mean_encoded_source etc. has really good correlation in between. but still there are so many values which are not so good for the good model."
      ]
    },
    {
      "cell_type": "markdown",
      "metadata": {
        "id": "5dwM1Ti4tjLG"
      },
      "source": [
        "for the target price:\n",
        "  - Freq_encoded_Source, Freq_encoded_Destination, Mean_encoded_Airline, Mean_encoded_Source, Mean_encoded_Destination- all features those are showing good crrelation with the target 'Price': 0.4 and above should be to build model.\n",
        "  - Features which are mildly not related can be dropped.\n",
        "  "
      ]
    },
    {
      "cell_type": "code",
      "execution_count": null,
      "metadata": {
        "colab": {
          "base_uri": "https://localhost:8080/"
        },
        "id": "R0yr8x9Bo_gO",
        "outputId": "41f55626-2882-4e98-afa8-4476f6d9edab"
      },
      "outputs": [
        {
          "output_type": "execute_result",
          "data": {
            "text/plain": [
              "Index(['Airline', 'Date_of_Journey', 'Source', 'Destination', 'Route',\n",
              "       'Dep_Time', 'Arrival_Time', 'Duration', 'Total_Stops', 'Price',\n",
              "       'Freq_encoded_Airline', 'Freq_encoded_Source',\n",
              "       'Freq_encoded_Destination', 'Freq_encoded_Route',\n",
              "       'Mean_encoded_Airline', 'Mean_encoded_Source',\n",
              "       'Mean_encoded_Destination', 'Mean_encoded_Route',\n",
              "       'Label_encoded_Airline', 'Label_encoded_Source',\n",
              "       'Label_encoded_Destination', 'Label_encoded_Route'],\n",
              "      dtype='object')"
            ]
          },
          "metadata": {},
          "execution_count": 515
        }
      ],
      "source": [
        "df.columns"
      ]
    },
    {
      "cell_type": "code",
      "execution_count": null,
      "metadata": {
        "id": "7DIXjWKTo_dp"
      },
      "outputs": [],
      "source": [
        "# Time base features can be generated.\n",
        "# as we have \"Date_of_journey\" column from that\n",
        "# we can generate day_of_week, weekdays, moth and deapture hour:\n",
        "\n",
        "# Day_of_week:\n",
        "# use 'dt.day_of_week':\n",
        "df['Day_of_week'] = df[\"Date_of_Journey\"].dt.day_of_week\n",
        "\n",
        "# Day_of_month:\n",
        "# use 'dt.day':\n",
        "df['Day_of_month'] = df['Date_of_Journey'].dt.day \n",
        "\n",
        "# Weekday: # where we create 'Day_of_week' column just above:\n",
        "# use 'np.where' for days of the week where [5,6] means saturday,sunday:\n",
        "df[\"Weekday\"] = np.where(df[\"Day_of_week\"].isin([5,6]),0,1)\n",
        "\n",
        "# Month of Travel:\n",
        "# use 'dt.month':\n",
        "df['Month'] = df['Date_of_Journey'].dt.month\n",
        "\n",
        "# Hour of Depature etc: # as we already have 'Dep_Time' column:\n",
        "# use 'dt.hour':\n",
        "df['Dep_hour'] = df['Dep_Time'].dt.hour\n",
        "\n"
      ]
    },
    {
      "cell_type": "code",
      "execution_count": null,
      "metadata": {
        "colab": {
          "base_uri": "https://localhost:8080/",
          "height": 740
        },
        "id": "n_cQl-Qho_ld",
        "outputId": "bbc3b8f2-e73e-4416-b8cb-8ad37dee8234"
      },
      "outputs": [
        {
          "output_type": "execute_result",
          "data": {
            "text/plain": [
              "                           Duration  Total_Stops     Price  \\\n",
              "Duration                   1.000000     0.727982  0.501758   \n",
              "Total_Stops                0.727982     1.000000  0.602013   \n",
              "Price                      0.501758     0.602013  1.000000   \n",
              "Freq_encoded_Airline       0.289457     0.211803  0.371620   \n",
              "Freq_encoded_Source        0.400039     0.571402  0.350997   \n",
              "Freq_encoded_Destination   0.403206     0.575447  0.311329   \n",
              "Freq_encoded_Route        -0.111065    -0.205605  0.038912   \n",
              "Mean_encoded_Airline       0.433989     0.421327  0.638674   \n",
              "Mean_encoded_Source        0.414954     0.559200  0.359938   \n",
              "Mean_encoded_Destination   0.453452     0.595820  0.491191   \n",
              "Mean_encoded_Route         0.671871     0.806690  0.746275   \n",
              "Label_encoded_Airline     -0.153618    -0.194549 -0.036491   \n",
              "Label_encoded_Source       0.162808     0.194203  0.013796   \n",
              "Label_encoded_Destination -0.254243    -0.291763 -0.065875   \n",
              "Label_encoded_Route        0.273200     0.441347  0.154374   \n",
              "Day_of_week                0.023158     0.006147 -0.005112   \n",
              "Day_of_month              -0.047257    -0.035371 -0.171142   \n",
              "Weekday                    0.005944     0.018291 -0.013267   \n",
              "Month                      0.056328     0.065438  0.008662   \n",
              "Dep_hour                  -0.001285    -0.067523  0.005155   \n",
              "\n",
              "                           Freq_encoded_Airline  Freq_encoded_Source  \\\n",
              "Duration                               0.289457             0.400039   \n",
              "Total_Stops                            0.211803             0.571402   \n",
              "Price                                  0.371620             0.350997   \n",
              "Freq_encoded_Airline                   1.000000             0.038026   \n",
              "Freq_encoded_Source                    0.038026             1.000000   \n",
              "Freq_encoded_Destination               0.029203             0.959924   \n",
              "Freq_encoded_Route                     0.019636             0.303115   \n",
              "Mean_encoded_Airline                   0.581861             0.258498   \n",
              "Mean_encoded_Source                    0.056089             0.975159   \n",
              "Mean_encoded_Destination               0.102435             0.714584   \n",
              "Mean_encoded_Route                     0.367567             0.470332   \n",
              "Label_encoded_Airline                 -0.200348            -0.049748   \n",
              "Label_encoded_Source                   0.055926             0.066914   \n",
              "Label_encoded_Destination             -0.035332            -0.544907   \n",
              "Label_encoded_Route                   -0.065789             0.612054   \n",
              "Day_of_week                            0.004228            -0.007342   \n",
              "Day_of_month                          -0.038976             0.077903   \n",
              "Weekday                                0.029408            -0.014222   \n",
              "Month                                  0.051802             0.029936   \n",
              "Dep_hour                               0.106050            -0.060469   \n",
              "\n",
              "                           Freq_encoded_Destination  Freq_encoded_Route  \\\n",
              "Duration                                   0.403206           -0.111065   \n",
              "Total_Stops                                0.575447           -0.205605   \n",
              "Price                                      0.311329            0.038912   \n",
              "Freq_encoded_Airline                       0.029203            0.019636   \n",
              "Freq_encoded_Source                        0.959924            0.303115   \n",
              "Freq_encoded_Destination                   1.000000            0.247081   \n",
              "Freq_encoded_Route                         0.247081            1.000000   \n",
              "Mean_encoded_Airline                       0.234645            0.158467   \n",
              "Mean_encoded_Source                        0.915733            0.272478   \n",
              "Mean_encoded_Destination                   0.633826            0.039335   \n",
              "Mean_encoded_Route                         0.420651            0.052142   \n",
              "Label_encoded_Airline                     -0.033982            0.194054   \n",
              "Label_encoded_Source                       0.308334           -0.196373   \n",
              "Label_encoded_Destination                 -0.672920           -0.083163   \n",
              "Label_encoded_Route                        0.763369            0.055678   \n",
              "Day_of_week                                0.008631           -0.025374   \n",
              "Day_of_month                               0.087448            0.069304   \n",
              "Weekday                                   -0.015694           -0.017799   \n",
              "Month                                      0.047968           -0.017287   \n",
              "Dep_hour                                  -0.047777           -0.006923   \n",
              "\n",
              "                           Mean_encoded_Airline  Mean_encoded_Source  \\\n",
              "Duration                               0.433989             0.414954   \n",
              "Total_Stops                            0.421327             0.559200   \n",
              "Price                                  0.638674             0.359938   \n",
              "Freq_encoded_Airline                   0.581861             0.056089   \n",
              "Freq_encoded_Source                    0.258498             0.975159   \n",
              "Freq_encoded_Destination               0.234645             0.915733   \n",
              "Freq_encoded_Route                     0.158467             0.272478   \n",
              "Mean_encoded_Airline                   1.000000             0.257259   \n",
              "Mean_encoded_Source                    0.257259             1.000000   \n",
              "Mean_encoded_Destination               0.277117             0.732787   \n",
              "Mean_encoded_Route                     0.572144             0.482313   \n",
              "Label_encoded_Airline                 -0.057135            -0.059864   \n",
              "Label_encoded_Source                   0.047805             0.038329   \n",
              "Label_encoded_Destination             -0.094354            -0.606651   \n",
              "Label_encoded_Route                    0.071608             0.496810   \n",
              "Day_of_week                           -0.002266             0.017508   \n",
              "Day_of_month                          -0.038360             0.058600   \n",
              "Weekday                                0.028215            -0.018388   \n",
              "Month                                  0.043311             0.036055   \n",
              "Dep_hour                               0.019624            -0.029458   \n",
              "\n",
              "                           Mean_encoded_Destination  Mean_encoded_Route  \\\n",
              "Duration                                   0.453452            0.671871   \n",
              "Total_Stops                                0.595820            0.806690   \n",
              "Price                                      0.491191            0.746275   \n",
              "Freq_encoded_Airline                       0.102435            0.367567   \n",
              "Freq_encoded_Source                        0.714584            0.470332   \n",
              "Freq_encoded_Destination                   0.633826            0.420651   \n",
              "Freq_encoded_Route                         0.039335            0.052142   \n",
              "Mean_encoded_Airline                       0.277117            0.572144   \n",
              "Mean_encoded_Source                        0.732787            0.482313   \n",
              "Mean_encoded_Destination                   1.000000            0.614966   \n",
              "Mean_encoded_Route                         0.614966            1.000000   \n",
              "Label_encoded_Airline                     -0.082190           -0.058168   \n",
              "Label_encoded_Source                       0.028087            0.018486   \n",
              "Label_encoded_Destination                 -0.134114           -0.117251   \n",
              "Label_encoded_Route                        0.339975            0.206860   \n",
              "Day_of_week                                0.003945           -0.039531   \n",
              "Day_of_month                              -0.011936           -0.073287   \n",
              "Weekday                                   -0.012254            0.049552   \n",
              "Month                                     -0.026473            0.065617   \n",
              "Dep_hour                                  -0.036796           -0.011537   \n",
              "\n",
              "                           Label_encoded_Airline  Label_encoded_Source  \\\n",
              "Duration                               -0.153618              0.162808   \n",
              "Total_Stops                            -0.194549              0.194203   \n",
              "Price                                  -0.036491              0.013796   \n",
              "Freq_encoded_Airline                   -0.200348              0.055926   \n",
              "Freq_encoded_Source                    -0.049748              0.066914   \n",
              "Freq_encoded_Destination               -0.033982              0.308334   \n",
              "Freq_encoded_Route                      0.194054             -0.196373   \n",
              "Mean_encoded_Airline                   -0.057135              0.047805   \n",
              "Mean_encoded_Source                    -0.059864              0.038329   \n",
              "Mean_encoded_Destination               -0.082190              0.028087   \n",
              "Mean_encoded_Route                     -0.058168              0.018486   \n",
              "Label_encoded_Airline                   1.000000             -0.012172   \n",
              "Label_encoded_Source                   -0.012172              1.000000   \n",
              "Label_encoded_Destination               0.015942             -0.589992   \n",
              "Label_encoded_Route                     0.029636              0.403884   \n",
              "Day_of_week                            -0.006939              0.067872   \n",
              "Day_of_month                            0.031915              0.007833   \n",
              "Weekday                                 0.000824             -0.006152   \n",
              "Month                                  -0.008680              0.062742   \n",
              "Dep_hour                               -0.032267              0.060218   \n",
              "\n",
              "                           Label_encoded_Destination  Label_encoded_Route  \\\n",
              "Duration                                   -0.254243             0.273200   \n",
              "Total_Stops                                -0.291763             0.441347   \n",
              "Price                                      -0.065875             0.154374   \n",
              "Freq_encoded_Airline                       -0.035332            -0.065789   \n",
              "Freq_encoded_Source                        -0.544907             0.612054   \n",
              "Freq_encoded_Destination                   -0.672920             0.763369   \n",
              "Freq_encoded_Route                         -0.083163             0.055678   \n",
              "Mean_encoded_Airline                       -0.094354             0.071608   \n",
              "Mean_encoded_Source                        -0.606651             0.496810   \n",
              "Mean_encoded_Destination                   -0.134114             0.339975   \n",
              "Mean_encoded_Route                         -0.117251             0.206860   \n",
              "Label_encoded_Airline                       0.015942             0.029636   \n",
              "Label_encoded_Source                       -0.589992             0.403884   \n",
              "Label_encoded_Destination                   1.000000            -0.457559   \n",
              "Label_encoded_Route                        -0.457559             1.000000   \n",
              "Day_of_week                                -0.096701             0.013211   \n",
              "Day_of_month                               -0.051797             0.094510   \n",
              "Weekday                                     0.022670            -0.017896   \n",
              "Month                                      -0.104578             0.039996   \n",
              "Dep_hour                                   -0.074056            -0.075188   \n",
              "\n",
              "                           Day_of_week  Day_of_month   Weekday     Month  \\\n",
              "Duration                      0.023158     -0.047257  0.005944  0.056328   \n",
              "Total_Stops                   0.006147     -0.035371  0.018291  0.065438   \n",
              "Price                        -0.005112     -0.171142 -0.013267  0.008662   \n",
              "Freq_encoded_Airline          0.004228     -0.038976  0.029408  0.051802   \n",
              "Freq_encoded_Source          -0.007342      0.077903 -0.014222  0.029936   \n",
              "Freq_encoded_Destination      0.008631      0.087448 -0.015694  0.047968   \n",
              "Freq_encoded_Route           -0.025374      0.069304 -0.017799 -0.017287   \n",
              "Mean_encoded_Airline         -0.002266     -0.038360  0.028215  0.043311   \n",
              "Mean_encoded_Source           0.017508      0.058600 -0.018388  0.036055   \n",
              "Mean_encoded_Destination      0.003945     -0.011936 -0.012254 -0.026473   \n",
              "Mean_encoded_Route           -0.039531     -0.073287  0.049552  0.065617   \n",
              "Label_encoded_Airline        -0.006939      0.031915  0.000824 -0.008680   \n",
              "Label_encoded_Source          0.067872      0.007833 -0.006152  0.062742   \n",
              "Label_encoded_Destination    -0.096701     -0.051797  0.022670 -0.104578   \n",
              "Label_encoded_Route           0.013211      0.094510 -0.017896  0.039996   \n",
              "Day_of_week                   1.000000     -0.091499 -0.726731 -0.167740   \n",
              "Day_of_month                 -0.091499      1.000000 -0.045519 -0.265200   \n",
              "Weekday                      -0.726731     -0.045519  1.000000  0.368011   \n",
              "Month                        -0.167740     -0.265200  0.368011  1.000000   \n",
              "Dep_hour                      0.005267     -0.007617  0.009993  0.028462   \n",
              "\n",
              "                           Dep_hour  \n",
              "Duration                  -0.001285  \n",
              "Total_Stops               -0.067523  \n",
              "Price                      0.005155  \n",
              "Freq_encoded_Airline       0.106050  \n",
              "Freq_encoded_Source       -0.060469  \n",
              "Freq_encoded_Destination  -0.047777  \n",
              "Freq_encoded_Route        -0.006923  \n",
              "Mean_encoded_Airline       0.019624  \n",
              "Mean_encoded_Source       -0.029458  \n",
              "Mean_encoded_Destination  -0.036796  \n",
              "Mean_encoded_Route        -0.011537  \n",
              "Label_encoded_Airline     -0.032267  \n",
              "Label_encoded_Source       0.060218  \n",
              "Label_encoded_Destination -0.074056  \n",
              "Label_encoded_Route       -0.075188  \n",
              "Day_of_week                0.005267  \n",
              "Day_of_month              -0.007617  \n",
              "Weekday                    0.009993  \n",
              "Month                      0.028462  \n",
              "Dep_hour                   1.000000  "
            ],
            "text/html": [
              "\n",
              "  <div id=\"df-5a84c549-262f-4b8b-8714-2850f4af6d3a\">\n",
              "    <div class=\"colab-df-container\">\n",
              "      <div>\n",
              "<style scoped>\n",
              "    .dataframe tbody tr th:only-of-type {\n",
              "        vertical-align: middle;\n",
              "    }\n",
              "\n",
              "    .dataframe tbody tr th {\n",
              "        vertical-align: top;\n",
              "    }\n",
              "\n",
              "    .dataframe thead th {\n",
              "        text-align: right;\n",
              "    }\n",
              "</style>\n",
              "<table border=\"1\" class=\"dataframe\">\n",
              "  <thead>\n",
              "    <tr style=\"text-align: right;\">\n",
              "      <th></th>\n",
              "      <th>Duration</th>\n",
              "      <th>Total_Stops</th>\n",
              "      <th>Price</th>\n",
              "      <th>Freq_encoded_Airline</th>\n",
              "      <th>Freq_encoded_Source</th>\n",
              "      <th>Freq_encoded_Destination</th>\n",
              "      <th>Freq_encoded_Route</th>\n",
              "      <th>Mean_encoded_Airline</th>\n",
              "      <th>Mean_encoded_Source</th>\n",
              "      <th>Mean_encoded_Destination</th>\n",
              "      <th>Mean_encoded_Route</th>\n",
              "      <th>Label_encoded_Airline</th>\n",
              "      <th>Label_encoded_Source</th>\n",
              "      <th>Label_encoded_Destination</th>\n",
              "      <th>Label_encoded_Route</th>\n",
              "      <th>Day_of_week</th>\n",
              "      <th>Day_of_month</th>\n",
              "      <th>Weekday</th>\n",
              "      <th>Month</th>\n",
              "      <th>Dep_hour</th>\n",
              "    </tr>\n",
              "  </thead>\n",
              "  <tbody>\n",
              "    <tr>\n",
              "      <th>Duration</th>\n",
              "      <td>1.000000</td>\n",
              "      <td>0.727982</td>\n",
              "      <td>0.501758</td>\n",
              "      <td>0.289457</td>\n",
              "      <td>0.400039</td>\n",
              "      <td>0.403206</td>\n",
              "      <td>-0.111065</td>\n",
              "      <td>0.433989</td>\n",
              "      <td>0.414954</td>\n",
              "      <td>0.453452</td>\n",
              "      <td>0.671871</td>\n",
              "      <td>-0.153618</td>\n",
              "      <td>0.162808</td>\n",
              "      <td>-0.254243</td>\n",
              "      <td>0.273200</td>\n",
              "      <td>0.023158</td>\n",
              "      <td>-0.047257</td>\n",
              "      <td>0.005944</td>\n",
              "      <td>0.056328</td>\n",
              "      <td>-0.001285</td>\n",
              "    </tr>\n",
              "    <tr>\n",
              "      <th>Total_Stops</th>\n",
              "      <td>0.727982</td>\n",
              "      <td>1.000000</td>\n",
              "      <td>0.602013</td>\n",
              "      <td>0.211803</td>\n",
              "      <td>0.571402</td>\n",
              "      <td>0.575447</td>\n",
              "      <td>-0.205605</td>\n",
              "      <td>0.421327</td>\n",
              "      <td>0.559200</td>\n",
              "      <td>0.595820</td>\n",
              "      <td>0.806690</td>\n",
              "      <td>-0.194549</td>\n",
              "      <td>0.194203</td>\n",
              "      <td>-0.291763</td>\n",
              "      <td>0.441347</td>\n",
              "      <td>0.006147</td>\n",
              "      <td>-0.035371</td>\n",
              "      <td>0.018291</td>\n",
              "      <td>0.065438</td>\n",
              "      <td>-0.067523</td>\n",
              "    </tr>\n",
              "    <tr>\n",
              "      <th>Price</th>\n",
              "      <td>0.501758</td>\n",
              "      <td>0.602013</td>\n",
              "      <td>1.000000</td>\n",
              "      <td>0.371620</td>\n",
              "      <td>0.350997</td>\n",
              "      <td>0.311329</td>\n",
              "      <td>0.038912</td>\n",
              "      <td>0.638674</td>\n",
              "      <td>0.359938</td>\n",
              "      <td>0.491191</td>\n",
              "      <td>0.746275</td>\n",
              "      <td>-0.036491</td>\n",
              "      <td>0.013796</td>\n",
              "      <td>-0.065875</td>\n",
              "      <td>0.154374</td>\n",
              "      <td>-0.005112</td>\n",
              "      <td>-0.171142</td>\n",
              "      <td>-0.013267</td>\n",
              "      <td>0.008662</td>\n",
              "      <td>0.005155</td>\n",
              "    </tr>\n",
              "    <tr>\n",
              "      <th>Freq_encoded_Airline</th>\n",
              "      <td>0.289457</td>\n",
              "      <td>0.211803</td>\n",
              "      <td>0.371620</td>\n",
              "      <td>1.000000</td>\n",
              "      <td>0.038026</td>\n",
              "      <td>0.029203</td>\n",
              "      <td>0.019636</td>\n",
              "      <td>0.581861</td>\n",
              "      <td>0.056089</td>\n",
              "      <td>0.102435</td>\n",
              "      <td>0.367567</td>\n",
              "      <td>-0.200348</td>\n",
              "      <td>0.055926</td>\n",
              "      <td>-0.035332</td>\n",
              "      <td>-0.065789</td>\n",
              "      <td>0.004228</td>\n",
              "      <td>-0.038976</td>\n",
              "      <td>0.029408</td>\n",
              "      <td>0.051802</td>\n",
              "      <td>0.106050</td>\n",
              "    </tr>\n",
              "    <tr>\n",
              "      <th>Freq_encoded_Source</th>\n",
              "      <td>0.400039</td>\n",
              "      <td>0.571402</td>\n",
              "      <td>0.350997</td>\n",
              "      <td>0.038026</td>\n",
              "      <td>1.000000</td>\n",
              "      <td>0.959924</td>\n",
              "      <td>0.303115</td>\n",
              "      <td>0.258498</td>\n",
              "      <td>0.975159</td>\n",
              "      <td>0.714584</td>\n",
              "      <td>0.470332</td>\n",
              "      <td>-0.049748</td>\n",
              "      <td>0.066914</td>\n",
              "      <td>-0.544907</td>\n",
              "      <td>0.612054</td>\n",
              "      <td>-0.007342</td>\n",
              "      <td>0.077903</td>\n",
              "      <td>-0.014222</td>\n",
              "      <td>0.029936</td>\n",
              "      <td>-0.060469</td>\n",
              "    </tr>\n",
              "    <tr>\n",
              "      <th>Freq_encoded_Destination</th>\n",
              "      <td>0.403206</td>\n",
              "      <td>0.575447</td>\n",
              "      <td>0.311329</td>\n",
              "      <td>0.029203</td>\n",
              "      <td>0.959924</td>\n",
              "      <td>1.000000</td>\n",
              "      <td>0.247081</td>\n",
              "      <td>0.234645</td>\n",
              "      <td>0.915733</td>\n",
              "      <td>0.633826</td>\n",
              "      <td>0.420651</td>\n",
              "      <td>-0.033982</td>\n",
              "      <td>0.308334</td>\n",
              "      <td>-0.672920</td>\n",
              "      <td>0.763369</td>\n",
              "      <td>0.008631</td>\n",
              "      <td>0.087448</td>\n",
              "      <td>-0.015694</td>\n",
              "      <td>0.047968</td>\n",
              "      <td>-0.047777</td>\n",
              "    </tr>\n",
              "    <tr>\n",
              "      <th>Freq_encoded_Route</th>\n",
              "      <td>-0.111065</td>\n",
              "      <td>-0.205605</td>\n",
              "      <td>0.038912</td>\n",
              "      <td>0.019636</td>\n",
              "      <td>0.303115</td>\n",
              "      <td>0.247081</td>\n",
              "      <td>1.000000</td>\n",
              "      <td>0.158467</td>\n",
              "      <td>0.272478</td>\n",
              "      <td>0.039335</td>\n",
              "      <td>0.052142</td>\n",
              "      <td>0.194054</td>\n",
              "      <td>-0.196373</td>\n",
              "      <td>-0.083163</td>\n",
              "      <td>0.055678</td>\n",
              "      <td>-0.025374</td>\n",
              "      <td>0.069304</td>\n",
              "      <td>-0.017799</td>\n",
              "      <td>-0.017287</td>\n",
              "      <td>-0.006923</td>\n",
              "    </tr>\n",
              "    <tr>\n",
              "      <th>Mean_encoded_Airline</th>\n",
              "      <td>0.433989</td>\n",
              "      <td>0.421327</td>\n",
              "      <td>0.638674</td>\n",
              "      <td>0.581861</td>\n",
              "      <td>0.258498</td>\n",
              "      <td>0.234645</td>\n",
              "      <td>0.158467</td>\n",
              "      <td>1.000000</td>\n",
              "      <td>0.257259</td>\n",
              "      <td>0.277117</td>\n",
              "      <td>0.572144</td>\n",
              "      <td>-0.057135</td>\n",
              "      <td>0.047805</td>\n",
              "      <td>-0.094354</td>\n",
              "      <td>0.071608</td>\n",
              "      <td>-0.002266</td>\n",
              "      <td>-0.038360</td>\n",
              "      <td>0.028215</td>\n",
              "      <td>0.043311</td>\n",
              "      <td>0.019624</td>\n",
              "    </tr>\n",
              "    <tr>\n",
              "      <th>Mean_encoded_Source</th>\n",
              "      <td>0.414954</td>\n",
              "      <td>0.559200</td>\n",
              "      <td>0.359938</td>\n",
              "      <td>0.056089</td>\n",
              "      <td>0.975159</td>\n",
              "      <td>0.915733</td>\n",
              "      <td>0.272478</td>\n",
              "      <td>0.257259</td>\n",
              "      <td>1.000000</td>\n",
              "      <td>0.732787</td>\n",
              "      <td>0.482313</td>\n",
              "      <td>-0.059864</td>\n",
              "      <td>0.038329</td>\n",
              "      <td>-0.606651</td>\n",
              "      <td>0.496810</td>\n",
              "      <td>0.017508</td>\n",
              "      <td>0.058600</td>\n",
              "      <td>-0.018388</td>\n",
              "      <td>0.036055</td>\n",
              "      <td>-0.029458</td>\n",
              "    </tr>\n",
              "    <tr>\n",
              "      <th>Mean_encoded_Destination</th>\n",
              "      <td>0.453452</td>\n",
              "      <td>0.595820</td>\n",
              "      <td>0.491191</td>\n",
              "      <td>0.102435</td>\n",
              "      <td>0.714584</td>\n",
              "      <td>0.633826</td>\n",
              "      <td>0.039335</td>\n",
              "      <td>0.277117</td>\n",
              "      <td>0.732787</td>\n",
              "      <td>1.000000</td>\n",
              "      <td>0.614966</td>\n",
              "      <td>-0.082190</td>\n",
              "      <td>0.028087</td>\n",
              "      <td>-0.134114</td>\n",
              "      <td>0.339975</td>\n",
              "      <td>0.003945</td>\n",
              "      <td>-0.011936</td>\n",
              "      <td>-0.012254</td>\n",
              "      <td>-0.026473</td>\n",
              "      <td>-0.036796</td>\n",
              "    </tr>\n",
              "    <tr>\n",
              "      <th>Mean_encoded_Route</th>\n",
              "      <td>0.671871</td>\n",
              "      <td>0.806690</td>\n",
              "      <td>0.746275</td>\n",
              "      <td>0.367567</td>\n",
              "      <td>0.470332</td>\n",
              "      <td>0.420651</td>\n",
              "      <td>0.052142</td>\n",
              "      <td>0.572144</td>\n",
              "      <td>0.482313</td>\n",
              "      <td>0.614966</td>\n",
              "      <td>1.000000</td>\n",
              "      <td>-0.058168</td>\n",
              "      <td>0.018486</td>\n",
              "      <td>-0.117251</td>\n",
              "      <td>0.206860</td>\n",
              "      <td>-0.039531</td>\n",
              "      <td>-0.073287</td>\n",
              "      <td>0.049552</td>\n",
              "      <td>0.065617</td>\n",
              "      <td>-0.011537</td>\n",
              "    </tr>\n",
              "    <tr>\n",
              "      <th>Label_encoded_Airline</th>\n",
              "      <td>-0.153618</td>\n",
              "      <td>-0.194549</td>\n",
              "      <td>-0.036491</td>\n",
              "      <td>-0.200348</td>\n",
              "      <td>-0.049748</td>\n",
              "      <td>-0.033982</td>\n",
              "      <td>0.194054</td>\n",
              "      <td>-0.057135</td>\n",
              "      <td>-0.059864</td>\n",
              "      <td>-0.082190</td>\n",
              "      <td>-0.058168</td>\n",
              "      <td>1.000000</td>\n",
              "      <td>-0.012172</td>\n",
              "      <td>0.015942</td>\n",
              "      <td>0.029636</td>\n",
              "      <td>-0.006939</td>\n",
              "      <td>0.031915</td>\n",
              "      <td>0.000824</td>\n",
              "      <td>-0.008680</td>\n",
              "      <td>-0.032267</td>\n",
              "    </tr>\n",
              "    <tr>\n",
              "      <th>Label_encoded_Source</th>\n",
              "      <td>0.162808</td>\n",
              "      <td>0.194203</td>\n",
              "      <td>0.013796</td>\n",
              "      <td>0.055926</td>\n",
              "      <td>0.066914</td>\n",
              "      <td>0.308334</td>\n",
              "      <td>-0.196373</td>\n",
              "      <td>0.047805</td>\n",
              "      <td>0.038329</td>\n",
              "      <td>0.028087</td>\n",
              "      <td>0.018486</td>\n",
              "      <td>-0.012172</td>\n",
              "      <td>1.000000</td>\n",
              "      <td>-0.589992</td>\n",
              "      <td>0.403884</td>\n",
              "      <td>0.067872</td>\n",
              "      <td>0.007833</td>\n",
              "      <td>-0.006152</td>\n",
              "      <td>0.062742</td>\n",
              "      <td>0.060218</td>\n",
              "    </tr>\n",
              "    <tr>\n",
              "      <th>Label_encoded_Destination</th>\n",
              "      <td>-0.254243</td>\n",
              "      <td>-0.291763</td>\n",
              "      <td>-0.065875</td>\n",
              "      <td>-0.035332</td>\n",
              "      <td>-0.544907</td>\n",
              "      <td>-0.672920</td>\n",
              "      <td>-0.083163</td>\n",
              "      <td>-0.094354</td>\n",
              "      <td>-0.606651</td>\n",
              "      <td>-0.134114</td>\n",
              "      <td>-0.117251</td>\n",
              "      <td>0.015942</td>\n",
              "      <td>-0.589992</td>\n",
              "      <td>1.000000</td>\n",
              "      <td>-0.457559</td>\n",
              "      <td>-0.096701</td>\n",
              "      <td>-0.051797</td>\n",
              "      <td>0.022670</td>\n",
              "      <td>-0.104578</td>\n",
              "      <td>-0.074056</td>\n",
              "    </tr>\n",
              "    <tr>\n",
              "      <th>Label_encoded_Route</th>\n",
              "      <td>0.273200</td>\n",
              "      <td>0.441347</td>\n",
              "      <td>0.154374</td>\n",
              "      <td>-0.065789</td>\n",
              "      <td>0.612054</td>\n",
              "      <td>0.763369</td>\n",
              "      <td>0.055678</td>\n",
              "      <td>0.071608</td>\n",
              "      <td>0.496810</td>\n",
              "      <td>0.339975</td>\n",
              "      <td>0.206860</td>\n",
              "      <td>0.029636</td>\n",
              "      <td>0.403884</td>\n",
              "      <td>-0.457559</td>\n",
              "      <td>1.000000</td>\n",
              "      <td>0.013211</td>\n",
              "      <td>0.094510</td>\n",
              "      <td>-0.017896</td>\n",
              "      <td>0.039996</td>\n",
              "      <td>-0.075188</td>\n",
              "    </tr>\n",
              "    <tr>\n",
              "      <th>Day_of_week</th>\n",
              "      <td>0.023158</td>\n",
              "      <td>0.006147</td>\n",
              "      <td>-0.005112</td>\n",
              "      <td>0.004228</td>\n",
              "      <td>-0.007342</td>\n",
              "      <td>0.008631</td>\n",
              "      <td>-0.025374</td>\n",
              "      <td>-0.002266</td>\n",
              "      <td>0.017508</td>\n",
              "      <td>0.003945</td>\n",
              "      <td>-0.039531</td>\n",
              "      <td>-0.006939</td>\n",
              "      <td>0.067872</td>\n",
              "      <td>-0.096701</td>\n",
              "      <td>0.013211</td>\n",
              "      <td>1.000000</td>\n",
              "      <td>-0.091499</td>\n",
              "      <td>-0.726731</td>\n",
              "      <td>-0.167740</td>\n",
              "      <td>0.005267</td>\n",
              "    </tr>\n",
              "    <tr>\n",
              "      <th>Day_of_month</th>\n",
              "      <td>-0.047257</td>\n",
              "      <td>-0.035371</td>\n",
              "      <td>-0.171142</td>\n",
              "      <td>-0.038976</td>\n",
              "      <td>0.077903</td>\n",
              "      <td>0.087448</td>\n",
              "      <td>0.069304</td>\n",
              "      <td>-0.038360</td>\n",
              "      <td>0.058600</td>\n",
              "      <td>-0.011936</td>\n",
              "      <td>-0.073287</td>\n",
              "      <td>0.031915</td>\n",
              "      <td>0.007833</td>\n",
              "      <td>-0.051797</td>\n",
              "      <td>0.094510</td>\n",
              "      <td>-0.091499</td>\n",
              "      <td>1.000000</td>\n",
              "      <td>-0.045519</td>\n",
              "      <td>-0.265200</td>\n",
              "      <td>-0.007617</td>\n",
              "    </tr>\n",
              "    <tr>\n",
              "      <th>Weekday</th>\n",
              "      <td>0.005944</td>\n",
              "      <td>0.018291</td>\n",
              "      <td>-0.013267</td>\n",
              "      <td>0.029408</td>\n",
              "      <td>-0.014222</td>\n",
              "      <td>-0.015694</td>\n",
              "      <td>-0.017799</td>\n",
              "      <td>0.028215</td>\n",
              "      <td>-0.018388</td>\n",
              "      <td>-0.012254</td>\n",
              "      <td>0.049552</td>\n",
              "      <td>0.000824</td>\n",
              "      <td>-0.006152</td>\n",
              "      <td>0.022670</td>\n",
              "      <td>-0.017896</td>\n",
              "      <td>-0.726731</td>\n",
              "      <td>-0.045519</td>\n",
              "      <td>1.000000</td>\n",
              "      <td>0.368011</td>\n",
              "      <td>0.009993</td>\n",
              "    </tr>\n",
              "    <tr>\n",
              "      <th>Month</th>\n",
              "      <td>0.056328</td>\n",
              "      <td>0.065438</td>\n",
              "      <td>0.008662</td>\n",
              "      <td>0.051802</td>\n",
              "      <td>0.029936</td>\n",
              "      <td>0.047968</td>\n",
              "      <td>-0.017287</td>\n",
              "      <td>0.043311</td>\n",
              "      <td>0.036055</td>\n",
              "      <td>-0.026473</td>\n",
              "      <td>0.065617</td>\n",
              "      <td>-0.008680</td>\n",
              "      <td>0.062742</td>\n",
              "      <td>-0.104578</td>\n",
              "      <td>0.039996</td>\n",
              "      <td>-0.167740</td>\n",
              "      <td>-0.265200</td>\n",
              "      <td>0.368011</td>\n",
              "      <td>1.000000</td>\n",
              "      <td>0.028462</td>\n",
              "    </tr>\n",
              "    <tr>\n",
              "      <th>Dep_hour</th>\n",
              "      <td>-0.001285</td>\n",
              "      <td>-0.067523</td>\n",
              "      <td>0.005155</td>\n",
              "      <td>0.106050</td>\n",
              "      <td>-0.060469</td>\n",
              "      <td>-0.047777</td>\n",
              "      <td>-0.006923</td>\n",
              "      <td>0.019624</td>\n",
              "      <td>-0.029458</td>\n",
              "      <td>-0.036796</td>\n",
              "      <td>-0.011537</td>\n",
              "      <td>-0.032267</td>\n",
              "      <td>0.060218</td>\n",
              "      <td>-0.074056</td>\n",
              "      <td>-0.075188</td>\n",
              "      <td>0.005267</td>\n",
              "      <td>-0.007617</td>\n",
              "      <td>0.009993</td>\n",
              "      <td>0.028462</td>\n",
              "      <td>1.000000</td>\n",
              "    </tr>\n",
              "  </tbody>\n",
              "</table>\n",
              "</div>\n",
              "      <button class=\"colab-df-convert\" onclick=\"convertToInteractive('df-5a84c549-262f-4b8b-8714-2850f4af6d3a')\"\n",
              "              title=\"Convert this dataframe to an interactive table.\"\n",
              "              style=\"display:none;\">\n",
              "        \n",
              "  <svg xmlns=\"http://www.w3.org/2000/svg\" height=\"24px\"viewBox=\"0 0 24 24\"\n",
              "       width=\"24px\">\n",
              "    <path d=\"M0 0h24v24H0V0z\" fill=\"none\"/>\n",
              "    <path d=\"M18.56 5.44l.94 2.06.94-2.06 2.06-.94-2.06-.94-.94-2.06-.94 2.06-2.06.94zm-11 1L8.5 8.5l.94-2.06 2.06-.94-2.06-.94L8.5 2.5l-.94 2.06-2.06.94zm10 10l.94 2.06.94-2.06 2.06-.94-2.06-.94-.94-2.06-.94 2.06-2.06.94z\"/><path d=\"M17.41 7.96l-1.37-1.37c-.4-.4-.92-.59-1.43-.59-.52 0-1.04.2-1.43.59L10.3 9.45l-7.72 7.72c-.78.78-.78 2.05 0 2.83L4 21.41c.39.39.9.59 1.41.59.51 0 1.02-.2 1.41-.59l7.78-7.78 2.81-2.81c.8-.78.8-2.07 0-2.86zM5.41 20L4 18.59l7.72-7.72 1.47 1.35L5.41 20z\"/>\n",
              "  </svg>\n",
              "      </button>\n",
              "      \n",
              "  <style>\n",
              "    .colab-df-container {\n",
              "      display:flex;\n",
              "      flex-wrap:wrap;\n",
              "      gap: 12px;\n",
              "    }\n",
              "\n",
              "    .colab-df-convert {\n",
              "      background-color: #E8F0FE;\n",
              "      border: none;\n",
              "      border-radius: 50%;\n",
              "      cursor: pointer;\n",
              "      display: none;\n",
              "      fill: #1967D2;\n",
              "      height: 32px;\n",
              "      padding: 0 0 0 0;\n",
              "      width: 32px;\n",
              "    }\n",
              "\n",
              "    .colab-df-convert:hover {\n",
              "      background-color: #E2EBFA;\n",
              "      box-shadow: 0px 1px 2px rgba(60, 64, 67, 0.3), 0px 1px 3px 1px rgba(60, 64, 67, 0.15);\n",
              "      fill: #174EA6;\n",
              "    }\n",
              "\n",
              "    [theme=dark] .colab-df-convert {\n",
              "      background-color: #3B4455;\n",
              "      fill: #D2E3FC;\n",
              "    }\n",
              "\n",
              "    [theme=dark] .colab-df-convert:hover {\n",
              "      background-color: #434B5C;\n",
              "      box-shadow: 0px 1px 3px 1px rgba(0, 0, 0, 0.15);\n",
              "      filter: drop-shadow(0px 1px 2px rgba(0, 0, 0, 0.3));\n",
              "      fill: #FFFFFF;\n",
              "    }\n",
              "  </style>\n",
              "\n",
              "      <script>\n",
              "        const buttonEl =\n",
              "          document.querySelector('#df-5a84c549-262f-4b8b-8714-2850f4af6d3a button.colab-df-convert');\n",
              "        buttonEl.style.display =\n",
              "          google.colab.kernel.accessAllowed ? 'block' : 'none';\n",
              "\n",
              "        async function convertToInteractive(key) {\n",
              "          const element = document.querySelector('#df-5a84c549-262f-4b8b-8714-2850f4af6d3a');\n",
              "          const dataTable =\n",
              "            await google.colab.kernel.invokeFunction('convertToInteractive',\n",
              "                                                     [key], {});\n",
              "          if (!dataTable) return;\n",
              "\n",
              "          const docLinkHtml = 'Like what you see? Visit the ' +\n",
              "            '<a target=\"_blank\" href=https://colab.research.google.com/notebooks/data_table.ipynb>data table notebook</a>'\n",
              "            + ' to learn more about interactive tables.';\n",
              "          element.innerHTML = '';\n",
              "          dataTable['output_type'] = 'display_data';\n",
              "          await google.colab.output.renderOutput(dataTable, element);\n",
              "          const docLink = document.createElement('div');\n",
              "          docLink.innerHTML = docLinkHtml;\n",
              "          element.appendChild(docLink);\n",
              "        }\n",
              "      </script>\n",
              "    </div>\n",
              "  </div>\n",
              "  "
            ]
          },
          "metadata": {},
          "execution_count": 517
        }
      ],
      "source": [
        "# create correlation plot again:\n",
        "\n",
        "df.corr()"
      ]
    },
    {
      "cell_type": "code",
      "execution_count": null,
      "metadata": {
        "colab": {
          "base_uri": "https://localhost:8080/",
          "height": 841
        },
        "id": "Ih03vX91o_oY",
        "outputId": "5d11fe1f-c749-46c3-fe8a-22921e6b3f2b"
      },
      "outputs": [
        {
          "output_type": "display_data",
          "data": {
            "text/plain": [
              "<Figure size 1800x1440 with 2 Axes>"
            ],
            "image/png": "[encoded data removed]"
          },
          "metadata": {
            "needs_background": "light"
          }
        }
      ],
      "source": [
        "# as we added new columns and already check correlation between them.\n",
        "# let's check with heatmap with new columns:\n",
        "\n",
        "plt.figure(figsize=(25,20))\n",
        "sns.heatmap(df.corr(), cmap = 'YlOrBr')\n",
        "plt.show()"
      ]
    },
    {
      "cell_type": "markdown",
      "metadata": {
        "id": "hKZ5Aiwfz_sD"
      },
      "source": [
        "- Higher order of features can be used as well and these are called \"polynomial features\".\n",
        "- \"Domain based features\" can be added as well if applicable."
      ]
    },
    {
      "cell_type": "code",
      "execution_count": null,
      "metadata": {
        "id": "M6AfCdIKo_tf"
      },
      "outputs": [],
      "source": [
        "# Generating additional features in dataframe: \n",
        "\n",
        "def generate_additional_features(df):\n",
        "  \"\"\"\n",
        "  This Function generates additional features.\n",
        "  Input:\n",
        "      df: DataFrame from which feature has to be generated.\n",
        "  Return:\n",
        "      None\n",
        "  \"\"\"\n",
        "  # Time base features can be generated.\n",
        "  # as we have \"Date_of_journey\" column from that\n",
        "  # we can generate day_of_week, weekdays, moth and deapture hour:\n",
        "\n",
        "  # Day_of_week:\n",
        "  # use 'dt.day_of_week':\n",
        "  df['Day_of_week'] = df[\"Date_of_Journey\"].dt.day_of_week\n",
        "\n",
        "  #  Day_of_month:\n",
        "  # use 'dt.day':\n",
        "  df['Day_of_month'] = df['Date_of_Journey'].dt.day \n",
        "\n",
        "  # Weekday: # where we create 'Day_of_week' column just above:\n",
        "  # use 'np.where' for days of the week where [5,6] means saturday,sunday:\n",
        "  df[\"Weekday\"] = np.where(df[\"Day_of_week\"].isin([5,6]),0,1)\n",
        "\n",
        "  # Month of Travel:\n",
        "  # use 'dt.month':\n",
        "  df['Month'] = df['Date_of_Journey'].dt.month\n",
        "\n",
        "  # Hour of Depature etc: # as we already have 'Dep_Time' column:\n",
        "  # use 'dt.hour':\n",
        "  df['Dep_hour'] = df['Dep_Time'].dt.hour\n",
        "\n",
        "generate_additional_features(df)"
      ]
    },
    {
      "cell_type": "code",
      "execution_count": null,
      "metadata": {
        "colab": {
          "base_uri": "https://localhost:8080/"
        },
        "id": "tAc3Txxro_wq",
        "outputId": "8146afdc-0db7-407f-8f95-fce4db1f3b85"
      },
      "outputs": [
        {
          "output_type": "stream",
          "name": "stdout",
          "text": [
            "<class 'pandas.core.frame.DataFrame'>\n",
            "Int64Index: 10462 entries, 0 to 10682\n",
            "Data columns (total 27 columns):\n",
            " #   Column                     Non-Null Count  Dtype         \n",
            "---  ------                     --------------  -----         \n",
            " 0   Airline                    10462 non-null  object        \n",
            " 1   Date_of_Journey            10462 non-null  datetime64[ns]\n",
            " 2   Source                     10462 non-null  object        \n",
            " 3   Destination                10462 non-null  object        \n",
            " 4   Route                      10462 non-null  object        \n",
            " 5   Dep_Time                   10462 non-null  datetime64[ns]\n",
            " 6   Arrival_Time               10462 non-null  datetime64[ns]\n",
            " 7   Duration                   10462 non-null  int64         \n",
            " 8   Total_Stops                10462 non-null  float64       \n",
            " 9   Price                      10462 non-null  int64         \n",
            " 10  Freq_encoded_Airline       10462 non-null  float64       \n",
            " 11  Freq_encoded_Source        10462 non-null  float64       \n",
            " 12  Freq_encoded_Destination   10462 non-null  float64       \n",
            " 13  Freq_encoded_Route         10462 non-null  float64       \n",
            " 14  Mean_encoded_Airline       10462 non-null  float64       \n",
            " 15  Mean_encoded_Source        10462 non-null  float64       \n",
            " 16  Mean_encoded_Destination   10462 non-null  float64       \n",
            " 17  Mean_encoded_Route         10462 non-null  float64       \n",
            " 18  Label_encoded_Airline      10462 non-null  int64         \n",
            " 19  Label_encoded_Source       10462 non-null  int64         \n",
            " 20  Label_encoded_Destination  10462 non-null  int64         \n",
            " 21  Label_encoded_Route        10462 non-null  int64         \n",
            " 22  Day_of_week                10462 non-null  int64         \n",
            " 23  Day_of_month               10462 non-null  int64         \n",
            " 24  Weekday                    10462 non-null  int64         \n",
            " 25  Month                      10462 non-null  int64         \n",
            " 26  Dep_hour                   10462 non-null  int64         \n",
            "dtypes: datetime64[ns](3), float64(9), int64(11), object(4)\n",
            "memory usage: 2.5+ MB\n"
          ]
        }
      ],
      "source": [
        "df.info()"
      ]
    },
    {
      "cell_type": "markdown",
      "metadata": {
        "id": "rSIB9cgr1wL0"
      },
      "source": [
        "## Scaling the Data:"
      ]
    },
    {
      "cell_type": "code",
      "execution_count": null,
      "metadata": {
        "id": "RiVMCvBwo_zu"
      },
      "outputs": [],
      "source": [
        "# Can added based on distribution of data.\n",
        "# Gaussian like feature with bell-shaped curve can be scale with Standarization.\n",
        "# No-Gaussian or skewed data can be scaled with Normalization."
      ]
    },
    {
      "cell_type": "code",
      "execution_count": null,
      "metadata": {
        "id": "rryHffBao_3A"
      },
      "outputs": [],
      "source": [
        "# Can be added as a pipeline."
      ]
    },
    {
      "cell_type": "markdown",
      "metadata": {
        "id": "1dTx_imN2RPv"
      },
      "source": [
        "## Model Building:"
      ]
    },
    {
      "cell_type": "code",
      "execution_count": null,
      "metadata": {
        "colab": {
          "base_uri": "https://localhost:8080/"
        },
        "id": "6EHarTgqo_50",
        "outputId": "ec9ba07b-c2d4-4091-db94-66bd1bf9519d"
      },
      "outputs": [
        {
          "output_type": "execute_result",
          "data": {
            "text/plain": [
              "Index(['Airline', 'Date_of_Journey', 'Source', 'Destination', 'Route',\n",
              "       'Dep_Time', 'Arrival_Time', 'Duration', 'Total_Stops', 'Price',\n",
              "       'Freq_encoded_Airline', 'Freq_encoded_Source',\n",
              "       'Freq_encoded_Destination', 'Freq_encoded_Route',\n",
              "       'Mean_encoded_Airline', 'Mean_encoded_Source',\n",
              "       'Mean_encoded_Destination', 'Mean_encoded_Route',\n",
              "       'Label_encoded_Airline', 'Label_encoded_Source',\n",
              "       'Label_encoded_Destination', 'Label_encoded_Route', 'Day_of_week',\n",
              "       'Day_of_month', 'Weekday', 'Month', 'Dep_hour'],\n",
              "      dtype='object')"
            ]
          },
          "metadata": {},
          "execution_count": 523
        }
      ],
      "source": [
        "df.columns"
      ]
    },
    {
      "cell_type": "code",
      "execution_count": null,
      "metadata": {
        "id": "ckizwMOWpADM"
      },
      "outputs": [],
      "source": [
        "# Seperate predictors and Target variables.\n",
        "\n",
        "X = df.drop(['Airline', 'Date_of_Journey', 'Source', 'Destination', 'Route',\n",
        "       'Dep_Time', 'Arrival_Time', 'Price'], axis=1)\n",
        "y = df[\"Price\"]"
      ]
    },
    {
      "cell_type": "code",
      "execution_count": null,
      "metadata": {
        "id": "ctQ8Lr7spAF5"
      },
      "outputs": [],
      "source": [
        "def filter_predictor_columns(df):\n",
        "  \"\"\"\n",
        "  This function filters predictor columns from incoming Data.\n",
        "  \"\"\"\n",
        "\n",
        "  predictor_columns = ['Duration', 'Total_Stops',\n",
        "       'Freq_encoded_Airline', 'Freq_encoded_Source',\n",
        "       'Freq_encoded_Destination', 'Freq_encoded_Route',\n",
        "       'Mean_encoded_Airline', 'Mean_encoded_Source',\n",
        "       'Mean_encoded_Destination', 'Mean_encoded_Route',\n",
        "       'Label_encoded_Airline', 'Label_encoded_Source',\n",
        "       'Label_encoded_Destination', 'Label_encoded_Route', 'Day_of_week',\n",
        "       'Day_of_month', 'Weekday', 'Month', 'Dep_hour']\n",
        "  return df[predictor_columns]"
      ]
    },
    {
      "cell_type": "code",
      "execution_count": null,
      "metadata": {
        "colab": {
          "base_uri": "https://localhost:8080/",
          "height": 487
        },
        "id": "gaUvN_jJpAIm",
        "outputId": "898ddbfd-d39d-4f60-b340-f1611429a5b5"
      },
      "outputs": [
        {
          "output_type": "execute_result",
          "data": {
            "text/plain": [
              "       Duration  Total_Stops  Freq_encoded_Airline  Freq_encoded_Source  \\\n",
              "0           170          0.0              0.195278             0.208278   \n",
              "1           445          2.0              0.161919             0.273370   \n",
              "2          1140          2.0              0.353661             0.415313   \n",
              "3           325          1.0              0.195278             0.273370   \n",
              "4           285          1.0              0.195278             0.208278   \n",
              "...         ...          ...                   ...                  ...   \n",
              "10678       150          0.0              0.030491             0.273370   \n",
              "10679       155          0.0              0.161919             0.273370   \n",
              "10680       180          0.0              0.353661             0.208278   \n",
              "10681       160          0.0              0.045689             0.208278   \n",
              "10682       500          2.0              0.161919             0.415313   \n",
              "\n",
              "       Freq_encoded_Destination  Freq_encoded_Route  Mean_encoded_Airline  \\\n",
              "0                      0.087364            0.146817           5668.469897   \n",
              "1                      0.273370            0.000574           9556.608028   \n",
              "2                      0.415313            0.003919          11599.021081   \n",
              "3                      0.273370            0.000860           5668.469897   \n",
              "4                      0.087364            0.000287           5668.469897   \n",
              "...                         ...                 ...                   ...   \n",
              "10678                  0.273370            0.069203           5590.260188   \n",
              "10679                  0.273370            0.069203           9556.608028   \n",
              "10680                  0.120914            0.146817          11599.021081   \n",
              "10681                  0.087364            0.146817           7801.355649   \n",
              "10682                  0.415313            0.004206           9556.608028   \n",
              "\n",
              "       Mean_encoded_Source  Mean_encoded_Destination  Mean_encoded_Route  \\\n",
              "0              8022.872877              12007.421225         5552.235677   \n",
              "1              9143.083566               9143.083566         7369.166667   \n",
              "2             10461.600690              10461.600690        13277.195122   \n",
              "3              9143.083566               9143.083566         6279.333333   \n",
              "4              8022.872877              12007.421225        11313.000000   \n",
              "...                    ...                       ...                 ...   \n",
              "10678          9143.083566               9143.083566         4556.055249   \n",
              "10679          9143.083566               9143.083566         4556.055249   \n",
              "10680          8022.872877               5143.918577         5552.235677   \n",
              "10681          8022.872877              12007.421225         5552.235677   \n",
              "10682         10461.600690              10461.600690        11941.818182   \n",
              "\n",
              "       Label_encoded_Airline  Label_encoded_Source  Label_encoded_Destination  \\\n",
              "0                          3                     0                          5   \n",
              "1                          1                     3                          0   \n",
              "2                          4                     2                          1   \n",
              "3                          3                     3                          0   \n",
              "4                          3                     0                          5   \n",
              "...                      ...                   ...                        ...   \n",
              "10678                      0                     3                          0   \n",
              "10679                      1                     3                          0   \n",
              "10680                      4                     0                          2   \n",
              "10681                     10                     0                          5   \n",
              "10682                      1                     2                          1   \n",
              "\n",
              "       Label_encoded_Route  Day_of_week  Day_of_month  Weekday  Month  \\\n",
              "0                       18            6            24        0      3   \n",
              "1                       84            5             5        0      1   \n",
              "2                      118            4             6        1      9   \n",
              "3                       91            3             5        1     12   \n",
              "4                       29            3             3        1      1   \n",
              "...                    ...          ...           ...      ...    ...   \n",
              "10678                   64            2             4        1      9   \n",
              "10679                   64            5            27        0      4   \n",
              "10680                   18            5            27        0      4   \n",
              "10681                   18            3             3        1      1   \n",
              "10682                  108            3             5        1      9   \n",
              "\n",
              "       Dep_hour  \n",
              "0            22  \n",
              "1             5  \n",
              "2             9  \n",
              "3            18  \n",
              "4            16  \n",
              "...         ...  \n",
              "10678        19  \n",
              "10679        20  \n",
              "10680         8  \n",
              "10681        11  \n",
              "10682        10  \n",
              "\n",
              "[10462 rows x 19 columns]"
            ],
            "text/html": [
              "\n",
              "  <div id=\"df-ff614715-4250-4327-8ca8-035708d94213\">\n",
              "    <div class=\"colab-df-container\">\n",
              "      <div>\n",
              "<style scoped>\n",
              "    .dataframe tbody tr th:only-of-type {\n",
              "        vertical-align: middle;\n",
              "    }\n",
              "\n",
              "    .dataframe tbody tr th {\n",
              "        vertical-align: top;\n",
              "    }\n",
              "\n",
              "    .dataframe thead th {\n",
              "        text-align: right;\n",
              "    }\n",
              "</style>\n",
              "<table border=\"1\" class=\"dataframe\">\n",
              "  <thead>\n",
              "    <tr style=\"text-align: right;\">\n",
              "      <th></th>\n",
              "      <th>Duration</th>\n",
              "      <th>Total_Stops</th>\n",
              "      <th>Freq_encoded_Airline</th>\n",
              "      <th>Freq_encoded_Source</th>\n",
              "      <th>Freq_encoded_Destination</th>\n",
              "      <th>Freq_encoded_Route</th>\n",
              "      <th>Mean_encoded_Airline</th>\n",
              "      <th>Mean_encoded_Source</th>\n",
              "      <th>Mean_encoded_Destination</th>\n",
              "      <th>Mean_encoded_Route</th>\n",
              "      <th>Label_encoded_Airline</th>\n",
              "      <th>Label_encoded_Source</th>\n",
              "      <th>Label_encoded_Destination</th>\n",
              "      <th>Label_encoded_Route</th>\n",
              "      <th>Day_of_week</th>\n",
              "      <th>Day_of_month</th>\n",
              "      <th>Weekday</th>\n",
              "      <th>Month</th>\n",
              "      <th>Dep_hour</th>\n",
              "    </tr>\n",
              "  </thead>\n",
              "  <tbody>\n",
              "    <tr>\n",
              "      <th>0</th>\n",
              "      <td>170</td>\n",
              "      <td>0.0</td>\n",
              "      <td>0.195278</td>\n",
              "      <td>0.208278</td>\n",
              "      <td>0.087364</td>\n",
              "      <td>0.146817</td>\n",
              "      <td>5668.469897</td>\n",
              "      <td>8022.872877</td>\n",
              "      <td>12007.421225</td>\n",
              "      <td>5552.235677</td>\n",
              "      <td>3</td>\n",
              "      <td>0</td>\n",
              "      <td>5</td>\n",
              "      <td>18</td>\n",
              "      <td>6</td>\n",
              "      <td>24</td>\n",
              "      <td>0</td>\n",
              "      <td>3</td>\n",
              "      <td>22</td>\n",
              "    </tr>\n",
              "    <tr>\n",
              "      <th>1</th>\n",
              "      <td>445</td>\n",
              "      <td>2.0</td>\n",
              "      <td>0.161919</td>\n",
              "      <td>0.273370</td>\n",
              "      <td>0.273370</td>\n",
              "      <td>0.000574</td>\n",
              "      <td>9556.608028</td>\n",
              "      <td>9143.083566</td>\n",
              "      <td>9143.083566</td>\n",
              "      <td>7369.166667</td>\n",
              "      <td>1</td>\n",
              "      <td>3</td>\n",
              "      <td>0</td>\n",
              "      <td>84</td>\n",
              "      <td>5</td>\n",
              "      <td>5</td>\n",
              "      <td>0</td>\n",
              "      <td>1</td>\n",
              "      <td>5</td>\n",
              "    </tr>\n",
              "    <tr>\n",
              "      <th>2</th>\n",
              "      <td>1140</td>\n",
              "      <td>2.0</td>\n",
              "      <td>0.353661</td>\n",
              "      <td>0.415313</td>\n",
              "      <td>0.415313</td>\n",
              "      <td>0.003919</td>\n",
              "      <td>11599.021081</td>\n",
              "      <td>10461.600690</td>\n",
              "      <td>10461.600690</td>\n",
              "      <td>13277.195122</td>\n",
              "      <td>4</td>\n",
              "      <td>2</td>\n",
              "      <td>1</td>\n",
              "      <td>118</td>\n",
              "      <td>4</td>\n",
              "      <td>6</td>\n",
              "      <td>1</td>\n",
              "      <td>9</td>\n",
              "      <td>9</td>\n",
              "    </tr>\n",
              "    <tr>\n",
              "      <th>3</th>\n",
              "      <td>325</td>\n",
              "      <td>1.0</td>\n",
              "      <td>0.195278</td>\n",
              "      <td>0.273370</td>\n",
              "      <td>0.273370</td>\n",
              "      <td>0.000860</td>\n",
              "      <td>5668.469897</td>\n",
              "      <td>9143.083566</td>\n",
              "      <td>9143.083566</td>\n",
              "      <td>6279.333333</td>\n",
              "      <td>3</td>\n",
              "      <td>3</td>\n",
              "      <td>0</td>\n",
              "      <td>91</td>\n",
              "      <td>3</td>\n",
              "      <td>5</td>\n",
              "      <td>1</td>\n",
              "      <td>12</td>\n",
              "      <td>18</td>\n",
              "    </tr>\n",
              "    <tr>\n",
              "      <th>4</th>\n",
              "      <td>285</td>\n",
              "      <td>1.0</td>\n",
              "      <td>0.195278</td>\n",
              "      <td>0.208278</td>\n",
              "      <td>0.087364</td>\n",
              "      <td>0.000287</td>\n",
              "      <td>5668.469897</td>\n",
              "      <td>8022.872877</td>\n",
              "      <td>12007.421225</td>\n",
              "      <td>11313.000000</td>\n",
              "      <td>3</td>\n",
              "      <td>0</td>\n",
              "      <td>5</td>\n",
              "      <td>29</td>\n",
              "      <td>3</td>\n",
              "      <td>3</td>\n",
              "      <td>1</td>\n",
              "      <td>1</td>\n",
              "      <td>16</td>\n",
              "    </tr>\n",
              "    <tr>\n",
              "      <th>...</th>\n",
              "      <td>...</td>\n",
              "      <td>...</td>\n",
              "      <td>...</td>\n",
              "      <td>...</td>\n",
              "      <td>...</td>\n",
              "      <td>...</td>\n",
              "      <td>...</td>\n",
              "      <td>...</td>\n",
              "      <td>...</td>\n",
              "      <td>...</td>\n",
              "      <td>...</td>\n",
              "      <td>...</td>\n",
              "      <td>...</td>\n",
              "      <td>...</td>\n",
              "      <td>...</td>\n",
              "      <td>...</td>\n",
              "      <td>...</td>\n",
              "      <td>...</td>\n",
              "      <td>...</td>\n",
              "    </tr>\n",
              "    <tr>\n",
              "      <th>10678</th>\n",
              "      <td>150</td>\n",
              "      <td>0.0</td>\n",
              "      <td>0.030491</td>\n",
              "      <td>0.273370</td>\n",
              "      <td>0.273370</td>\n",
              "      <td>0.069203</td>\n",
              "      <td>5590.260188</td>\n",
              "      <td>9143.083566</td>\n",
              "      <td>9143.083566</td>\n",
              "      <td>4556.055249</td>\n",
              "      <td>0</td>\n",
              "      <td>3</td>\n",
              "      <td>0</td>\n",
              "      <td>64</td>\n",
              "      <td>2</td>\n",
              "      <td>4</td>\n",
              "      <td>1</td>\n",
              "      <td>9</td>\n",
              "      <td>19</td>\n",
              "    </tr>\n",
              "    <tr>\n",
              "      <th>10679</th>\n",
              "      <td>155</td>\n",
              "      <td>0.0</td>\n",
              "      <td>0.161919</td>\n",
              "      <td>0.273370</td>\n",
              "      <td>0.273370</td>\n",
              "      <td>0.069203</td>\n",
              "      <td>9556.608028</td>\n",
              "      <td>9143.083566</td>\n",
              "      <td>9143.083566</td>\n",
              "      <td>4556.055249</td>\n",
              "      <td>1</td>\n",
              "      <td>3</td>\n",
              "      <td>0</td>\n",
              "      <td>64</td>\n",
              "      <td>5</td>\n",
              "      <td>27</td>\n",
              "      <td>0</td>\n",
              "      <td>4</td>\n",
              "      <td>20</td>\n",
              "    </tr>\n",
              "    <tr>\n",
              "      <th>10680</th>\n",
              "      <td>180</td>\n",
              "      <td>0.0</td>\n",
              "      <td>0.353661</td>\n",
              "      <td>0.208278</td>\n",
              "      <td>0.120914</td>\n",
              "      <td>0.146817</td>\n",
              "      <td>11599.021081</td>\n",
              "      <td>8022.872877</td>\n",
              "      <td>5143.918577</td>\n",
              "      <td>5552.235677</td>\n",
              "      <td>4</td>\n",
              "      <td>0</td>\n",
              "      <td>2</td>\n",
              "      <td>18</td>\n",
              "      <td>5</td>\n",
              "      <td>27</td>\n",
              "      <td>0</td>\n",
              "      <td>4</td>\n",
              "      <td>8</td>\n",
              "    </tr>\n",
              "    <tr>\n",
              "      <th>10681</th>\n",
              "      <td>160</td>\n",
              "      <td>0.0</td>\n",
              "      <td>0.045689</td>\n",
              "      <td>0.208278</td>\n",
              "      <td>0.087364</td>\n",
              "      <td>0.146817</td>\n",
              "      <td>7801.355649</td>\n",
              "      <td>8022.872877</td>\n",
              "      <td>12007.421225</td>\n",
              "      <td>5552.235677</td>\n",
              "      <td>10</td>\n",
              "      <td>0</td>\n",
              "      <td>5</td>\n",
              "      <td>18</td>\n",
              "      <td>3</td>\n",
              "      <td>3</td>\n",
              "      <td>1</td>\n",
              "      <td>1</td>\n",
              "      <td>11</td>\n",
              "    </tr>\n",
              "    <tr>\n",
              "      <th>10682</th>\n",
              "      <td>500</td>\n",
              "      <td>2.0</td>\n",
              "      <td>0.161919</td>\n",
              "      <td>0.415313</td>\n",
              "      <td>0.415313</td>\n",
              "      <td>0.004206</td>\n",
              "      <td>9556.608028</td>\n",
              "      <td>10461.600690</td>\n",
              "      <td>10461.600690</td>\n",
              "      <td>11941.818182</td>\n",
              "      <td>1</td>\n",
              "      <td>2</td>\n",
              "      <td>1</td>\n",
              "      <td>108</td>\n",
              "      <td>3</td>\n",
              "      <td>5</td>\n",
              "      <td>1</td>\n",
              "      <td>9</td>\n",
              "      <td>10</td>\n",
              "    </tr>\n",
              "  </tbody>\n",
              "</table>\n",
              "<p>10462 rows × 19 columns</p>\n",
              "</div>\n",
              "      <button class=\"colab-df-convert\" onclick=\"convertToInteractive('df-ff614715-4250-4327-8ca8-035708d94213')\"\n",
              "              title=\"Convert this dataframe to an interactive table.\"\n",
              "              style=\"display:none;\">\n",
              "        \n",
              "  <svg xmlns=\"http://www.w3.org/2000/svg\" height=\"24px\"viewBox=\"0 0 24 24\"\n",
              "       width=\"24px\">\n",
              "    <path d=\"M0 0h24v24H0V0z\" fill=\"none\"/>\n",
              "    <path d=\"M18.56 5.44l.94 2.06.94-2.06 2.06-.94-2.06-.94-.94-2.06-.94 2.06-2.06.94zm-11 1L8.5 8.5l.94-2.06 2.06-.94-2.06-.94L8.5 2.5l-.94 2.06-2.06.94zm10 10l.94 2.06.94-2.06 2.06-.94-2.06-.94-.94-2.06-.94 2.06-2.06.94z\"/><path d=\"M17.41 7.96l-1.37-1.37c-.4-.4-.92-.59-1.43-.59-.52 0-1.04.2-1.43.59L10.3 9.45l-7.72 7.72c-.78.78-.78 2.05 0 2.83L4 21.41c.39.39.9.59 1.41.59.51 0 1.02-.2 1.41-.59l7.78-7.78 2.81-2.81c.8-.78.8-2.07 0-2.86zM5.41 20L4 18.59l7.72-7.72 1.47 1.35L5.41 20z\"/>\n",
              "  </svg>\n",
              "      </button>\n",
              "      \n",
              "  <style>\n",
              "    .colab-df-container {\n",
              "      display:flex;\n",
              "      flex-wrap:wrap;\n",
              "      gap: 12px;\n",
              "    }\n",
              "\n",
              "    .colab-df-convert {\n",
              "      background-color: #E8F0FE;\n",
              "      border: none;\n",
              "      border-radius: 50%;\n",
              "      cursor: pointer;\n",
              "      display: none;\n",
              "      fill: #1967D2;\n",
              "      height: 32px;\n",
              "      padding: 0 0 0 0;\n",
              "      width: 32px;\n",
              "    }\n",
              "\n",
              "    .colab-df-convert:hover {\n",
              "      background-color: #E2EBFA;\n",
              "      box-shadow: 0px 1px 2px rgba(60, 64, 67, 0.3), 0px 1px 3px 1px rgba(60, 64, 67, 0.15);\n",
              "      fill: #174EA6;\n",
              "    }\n",
              "\n",
              "    [theme=dark] .colab-df-convert {\n",
              "      background-color: #3B4455;\n",
              "      fill: #D2E3FC;\n",
              "    }\n",
              "\n",
              "    [theme=dark] .colab-df-convert:hover {\n",
              "      background-color: #434B5C;\n",
              "      box-shadow: 0px 1px 3px 1px rgba(0, 0, 0, 0.15);\n",
              "      filter: drop-shadow(0px 1px 2px rgba(0, 0, 0, 0.3));\n",
              "      fill: #FFFFFF;\n",
              "    }\n",
              "  </style>\n",
              "\n",
              "      <script>\n",
              "        const buttonEl =\n",
              "          document.querySelector('#df-ff614715-4250-4327-8ca8-035708d94213 button.colab-df-convert');\n",
              "        buttonEl.style.display =\n",
              "          google.colab.kernel.accessAllowed ? 'block' : 'none';\n",
              "\n",
              "        async function convertToInteractive(key) {\n",
              "          const element = document.querySelector('#df-ff614715-4250-4327-8ca8-035708d94213');\n",
              "          const dataTable =\n",
              "            await google.colab.kernel.invokeFunction('convertToInteractive',\n",
              "                                                     [key], {});\n",
              "          if (!dataTable) return;\n",
              "\n",
              "          const docLinkHtml = 'Like what you see? Visit the ' +\n",
              "            '<a target=\"_blank\" href=https://colab.research.google.com/notebooks/data_table.ipynb>data table notebook</a>'\n",
              "            + ' to learn more about interactive tables.';\n",
              "          element.innerHTML = '';\n",
              "          dataTable['output_type'] = 'display_data';\n",
              "          await google.colab.output.renderOutput(dataTable, element);\n",
              "          const docLink = document.createElement('div');\n",
              "          docLink.innerHTML = docLinkHtml;\n",
              "          element.appendChild(docLink);\n",
              "        }\n",
              "      </script>\n",
              "    </div>\n",
              "  </div>\n",
              "  "
            ]
          },
          "metadata": {},
          "execution_count": 526
        }
      ],
      "source": [
        "_ = filter_predictor_columns(df)\n",
        "_"
      ]
    },
    {
      "cell_type": "markdown",
      "metadata": {
        "id": "kl8EpbmT44lE"
      },
      "source": [
        "# Model Building and Perfomance Check:"
      ]
    },
    {
      "cell_type": "code",
      "execution_count": null,
      "metadata": {
        "id": "BCfYwQbApALM"
      },
      "outputs": [],
      "source": [
        "from sklearn.preprocessing import StandardScaler\n",
        "from sklearn.model_selection import train_test_split\n",
        "from sklearn.preprocessing import PolynomialFeatures\n",
        "from sklearn.pipeline import make_pipeline\n",
        "from sklearn.preprocessing import PowerTransformer\n",
        "from sklearn.preprocessing import RobustScaler\n",
        "from sklearn.preprocessing import SplineTransformer\n",
        "\n",
        "from sklearn import linear_model\n",
        "from sklearn import metrics"
      ]
    },
    {
      "cell_type": "code",
      "execution_count": null,
      "metadata": {
        "id": "wX1uJ-oSpANj"
      },
      "outputs": [],
      "source": [
        "\n",
        "\n",
        "# Split the data into train and test:\n",
        "\n",
        "X_train, X_test, y_train, y_test = train_test_split(X, y, test_size=0.33, random_state=42)"
      ]
    },
    {
      "cell_type": "code",
      "execution_count": null,
      "metadata": {
        "colab": {
          "base_uri": "https://localhost:8080/"
        },
        "id": "r2ZXm0QjpAQK",
        "outputId": "281748f9-ded3-40b1-d37e-256418f8d87a"
      },
      "outputs": [
        {
          "output_type": "execute_result",
          "data": {
            "text/plain": [
              "((7009, 19), (3453, 19))"
            ]
          },
          "metadata": {},
          "execution_count": 529
        }
      ],
      "source": [
        "X_train.shape, X_test.shape\n"
      ]
    },
    {
      "cell_type": "code",
      "execution_count": null,
      "metadata": {
        "colab": {
          "base_uri": "https://localhost:8080/"
        },
        "id": "FDdAEJA8pAU3",
        "outputId": "35a346d6-778b-4d4e-b96d-940c0e5b7493"
      },
      "outputs": [
        {
          "output_type": "execute_result",
          "data": {
            "text/plain": [
              "((7009,), (3453,))"
            ]
          },
          "metadata": {},
          "execution_count": 530
        }
      ],
      "source": [
        "y_train.shape, y_test.shape"
      ]
    },
    {
      "cell_type": "markdown",
      "metadata": {
        "id": "pMi26pnK8IWB"
      },
      "source": [
        "### Baseline Model:"
      ]
    },
    {
      "cell_type": "code",
      "execution_count": null,
      "metadata": {
        "colab": {
          "base_uri": "https://localhost:8080/"
        },
        "id": "mb-EoSkqpAXS",
        "outputId": "3a3f5b57-3545-439d-e6ac-9c1718bf6710"
      },
      "outputs": [
        {
          "output_type": "execute_result",
          "data": {
            "text/plain": [
              "(0.6607842122749666, 0.6479600704779648)"
            ]
          },
          "metadata": {},
          "execution_count": 531
        }
      ],
      "source": [
        "# baseline model:\n",
        "reg = linear_model.LinearRegression()\n",
        "reg.fit(X_train, y_train)\n",
        "metrics.r2_score(y_train, reg.predict(X_train)), metrics.r2_score(y_test, reg.predict(X_test))"
      ]
    },
    {
      "cell_type": "code",
      "execution_count": null,
      "metadata": {
        "colab": {
          "base_uri": "https://localhost:8080/"
        },
        "id": "UnPV6zQYpAaT",
        "outputId": "4a80387b-97fa-49e4-d31a-2d42e6c861cb"
      },
      "outputs": [
        {
          "output_type": "stream",
          "name": "stdout",
          "text": [
            "TRAIN: [ 2093  2094  2095 ... 10459 10460 10461] TEST: [   0    1    2 ... 2090 2091 2092]\n",
            "0.6609111009335289 0.6407630942838665\n",
            "--------------------------------------------------------------------------------\n",
            "TRAIN: [    0     1     2 ... 10459 10460 10461] TEST: [2093 2094 2095 ... 4183 4184 4185]\n",
            "0.6551540988034807 0.6621612013577918\n",
            "--------------------------------------------------------------------------------\n",
            "TRAIN: [    0     1     2 ... 10459 10460 10461] TEST: [4186 4187 4188 ... 6275 6276 6277]\n",
            "0.6550710562305253 0.6633933893110229\n",
            "--------------------------------------------------------------------------------\n",
            "TRAIN: [    0     1     2 ... 10459 10460 10461] TEST: [6278 6279 6280 ... 8367 8368 8369]\n",
            "0.6580690059522933 0.6499809642273997\n",
            "--------------------------------------------------------------------------------\n",
            "TRAIN: [   0    1    2 ... 8367 8368 8369] TEST: [ 8370  8371  8372 ... 10459 10460 10461]\n",
            "0.654368104477157 0.666079787734542\n",
            "--------------------------------------------------------------------------------\n"
          ]
        }
      ],
      "source": [
        "from matplotlib import test\n",
        "# k-fold cross-validation:\n",
        "\n",
        "from sklearn.model_selection import KFold\n",
        "kf = KFold(n_splits=5)\n",
        "for train_index, test_index in kf.split(X):\n",
        "    print(\"TRAIN:\", train_index, \"TEST:\", test_index)\n",
        "    X_train,X_test = X.iloc[train_index], X.iloc[test_index]\n",
        "    y_train, y_test = y.iloc[train_index], y.iloc[test_index]\n",
        "    print(metrics.r2_score(y_train, reg.predict(X_train)), metrics.r2_score(y_test, reg.predict(X_test)))\n",
        "    print(\"-\" * 80)"
      ]
    },
    {
      "cell_type": "markdown",
      "metadata": {
        "id": "p76Z8dkKx5lP"
      },
      "source": [
        "As we can check, this Baseline Model is good model. we will compare baseline model with another models like random model, Decision Tree or knn model for improving our data.\n",
        "- but as if now, Baseline Model is a good model as train data nd test data behave Similarly. "
      ]
    },
    {
      "cell_type": "markdown",
      "metadata": {
        "id": "z5dji4JA_1My"
      },
      "source": [
        "### Overfitted Model:"
      ]
    },
    {
      "cell_type": "code",
      "execution_count": null,
      "metadata": {
        "colab": {
          "base_uri": "https://localhost:8080/"
        },
        "id": "XR-Bax7_pAe-",
        "outputId": "2abba3aa-9775-4d29-ef34-be15cb3ea1f2"
      },
      "outputs": [
        {
          "output_type": "stream",
          "name": "stderr",
          "text": [
            "/usr/local/lib/python3.7/dist-packages/sklearn/preprocessing/_data.py:3253: RuntimeWarning: divide by zero encountered in log\n",
            "  loglike = -n_samples / 2 * np.log(x_trans.var())\n"
          ]
        },
        {
          "output_type": "stream",
          "name": "stdout",
          "text": [
            "CPU times: user 9.57 s, sys: 602 ms, total: 10.2 s\n",
            "Wall time: 6.73 s\n"
          ]
        }
      ],
      "source": [
        "# Over-fitted model:\n",
        "%%time\n",
        "pipe = make_pipeline(PowerTransformer(), PolynomialFeatures(3), RobustScaler(),linear_model.LinearRegression())\n",
        "pipe.fit(X_train, y_train)"
      ]
    },
    {
      "cell_type": "code",
      "execution_count": null,
      "metadata": {
        "colab": {
          "base_uri": "https://localhost:8080/"
        },
        "id": "Anhyk5dvpAh1",
        "outputId": "fb123677-78c7-4862-e604-953a8ba84cf1"
      },
      "outputs": [
        {
          "output_type": "stream",
          "name": "stderr",
          "text": [
            "/usr/local/lib/python3.7/dist-packages/sklearn/preprocessing/_data.py:3253: RuntimeWarning: divide by zero encountered in log\n",
            "  loglike = -n_samples / 2 * np.log(x_trans.var())\n"
          ]
        },
        {
          "output_type": "execute_result",
          "data": {
            "text/plain": [
              "(0.850819675831234, 0.608666590837689)"
            ]
          },
          "metadata": {},
          "execution_count": 534
        }
      ],
      "source": [
        "pipe = make_pipeline(PowerTransformer(), PolynomialFeatures(3), RobustScaler(),linear_model.LinearRegression())\n",
        "pipe.fit(X_train, y_train)\n",
        "\n",
        "metrics.r2_score(y_train, pipe.predict(X_train)), metrics.r2_score(y_test, pipe.predict(X_test))"
      ]
    },
    {
      "cell_type": "markdown",
      "metadata": {
        "id": "TbHu3XBbuYjp"
      },
      "source": [
        "As we can see in over-fitted model using the pipeline like PowerTransformer, PolynomialFeatures, RoubstScaler and linear regression we can set the fitted value of train data. but here X_train and y_train has a little big different. So, we can't say it is Over-fitted model but we can say that it's not so good model. So, we can try some other model as well. "
      ]
    },
    {
      "cell_type": "markdown",
      "metadata": {
        "id": "oxYnLhzDY3xv"
      },
      "source": [
        "### Regularized Model:"
      ]
    },
    {
      "cell_type": "code",
      "execution_count": null,
      "metadata": {
        "colab": {
          "base_uri": "https://localhost:8080/"
        },
        "id": "d2S9U5ibpAnX",
        "outputId": "e89917a8-ef5b-47d9-c42a-107217243268"
      },
      "outputs": [
        {
          "output_type": "stream",
          "name": "stderr",
          "text": [
            "/usr/local/lib/python3.7/dist-packages/sklearn/preprocessing/_data.py:3253: RuntimeWarning: divide by zero encountered in log\n",
            "  loglike = -n_samples / 2 * np.log(x_trans.var())\n"
          ]
        },
        {
          "output_type": "stream",
          "name": "stdout",
          "text": [
            "0.7730328284796348 0.7214283714247882\n",
            "CPU times: user 1min 13s, sys: 5.07 s, total: 1min 18s\n",
            "Wall time: 49.5 s\n"
          ]
        }
      ],
      "source": [
        "# Regularised Model:\n",
        "\n",
        "%%time\n",
        "\n",
        "pipe = make_pipeline(PowerTransformer(), PolynomialFeatures(4),RobustScaler(), linear_model.LassoLars(alpha = .1, normalize=False))\n",
        "pipe.fit(X_train, y_train)\n",
        "\n",
        "print(metrics.r2_score(y_train, pipe.predict(X_train)), metrics.r2_score(y_test, pipe.predict(X_test)))"
      ]
    },
    {
      "cell_type": "code",
      "execution_count": null,
      "metadata": {
        "colab": {
          "base_uri": "https://localhost:8080/"
        },
        "id": "5krsbcK7pAqC",
        "outputId": "cd2e9807-ad4a-4750-f716-aa3ba0472995"
      },
      "outputs": [
        {
          "output_type": "stream",
          "name": "stderr",
          "text": [
            "/usr/local/lib/python3.7/dist-packages/sklearn/preprocessing/_data.py:3253: RuntimeWarning: divide by zero encountered in log\n",
            "  loglike = -n_samples / 2 * np.log(x_trans.var())\n"
          ]
        },
        {
          "output_type": "execute_result",
          "data": {
            "text/plain": [
              "(0.7673601111313673, 0.7004203531340499)"
            ]
          },
          "metadata": {},
          "execution_count": 536
        }
      ],
      "source": [
        "\n",
        "\n",
        "pipe = make_pipeline(PowerTransformer(), PolynomialFeatures(4),SplineTransformer(degree=2, n_knots=5), \n",
        "                     RobustScaler(),linear_model.LassoLars(alpha=.1, normalize=False))\n",
        "pipe.fit(X_train, y_train)\n",
        "\n",
        "metrics.r2_score(y_train, pipe.predict(X_train)), metrics.r2_score(y_test, pipe.predict(X_test))\n"
      ]
    },
    {
      "cell_type": "markdown",
      "metadata": {
        "id": "ej0rfTj0xAGZ"
      },
      "source": [
        "here, model perform well. the predicted value between train dataset and test dataset has not much difference. So, it is good model or fitted model. "
      ]
    },
    {
      "cell_type": "markdown",
      "metadata": {
        "id": "j127lLP0xhEg"
      },
      "source": [
        "### Other Model Variation."
      ]
    },
    {
      "cell_type": "code",
      "execution_count": null,
      "metadata": {
        "id": "9SZmv9A8pAsz"
      },
      "outputs": [],
      "source": [
        "from sklearn.model_selection import RandomizedSearchCV\n",
        "from sklearn.model_selection import GridSearchCV\n",
        "from sklearn.neighbors import KNeighborsRegressor\n",
        "from sklearn.ensemble import RandomForestRegressor\n",
        "from sklearn.tree import DecisionTreeRegressor"
      ]
    },
    {
      "cell_type": "markdown",
      "metadata": {
        "id": "B0AnoIHDyUaA"
      },
      "source": [
        "### K-Nearest Neighbour Model:"
      ]
    },
    {
      "cell_type": "code",
      "execution_count": null,
      "metadata": {
        "colab": {
          "base_uri": "https://localhost:8080/"
        },
        "id": "015uHm3PBKL4",
        "outputId": "2ec2eb2b-bdef-4c7a-e441-f59f52180936"
      },
      "outputs": [
        {
          "output_type": "stream",
          "name": "stdout",
          "text": [
            "CPU times: user 15 µs, sys: 1e+03 ns, total: 16 µs\n",
            "Wall time: 23.4 µs\n"
          ]
        }
      ],
      "source": [
        "%%time\n",
        "k_range = list(range(1, 30))\n",
        "params = dict(n_neighbors = k_range)\n",
        "params\n"
      ]
    },
    {
      "cell_type": "code",
      "execution_count": null,
      "metadata": {
        "colab": {
          "base_uri": "https://localhost:8080/"
        },
        "id": "CiV_BaMM04iu",
        "outputId": "80e527ac-d6a9-469c-9785-937c0a3dd1e2"
      },
      "outputs": [
        {
          "output_type": "stream",
          "name": "stdout",
          "text": [
            "0.7930694749116137 0.6986340568866749\n",
            "CPU times: user 58.4 s, sys: 33.2 s, total: 1min 31s\n",
            "Wall time: 53.4 s\n"
          ]
        }
      ],
      "source": [
        "%%time\n",
        "\n",
        "k_range = list(range(1, 30))\n",
        "params = dict(n_neighbors = k_range)\n",
        "knn_regressor = GridSearchCV(KNeighborsRegressor(), params, cv =10, scoring = 'neg_mean_squared_error')\n",
        "knn_regressor.fit(X_train, y_train)\n",
        "print(metrics.r2_score(y_train,knn_regressor.predict(X_train)),metrics.r2_score(y_test,knn_regressor.predict(X_test)))"
      ]
    },
    {
      "cell_type": "code",
      "execution_count": null,
      "metadata": {
        "colab": {
          "base_uri": "https://localhost:8080/"
        },
        "id": "msGb6etNpAyU",
        "outputId": "6b963f14-b532-4b3f-8f5f-130473a92bcb"
      },
      "outputs": [
        {
          "output_type": "execute_result",
          "data": {
            "text/plain": [
              "<bound method BaseEstimator.get_params of GridSearchCV(cv=10, estimator=KNeighborsRegressor(),\n",
              "             param_grid={'n_neighbors': [1, 2, 3, 4, 5, 6, 7, 8, 9, 10, 11, 12,\n",
              "                                         13, 14, 15, 16, 17, 18, 19, 20, 21, 22,\n",
              "                                         23, 24, 25, 26, 27, 28, 29]},\n",
              "             scoring='neg_mean_squared_error')>"
            ]
          },
          "metadata": {},
          "execution_count": 540
        }
      ],
      "source": [
        "knn_regressor.get_params"
      ]
    },
    {
      "cell_type": "code",
      "execution_count": null,
      "metadata": {
        "colab": {
          "base_uri": "https://localhost:8080/"
        },
        "id": "hKndDg_1pA0w",
        "outputId": "024dbb13-59ae-4131-f243-346d1e5b9153"
      },
      "outputs": [
        {
          "output_type": "execute_result",
          "data": {
            "text/plain": [
              "{'n_neighbors': 5}"
            ]
          },
          "metadata": {},
          "execution_count": 541
        }
      ],
      "source": [
        "knn_regressor.best_params_"
      ]
    },
    {
      "cell_type": "markdown",
      "source": [
        "here, we are importing 'pickle' and 'joblib' libraries to dump the data in model and for reuse will use load.after imporing the libraries we make a folder for every model to dump and load the model in specific model with there own model name and then we can have better idea for each model that which model have what kind of test data and what kind of train data. which model perfomance is good. i  short we will have summary of all model's test and train data."
      ],
      "metadata": {
        "id": "k9Bm9xvdv7pT"
      }
    },
    {
      "cell_type": "code",
      "execution_count": null,
      "metadata": {
        "id": "0s3W5yj3pA3e"
      },
      "outputs": [],
      "source": [
        "import pickle\n",
        "import joblib"
      ]
    },
    {
      "cell_type": "code",
      "execution_count": null,
      "metadata": {
        "colab": {
          "base_uri": "https://localhost:8080/",
          "height": 36
        },
        "id": "nTb_a-qopA6U",
        "outputId": "20e8ef07-7a5b-41e7-a01f-0e4d803006d6"
      },
      "outputs": [
        {
          "output_type": "execute_result",
          "data": {
            "text/plain": [
              "'/content/Airline'"
            ],
            "application/vnd.google.colaboratory.intrinsic+json": {
              "type": "string"
            }
          },
          "metadata": {},
          "execution_count": 543
        }
      ],
      "source": [
        "pwd"
      ]
    },
    {
      "cell_type": "code",
      "source": [
        "# Before\n",
        "print(metrics.r2_score(y_train, knn_regressor.predict(X_train)), metrics.r2_score(y_test, knn_regressor.predict(X_test)))"
      ],
      "metadata": {
        "colab": {
          "base_uri": "https://localhost:8080/"
        },
        "id": "ziT7v3QIjA-K",
        "outputId": "4c89182d-3679-4ec0-fbfc-706fcfcf7d5a"
      },
      "execution_count": null,
      "outputs": [
        {
          "output_type": "stream",
          "name": "stdout",
          "text": [
            "0.7930694749116137 0.6986340568866749\n"
          ]
        }
      ]
    },
    {
      "cell_type": "code",
      "source": [
        "from joblib import dump, load\n",
        "dump(knn_regressor, '/content/Airline/Airline/model/model_knn_regressor.joblib')"
      ],
      "metadata": {
        "colab": {
          "base_uri": "https://localhost:8080/"
        },
        "id": "8nZl-P5TjaYU",
        "outputId": "8d350214-f436-4a49-b06f-0232690146a4"
      },
      "execution_count": null,
      "outputs": [
        {
          "output_type": "execute_result",
          "data": {
            "text/plain": [
              "['/content/Airline/Airline/model/model_knn_regressor.joblib']"
            ]
          },
          "metadata": {},
          "execution_count": 545
        }
      ]
    },
    {
      "cell_type": "code",
      "source": [
        "import pickle\n",
        "pickle.dump(knn_regressor, open('/content/Airline/Airline/model/knn_1st_regressor_model.pkl', \"wb\"))"
      ],
      "metadata": {
        "id": "tG34vagXkHf_"
      },
      "execution_count": null,
      "outputs": []
    },
    {
      "cell_type": "code",
      "source": [
        "with open(\"/content/Airline/Airline/model/knn_2nd_regressor_model.pkl\", \"wb\") as file:\n",
        "    pickle.dump(knn_regressor, file)"
      ],
      "metadata": {
        "id": "FB4Of18FkzE4"
      },
      "execution_count": null,
      "outputs": []
    },
    {
      "cell_type": "code",
      "source": [
        "# pickle.loads?"
      ],
      "metadata": {
        "id": "LmFwGpRHkzIL"
      },
      "execution_count": null,
      "outputs": []
    },
    {
      "cell_type": "code",
      "source": [
        "saved_knn_pkl_1st_model = pickle.load(open(\"/content/Airline/Airline/model/knn_1st_regressor_model.pkl\", \"rb\"))"
      ],
      "metadata": {
        "id": "XA_4fZZmkzPX"
      },
      "execution_count": null,
      "outputs": []
    },
    {
      "cell_type": "code",
      "source": [
        "# After\n",
        "print(metrics.r2_score(y_train, saved_knn_pkl_1st_model.predict(X_train)), metrics.r2_score(y_test, saved_knn_pkl_1st_model.predict(X_test)))"
      ],
      "metadata": {
        "colab": {
          "base_uri": "https://localhost:8080/"
        },
        "id": "S7srJK-_kzSa",
        "outputId": "e7f195ef-ace5-433a-cbb3-b818dd67eb21"
      },
      "execution_count": null,
      "outputs": [
        {
          "output_type": "stream",
          "name": "stdout",
          "text": [
            "0.7930694749116137 0.6986340568866749\n"
          ]
        }
      ]
    },
    {
      "cell_type": "code",
      "source": [
        "saved_knn_model_joblib = load(\"/content/Airline/Airline/model/model_knn_regressor.joblib\")"
      ],
      "metadata": {
        "id": "K2j5mCcbkzVO"
      },
      "execution_count": null,
      "outputs": []
    },
    {
      "cell_type": "code",
      "source": [
        "print(metrics.r2_score(y_train, saved_knn_model_joblib.predict(X_train)), metrics.r2_score(y_test, saved_knn_model_joblib.predict(X_test)))"
      ],
      "metadata": {
        "colab": {
          "base_uri": "https://localhost:8080/"
        },
        "id": "g3FpUTcYkzX9",
        "outputId": "1f12e231-8718-4f68-b1f8-fbf3060a3b75"
      },
      "execution_count": null,
      "outputs": [
        {
          "output_type": "stream",
          "name": "stdout",
          "text": [
            "0.7930694749116137 0.6986340568866749\n"
          ]
        }
      ]
    },
    {
      "cell_type": "markdown",
      "metadata": {
        "id": "5nFpHgAvGIPK"
      },
      "source": [
        "### Decision Tree:"
      ]
    },
    {
      "cell_type": "code",
      "execution_count": null,
      "metadata": {
        "colab": {
          "base_uri": "https://localhost:8080/"
        },
        "id": "tbZY5KzrpA_5",
        "outputId": "0e3f66d8-a7dc-4e77-a99a-b3a5bc9a62af"
      },
      "outputs": [
        {
          "output_type": "stream",
          "name": "stdout",
          "text": [
            "0.8902807511071913 0.8181095609535873\n",
            "CPU times: user 10.4 s, sys: 63.4 ms, total: 10.5 s\n",
            "Wall time: 10.5 s\n"
          ]
        }
      ],
      "source": [
        "%%time\n",
        "depth = list(range(3,30))\n",
        "param_grid = dict(max_depth = depth)\n",
        "tree = GridSearchCV(DecisionTreeRegressor(), param_grid, cv = 10)\n",
        "tree.fit(X_train, y_train)\n",
        "print(metrics.r2_score(y_train, tree.predict(X_train)), metrics.r2_score(y_test, tree.predict(X_test)))"
      ]
    },
    {
      "cell_type": "code",
      "execution_count": null,
      "metadata": {
        "colab": {
          "base_uri": "https://localhost:8080/"
        },
        "id": "XcTJsAoapBCr",
        "outputId": "94d40bd9-8a76-450d-827e-4f74ca2dcddd"
      },
      "outputs": [
        {
          "output_type": "execute_result",
          "data": {
            "text/plain": [
              "<bound method BaseEstimator.get_params of GridSearchCV(cv=10, estimator=DecisionTreeRegressor(),\n",
              "             param_grid={'max_depth': [3, 4, 5, 6, 7, 8, 9, 10, 11, 12, 13, 14,\n",
              "                                       15, 16, 17, 18, 19, 20, 21, 22, 23, 24,\n",
              "                                       25, 26, 27, 28, 29]})>"
            ]
          },
          "metadata": {},
          "execution_count": 554
        }
      ],
      "source": [
        "tree.get_params"
      ]
    },
    {
      "cell_type": "code",
      "execution_count": null,
      "metadata": {
        "colab": {
          "base_uri": "https://localhost:8080/"
        },
        "id": "bo_DLFmHpBFY",
        "outputId": "ab0cd16a-9c3e-494f-ca74-9b23be122b00"
      },
      "outputs": [
        {
          "output_type": "execute_result",
          "data": {
            "text/plain": [
              "{'max_depth': 10}"
            ]
          },
          "metadata": {},
          "execution_count": 555
        }
      ],
      "source": [
        "tree.best_params_"
      ]
    },
    {
      "cell_type": "code",
      "source": [
        "from joblib import dump, load\n",
        "dump(tree, \"/content/Airline/Airline/model/model_tree_regressor.joblib\")"
      ],
      "metadata": {
        "colab": {
          "base_uri": "https://localhost:8080/"
        },
        "id": "Xy3zPwEjnjSd",
        "outputId": "4ee744f1-f7ba-4310-b1f1-fed8b1b60004"
      },
      "execution_count": null,
      "outputs": [
        {
          "output_type": "execute_result",
          "data": {
            "text/plain": [
              "['/content/Airline/Airline/model/model_tree_regressor.joblib']"
            ]
          },
          "metadata": {},
          "execution_count": 556
        }
      ]
    },
    {
      "cell_type": "code",
      "source": [
        "import pickle\n",
        "pickle.dump(tree, open(\"/content/Airline/Airline/model/tree_1st_regressor_model.pkl\", \"wb\"))"
      ],
      "metadata": {
        "id": "zPsovyL2njVP"
      },
      "execution_count": null,
      "outputs": []
    },
    {
      "cell_type": "code",
      "execution_count": null,
      "metadata": {
        "id": "t5Axf2LepBH7"
      },
      "outputs": [],
      "source": [
        "with open(\"/content/Airline/Airline/model/tree_2nd_regressor_model.pkl\", \"wb\") as file:\n",
        "    pickle.dump(tree, file)"
      ]
    },
    {
      "cell_type": "markdown",
      "metadata": {
        "id": "PvHoxgczJlHy"
      },
      "source": [
        "### Random Forest:"
      ]
    },
    {
      "cell_type": "code",
      "execution_count": null,
      "metadata": {
        "colab": {
          "base_uri": "https://localhost:8080/"
        },
        "id": "MNR7lwxaPSz2",
        "outputId": "aaf62471-bbde-4259-e6e6-7199514e4681"
      },
      "outputs": [
        {
          "output_type": "execute_result",
          "data": {
            "text/plain": [
              "(0.923072918943606, 0.8392643862093139)"
            ]
          },
          "metadata": {},
          "execution_count": 559
        }
      ],
      "source": [
        "\n",
        "tunned_params = {'n_estimators': [100, 300, 500], 'min_samples_split': [2,5,10], 'min_samples_leaf': [1, 2, 4]}\n",
        "random_regressor = RandomizedSearchCV(RandomForestRegressor(), tunned_params, n_iter=20, scoring='neg_mean_absolute_error', cv = 5, n_jobs=-1)\n",
        "random_regressor.fit(X_train, y_train)\n",
        "metrics.r2_score(y_train, random_regressor.predict(X_train)), metrics.r2_score(y_test, random_regressor.predict(X_test))"
      ]
    },
    {
      "cell_type": "code",
      "execution_count": null,
      "metadata": {
        "colab": {
          "base_uri": "https://localhost:8080/"
        },
        "id": "wegHl5IIaPIc",
        "outputId": "b12668f7-2566-464c-eb13-0618717cae5e"
      },
      "outputs": [
        {
          "output_type": "execute_result",
          "data": {
            "text/plain": [
              "<bound method BaseEstimator.get_params of RandomizedSearchCV(cv=5, estimator=RandomForestRegressor(), n_iter=20,\n",
              "                   n_jobs=-1,\n",
              "                   param_distributions={'min_samples_leaf': [1, 2, 4],\n",
              "                                        'min_samples_split': [2, 5, 10],\n",
              "                                        'n_estimators': [100, 300, 500]},\n",
              "                   scoring='neg_mean_absolute_error')>"
            ]
          },
          "metadata": {},
          "execution_count": 560
        }
      ],
      "source": [
        "random_regressor.get_params"
      ]
    },
    {
      "cell_type": "code",
      "execution_count": null,
      "metadata": {
        "colab": {
          "base_uri": "https://localhost:8080/"
        },
        "id": "S4_mONqRPS2o",
        "outputId": "41ab3ef1-49e7-4556-de13-09d4052f8267"
      },
      "outputs": [
        {
          "output_type": "execute_result",
          "data": {
            "text/plain": [
              "{'min_samples_leaf': 1, 'min_samples_split': 10, 'n_estimators': 300}"
            ]
          },
          "metadata": {},
          "execution_count": 561
        }
      ],
      "source": [
        "random_regressor.best_params_"
      ]
    },
    {
      "cell_type": "code",
      "source": [
        "from joblib import dump, load\n",
        "dump(random_regressor, \"/content/Airline/Airline/model/model_random_forest_regressor.joblib\")"
      ],
      "metadata": {
        "colab": {
          "base_uri": "https://localhost:8080/"
        },
        "id": "5NPUUhl1ozbd",
        "outputId": "37d0b738-6d68-41f3-b46c-a00a9bbfdfdd"
      },
      "execution_count": null,
      "outputs": [
        {
          "output_type": "execute_result",
          "data": {
            "text/plain": [
              "['/content/Airline/Airline/model/model_random_forest_regressor.joblib']"
            ]
          },
          "metadata": {},
          "execution_count": 562
        }
      ]
    },
    {
      "cell_type": "code",
      "source": [
        "import pickle\n",
        "pickle.dump(tree, open(\"/content/Airline/Airline/model/random_forest_1st_regressor_model.pkl\", \"wb\"))"
      ],
      "metadata": {
        "id": "Ajl-RYoOozer"
      },
      "execution_count": null,
      "outputs": []
    },
    {
      "cell_type": "code",
      "source": [
        "with open(\"/content/Airline/Airline/model/random_2nd_regressor_model.pkl\", \"wb\") as file:\n",
        "    pickle.dump(random_regressor, file)"
      ],
      "metadata": {
        "id": "2cLrlprIozqO"
      },
      "execution_count": null,
      "outputs": []
    },
    {
      "cell_type": "code",
      "execution_count": null,
      "metadata": {
        "colab": {
          "base_uri": "https://localhost:8080/"
        },
        "id": "Qzkv6jEBn-nl",
        "outputId": "69850a57-70cc-4749-c68f-93f0a7b6fe1f"
      },
      "outputs": [
        {
          "output_type": "stream",
          "name": "stdout",
          "text": [
            "0.9235755644281367 0.8384239374564915\n"
          ]
        }
      ],
      "source": [
        "\n",
        "tuned_params = {'n_estimators': [490, 495, 500, 505, 510], 'min_samples_split': [5,6,7,8,9,10], 'min_samples_leaf' : [1,2,3,4]}\n",
        "random_regressor = GridSearchCV(RandomForestRegressor(), tunned_params, scoring = 'neg_mean_absolute_error', cv=5, n_jobs=-1)\n",
        "random_regressor.fit(X_train, y_train)\n",
        "print(metrics.r2_score(y_train, random_regressor.predict(X_train)), metrics.r2_score(y_test, random_regressor.predict(X_test)))"
      ]
    },
    {
      "cell_type": "markdown",
      "metadata": {
        "id": "C-3QW4yiYBq0"
      },
      "source": [
        "Random Forest semms to be best performing model at this point of time. Let's generate some predictions using \"Random Forest\""
      ]
    },
    {
      "cell_type": "code",
      "execution_count": null,
      "metadata": {
        "id": "iv0It9BtPS7r"
      },
      "outputs": [],
      "source": [
        "import xgboost as xgb"
      ]
    },
    {
      "cell_type": "code",
      "execution_count": null,
      "metadata": {
        "colab": {
          "base_uri": "https://localhost:8080/"
        },
        "id": "Qi2DcPb7PS-F",
        "outputId": "83e0be4d-b022-4dc7-c918-83e8f2a98fca"
      },
      "outputs": [
        {
          "output_type": "stream",
          "name": "stdout",
          "text": [
            "[07:33:49] WARNING: /workspace/src/objective/regression_obj.cu:152: reg:linear is now deprecated in favor of reg:squarederror.\n"
          ]
        },
        {
          "output_type": "execute_result",
          "data": {
            "text/plain": [
              "(0.8233086688620561, 0.8053181440393977)"
            ]
          },
          "metadata": {},
          "execution_count": 567
        }
      ],
      "source": [
        "xg_reg = xgb.XGBRegressor()\n",
        "xg_reg.fit(X_train, y_train)\n",
        "metrics.r2_score(y_train, xg_reg.predict(X_train)), metrics.r2_score(y_test, xg_reg.predict(X_test))"
      ]
    },
    {
      "cell_type": "code",
      "execution_count": null,
      "metadata": {
        "colab": {
          "base_uri": "https://localhost:8080/"
        },
        "id": "x88Rye7fPTAj",
        "outputId": "793e2599-fac0-4153-eb5f-ffdbcb3baa3c"
      },
      "outputs": [
        {
          "output_type": "stream",
          "name": "stdout",
          "text": [
            "Fitting 5 folds for each of 10 candidates, totalling 50 fits\n",
            "[07:33:50] WARNING: /workspace/src/objective/regression_obj.cu:152: reg:linear is now deprecated in favor of reg:squarederror.\n",
            "[CV 1/5] END learning_rate=0.2, max_depth=5, min_child_weight=6, n_estimators=100, subsample=0.4;, score=0.829 total time=   1.0s\n",
            "[07:33:51] WARNING: /workspace/src/objective/regression_obj.cu:152: reg:linear is now deprecated in favor of reg:squarederror.\n",
            "[CV 2/5] END learning_rate=0.2, max_depth=5, min_child_weight=6, n_estimators=100, subsample=0.4;, score=0.803 total time=   0.9s\n",
            "[07:33:52] WARNING: /workspace/src/objective/regression_obj.cu:152: reg:linear is now deprecated in favor of reg:squarederror.\n",
            "[CV 3/5] END learning_rate=0.2, max_depth=5, min_child_weight=6, n_estimators=100, subsample=0.4;, score=0.840 total time=   0.9s\n",
            "[07:33:53] WARNING: /workspace/src/objective/regression_obj.cu:152: reg:linear is now deprecated in favor of reg:squarederror.\n",
            "[CV 4/5] END learning_rate=0.2, max_depth=5, min_child_weight=6, n_estimators=100, subsample=0.4;, score=0.857 total time=   1.0s\n",
            "[07:33:53] WARNING: /workspace/src/objective/regression_obj.cu:152: reg:linear is now deprecated in favor of reg:squarederror.\n",
            "[CV 5/5] END learning_rate=0.2, max_depth=5, min_child_weight=6, n_estimators=100, subsample=0.4;, score=0.795 total time=   0.9s\n",
            "[07:33:54] WARNING: /workspace/src/objective/regression_obj.cu:152: reg:linear is now deprecated in favor of reg:squarederror.\n",
            "[CV 1/5] END learning_rate=0.2, max_depth=5, min_child_weight=5, n_estimators=540, subsample=0.9;, score=0.822 total time=   4.2s\n",
            "[07:33:59] WARNING: /workspace/src/objective/regression_obj.cu:152: reg:linear is now deprecated in favor of reg:squarederror.\n",
            "[CV 2/5] END learning_rate=0.2, max_depth=5, min_child_weight=5, n_estimators=540, subsample=0.9;, score=0.808 total time=   4.2s\n",
            "[07:34:03] WARNING: /workspace/src/objective/regression_obj.cu:152: reg:linear is now deprecated in favor of reg:squarederror.\n",
            "[CV 3/5] END learning_rate=0.2, max_depth=5, min_child_weight=5, n_estimators=540, subsample=0.9;, score=0.829 total time=   4.2s\n",
            "[07:34:07] WARNING: /workspace/src/objective/regression_obj.cu:152: reg:linear is now deprecated in favor of reg:squarederror.\n",
            "[CV 4/5] END learning_rate=0.2, max_depth=5, min_child_weight=5, n_estimators=540, subsample=0.9;, score=0.858 total time=   4.2s\n",
            "[07:34:11] WARNING: /workspace/src/objective/regression_obj.cu:152: reg:linear is now deprecated in favor of reg:squarederror.\n",
            "[CV 5/5] END learning_rate=0.2, max_depth=5, min_child_weight=5, n_estimators=540, subsample=0.9;, score=0.804 total time=   4.2s\n",
            "[07:34:15] WARNING: /workspace/src/objective/regression_obj.cu:152: reg:linear is now deprecated in favor of reg:squarederror.\n",
            "[CV 1/5] END learning_rate=0.4, max_depth=28, min_child_weight=3, n_estimators=320, subsample=0.7;, score=0.703 total time=  18.0s\n",
            "[07:34:33] WARNING: /workspace/src/objective/regression_obj.cu:152: reg:linear is now deprecated in favor of reg:squarederror.\n",
            "[CV 2/5] END learning_rate=0.4, max_depth=28, min_child_weight=3, n_estimators=320, subsample=0.7;, score=0.716 total time=  17.2s\n",
            "[07:34:51] WARNING: /workspace/src/objective/regression_obj.cu:152: reg:linear is now deprecated in favor of reg:squarederror.\n",
            "[CV 3/5] END learning_rate=0.4, max_depth=28, min_child_weight=3, n_estimators=320, subsample=0.7;, score=0.727 total time=  17.5s\n",
            "[07:35:08] WARNING: /workspace/src/objective/regression_obj.cu:152: reg:linear is now deprecated in favor of reg:squarederror.\n",
            "[CV 4/5] END learning_rate=0.4, max_depth=28, min_child_weight=3, n_estimators=320, subsample=0.7;, score=0.735 total time=  17.2s\n",
            "[07:35:25] WARNING: /workspace/src/objective/regression_obj.cu:152: reg:linear is now deprecated in favor of reg:squarederror.\n",
            "[CV 5/5] END learning_rate=0.4, max_depth=28, min_child_weight=3, n_estimators=320, subsample=0.7;, score=0.716 total time=  17.0s\n",
            "[07:35:42] WARNING: /workspace/src/objective/regression_obj.cu:152: reg:linear is now deprecated in favor of reg:squarederror.\n",
            "[CV 1/5] END learning_rate=0.6, max_depth=16, min_child_weight=8, n_estimators=980, subsample=0.9;, score=0.718 total time=  31.8s\n",
            "[07:36:14] WARNING: /workspace/src/objective/regression_obj.cu:152: reg:linear is now deprecated in favor of reg:squarederror.\n",
            "[CV 2/5] END learning_rate=0.6, max_depth=16, min_child_weight=8, n_estimators=980, subsample=0.9;, score=0.702 total time=  32.0s\n",
            "[07:36:46] WARNING: /workspace/src/objective/regression_obj.cu:152: reg:linear is now deprecated in favor of reg:squarederror.\n",
            "[CV 3/5] END learning_rate=0.6, max_depth=16, min_child_weight=8, n_estimators=980, subsample=0.9;, score=0.703 total time=  32.0s\n",
            "[07:37:18] WARNING: /workspace/src/objective/regression_obj.cu:152: reg:linear is now deprecated in favor of reg:squarederror.\n",
            "[CV 4/5] END learning_rate=0.6, max_depth=16, min_child_weight=8, n_estimators=980, subsample=0.9;, score=0.753 total time=  35.5s\n",
            "[07:37:54] WARNING: /workspace/src/objective/regression_obj.cu:152: reg:linear is now deprecated in favor of reg:squarederror.\n",
            "[CV 5/5] END learning_rate=0.6, max_depth=16, min_child_weight=8, n_estimators=980, subsample=0.9;, score=0.685 total time=  31.8s\n",
            "[07:38:26] WARNING: /workspace/src/objective/regression_obj.cu:152: reg:linear is now deprecated in favor of reg:squarederror.\n",
            "[CV 1/5] END learning_rate=0.2, max_depth=5, min_child_weight=7, n_estimators=760, subsample=0.4;, score=0.807 total time=   7.1s\n",
            "[07:38:33] WARNING: /workspace/src/objective/regression_obj.cu:152: reg:linear is now deprecated in favor of reg:squarederror.\n",
            "[CV 2/5] END learning_rate=0.2, max_depth=5, min_child_weight=7, n_estimators=760, subsample=0.4;, score=0.803 total time=   7.2s\n",
            "[07:38:40] WARNING: /workspace/src/objective/regression_obj.cu:152: reg:linear is now deprecated in favor of reg:squarederror.\n",
            "[CV 3/5] END learning_rate=0.2, max_depth=5, min_child_weight=7, n_estimators=760, subsample=0.4;, score=0.809 total time=   7.1s\n",
            "[07:38:47] WARNING: /workspace/src/objective/regression_obj.cu:152: reg:linear is now deprecated in favor of reg:squarederror.\n",
            "[CV 4/5] END learning_rate=0.2, max_depth=5, min_child_weight=7, n_estimators=760, subsample=0.4;, score=0.830 total time=   7.1s\n",
            "[07:38:54] WARNING: /workspace/src/objective/regression_obj.cu:152: reg:linear is now deprecated in favor of reg:squarederror.\n",
            "[CV 5/5] END learning_rate=0.2, max_depth=5, min_child_weight=7, n_estimators=760, subsample=0.4;, score=0.799 total time=   7.0s\n",
            "[07:39:01] WARNING: /workspace/src/objective/regression_obj.cu:152: reg:linear is now deprecated in favor of reg:squarederror.\n",
            "[CV 1/5] END learning_rate=0.4, max_depth=28, min_child_weight=3, n_estimators=980, subsample=0.7;, score=0.632 total time=  55.7s\n",
            "[07:39:57] WARNING: /workspace/src/objective/regression_obj.cu:152: reg:linear is now deprecated in favor of reg:squarederror.\n",
            "[CV 2/5] END learning_rate=0.4, max_depth=28, min_child_weight=3, n_estimators=980, subsample=0.7;, score=0.598 total time=  54.3s\n",
            "[07:40:51] WARNING: /workspace/src/objective/regression_obj.cu:152: reg:linear is now deprecated in favor of reg:squarederror.\n",
            "[CV 3/5] END learning_rate=0.4, max_depth=28, min_child_weight=3, n_estimators=980, subsample=0.7;, score=0.607 total time=  52.8s\n",
            "[07:41:44] WARNING: /workspace/src/objective/regression_obj.cu:152: reg:linear is now deprecated in favor of reg:squarederror.\n",
            "[CV 4/5] END learning_rate=0.4, max_depth=28, min_child_weight=3, n_estimators=980, subsample=0.7;, score=0.652 total time=  54.0s\n",
            "[07:42:38] WARNING: /workspace/src/objective/regression_obj.cu:152: reg:linear is now deprecated in favor of reg:squarederror.\n",
            "[CV 5/5] END learning_rate=0.4, max_depth=28, min_child_weight=3, n_estimators=980, subsample=0.7;, score=0.627 total time=  54.2s\n",
            "[07:43:32] WARNING: /workspace/src/objective/regression_obj.cu:152: reg:linear is now deprecated in favor of reg:squarederror.\n",
            "[CV 1/5] END learning_rate=0.2, max_depth=16, min_child_weight=8, n_estimators=980, subsample=0.4;, score=0.715 total time=  28.3s\n",
            "[07:44:00] WARNING: /workspace/src/objective/regression_obj.cu:152: reg:linear is now deprecated in favor of reg:squarederror.\n",
            "[CV 2/5] END learning_rate=0.2, max_depth=16, min_child_weight=8, n_estimators=980, subsample=0.4;, score=0.741 total time=  28.0s\n",
            "[07:44:28] WARNING: /workspace/src/objective/regression_obj.cu:152: reg:linear is now deprecated in favor of reg:squarederror.\n",
            "[CV 3/5] END learning_rate=0.2, max_depth=16, min_child_weight=8, n_estimators=980, subsample=0.4;, score=0.730 total time=  28.2s\n",
            "[07:44:57] WARNING: /workspace/src/objective/regression_obj.cu:152: reg:linear is now deprecated in favor of reg:squarederror.\n",
            "[CV 4/5] END learning_rate=0.2, max_depth=16, min_child_weight=8, n_estimators=980, subsample=0.4;, score=0.761 total time=  28.2s\n",
            "[07:45:25] WARNING: /workspace/src/objective/regression_obj.cu:152: reg:linear is now deprecated in favor of reg:squarederror.\n",
            "[CV 5/5] END learning_rate=0.2, max_depth=16, min_child_weight=8, n_estimators=980, subsample=0.4;, score=0.705 total time=  28.2s\n",
            "[07:45:53] WARNING: /workspace/src/objective/regression_obj.cu:152: reg:linear is now deprecated in favor of reg:squarederror.\n",
            "[CV 1/5] END learning_rate=0.6, max_depth=28, min_child_weight=5, n_estimators=1200, subsample=0.4;, score=-0.001 total time=  45.9s\n",
            "[07:46:39] WARNING: /workspace/src/objective/regression_obj.cu:152: reg:linear is now deprecated in favor of reg:squarederror.\n",
            "[CV 2/5] END learning_rate=0.6, max_depth=28, min_child_weight=5, n_estimators=1200, subsample=0.4;, score=-0.295 total time=  47.2s\n",
            "[07:47:26] WARNING: /workspace/src/objective/regression_obj.cu:152: reg:linear is now deprecated in favor of reg:squarederror.\n",
            "[CV 3/5] END learning_rate=0.6, max_depth=28, min_child_weight=5, n_estimators=1200, subsample=0.4;, score=-0.203 total time=  48.3s\n",
            "[07:48:14] WARNING: /workspace/src/objective/regression_obj.cu:152: reg:linear is now deprecated in favor of reg:squarederror.\n",
            "[CV 4/5] END learning_rate=0.6, max_depth=28, min_child_weight=5, n_estimators=1200, subsample=0.4;, score=-0.169 total time=  45.7s\n",
            "[07:49:00] WARNING: /workspace/src/objective/regression_obj.cu:152: reg:linear is now deprecated in favor of reg:squarederror.\n",
            "[CV 5/5] END learning_rate=0.6, max_depth=28, min_child_weight=5, n_estimators=1200, subsample=0.4;, score=-0.146 total time=  47.4s\n",
            "[07:49:48] WARNING: /workspace/src/objective/regression_obj.cu:152: reg:linear is now deprecated in favor of reg:squarederror.\n",
            "[CV 1/5] END learning_rate=0.2, max_depth=16, min_child_weight=8, n_estimators=980, subsample=0.7;, score=0.743 total time=  35.6s\n",
            "[07:50:23] WARNING: /workspace/src/objective/regression_obj.cu:152: reg:linear is now deprecated in favor of reg:squarederror.\n",
            "[CV 2/5] END learning_rate=0.2, max_depth=16, min_child_weight=8, n_estimators=980, subsample=0.7;, score=0.773 total time=  32.6s\n",
            "[07:50:56] WARNING: /workspace/src/objective/regression_obj.cu:152: reg:linear is now deprecated in favor of reg:squarederror.\n",
            "[CV 3/5] END learning_rate=0.2, max_depth=16, min_child_weight=8, n_estimators=980, subsample=0.7;, score=0.759 total time=  33.2s\n",
            "[07:51:29] WARNING: /workspace/src/objective/regression_obj.cu:152: reg:linear is now deprecated in favor of reg:squarederror.\n",
            "[CV 4/5] END learning_rate=0.2, max_depth=16, min_child_weight=8, n_estimators=980, subsample=0.7;, score=0.792 total time=  33.1s\n",
            "[07:52:02] WARNING: /workspace/src/objective/regression_obj.cu:152: reg:linear is now deprecated in favor of reg:squarederror.\n",
            "[CV 5/5] END learning_rate=0.2, max_depth=16, min_child_weight=8, n_estimators=980, subsample=0.7;, score=0.733 total time=  32.9s\n",
            "[07:52:35] WARNING: /workspace/src/objective/regression_obj.cu:152: reg:linear is now deprecated in favor of reg:squarederror.\n",
            "[CV 1/5] END learning_rate=0.2, max_depth=28, min_child_weight=5, n_estimators=760, subsample=0.9;, score=0.762 total time=  37.8s\n",
            "[07:53:13] WARNING: /workspace/src/objective/regression_obj.cu:152: reg:linear is now deprecated in favor of reg:squarederror.\n",
            "[CV 2/5] END learning_rate=0.2, max_depth=28, min_child_weight=5, n_estimators=760, subsample=0.9;, score=0.789 total time=  38.5s\n",
            "[07:53:51] WARNING: /workspace/src/objective/regression_obj.cu:152: reg:linear is now deprecated in favor of reg:squarederror.\n",
            "[CV 3/5] END learning_rate=0.2, max_depth=28, min_child_weight=5, n_estimators=760, subsample=0.9;, score=0.776 total time=  37.6s\n",
            "[07:54:29] WARNING: /workspace/src/objective/regression_obj.cu:152: reg:linear is now deprecated in favor of reg:squarederror.\n",
            "[CV 4/5] END learning_rate=0.2, max_depth=28, min_child_weight=5, n_estimators=760, subsample=0.9;, score=0.813 total time=  37.7s\n",
            "[07:55:07] WARNING: /workspace/src/objective/regression_obj.cu:152: reg:linear is now deprecated in favor of reg:squarederror.\n",
            "[CV 5/5] END learning_rate=0.2, max_depth=28, min_child_weight=5, n_estimators=760, subsample=0.9;, score=0.746 total time=  37.5s\n",
            "[07:55:44] WARNING: /workspace/src/objective/regression_obj.cu:152: reg:linear is now deprecated in favor of reg:squarederror.\n"
          ]
        },
        {
          "output_type": "execute_result",
          "data": {
            "text/plain": [
              "(0.8759442303831616, 0.8211997024465145)"
            ]
          },
          "metadata": {},
          "execution_count": 568
        }
      ],
      "source": [
        "n_estimators = [int(i) for i in np.linspace(100, 1200, num=6)]\n",
        "learning_rate = [0.2, 0.4, 0.6]\n",
        "max_depth = [int(i) for i in np.linspace(5, 40, num=4)]\n",
        "min_child_weight = [3,5,6,8,7]\n",
        "subsample = [0.4, 0.7, 0.9]\n",
        "\n",
        "ran_params = {'n_estimators' : n_estimators,\n",
        "             'max_depth' :  max_depth,\n",
        "             'learning_rate' : learning_rate,\n",
        "             'min_child_weight' : min_child_weight,\n",
        "             'subsample' : subsample}\n",
        "\n",
        "xg_r = RandomizedSearchCV(xg_reg, ran_params, cv=5, verbose=3)\n",
        "xg_r.fit(X_train, y_train)\n",
        "metrics.r2_score(y_train, xg_r.predict(X_train)), metrics.r2_score(y_test, xg_r.predict(X_test))"
      ]
    },
    {
      "cell_type": "code",
      "source": [
        "metrics.r2_score(y_train, xg_r.predict(X_train)), metrics.r2_score(y_test, xg_r.predict(X_test))"
      ],
      "metadata": {
        "colab": {
          "base_uri": "https://localhost:8080/"
        },
        "id": "D9cIsvaU91kE",
        "outputId": "b77ea7ea-8a33-427e-fe1a-05bf48c8ff7d"
      },
      "execution_count": null,
      "outputs": [
        {
          "output_type": "execute_result",
          "data": {
            "text/plain": [
              "(0.8759442303831616, 0.8211997024465145)"
            ]
          },
          "metadata": {},
          "execution_count": 569
        }
      ]
    },
    {
      "cell_type": "markdown",
      "metadata": {
        "id": "yG84kHvSOfOD"
      },
      "source": [
        "### Building Final Model and Pipeline:"
      ]
    },
    {
      "cell_type": "code",
      "execution_count": null,
      "metadata": {
        "id": "IfLoifV3MST2"
      },
      "outputs": [],
      "source": [
        "import joblib\n",
        "import pickle"
      ]
    },
    {
      "cell_type": "markdown",
      "metadata": {
        "id": "aXrBnIKPOtVW"
      },
      "source": [
        "## Building Complete Pipeline:"
      ]
    },
    {
      "cell_type": "code",
      "execution_count": null,
      "metadata": {
        "id": "P5ubPZ06MScU"
      },
      "outputs": [],
      "source": [
        "def pre_process(df, target):\n",
        "  \"\"\"\n",
        "    This function applies pre-processing on any incomimg observations\n",
        "  Input:\n",
        "    df : DataFarme which required pre-processing\n",
        "    target: dependent variable\n",
        "  Return:\n",
        "    clean_df : Cleaned DataFrame\n",
        "  \"\"\"\n",
        "\n",
        "  sanity_check(df)\n",
        "  handle_missing_value(df)\n",
        "  encoded_dict = handle_categorical_values(df, target)\n",
        "  generate_additional_features(df)\n",
        "  X = filter_predictor_columns(df)\n",
        "  y = df[target]\n",
        "  # robust_transformer = RobustScaler().fit(X)\n",
        "  # robust_transformer.transform(X)\n",
        "  return X, y, encoded_dict"
      ]
    },
    {
      "cell_type": "markdown",
      "source": [
        "Now, let's check our Test Dataset which has been given in xlsx format like train dataset. and predict the 'Price' on Test Dataset.. will also use JSON format and from JSON format we can predict the 'Price'. for that, we will use 'Postman' application where we can get predicted price easily."
      ],
      "metadata": {
        "id": "i-kERpux5L8A"
      }
    },
    {
      "cell_type": "code",
      "execution_count": null,
      "metadata": {
        "id": "5yE1fpfbPTDm"
      },
      "outputs": [],
      "source": [
        " raw_df = pd.read_excel(\"/content/Airline/Airline/data/Data_Train.xlsx\")\n",
        " X_input, y_input, encoded_dict = pre_process(raw_df, \"Price\")"
      ]
    },
    {
      "cell_type": "code",
      "source": [
        "with open(\"/content/Airline/Airline/model/encoded.pickle\", \"wb\") as file:\n",
        "  pickle.dump(encoded_dict, file)"
      ],
      "metadata": {
        "id": "Rj5Cog_LVkAy"
      },
      "execution_count": null,
      "outputs": []
    },
    {
      "cell_type": "code",
      "source": [
        "with open(\"/content/Airline/Airline/model/encoded.pickle\", \"rb\") as file:\n",
        "  category_encoded_dict = pickle.load(file)"
      ],
      "metadata": {
        "id": "PT4Ixey6WHQ_"
      },
      "execution_count": null,
      "outputs": []
    },
    {
      "cell_type": "code",
      "source": [
        "category_encoded_dict.keys()"
      ],
      "metadata": {
        "colab": {
          "base_uri": "https://localhost:8080/"
        },
        "id": "DfKjvHGhWfNs",
        "outputId": "b4cb10f0-26fd-47ba-8835-64bc702d059c"
      },
      "execution_count": null,
      "outputs": [
        {
          "output_type": "execute_result",
          "data": {
            "text/plain": [
              "dict_keys(['Frequency', 'Mean', 'Label'])"
            ]
          },
          "metadata": {},
          "execution_count": 575
        }
      ]
    },
    {
      "cell_type": "code",
      "execution_count": null,
      "metadata": {
        "id": "n4yHJWH9PTF1",
        "colab": {
          "base_uri": "https://localhost:8080/"
        },
        "outputId": "a9fdd0c1-4b46-49a3-f791-ffd26c4d8d2b"
      },
      "outputs": [
        {
          "output_type": "execute_result",
          "data": {
            "text/plain": [
              "0     3897\n",
              "1     7662\n",
              "2    13882\n",
              "3     6218\n",
              "4    13302\n",
              "Name: Price, dtype: int64"
            ]
          },
          "metadata": {},
          "execution_count": 576
        }
      ],
      "source": [
        "y_input.iloc[0 : 5]"
      ]
    },
    {
      "cell_type": "code",
      "execution_count": null,
      "metadata": {
        "id": "Ry-0mbxOPTIW",
        "colab": {
          "base_uri": "https://localhost:8080/",
          "height": 487
        },
        "outputId": "e764be01-21d4-4b62-952b-0eca9fe7b8d1"
      },
      "outputs": [
        {
          "output_type": "execute_result",
          "data": {
            "text/plain": [
              "       Duration  Total_Stops  Freq_encoded_Airline  Freq_encoded_Source  \\\n",
              "0           170          0.0              0.195278             0.208278   \n",
              "1           445          2.0              0.161919             0.273370   \n",
              "2          1140          2.0              0.353661             0.415313   \n",
              "3           325          1.0              0.195278             0.273370   \n",
              "4           285          1.0              0.195278             0.208278   \n",
              "...         ...          ...                   ...                  ...   \n",
              "10678       150          0.0              0.030491             0.273370   \n",
              "10679       155          0.0              0.161919             0.273370   \n",
              "10680       180          0.0              0.353661             0.208278   \n",
              "10681       160          0.0              0.045689             0.208278   \n",
              "10682       500          2.0              0.161919             0.415313   \n",
              "\n",
              "       Freq_encoded_Destination  Freq_encoded_Route  Mean_encoded_Airline  \\\n",
              "0                      0.087364            0.146817           5668.469897   \n",
              "1                      0.273370            0.000574           9556.608028   \n",
              "2                      0.415313            0.003919          11599.021081   \n",
              "3                      0.273370            0.000860           5668.469897   \n",
              "4                      0.087364            0.000287           5668.469897   \n",
              "...                         ...                 ...                   ...   \n",
              "10678                  0.273370            0.069203           5590.260188   \n",
              "10679                  0.273370            0.069203           9556.608028   \n",
              "10680                  0.120914            0.146817          11599.021081   \n",
              "10681                  0.087364            0.146817           7801.355649   \n",
              "10682                  0.415313            0.004206           9556.608028   \n",
              "\n",
              "       Mean_encoded_Source  Mean_encoded_Destination  Mean_encoded_Route  \\\n",
              "0              8022.872877              12007.421225         5552.235677   \n",
              "1              9143.083566               9143.083566         7369.166667   \n",
              "2             10461.600690              10461.600690        13277.195122   \n",
              "3              9143.083566               9143.083566         6279.333333   \n",
              "4              8022.872877              12007.421225        11313.000000   \n",
              "...                    ...                       ...                 ...   \n",
              "10678          9143.083566               9143.083566         4556.055249   \n",
              "10679          9143.083566               9143.083566         4556.055249   \n",
              "10680          8022.872877               5143.918577         5552.235677   \n",
              "10681          8022.872877              12007.421225         5552.235677   \n",
              "10682         10461.600690              10461.600690        11941.818182   \n",
              "\n",
              "       Label_encoded_Airline  Label_encoded_Source  Label_encoded_Destination  \\\n",
              "0                          3                     0                          5   \n",
              "1                          1                     3                          0   \n",
              "2                          4                     2                          1   \n",
              "3                          3                     3                          0   \n",
              "4                          3                     0                          5   \n",
              "...                      ...                   ...                        ...   \n",
              "10678                      0                     3                          0   \n",
              "10679                      1                     3                          0   \n",
              "10680                      4                     0                          2   \n",
              "10681                     10                     0                          5   \n",
              "10682                      1                     2                          1   \n",
              "\n",
              "       Label_encoded_Route  Day_of_week  Day_of_month  Weekday  Month  \\\n",
              "0                       18            6            24        0      3   \n",
              "1                       84            5             5        0      1   \n",
              "2                      118            4             6        1      9   \n",
              "3                       91            3             5        1     12   \n",
              "4                       29            3             3        1      1   \n",
              "...                    ...          ...           ...      ...    ...   \n",
              "10678                   64            2             4        1      9   \n",
              "10679                   64            5            27        0      4   \n",
              "10680                   18            5            27        0      4   \n",
              "10681                   18            3             3        1      1   \n",
              "10682                  108            3             5        1      9   \n",
              "\n",
              "       Dep_hour  \n",
              "0            22  \n",
              "1             5  \n",
              "2             9  \n",
              "3            18  \n",
              "4            16  \n",
              "...         ...  \n",
              "10678        19  \n",
              "10679        20  \n",
              "10680         8  \n",
              "10681        11  \n",
              "10682        10  \n",
              "\n",
              "[10462 rows x 19 columns]"
            ],
            "text/html": [
              "\n",
              "  <div id=\"df-1405b507-f2e8-451f-9867-8ba2d63da983\">\n",
              "    <div class=\"colab-df-container\">\n",
              "      <div>\n",
              "<style scoped>\n",
              "    .dataframe tbody tr th:only-of-type {\n",
              "        vertical-align: middle;\n",
              "    }\n",
              "\n",
              "    .dataframe tbody tr th {\n",
              "        vertical-align: top;\n",
              "    }\n",
              "\n",
              "    .dataframe thead th {\n",
              "        text-align: right;\n",
              "    }\n",
              "</style>\n",
              "<table border=\"1\" class=\"dataframe\">\n",
              "  <thead>\n",
              "    <tr style=\"text-align: right;\">\n",
              "      <th></th>\n",
              "      <th>Duration</th>\n",
              "      <th>Total_Stops</th>\n",
              "      <th>Freq_encoded_Airline</th>\n",
              "      <th>Freq_encoded_Source</th>\n",
              "      <th>Freq_encoded_Destination</th>\n",
              "      <th>Freq_encoded_Route</th>\n",
              "      <th>Mean_encoded_Airline</th>\n",
              "      <th>Mean_encoded_Source</th>\n",
              "      <th>Mean_encoded_Destination</th>\n",
              "      <th>Mean_encoded_Route</th>\n",
              "      <th>Label_encoded_Airline</th>\n",
              "      <th>Label_encoded_Source</th>\n",
              "      <th>Label_encoded_Destination</th>\n",
              "      <th>Label_encoded_Route</th>\n",
              "      <th>Day_of_week</th>\n",
              "      <th>Day_of_month</th>\n",
              "      <th>Weekday</th>\n",
              "      <th>Month</th>\n",
              "      <th>Dep_hour</th>\n",
              "    </tr>\n",
              "  </thead>\n",
              "  <tbody>\n",
              "    <tr>\n",
              "      <th>0</th>\n",
              "      <td>170</td>\n",
              "      <td>0.0</td>\n",
              "      <td>0.195278</td>\n",
              "      <td>0.208278</td>\n",
              "      <td>0.087364</td>\n",
              "      <td>0.146817</td>\n",
              "      <td>5668.469897</td>\n",
              "      <td>8022.872877</td>\n",
              "      <td>12007.421225</td>\n",
              "      <td>5552.235677</td>\n",
              "      <td>3</td>\n",
              "      <td>0</td>\n",
              "      <td>5</td>\n",
              "      <td>18</td>\n",
              "      <td>6</td>\n",
              "      <td>24</td>\n",
              "      <td>0</td>\n",
              "      <td>3</td>\n",
              "      <td>22</td>\n",
              "    </tr>\n",
              "    <tr>\n",
              "      <th>1</th>\n",
              "      <td>445</td>\n",
              "      <td>2.0</td>\n",
              "      <td>0.161919</td>\n",
              "      <td>0.273370</td>\n",
              "      <td>0.273370</td>\n",
              "      <td>0.000574</td>\n",
              "      <td>9556.608028</td>\n",
              "      <td>9143.083566</td>\n",
              "      <td>9143.083566</td>\n",
              "      <td>7369.166667</td>\n",
              "      <td>1</td>\n",
              "      <td>3</td>\n",
              "      <td>0</td>\n",
              "      <td>84</td>\n",
              "      <td>5</td>\n",
              "      <td>5</td>\n",
              "      <td>0</td>\n",
              "      <td>1</td>\n",
              "      <td>5</td>\n",
              "    </tr>\n",
              "    <tr>\n",
              "      <th>2</th>\n",
              "      <td>1140</td>\n",
              "      <td>2.0</td>\n",
              "      <td>0.353661</td>\n",
              "      <td>0.415313</td>\n",
              "      <td>0.415313</td>\n",
              "      <td>0.003919</td>\n",
              "      <td>11599.021081</td>\n",
              "      <td>10461.600690</td>\n",
              "      <td>10461.600690</td>\n",
              "      <td>13277.195122</td>\n",
              "      <td>4</td>\n",
              "      <td>2</td>\n",
              "      <td>1</td>\n",
              "      <td>118</td>\n",
              "      <td>4</td>\n",
              "      <td>6</td>\n",
              "      <td>1</td>\n",
              "      <td>9</td>\n",
              "      <td>9</td>\n",
              "    </tr>\n",
              "    <tr>\n",
              "      <th>3</th>\n",
              "      <td>325</td>\n",
              "      <td>1.0</td>\n",
              "      <td>0.195278</td>\n",
              "      <td>0.273370</td>\n",
              "      <td>0.273370</td>\n",
              "      <td>0.000860</td>\n",
              "      <td>5668.469897</td>\n",
              "      <td>9143.083566</td>\n",
              "      <td>9143.083566</td>\n",
              "      <td>6279.333333</td>\n",
              "      <td>3</td>\n",
              "      <td>3</td>\n",
              "      <td>0</td>\n",
              "      <td>91</td>\n",
              "      <td>3</td>\n",
              "      <td>5</td>\n",
              "      <td>1</td>\n",
              "      <td>12</td>\n",
              "      <td>18</td>\n",
              "    </tr>\n",
              "    <tr>\n",
              "      <th>4</th>\n",
              "      <td>285</td>\n",
              "      <td>1.0</td>\n",
              "      <td>0.195278</td>\n",
              "      <td>0.208278</td>\n",
              "      <td>0.087364</td>\n",
              "      <td>0.000287</td>\n",
              "      <td>5668.469897</td>\n",
              "      <td>8022.872877</td>\n",
              "      <td>12007.421225</td>\n",
              "      <td>11313.000000</td>\n",
              "      <td>3</td>\n",
              "      <td>0</td>\n",
              "      <td>5</td>\n",
              "      <td>29</td>\n",
              "      <td>3</td>\n",
              "      <td>3</td>\n",
              "      <td>1</td>\n",
              "      <td>1</td>\n",
              "      <td>16</td>\n",
              "    </tr>\n",
              "    <tr>\n",
              "      <th>...</th>\n",
              "      <td>...</td>\n",
              "      <td>...</td>\n",
              "      <td>...</td>\n",
              "      <td>...</td>\n",
              "      <td>...</td>\n",
              "      <td>...</td>\n",
              "      <td>...</td>\n",
              "      <td>...</td>\n",
              "      <td>...</td>\n",
              "      <td>...</td>\n",
              "      <td>...</td>\n",
              "      <td>...</td>\n",
              "      <td>...</td>\n",
              "      <td>...</td>\n",
              "      <td>...</td>\n",
              "      <td>...</td>\n",
              "      <td>...</td>\n",
              "      <td>...</td>\n",
              "      <td>...</td>\n",
              "    </tr>\n",
              "    <tr>\n",
              "      <th>10678</th>\n",
              "      <td>150</td>\n",
              "      <td>0.0</td>\n",
              "      <td>0.030491</td>\n",
              "      <td>0.273370</td>\n",
              "      <td>0.273370</td>\n",
              "      <td>0.069203</td>\n",
              "      <td>5590.260188</td>\n",
              "      <td>9143.083566</td>\n",
              "      <td>9143.083566</td>\n",
              "      <td>4556.055249</td>\n",
              "      <td>0</td>\n",
              "      <td>3</td>\n",
              "      <td>0</td>\n",
              "      <td>64</td>\n",
              "      <td>2</td>\n",
              "      <td>4</td>\n",
              "      <td>1</td>\n",
              "      <td>9</td>\n",
              "      <td>19</td>\n",
              "    </tr>\n",
              "    <tr>\n",
              "      <th>10679</th>\n",
              "      <td>155</td>\n",
              "      <td>0.0</td>\n",
              "      <td>0.161919</td>\n",
              "      <td>0.273370</td>\n",
              "      <td>0.273370</td>\n",
              "      <td>0.069203</td>\n",
              "      <td>9556.608028</td>\n",
              "      <td>9143.083566</td>\n",
              "      <td>9143.083566</td>\n",
              "      <td>4556.055249</td>\n",
              "      <td>1</td>\n",
              "      <td>3</td>\n",
              "      <td>0</td>\n",
              "      <td>64</td>\n",
              "      <td>5</td>\n",
              "      <td>27</td>\n",
              "      <td>0</td>\n",
              "      <td>4</td>\n",
              "      <td>20</td>\n",
              "    </tr>\n",
              "    <tr>\n",
              "      <th>10680</th>\n",
              "      <td>180</td>\n",
              "      <td>0.0</td>\n",
              "      <td>0.353661</td>\n",
              "      <td>0.208278</td>\n",
              "      <td>0.120914</td>\n",
              "      <td>0.146817</td>\n",
              "      <td>11599.021081</td>\n",
              "      <td>8022.872877</td>\n",
              "      <td>5143.918577</td>\n",
              "      <td>5552.235677</td>\n",
              "      <td>4</td>\n",
              "      <td>0</td>\n",
              "      <td>2</td>\n",
              "      <td>18</td>\n",
              "      <td>5</td>\n",
              "      <td>27</td>\n",
              "      <td>0</td>\n",
              "      <td>4</td>\n",
              "      <td>8</td>\n",
              "    </tr>\n",
              "    <tr>\n",
              "      <th>10681</th>\n",
              "      <td>160</td>\n",
              "      <td>0.0</td>\n",
              "      <td>0.045689</td>\n",
              "      <td>0.208278</td>\n",
              "      <td>0.087364</td>\n",
              "      <td>0.146817</td>\n",
              "      <td>7801.355649</td>\n",
              "      <td>8022.872877</td>\n",
              "      <td>12007.421225</td>\n",
              "      <td>5552.235677</td>\n",
              "      <td>10</td>\n",
              "      <td>0</td>\n",
              "      <td>5</td>\n",
              "      <td>18</td>\n",
              "      <td>3</td>\n",
              "      <td>3</td>\n",
              "      <td>1</td>\n",
              "      <td>1</td>\n",
              "      <td>11</td>\n",
              "    </tr>\n",
              "    <tr>\n",
              "      <th>10682</th>\n",
              "      <td>500</td>\n",
              "      <td>2.0</td>\n",
              "      <td>0.161919</td>\n",
              "      <td>0.415313</td>\n",
              "      <td>0.415313</td>\n",
              "      <td>0.004206</td>\n",
              "      <td>9556.608028</td>\n",
              "      <td>10461.600690</td>\n",
              "      <td>10461.600690</td>\n",
              "      <td>11941.818182</td>\n",
              "      <td>1</td>\n",
              "      <td>2</td>\n",
              "      <td>1</td>\n",
              "      <td>108</td>\n",
              "      <td>3</td>\n",
              "      <td>5</td>\n",
              "      <td>1</td>\n",
              "      <td>9</td>\n",
              "      <td>10</td>\n",
              "    </tr>\n",
              "  </tbody>\n",
              "</table>\n",
              "<p>10462 rows × 19 columns</p>\n",
              "</div>\n",
              "      <button class=\"colab-df-convert\" onclick=\"convertToInteractive('df-1405b507-f2e8-451f-9867-8ba2d63da983')\"\n",
              "              title=\"Convert this dataframe to an interactive table.\"\n",
              "              style=\"display:none;\">\n",
              "        \n",
              "  <svg xmlns=\"http://www.w3.org/2000/svg\" height=\"24px\"viewBox=\"0 0 24 24\"\n",
              "       width=\"24px\">\n",
              "    <path d=\"M0 0h24v24H0V0z\" fill=\"none\"/>\n",
              "    <path d=\"M18.56 5.44l.94 2.06.94-2.06 2.06-.94-2.06-.94-.94-2.06-.94 2.06-2.06.94zm-11 1L8.5 8.5l.94-2.06 2.06-.94-2.06-.94L8.5 2.5l-.94 2.06-2.06.94zm10 10l.94 2.06.94-2.06 2.06-.94-2.06-.94-.94-2.06-.94 2.06-2.06.94z\"/><path d=\"M17.41 7.96l-1.37-1.37c-.4-.4-.92-.59-1.43-.59-.52 0-1.04.2-1.43.59L10.3 9.45l-7.72 7.72c-.78.78-.78 2.05 0 2.83L4 21.41c.39.39.9.59 1.41.59.51 0 1.02-.2 1.41-.59l7.78-7.78 2.81-2.81c.8-.78.8-2.07 0-2.86zM5.41 20L4 18.59l7.72-7.72 1.47 1.35L5.41 20z\"/>\n",
              "  </svg>\n",
              "      </button>\n",
              "      \n",
              "  <style>\n",
              "    .colab-df-container {\n",
              "      display:flex;\n",
              "      flex-wrap:wrap;\n",
              "      gap: 12px;\n",
              "    }\n",
              "\n",
              "    .colab-df-convert {\n",
              "      background-color: #E8F0FE;\n",
              "      border: none;\n",
              "      border-radius: 50%;\n",
              "      cursor: pointer;\n",
              "      display: none;\n",
              "      fill: #1967D2;\n",
              "      height: 32px;\n",
              "      padding: 0 0 0 0;\n",
              "      width: 32px;\n",
              "    }\n",
              "\n",
              "    .colab-df-convert:hover {\n",
              "      background-color: #E2EBFA;\n",
              "      box-shadow: 0px 1px 2px rgba(60, 64, 67, 0.3), 0px 1px 3px 1px rgba(60, 64, 67, 0.15);\n",
              "      fill: #174EA6;\n",
              "    }\n",
              "\n",
              "    [theme=dark] .colab-df-convert {\n",
              "      background-color: #3B4455;\n",
              "      fill: #D2E3FC;\n",
              "    }\n",
              "\n",
              "    [theme=dark] .colab-df-convert:hover {\n",
              "      background-color: #434B5C;\n",
              "      box-shadow: 0px 1px 3px 1px rgba(0, 0, 0, 0.15);\n",
              "      filter: drop-shadow(0px 1px 2px rgba(0, 0, 0, 0.3));\n",
              "      fill: #FFFFFF;\n",
              "    }\n",
              "  </style>\n",
              "\n",
              "      <script>\n",
              "        const buttonEl =\n",
              "          document.querySelector('#df-1405b507-f2e8-451f-9867-8ba2d63da983 button.colab-df-convert');\n",
              "        buttonEl.style.display =\n",
              "          google.colab.kernel.accessAllowed ? 'block' : 'none';\n",
              "\n",
              "        async function convertToInteractive(key) {\n",
              "          const element = document.querySelector('#df-1405b507-f2e8-451f-9867-8ba2d63da983');\n",
              "          const dataTable =\n",
              "            await google.colab.kernel.invokeFunction('convertToInteractive',\n",
              "                                                     [key], {});\n",
              "          if (!dataTable) return;\n",
              "\n",
              "          const docLinkHtml = 'Like what you see? Visit the ' +\n",
              "            '<a target=\"_blank\" href=https://colab.research.google.com/notebooks/data_table.ipynb>data table notebook</a>'\n",
              "            + ' to learn more about interactive tables.';\n",
              "          element.innerHTML = '';\n",
              "          dataTable['output_type'] = 'display_data';\n",
              "          await google.colab.output.renderOutput(dataTable, element);\n",
              "          const docLink = document.createElement('div');\n",
              "          docLink.innerHTML = docLinkHtml;\n",
              "          element.appendChild(docLink);\n",
              "        }\n",
              "      </script>\n",
              "    </div>\n",
              "  </div>\n",
              "  "
            ]
          },
          "metadata": {},
          "execution_count": 577
        }
      ],
      "source": [
        "X_input"
      ]
    },
    {
      "cell_type": "code",
      "execution_count": null,
      "metadata": {
        "id": "r8YCBNI-PTN4",
        "colab": {
          "base_uri": "https://localhost:8080/"
        },
        "outputId": "7d8dad57-740f-46a0-95ee-3703cee3f60b"
      },
      "outputs": [
        {
          "output_type": "execute_result",
          "data": {
            "text/plain": [
              "array([ 5154.4,  7242. , 13036.8,  6231.2, 13128. ])"
            ]
          },
          "metadata": {},
          "execution_count": 578
        }
      ],
      "source": [
        "knn_regressor.predict(X_input.iloc[0:5, :])"
      ]
    },
    {
      "cell_type": "code",
      "execution_count": null,
      "metadata": {
        "id": "sGJRQBl6PTQu",
        "colab": {
          "base_uri": "https://localhost:8080/"
        },
        "outputId": "9877466c-2819-40da-be30-01fac8486f14"
      },
      "outputs": [
        {
          "output_type": "execute_result",
          "data": {
            "text/plain": [
              "array([ 5094.41176471,  7428.5       , 13351.44554455,  6218.        ,\n",
              "       14662.9       ])"
            ]
          },
          "metadata": {},
          "execution_count": 579
        }
      ],
      "source": [
        "tree.predict(X_input.iloc[0:5, :])"
      ]
    },
    {
      "cell_type": "code",
      "source": [
        "random_regressor.predict(X_input.iloc[0:5, :])"
      ],
      "metadata": {
        "colab": {
          "base_uri": "https://localhost:8080/"
        },
        "id": "aiwpPhuja4mV",
        "outputId": "333eaf84-4ecd-4b5b-b53b-75d9cda127aa"
      },
      "execution_count": null,
      "outputs": [
        {
          "output_type": "execute_result",
          "data": {
            "text/plain": [
              "array([ 5073.7088884 ,  7215.57013352, 13800.79802159,  6311.97524826,\n",
              "       16137.10757574])"
            ]
          },
          "metadata": {},
          "execution_count": 580
        }
      ]
    },
    {
      "cell_type": "code",
      "source": [
        "with open(\"/content/Airline/Airline/model/random_2nd_regressor_model.pkl\", \"rb\") as file:\n",
        "    saved_model = pickle.load(file)"
      ],
      "metadata": {
        "id": "cTsKSx1rbW7K"
      },
      "execution_count": null,
      "outputs": []
    },
    {
      "cell_type": "code",
      "source": [
        "saved_model.predict(X_input.iloc[0:5, :])"
      ],
      "metadata": {
        "colab": {
          "base_uri": "https://localhost:8080/"
        },
        "id": "_NZXVk1wbXgH",
        "outputId": "ba28b137-4da9-49c1-ee30-cdd478d13928"
      },
      "execution_count": null,
      "outputs": [
        {
          "output_type": "execute_result",
          "data": {
            "text/plain": [
              "array([ 5058.26494524,  7161.14027518, 13791.44211061,  6263.22646493,\n",
              "       16292.74933725])"
            ]
          },
          "metadata": {},
          "execution_count": 582
        }
      ]
    },
    {
      "cell_type": "code",
      "source": [
        "print(y_input.iloc[0:5])"
      ],
      "metadata": {
        "colab": {
          "base_uri": "https://localhost:8080/"
        },
        "id": "dSZ4s2MwbXpm",
        "outputId": "a152cc79-1760-4754-fef8-562b0eba3503"
      },
      "execution_count": null,
      "outputs": [
        {
          "output_type": "stream",
          "name": "stdout",
          "text": [
            "0     3897\n",
            "1     7662\n",
            "2    13882\n",
            "3     6218\n",
            "4    13302\n",
            "Name: Price, dtype: int64\n"
          ]
        }
      ]
    },
    {
      "cell_type": "markdown",
      "metadata": {
        "id": "vF0X_VDmS2yU"
      },
      "source": [
        "## Saving Pipelines / Building Prediction Pipeline:"
      ]
    },
    {
      "cell_type": "code",
      "execution_count": null,
      "metadata": {
        "id": "9wYbu2m4PTbl"
      },
      "outputs": [],
      "source": [
        "def encode_predict_input(df, encoded_dict):\n",
        "  \"\"\"\n",
        "    This function encodes categorical values with same values as training encoded values.\n",
        "  Inputs:\n",
        "    df: DataFrame\n",
        "    encoded_dict  : Category encoded dictionary\n",
        "  Returns: None\n",
        "  \"\"\"\n",
        "\n",
        "  encoded_cols = [\"Airline\", \"Source\", \"Destination\", \"Route\"]\n",
        "  frequency_dict = encoded_dict['Frequency']\n",
        "  mean_dict = encoded_dict[\"Mean\"]\n",
        "  label_dict = encoded_dict[\"Label\"]\n",
        "\n",
        "  for col in encoded_cols:\n",
        "      df[\"Freq_encoded_\" + col] = df[col].replace(frequency_dict[col])\n",
        "      df[\"Mean_encoded_\" + col] = df[col].replace(mean_dict[col])\n",
        "      df[\"Label_encoded_\" + col] = df[col].replace(label_dict[col])"
      ]
    },
    {
      "cell_type": "code",
      "execution_count": null,
      "metadata": {
        "id": "sY5ihdShPTeX"
      },
      "outputs": [],
      "source": [
        "def preprocess_and_predict(df, encoded_dict):\n",
        "  \"\"\"\n",
        "    This function takes in new dataframe or row of observation and generate all features.\n",
        "  Input:\n",
        "    df : Dataframe or row of observation.\n",
        "    encoded_dict: Dictionary created while training for Categorical Encoded Value.\n",
        "  \"\"\"\n",
        "\n",
        "  sanity_check(df, mode='predict')\n",
        "  handle_missing_value(df, mode='predict')\n",
        "\n",
        "  encode_predict_input(df, encoded_dict)\n",
        "  generate_additional_features(df)\n",
        "  X = filter_predictor_columns(df)\n",
        "  return X"
      ]
    },
    {
      "cell_type": "code",
      "execution_count": null,
      "metadata": {
        "id": "nWKFLwrZPTgu",
        "colab": {
          "base_uri": "https://localhost:8080/"
        },
        "outputId": "f5db08be-ee4b-4ec8-a2c2-100d27767092"
      },
      "outputs": [
        {
          "output_type": "stream",
          "name": "stdout",
          "text": [
            "CPU times: user 510 ms, sys: 3.03 ms, total: 513 ms\n",
            "Wall time: 522 ms\n"
          ]
        }
      ],
      "source": [
        "%%time\n",
        "test_df = pd.read_excel(\"/content/Airline/Airline/data/Test_set.xlsx\")"
      ]
    },
    {
      "cell_type": "code",
      "execution_count": null,
      "metadata": {
        "id": "Nu6q42KZPTjP",
        "colab": {
          "base_uri": "https://localhost:8080/",
          "height": 1000
        },
        "outputId": "7531a00a-8275-495f-9745-589b9bd27c4e"
      },
      "outputs": [
        {
          "output_type": "execute_result",
          "data": {
            "text/plain": [
              "             Airline Date_of_Journey    Source Destination            Route  \\\n",
              "0        Jet Airways       6/06/2019     Delhi      Cochin  DEL → BOM → COK   \n",
              "1             IndiGo      12/05/2019   Kolkata    Banglore  CCU → MAA → BLR   \n",
              "2        Jet Airways      21/05/2019     Delhi      Cochin  DEL → BOM → COK   \n",
              "3  Multiple carriers      21/05/2019     Delhi      Cochin  DEL → BOM → COK   \n",
              "4           Air Asia      24/06/2019  Banglore       Delhi        BLR → DEL   \n",
              "5        Jet Airways      12/06/2019     Delhi      Cochin  DEL → BOM → COK   \n",
              "6          Air India      12/03/2019  Banglore   New Delhi  BLR → TRV → DEL   \n",
              "7             IndiGo       1/05/2019   Kolkata    Banglore  CCU → HYD → BLR   \n",
              "8             IndiGo      15/03/2019   Kolkata    Banglore        CCU → BLR   \n",
              "9        Jet Airways      18/05/2019   Kolkata    Banglore  CCU → BOM → BLR   \n",
              "\n",
              "  Dep_Time  Arrival_Time Duration Total_Stops              Additional_Info  \n",
              "0    17:30  04:25 07 Jun  10h 55m      1 stop                      No info  \n",
              "1    06:20         10:20       4h      1 stop                      No info  \n",
              "2    19:15  19:00 22 May  23h 45m      1 stop  In-flight meal not included  \n",
              "3    08:00         21:00      13h      1 stop                      No info  \n",
              "4    23:55  02:45 25 Jun   2h 50m    non-stop                      No info  \n",
              "5    18:15  12:35 13 Jun  18h 20m      1 stop  In-flight meal not included  \n",
              "6    07:30         22:35   15h 5m      1 stop                      No info  \n",
              "7    15:15         20:30   5h 15m      1 stop                      No info  \n",
              "8    10:10         12:55   2h 45m    non-stop                      No info  \n",
              "9    16:30         22:35    6h 5m      1 stop                      No info  "
            ],
            "text/html": [
              "\n",
              "  <div id=\"df-97bc15b7-43e1-4452-985c-c3cf4d1ccc2b\">\n",
              "    <div class=\"colab-df-container\">\n",
              "      <div>\n",
              "<style scoped>\n",
              "    .dataframe tbody tr th:only-of-type {\n",
              "        vertical-align: middle;\n",
              "    }\n",
              "\n",
              "    .dataframe tbody tr th {\n",
              "        vertical-align: top;\n",
              "    }\n",
              "\n",
              "    .dataframe thead th {\n",
              "        text-align: right;\n",
              "    }\n",
              "</style>\n",
              "<table border=\"1\" class=\"dataframe\">\n",
              "  <thead>\n",
              "    <tr style=\"text-align: right;\">\n",
              "      <th></th>\n",
              "      <th>Airline</th>\n",
              "      <th>Date_of_Journey</th>\n",
              "      <th>Source</th>\n",
              "      <th>Destination</th>\n",
              "      <th>Route</th>\n",
              "      <th>Dep_Time</th>\n",
              "      <th>Arrival_Time</th>\n",
              "      <th>Duration</th>\n",
              "      <th>Total_Stops</th>\n",
              "      <th>Additional_Info</th>\n",
              "    </tr>\n",
              "  </thead>\n",
              "  <tbody>\n",
              "    <tr>\n",
              "      <th>0</th>\n",
              "      <td>Jet Airways</td>\n",
              "      <td>6/06/2019</td>\n",
              "      <td>Delhi</td>\n",
              "      <td>Cochin</td>\n",
              "      <td>DEL → BOM → COK</td>\n",
              "      <td>17:30</td>\n",
              "      <td>04:25 07 Jun</td>\n",
              "      <td>10h 55m</td>\n",
              "      <td>1 stop</td>\n",
              "      <td>No info</td>\n",
              "    </tr>\n",
              "    <tr>\n",
              "      <th>1</th>\n",
              "      <td>IndiGo</td>\n",
              "      <td>12/05/2019</td>\n",
              "      <td>Kolkata</td>\n",
              "      <td>Banglore</td>\n",
              "      <td>CCU → MAA → BLR</td>\n",
              "      <td>06:20</td>\n",
              "      <td>10:20</td>\n",
              "      <td>4h</td>\n",
              "      <td>1 stop</td>\n",
              "      <td>No info</td>\n",
              "    </tr>\n",
              "    <tr>\n",
              "      <th>2</th>\n",
              "      <td>Jet Airways</td>\n",
              "      <td>21/05/2019</td>\n",
              "      <td>Delhi</td>\n",
              "      <td>Cochin</td>\n",
              "      <td>DEL → BOM → COK</td>\n",
              "      <td>19:15</td>\n",
              "      <td>19:00 22 May</td>\n",
              "      <td>23h 45m</td>\n",
              "      <td>1 stop</td>\n",
              "      <td>In-flight meal not included</td>\n",
              "    </tr>\n",
              "    <tr>\n",
              "      <th>3</th>\n",
              "      <td>Multiple carriers</td>\n",
              "      <td>21/05/2019</td>\n",
              "      <td>Delhi</td>\n",
              "      <td>Cochin</td>\n",
              "      <td>DEL → BOM → COK</td>\n",
              "      <td>08:00</td>\n",
              "      <td>21:00</td>\n",
              "      <td>13h</td>\n",
              "      <td>1 stop</td>\n",
              "      <td>No info</td>\n",
              "    </tr>\n",
              "    <tr>\n",
              "      <th>4</th>\n",
              "      <td>Air Asia</td>\n",
              "      <td>24/06/2019</td>\n",
              "      <td>Banglore</td>\n",
              "      <td>Delhi</td>\n",
              "      <td>BLR → DEL</td>\n",
              "      <td>23:55</td>\n",
              "      <td>02:45 25 Jun</td>\n",
              "      <td>2h 50m</td>\n",
              "      <td>non-stop</td>\n",
              "      <td>No info</td>\n",
              "    </tr>\n",
              "    <tr>\n",
              "      <th>5</th>\n",
              "      <td>Jet Airways</td>\n",
              "      <td>12/06/2019</td>\n",
              "      <td>Delhi</td>\n",
              "      <td>Cochin</td>\n",
              "      <td>DEL → BOM → COK</td>\n",
              "      <td>18:15</td>\n",
              "      <td>12:35 13 Jun</td>\n",
              "      <td>18h 20m</td>\n",
              "      <td>1 stop</td>\n",
              "      <td>In-flight meal not included</td>\n",
              "    </tr>\n",
              "    <tr>\n",
              "      <th>6</th>\n",
              "      <td>Air India</td>\n",
              "      <td>12/03/2019</td>\n",
              "      <td>Banglore</td>\n",
              "      <td>New Delhi</td>\n",
              "      <td>BLR → TRV → DEL</td>\n",
              "      <td>07:30</td>\n",
              "      <td>22:35</td>\n",
              "      <td>15h 5m</td>\n",
              "      <td>1 stop</td>\n",
              "      <td>No info</td>\n",
              "    </tr>\n",
              "    <tr>\n",
              "      <th>7</th>\n",
              "      <td>IndiGo</td>\n",
              "      <td>1/05/2019</td>\n",
              "      <td>Kolkata</td>\n",
              "      <td>Banglore</td>\n",
              "      <td>CCU → HYD → BLR</td>\n",
              "      <td>15:15</td>\n",
              "      <td>20:30</td>\n",
              "      <td>5h 15m</td>\n",
              "      <td>1 stop</td>\n",
              "      <td>No info</td>\n",
              "    </tr>\n",
              "    <tr>\n",
              "      <th>8</th>\n",
              "      <td>IndiGo</td>\n",
              "      <td>15/03/2019</td>\n",
              "      <td>Kolkata</td>\n",
              "      <td>Banglore</td>\n",
              "      <td>CCU → BLR</td>\n",
              "      <td>10:10</td>\n",
              "      <td>12:55</td>\n",
              "      <td>2h 45m</td>\n",
              "      <td>non-stop</td>\n",
              "      <td>No info</td>\n",
              "    </tr>\n",
              "    <tr>\n",
              "      <th>9</th>\n",
              "      <td>Jet Airways</td>\n",
              "      <td>18/05/2019</td>\n",
              "      <td>Kolkata</td>\n",
              "      <td>Banglore</td>\n",
              "      <td>CCU → BOM → BLR</td>\n",
              "      <td>16:30</td>\n",
              "      <td>22:35</td>\n",
              "      <td>6h 5m</td>\n",
              "      <td>1 stop</td>\n",
              "      <td>No info</td>\n",
              "    </tr>\n",
              "  </tbody>\n",
              "</table>\n",
              "</div>\n",
              "      <button class=\"colab-df-convert\" onclick=\"convertToInteractive('df-97bc15b7-43e1-4452-985c-c3cf4d1ccc2b')\"\n",
              "              title=\"Convert this dataframe to an interactive table.\"\n",
              "              style=\"display:none;\">\n",
              "        \n",
              "  <svg xmlns=\"http://www.w3.org/2000/svg\" height=\"24px\"viewBox=\"0 0 24 24\"\n",
              "       width=\"24px\">\n",
              "    <path d=\"M0 0h24v24H0V0z\" fill=\"none\"/>\n",
              "    <path d=\"M18.56 5.44l.94 2.06.94-2.06 2.06-.94-2.06-.94-.94-2.06-.94 2.06-2.06.94zm-11 1L8.5 8.5l.94-2.06 2.06-.94-2.06-.94L8.5 2.5l-.94 2.06-2.06.94zm10 10l.94 2.06.94-2.06 2.06-.94-2.06-.94-.94-2.06-.94 2.06-2.06.94z\"/><path d=\"M17.41 7.96l-1.37-1.37c-.4-.4-.92-.59-1.43-.59-.52 0-1.04.2-1.43.59L10.3 9.45l-7.72 7.72c-.78.78-.78 2.05 0 2.83L4 21.41c.39.39.9.59 1.41.59.51 0 1.02-.2 1.41-.59l7.78-7.78 2.81-2.81c.8-.78.8-2.07 0-2.86zM5.41 20L4 18.59l7.72-7.72 1.47 1.35L5.41 20z\"/>\n",
              "  </svg>\n",
              "      </button>\n",
              "      \n",
              "  <style>\n",
              "    .colab-df-container {\n",
              "      display:flex;\n",
              "      flex-wrap:wrap;\n",
              "      gap: 12px;\n",
              "    }\n",
              "\n",
              "    .colab-df-convert {\n",
              "      background-color: #E8F0FE;\n",
              "      border: none;\n",
              "      border-radius: 50%;\n",
              "      cursor: pointer;\n",
              "      display: none;\n",
              "      fill: #1967D2;\n",
              "      height: 32px;\n",
              "      padding: 0 0 0 0;\n",
              "      width: 32px;\n",
              "    }\n",
              "\n",
              "    .colab-df-convert:hover {\n",
              "      background-color: #E2EBFA;\n",
              "      box-shadow: 0px 1px 2px rgba(60, 64, 67, 0.3), 0px 1px 3px 1px rgba(60, 64, 67, 0.15);\n",
              "      fill: #174EA6;\n",
              "    }\n",
              "\n",
              "    [theme=dark] .colab-df-convert {\n",
              "      background-color: #3B4455;\n",
              "      fill: #D2E3FC;\n",
              "    }\n",
              "\n",
              "    [theme=dark] .colab-df-convert:hover {\n",
              "      background-color: #434B5C;\n",
              "      box-shadow: 0px 1px 3px 1px rgba(0, 0, 0, 0.15);\n",
              "      filter: drop-shadow(0px 1px 2px rgba(0, 0, 0, 0.3));\n",
              "      fill: #FFFFFF;\n",
              "    }\n",
              "  </style>\n",
              "\n",
              "      <script>\n",
              "        const buttonEl =\n",
              "          document.querySelector('#df-97bc15b7-43e1-4452-985c-c3cf4d1ccc2b button.colab-df-convert');\n",
              "        buttonEl.style.display =\n",
              "          google.colab.kernel.accessAllowed ? 'block' : 'none';\n",
              "\n",
              "        async function convertToInteractive(key) {\n",
              "          const element = document.querySelector('#df-97bc15b7-43e1-4452-985c-c3cf4d1ccc2b');\n",
              "          const dataTable =\n",
              "            await google.colab.kernel.invokeFunction('convertToInteractive',\n",
              "                                                     [key], {});\n",
              "          if (!dataTable) return;\n",
              "\n",
              "          const docLinkHtml = 'Like what you see? Visit the ' +\n",
              "            '<a target=\"_blank\" href=https://colab.research.google.com/notebooks/data_table.ipynb>data table notebook</a>'\n",
              "            + ' to learn more about interactive tables.';\n",
              "          element.innerHTML = '';\n",
              "          dataTable['output_type'] = 'display_data';\n",
              "          await google.colab.output.renderOutput(dataTable, element);\n",
              "          const docLink = document.createElement('div');\n",
              "          docLink.innerHTML = docLinkHtml;\n",
              "          element.appendChild(docLink);\n",
              "        }\n",
              "      </script>\n",
              "    </div>\n",
              "  </div>\n",
              "  "
            ]
          },
          "metadata": {},
          "execution_count": 616
        }
      ],
      "source": [
        "test_df.head(10)"
      ]
    },
    {
      "cell_type": "code",
      "execution_count": null,
      "metadata": {
        "id": "-cyYUdzXPTmP"
      },
      "outputs": [],
      "source": [
        "test_input = preprocess_and_predict(test_df, encoded_dict)"
      ]
    },
    {
      "cell_type": "code",
      "execution_count": null,
      "metadata": {
        "id": "pJuDqDHePTot",
        "colab": {
          "base_uri": "https://localhost:8080/",
          "height": 1000
        },
        "outputId": "f6e5571f-9a86-48e5-f6d8-4f122c58db01"
      },
      "outputs": [
        {
          "output_type": "execute_result",
          "data": {
            "text/plain": [
              "             Airline Date_of_Journey    Source Destination            Route  \\\n",
              "0        Jet Airways      2019-06-06     Delhi      Cochin  DEL → BOM → COK   \n",
              "1             IndiGo      2019-12-05   Kolkata    Banglore  CCU → MAA → BLR   \n",
              "2        Jet Airways      2019-05-21     Delhi      Cochin  DEL → BOM → COK   \n",
              "3  Multiple carriers      2019-05-21     Delhi      Cochin  DEL → BOM → COK   \n",
              "4           Air Asia      2019-06-24  Banglore       Delhi        BLR → DEL   \n",
              "5        Jet Airways      2019-12-06     Delhi      Cochin  DEL → BOM → COK   \n",
              "6          Air India      2019-12-03  Banglore   New Delhi  BLR → TRV → DEL   \n",
              "7             IndiGo      2019-01-05   Kolkata    Banglore  CCU → HYD → BLR   \n",
              "8             IndiGo      2019-03-15   Kolkata    Banglore        CCU → BLR   \n",
              "9        Jet Airways      2019-05-18   Kolkata    Banglore  CCU → BOM → BLR   \n",
              "\n",
              "             Dep_Time        Arrival_Time  Duration  Total_Stops  \\\n",
              "0 2022-05-23 17:30:00 2022-06-07 04:25:00       655            1   \n",
              "1 2022-05-23 06:20:00 2022-05-23 10:20:00       240            1   \n",
              "2 2022-05-23 19:15:00 2022-05-22 19:00:00      1425            1   \n",
              "3 2022-05-23 08:00:00 2022-05-23 21:00:00       780            1   \n",
              "4 2022-05-23 23:55:00 2022-06-25 02:45:00       170            0   \n",
              "5 2022-05-23 18:15:00 2022-06-13 12:35:00      1100            1   \n",
              "6 2022-05-23 07:30:00 2022-05-23 22:35:00       905            1   \n",
              "7 2022-05-23 15:15:00 2022-05-23 20:30:00       315            1   \n",
              "8 2022-05-23 10:10:00 2022-05-23 12:55:00       165            0   \n",
              "9 2022-05-23 16:30:00 2022-05-23 22:35:00       365            1   \n",
              "\n",
              "   Freq_encoded_Airline  ...  Mean_encoded_Destination  \\\n",
              "0              0.353661  ...              10461.600690   \n",
              "1              0.195278  ...               9143.083566   \n",
              "2              0.353661  ...              10461.600690   \n",
              "3              0.114318  ...              10461.600690   \n",
              "4              0.030491  ...               5143.918577   \n",
              "5              0.353661  ...              10461.600690   \n",
              "6              0.161919  ...              12007.421225   \n",
              "7              0.195278  ...               9143.083566   \n",
              "8              0.195278  ...               9143.083566   \n",
              "9              0.353661  ...               9143.083566   \n",
              "\n",
              "   Label_encoded_Destination  Freq_encoded_Route  Mean_encoded_Route  \\\n",
              "0                          1            0.227108        10954.205808   \n",
              "1                          0            0.006213         5240.876923   \n",
              "2                          1            0.227108        10954.205808   \n",
              "3                          1            0.227108        10954.205808   \n",
              "4                          2            0.146817         5552.235677   \n",
              "5                          1            0.227108        10954.205808   \n",
              "6                          5     BLR → TRV → DEL     BLR → TRV → DEL   \n",
              "7                          0            0.005066         4910.018868   \n",
              "8                          0            0.069203         4556.055249   \n",
              "9                          0            0.093577         11487.78856   \n",
              "\n",
              "   Label_encoded_Route  Day_of_week  Day_of_month  Weekday Month Dep_hour  \n",
              "0                  104            3             6        1     6       17  \n",
              "1                   90            3             5        1    12        6  \n",
              "2                  104            1            21        1     5       19  \n",
              "3                  104            1            21        1     5        8  \n",
              "4                   18            0            24        1     6       23  \n",
              "5                  104            4             6        1    12       18  \n",
              "6      BLR → TRV → DEL            1             3        1    12        7  \n",
              "7                   80            5             5        0     1       15  \n",
              "8                   64            4            15        1     3       10  \n",
              "9                   66            5            18        0     5       16  \n",
              "\n",
              "[10 rows x 26 columns]"
            ],
            "text/html": [
              "\n",
              "  <div id=\"df-5b7c721f-4dfa-4445-99b8-5804aaab4026\">\n",
              "    <div class=\"colab-df-container\">\n",
              "      <div>\n",
              "<style scoped>\n",
              "    .dataframe tbody tr th:only-of-type {\n",
              "        vertical-align: middle;\n",
              "    }\n",
              "\n",
              "    .dataframe tbody tr th {\n",
              "        vertical-align: top;\n",
              "    }\n",
              "\n",
              "    .dataframe thead th {\n",
              "        text-align: right;\n",
              "    }\n",
              "</style>\n",
              "<table border=\"1\" class=\"dataframe\">\n",
              "  <thead>\n",
              "    <tr style=\"text-align: right;\">\n",
              "      <th></th>\n",
              "      <th>Airline</th>\n",
              "      <th>Date_of_Journey</th>\n",
              "      <th>Source</th>\n",
              "      <th>Destination</th>\n",
              "      <th>Route</th>\n",
              "      <th>Dep_Time</th>\n",
              "      <th>Arrival_Time</th>\n",
              "      <th>Duration</th>\n",
              "      <th>Total_Stops</th>\n",
              "      <th>Freq_encoded_Airline</th>\n",
              "      <th>...</th>\n",
              "      <th>Mean_encoded_Destination</th>\n",
              "      <th>Label_encoded_Destination</th>\n",
              "      <th>Freq_encoded_Route</th>\n",
              "      <th>Mean_encoded_Route</th>\n",
              "      <th>Label_encoded_Route</th>\n",
              "      <th>Day_of_week</th>\n",
              "      <th>Day_of_month</th>\n",
              "      <th>Weekday</th>\n",
              "      <th>Month</th>\n",
              "      <th>Dep_hour</th>\n",
              "    </tr>\n",
              "  </thead>\n",
              "  <tbody>\n",
              "    <tr>\n",
              "      <th>0</th>\n",
              "      <td>Jet Airways</td>\n",
              "      <td>2019-06-06</td>\n",
              "      <td>Delhi</td>\n",
              "      <td>Cochin</td>\n",
              "      <td>DEL → BOM → COK</td>\n",
              "      <td>2022-05-23 17:30:00</td>\n",
              "      <td>2022-06-07 04:25:00</td>\n",
              "      <td>655</td>\n",
              "      <td>1</td>\n",
              "      <td>0.353661</td>\n",
              "      <td>...</td>\n",
              "      <td>10461.600690</td>\n",
              "      <td>1</td>\n",
              "      <td>0.227108</td>\n",
              "      <td>10954.205808</td>\n",
              "      <td>104</td>\n",
              "      <td>3</td>\n",
              "      <td>6</td>\n",
              "      <td>1</td>\n",
              "      <td>6</td>\n",
              "      <td>17</td>\n",
              "    </tr>\n",
              "    <tr>\n",
              "      <th>1</th>\n",
              "      <td>IndiGo</td>\n",
              "      <td>2019-12-05</td>\n",
              "      <td>Kolkata</td>\n",
              "      <td>Banglore</td>\n",
              "      <td>CCU → MAA → BLR</td>\n",
              "      <td>2022-05-23 06:20:00</td>\n",
              "      <td>2022-05-23 10:20:00</td>\n",
              "      <td>240</td>\n",
              "      <td>1</td>\n",
              "      <td>0.195278</td>\n",
              "      <td>...</td>\n",
              "      <td>9143.083566</td>\n",
              "      <td>0</td>\n",
              "      <td>0.006213</td>\n",
              "      <td>5240.876923</td>\n",
              "      <td>90</td>\n",
              "      <td>3</td>\n",
              "      <td>5</td>\n",
              "      <td>1</td>\n",
              "      <td>12</td>\n",
              "      <td>6</td>\n",
              "    </tr>\n",
              "    <tr>\n",
              "      <th>2</th>\n",
              "      <td>Jet Airways</td>\n",
              "      <td>2019-05-21</td>\n",
              "      <td>Delhi</td>\n",
              "      <td>Cochin</td>\n",
              "      <td>DEL → BOM → COK</td>\n",
              "      <td>2022-05-23 19:15:00</td>\n",
              "      <td>2022-05-22 19:00:00</td>\n",
              "      <td>1425</td>\n",
              "      <td>1</td>\n",
              "      <td>0.353661</td>\n",
              "      <td>...</td>\n",
              "      <td>10461.600690</td>\n",
              "      <td>1</td>\n",
              "      <td>0.227108</td>\n",
              "      <td>10954.205808</td>\n",
              "      <td>104</td>\n",
              "      <td>1</td>\n",
              "      <td>21</td>\n",
              "      <td>1</td>\n",
              "      <td>5</td>\n",
              "      <td>19</td>\n",
              "    </tr>\n",
              "    <tr>\n",
              "      <th>3</th>\n",
              "      <td>Multiple carriers</td>\n",
              "      <td>2019-05-21</td>\n",
              "      <td>Delhi</td>\n",
              "      <td>Cochin</td>\n",
              "      <td>DEL → BOM → COK</td>\n",
              "      <td>2022-05-23 08:00:00</td>\n",
              "      <td>2022-05-23 21:00:00</td>\n",
              "      <td>780</td>\n",
              "      <td>1</td>\n",
              "      <td>0.114318</td>\n",
              "      <td>...</td>\n",
              "      <td>10461.600690</td>\n",
              "      <td>1</td>\n",
              "      <td>0.227108</td>\n",
              "      <td>10954.205808</td>\n",
              "      <td>104</td>\n",
              "      <td>1</td>\n",
              "      <td>21</td>\n",
              "      <td>1</td>\n",
              "      <td>5</td>\n",
              "      <td>8</td>\n",
              "    </tr>\n",
              "    <tr>\n",
              "      <th>4</th>\n",
              "      <td>Air Asia</td>\n",
              "      <td>2019-06-24</td>\n",
              "      <td>Banglore</td>\n",
              "      <td>Delhi</td>\n",
              "      <td>BLR → DEL</td>\n",
              "      <td>2022-05-23 23:55:00</td>\n",
              "      <td>2022-06-25 02:45:00</td>\n",
              "      <td>170</td>\n",
              "      <td>0</td>\n",
              "      <td>0.030491</td>\n",
              "      <td>...</td>\n",
              "      <td>5143.918577</td>\n",
              "      <td>2</td>\n",
              "      <td>0.146817</td>\n",
              "      <td>5552.235677</td>\n",
              "      <td>18</td>\n",
              "      <td>0</td>\n",
              "      <td>24</td>\n",
              "      <td>1</td>\n",
              "      <td>6</td>\n",
              "      <td>23</td>\n",
              "    </tr>\n",
              "    <tr>\n",
              "      <th>5</th>\n",
              "      <td>Jet Airways</td>\n",
              "      <td>2019-12-06</td>\n",
              "      <td>Delhi</td>\n",
              "      <td>Cochin</td>\n",
              "      <td>DEL → BOM → COK</td>\n",
              "      <td>2022-05-23 18:15:00</td>\n",
              "      <td>2022-06-13 12:35:00</td>\n",
              "      <td>1100</td>\n",
              "      <td>1</td>\n",
              "      <td>0.353661</td>\n",
              "      <td>...</td>\n",
              "      <td>10461.600690</td>\n",
              "      <td>1</td>\n",
              "      <td>0.227108</td>\n",
              "      <td>10954.205808</td>\n",
              "      <td>104</td>\n",
              "      <td>4</td>\n",
              "      <td>6</td>\n",
              "      <td>1</td>\n",
              "      <td>12</td>\n",
              "      <td>18</td>\n",
              "    </tr>\n",
              "    <tr>\n",
              "      <th>6</th>\n",
              "      <td>Air India</td>\n",
              "      <td>2019-12-03</td>\n",
              "      <td>Banglore</td>\n",
              "      <td>New Delhi</td>\n",
              "      <td>BLR → TRV → DEL</td>\n",
              "      <td>2022-05-23 07:30:00</td>\n",
              "      <td>2022-05-23 22:35:00</td>\n",
              "      <td>905</td>\n",
              "      <td>1</td>\n",
              "      <td>0.161919</td>\n",
              "      <td>...</td>\n",
              "      <td>12007.421225</td>\n",
              "      <td>5</td>\n",
              "      <td>BLR → TRV → DEL</td>\n",
              "      <td>BLR → TRV → DEL</td>\n",
              "      <td>BLR → TRV → DEL</td>\n",
              "      <td>1</td>\n",
              "      <td>3</td>\n",
              "      <td>1</td>\n",
              "      <td>12</td>\n",
              "      <td>7</td>\n",
              "    </tr>\n",
              "    <tr>\n",
              "      <th>7</th>\n",
              "      <td>IndiGo</td>\n",
              "      <td>2019-01-05</td>\n",
              "      <td>Kolkata</td>\n",
              "      <td>Banglore</td>\n",
              "      <td>CCU → HYD → BLR</td>\n",
              "      <td>2022-05-23 15:15:00</td>\n",
              "      <td>2022-05-23 20:30:00</td>\n",
              "      <td>315</td>\n",
              "      <td>1</td>\n",
              "      <td>0.195278</td>\n",
              "      <td>...</td>\n",
              "      <td>9143.083566</td>\n",
              "      <td>0</td>\n",
              "      <td>0.005066</td>\n",
              "      <td>4910.018868</td>\n",
              "      <td>80</td>\n",
              "      <td>5</td>\n",
              "      <td>5</td>\n",
              "      <td>0</td>\n",
              "      <td>1</td>\n",
              "      <td>15</td>\n",
              "    </tr>\n",
              "    <tr>\n",
              "      <th>8</th>\n",
              "      <td>IndiGo</td>\n",
              "      <td>2019-03-15</td>\n",
              "      <td>Kolkata</td>\n",
              "      <td>Banglore</td>\n",
              "      <td>CCU → BLR</td>\n",
              "      <td>2022-05-23 10:10:00</td>\n",
              "      <td>2022-05-23 12:55:00</td>\n",
              "      <td>165</td>\n",
              "      <td>0</td>\n",
              "      <td>0.195278</td>\n",
              "      <td>...</td>\n",
              "      <td>9143.083566</td>\n",
              "      <td>0</td>\n",
              "      <td>0.069203</td>\n",
              "      <td>4556.055249</td>\n",
              "      <td>64</td>\n",
              "      <td>4</td>\n",
              "      <td>15</td>\n",
              "      <td>1</td>\n",
              "      <td>3</td>\n",
              "      <td>10</td>\n",
              "    </tr>\n",
              "    <tr>\n",
              "      <th>9</th>\n",
              "      <td>Jet Airways</td>\n",
              "      <td>2019-05-18</td>\n",
              "      <td>Kolkata</td>\n",
              "      <td>Banglore</td>\n",
              "      <td>CCU → BOM → BLR</td>\n",
              "      <td>2022-05-23 16:30:00</td>\n",
              "      <td>2022-05-23 22:35:00</td>\n",
              "      <td>365</td>\n",
              "      <td>1</td>\n",
              "      <td>0.353661</td>\n",
              "      <td>...</td>\n",
              "      <td>9143.083566</td>\n",
              "      <td>0</td>\n",
              "      <td>0.093577</td>\n",
              "      <td>11487.78856</td>\n",
              "      <td>66</td>\n",
              "      <td>5</td>\n",
              "      <td>18</td>\n",
              "      <td>0</td>\n",
              "      <td>5</td>\n",
              "      <td>16</td>\n",
              "    </tr>\n",
              "  </tbody>\n",
              "</table>\n",
              "<p>10 rows × 26 columns</p>\n",
              "</div>\n",
              "      <button class=\"colab-df-convert\" onclick=\"convertToInteractive('df-5b7c721f-4dfa-4445-99b8-5804aaab4026')\"\n",
              "              title=\"Convert this dataframe to an interactive table.\"\n",
              "              style=\"display:none;\">\n",
              "        \n",
              "  <svg xmlns=\"http://www.w3.org/2000/svg\" height=\"24px\"viewBox=\"0 0 24 24\"\n",
              "       width=\"24px\">\n",
              "    <path d=\"M0 0h24v24H0V0z\" fill=\"none\"/>\n",
              "    <path d=\"M18.56 5.44l.94 2.06.94-2.06 2.06-.94-2.06-.94-.94-2.06-.94 2.06-2.06.94zm-11 1L8.5 8.5l.94-2.06 2.06-.94-2.06-.94L8.5 2.5l-.94 2.06-2.06.94zm10 10l.94 2.06.94-2.06 2.06-.94-2.06-.94-.94-2.06-.94 2.06-2.06.94z\"/><path d=\"M17.41 7.96l-1.37-1.37c-.4-.4-.92-.59-1.43-.59-.52 0-1.04.2-1.43.59L10.3 9.45l-7.72 7.72c-.78.78-.78 2.05 0 2.83L4 21.41c.39.39.9.59 1.41.59.51 0 1.02-.2 1.41-.59l7.78-7.78 2.81-2.81c.8-.78.8-2.07 0-2.86zM5.41 20L4 18.59l7.72-7.72 1.47 1.35L5.41 20z\"/>\n",
              "  </svg>\n",
              "      </button>\n",
              "      \n",
              "  <style>\n",
              "    .colab-df-container {\n",
              "      display:flex;\n",
              "      flex-wrap:wrap;\n",
              "      gap: 12px;\n",
              "    }\n",
              "\n",
              "    .colab-df-convert {\n",
              "      background-color: #E8F0FE;\n",
              "      border: none;\n",
              "      border-radius: 50%;\n",
              "      cursor: pointer;\n",
              "      display: none;\n",
              "      fill: #1967D2;\n",
              "      height: 32px;\n",
              "      padding: 0 0 0 0;\n",
              "      width: 32px;\n",
              "    }\n",
              "\n",
              "    .colab-df-convert:hover {\n",
              "      background-color: #E2EBFA;\n",
              "      box-shadow: 0px 1px 2px rgba(60, 64, 67, 0.3), 0px 1px 3px 1px rgba(60, 64, 67, 0.15);\n",
              "      fill: #174EA6;\n",
              "    }\n",
              "\n",
              "    [theme=dark] .colab-df-convert {\n",
              "      background-color: #3B4455;\n",
              "      fill: #D2E3FC;\n",
              "    }\n",
              "\n",
              "    [theme=dark] .colab-df-convert:hover {\n",
              "      background-color: #434B5C;\n",
              "      box-shadow: 0px 1px 3px 1px rgba(0, 0, 0, 0.15);\n",
              "      filter: drop-shadow(0px 1px 2px rgba(0, 0, 0, 0.3));\n",
              "      fill: #FFFFFF;\n",
              "    }\n",
              "  </style>\n",
              "\n",
              "      <script>\n",
              "        const buttonEl =\n",
              "          document.querySelector('#df-5b7c721f-4dfa-4445-99b8-5804aaab4026 button.colab-df-convert');\n",
              "        buttonEl.style.display =\n",
              "          google.colab.kernel.accessAllowed ? 'block' : 'none';\n",
              "\n",
              "        async function convertToInteractive(key) {\n",
              "          const element = document.querySelector('#df-5b7c721f-4dfa-4445-99b8-5804aaab4026');\n",
              "          const dataTable =\n",
              "            await google.colab.kernel.invokeFunction('convertToInteractive',\n",
              "                                                     [key], {});\n",
              "          if (!dataTable) return;\n",
              "\n",
              "          const docLinkHtml = 'Like what you see? Visit the ' +\n",
              "            '<a target=\"_blank\" href=https://colab.research.google.com/notebooks/data_table.ipynb>data table notebook</a>'\n",
              "            + ' to learn more about interactive tables.';\n",
              "          element.innerHTML = '';\n",
              "          dataTable['output_type'] = 'display_data';\n",
              "          await google.colab.output.renderOutput(dataTable, element);\n",
              "          const docLink = document.createElement('div');\n",
              "          docLink.innerHTML = docLinkHtml;\n",
              "          element.appendChild(docLink);\n",
              "        }\n",
              "      </script>\n",
              "    </div>\n",
              "  </div>\n",
              "  "
            ]
          },
          "metadata": {},
          "execution_count": 618
        }
      ],
      "source": [
        "test_df.head(10)"
      ]
    },
    {
      "cell_type": "code",
      "source": [
        "test_input"
      ],
      "metadata": {
        "colab": {
          "base_uri": "https://localhost:8080/",
          "height": 487
        },
        "id": "n2Y4CKwW7CUI",
        "outputId": "e2a9df26-f0e0-422a-edba-2f57833b736b"
      },
      "execution_count": null,
      "outputs": [
        {
          "output_type": "execute_result",
          "data": {
            "text/plain": [
              "      Duration  Total_Stops  Freq_encoded_Airline  Freq_encoded_Source  \\\n",
              "0          655            1              0.353661             0.415313   \n",
              "1          240            1              0.195278             0.273370   \n",
              "2         1425            1              0.353661             0.415313   \n",
              "3          780            1              0.114318             0.415313   \n",
              "4          170            0              0.030491             0.208278   \n",
              "...        ...          ...                   ...                  ...   \n",
              "2666      1435            1              0.161919             0.273370   \n",
              "2667       155            0              0.195278             0.273370   \n",
              "2668       395            1              0.353661             0.415313   \n",
              "2669       915            1              0.161919             0.415313   \n",
              "2670       860            1              0.114318             0.415313   \n",
              "\n",
              "      Freq_encoded_Destination Freq_encoded_Route  Mean_encoded_Airline  \\\n",
              "0                     0.415313           0.227108          11599.021081   \n",
              "1                     0.273370           0.006213           5668.469897   \n",
              "2                     0.415313           0.227108          11599.021081   \n",
              "3                     0.415313           0.227108          10902.678094   \n",
              "4                     0.120914           0.146817           5590.260188   \n",
              "...                        ...                ...                   ...   \n",
              "2666                  0.273370           0.054005           9556.608028   \n",
              "2667                  0.273370           0.069203           5668.469897   \n",
              "2668                  0.415313           0.227108          11599.021081   \n",
              "2669                  0.415313           0.227108           9556.608028   \n",
              "2670                  0.415313           0.227108          10902.678094   \n",
              "\n",
              "      Mean_encoded_Source  Mean_encoded_Destination Mean_encoded_Route  \\\n",
              "0            10461.600690              10461.600690       10954.205808   \n",
              "1             9143.083566               9143.083566        5240.876923   \n",
              "2            10461.600690              10461.600690       10954.205808   \n",
              "3            10461.600690              10461.600690       10954.205808   \n",
              "4             8022.872877               5143.918577        5552.235677   \n",
              "...                   ...                       ...                ...   \n",
              "2666          9143.083566               9143.083566       10763.258407   \n",
              "2667          9143.083566               9143.083566        4556.055249   \n",
              "2668         10461.600690              10461.600690       10954.205808   \n",
              "2669         10461.600690              10461.600690       10954.205808   \n",
              "2670         10461.600690              10461.600690       10954.205808   \n",
              "\n",
              "      Label_encoded_Airline  Label_encoded_Source  Label_encoded_Destination  \\\n",
              "0                         4                     2                          1   \n",
              "1                         3                     3                          0   \n",
              "2                         4                     2                          1   \n",
              "3                         6                     2                          1   \n",
              "4                         0                     0                          2   \n",
              "...                     ...                   ...                        ...   \n",
              "2666                      1                     3                          0   \n",
              "2667                      3                     3                          0   \n",
              "2668                      4                     2                          1   \n",
              "2669                      1                     2                          1   \n",
              "2670                      6                     2                          1   \n",
              "\n",
              "     Label_encoded_Route  Day_of_week  Day_of_month  Weekday  Month  Dep_hour  \n",
              "0                    104            3             6        1      6        17  \n",
              "1                     90            3             5        1     12         6  \n",
              "2                    104            1            21        1      5        19  \n",
              "3                    104            1            21        1      5         8  \n",
              "4                     18            0            24        1      6        23  \n",
              "...                  ...          ...           ...      ...    ...       ...  \n",
              "2666                  73            3             6        1      6        20  \n",
              "2667                  64            2            27        1      3        14  \n",
              "2668                 104            0             3        1      6        21  \n",
              "2669                 104            0             3        1      6         4  \n",
              "2670                 104            5            15        0      6         4  \n",
              "\n",
              "[2671 rows x 19 columns]"
            ],
            "text/html": [
              "\n",
              "  <div id=\"df-f614fe3e-02cc-4956-92b7-43935b55011c\">\n",
              "    <div class=\"colab-df-container\">\n",
              "      <div>\n",
              "<style scoped>\n",
              "    .dataframe tbody tr th:only-of-type {\n",
              "        vertical-align: middle;\n",
              "    }\n",
              "\n",
              "    .dataframe tbody tr th {\n",
              "        vertical-align: top;\n",
              "    }\n",
              "\n",
              "    .dataframe thead th {\n",
              "        text-align: right;\n",
              "    }\n",
              "</style>\n",
              "<table border=\"1\" class=\"dataframe\">\n",
              "  <thead>\n",
              "    <tr style=\"text-align: right;\">\n",
              "      <th></th>\n",
              "      <th>Duration</th>\n",
              "      <th>Total_Stops</th>\n",
              "      <th>Freq_encoded_Airline</th>\n",
              "      <th>Freq_encoded_Source</th>\n",
              "      <th>Freq_encoded_Destination</th>\n",
              "      <th>Freq_encoded_Route</th>\n",
              "      <th>Mean_encoded_Airline</th>\n",
              "      <th>Mean_encoded_Source</th>\n",
              "      <th>Mean_encoded_Destination</th>\n",
              "      <th>Mean_encoded_Route</th>\n",
              "      <th>Label_encoded_Airline</th>\n",
              "      <th>Label_encoded_Source</th>\n",
              "      <th>Label_encoded_Destination</th>\n",
              "      <th>Label_encoded_Route</th>\n",
              "      <th>Day_of_week</th>\n",
              "      <th>Day_of_month</th>\n",
              "      <th>Weekday</th>\n",
              "      <th>Month</th>\n",
              "      <th>Dep_hour</th>\n",
              "    </tr>\n",
              "  </thead>\n",
              "  <tbody>\n",
              "    <tr>\n",
              "      <th>0</th>\n",
              "      <td>655</td>\n",
              "      <td>1</td>\n",
              "      <td>0.353661</td>\n",
              "      <td>0.415313</td>\n",
              "      <td>0.415313</td>\n",
              "      <td>0.227108</td>\n",
              "      <td>11599.021081</td>\n",
              "      <td>10461.600690</td>\n",
              "      <td>10461.600690</td>\n",
              "      <td>10954.205808</td>\n",
              "      <td>4</td>\n",
              "      <td>2</td>\n",
              "      <td>1</td>\n",
              "      <td>104</td>\n",
              "      <td>3</td>\n",
              "      <td>6</td>\n",
              "      <td>1</td>\n",
              "      <td>6</td>\n",
              "      <td>17</td>\n",
              "    </tr>\n",
              "    <tr>\n",
              "      <th>1</th>\n",
              "      <td>240</td>\n",
              "      <td>1</td>\n",
              "      <td>0.195278</td>\n",
              "      <td>0.273370</td>\n",
              "      <td>0.273370</td>\n",
              "      <td>0.006213</td>\n",
              "      <td>5668.469897</td>\n",
              "      <td>9143.083566</td>\n",
              "      <td>9143.083566</td>\n",
              "      <td>5240.876923</td>\n",
              "      <td>3</td>\n",
              "      <td>3</td>\n",
              "      <td>0</td>\n",
              "      <td>90</td>\n",
              "      <td>3</td>\n",
              "      <td>5</td>\n",
              "      <td>1</td>\n",
              "      <td>12</td>\n",
              "      <td>6</td>\n",
              "    </tr>\n",
              "    <tr>\n",
              "      <th>2</th>\n",
              "      <td>1425</td>\n",
              "      <td>1</td>\n",
              "      <td>0.353661</td>\n",
              "      <td>0.415313</td>\n",
              "      <td>0.415313</td>\n",
              "      <td>0.227108</td>\n",
              "      <td>11599.021081</td>\n",
              "      <td>10461.600690</td>\n",
              "      <td>10461.600690</td>\n",
              "      <td>10954.205808</td>\n",
              "      <td>4</td>\n",
              "      <td>2</td>\n",
              "      <td>1</td>\n",
              "      <td>104</td>\n",
              "      <td>1</td>\n",
              "      <td>21</td>\n",
              "      <td>1</td>\n",
              "      <td>5</td>\n",
              "      <td>19</td>\n",
              "    </tr>\n",
              "    <tr>\n",
              "      <th>3</th>\n",
              "      <td>780</td>\n",
              "      <td>1</td>\n",
              "      <td>0.114318</td>\n",
              "      <td>0.415313</td>\n",
              "      <td>0.415313</td>\n",
              "      <td>0.227108</td>\n",
              "      <td>10902.678094</td>\n",
              "      <td>10461.600690</td>\n",
              "      <td>10461.600690</td>\n",
              "      <td>10954.205808</td>\n",
              "      <td>6</td>\n",
              "      <td>2</td>\n",
              "      <td>1</td>\n",
              "      <td>104</td>\n",
              "      <td>1</td>\n",
              "      <td>21</td>\n",
              "      <td>1</td>\n",
              "      <td>5</td>\n",
              "      <td>8</td>\n",
              "    </tr>\n",
              "    <tr>\n",
              "      <th>4</th>\n",
              "      <td>170</td>\n",
              "      <td>0</td>\n",
              "      <td>0.030491</td>\n",
              "      <td>0.208278</td>\n",
              "      <td>0.120914</td>\n",
              "      <td>0.146817</td>\n",
              "      <td>5590.260188</td>\n",
              "      <td>8022.872877</td>\n",
              "      <td>5143.918577</td>\n",
              "      <td>5552.235677</td>\n",
              "      <td>0</td>\n",
              "      <td>0</td>\n",
              "      <td>2</td>\n",
              "      <td>18</td>\n",
              "      <td>0</td>\n",
              "      <td>24</td>\n",
              "      <td>1</td>\n",
              "      <td>6</td>\n",
              "      <td>23</td>\n",
              "    </tr>\n",
              "    <tr>\n",
              "      <th>...</th>\n",
              "      <td>...</td>\n",
              "      <td>...</td>\n",
              "      <td>...</td>\n",
              "      <td>...</td>\n",
              "      <td>...</td>\n",
              "      <td>...</td>\n",
              "      <td>...</td>\n",
              "      <td>...</td>\n",
              "      <td>...</td>\n",
              "      <td>...</td>\n",
              "      <td>...</td>\n",
              "      <td>...</td>\n",
              "      <td>...</td>\n",
              "      <td>...</td>\n",
              "      <td>...</td>\n",
              "      <td>...</td>\n",
              "      <td>...</td>\n",
              "      <td>...</td>\n",
              "      <td>...</td>\n",
              "    </tr>\n",
              "    <tr>\n",
              "      <th>2666</th>\n",
              "      <td>1435</td>\n",
              "      <td>1</td>\n",
              "      <td>0.161919</td>\n",
              "      <td>0.273370</td>\n",
              "      <td>0.273370</td>\n",
              "      <td>0.054005</td>\n",
              "      <td>9556.608028</td>\n",
              "      <td>9143.083566</td>\n",
              "      <td>9143.083566</td>\n",
              "      <td>10763.258407</td>\n",
              "      <td>1</td>\n",
              "      <td>3</td>\n",
              "      <td>0</td>\n",
              "      <td>73</td>\n",
              "      <td>3</td>\n",
              "      <td>6</td>\n",
              "      <td>1</td>\n",
              "      <td>6</td>\n",
              "      <td>20</td>\n",
              "    </tr>\n",
              "    <tr>\n",
              "      <th>2667</th>\n",
              "      <td>155</td>\n",
              "      <td>0</td>\n",
              "      <td>0.195278</td>\n",
              "      <td>0.273370</td>\n",
              "      <td>0.273370</td>\n",
              "      <td>0.069203</td>\n",
              "      <td>5668.469897</td>\n",
              "      <td>9143.083566</td>\n",
              "      <td>9143.083566</td>\n",
              "      <td>4556.055249</td>\n",
              "      <td>3</td>\n",
              "      <td>3</td>\n",
              "      <td>0</td>\n",
              "      <td>64</td>\n",
              "      <td>2</td>\n",
              "      <td>27</td>\n",
              "      <td>1</td>\n",
              "      <td>3</td>\n",
              "      <td>14</td>\n",
              "    </tr>\n",
              "    <tr>\n",
              "      <th>2668</th>\n",
              "      <td>395</td>\n",
              "      <td>1</td>\n",
              "      <td>0.353661</td>\n",
              "      <td>0.415313</td>\n",
              "      <td>0.415313</td>\n",
              "      <td>0.227108</td>\n",
              "      <td>11599.021081</td>\n",
              "      <td>10461.600690</td>\n",
              "      <td>10461.600690</td>\n",
              "      <td>10954.205808</td>\n",
              "      <td>4</td>\n",
              "      <td>2</td>\n",
              "      <td>1</td>\n",
              "      <td>104</td>\n",
              "      <td>0</td>\n",
              "      <td>3</td>\n",
              "      <td>1</td>\n",
              "      <td>6</td>\n",
              "      <td>21</td>\n",
              "    </tr>\n",
              "    <tr>\n",
              "      <th>2669</th>\n",
              "      <td>915</td>\n",
              "      <td>1</td>\n",
              "      <td>0.161919</td>\n",
              "      <td>0.415313</td>\n",
              "      <td>0.415313</td>\n",
              "      <td>0.227108</td>\n",
              "      <td>9556.608028</td>\n",
              "      <td>10461.600690</td>\n",
              "      <td>10461.600690</td>\n",
              "      <td>10954.205808</td>\n",
              "      <td>1</td>\n",
              "      <td>2</td>\n",
              "      <td>1</td>\n",
              "      <td>104</td>\n",
              "      <td>0</td>\n",
              "      <td>3</td>\n",
              "      <td>1</td>\n",
              "      <td>6</td>\n",
              "      <td>4</td>\n",
              "    </tr>\n",
              "    <tr>\n",
              "      <th>2670</th>\n",
              "      <td>860</td>\n",
              "      <td>1</td>\n",
              "      <td>0.114318</td>\n",
              "      <td>0.415313</td>\n",
              "      <td>0.415313</td>\n",
              "      <td>0.227108</td>\n",
              "      <td>10902.678094</td>\n",
              "      <td>10461.600690</td>\n",
              "      <td>10461.600690</td>\n",
              "      <td>10954.205808</td>\n",
              "      <td>6</td>\n",
              "      <td>2</td>\n",
              "      <td>1</td>\n",
              "      <td>104</td>\n",
              "      <td>5</td>\n",
              "      <td>15</td>\n",
              "      <td>0</td>\n",
              "      <td>6</td>\n",
              "      <td>4</td>\n",
              "    </tr>\n",
              "  </tbody>\n",
              "</table>\n",
              "<p>2671 rows × 19 columns</p>\n",
              "</div>\n",
              "      <button class=\"colab-df-convert\" onclick=\"convertToInteractive('df-f614fe3e-02cc-4956-92b7-43935b55011c')\"\n",
              "              title=\"Convert this dataframe to an interactive table.\"\n",
              "              style=\"display:none;\">\n",
              "        \n",
              "  <svg xmlns=\"http://www.w3.org/2000/svg\" height=\"24px\"viewBox=\"0 0 24 24\"\n",
              "       width=\"24px\">\n",
              "    <path d=\"M0 0h24v24H0V0z\" fill=\"none\"/>\n",
              "    <path d=\"M18.56 5.44l.94 2.06.94-2.06 2.06-.94-2.06-.94-.94-2.06-.94 2.06-2.06.94zm-11 1L8.5 8.5l.94-2.06 2.06-.94-2.06-.94L8.5 2.5l-.94 2.06-2.06.94zm10 10l.94 2.06.94-2.06 2.06-.94-2.06-.94-.94-2.06-.94 2.06-2.06.94z\"/><path d=\"M17.41 7.96l-1.37-1.37c-.4-.4-.92-.59-1.43-.59-.52 0-1.04.2-1.43.59L10.3 9.45l-7.72 7.72c-.78.78-.78 2.05 0 2.83L4 21.41c.39.39.9.59 1.41.59.51 0 1.02-.2 1.41-.59l7.78-7.78 2.81-2.81c.8-.78.8-2.07 0-2.86zM5.41 20L4 18.59l7.72-7.72 1.47 1.35L5.41 20z\"/>\n",
              "  </svg>\n",
              "      </button>\n",
              "      \n",
              "  <style>\n",
              "    .colab-df-container {\n",
              "      display:flex;\n",
              "      flex-wrap:wrap;\n",
              "      gap: 12px;\n",
              "    }\n",
              "\n",
              "    .colab-df-convert {\n",
              "      background-color: #E8F0FE;\n",
              "      border: none;\n",
              "      border-radius: 50%;\n",
              "      cursor: pointer;\n",
              "      display: none;\n",
              "      fill: #1967D2;\n",
              "      height: 32px;\n",
              "      padding: 0 0 0 0;\n",
              "      width: 32px;\n",
              "    }\n",
              "\n",
              "    .colab-df-convert:hover {\n",
              "      background-color: #E2EBFA;\n",
              "      box-shadow: 0px 1px 2px rgba(60, 64, 67, 0.3), 0px 1px 3px 1px rgba(60, 64, 67, 0.15);\n",
              "      fill: #174EA6;\n",
              "    }\n",
              "\n",
              "    [theme=dark] .colab-df-convert {\n",
              "      background-color: #3B4455;\n",
              "      fill: #D2E3FC;\n",
              "    }\n",
              "\n",
              "    [theme=dark] .colab-df-convert:hover {\n",
              "      background-color: #434B5C;\n",
              "      box-shadow: 0px 1px 3px 1px rgba(0, 0, 0, 0.15);\n",
              "      filter: drop-shadow(0px 1px 2px rgba(0, 0, 0, 0.3));\n",
              "      fill: #FFFFFF;\n",
              "    }\n",
              "  </style>\n",
              "\n",
              "      <script>\n",
              "        const buttonEl =\n",
              "          document.querySelector('#df-f614fe3e-02cc-4956-92b7-43935b55011c button.colab-df-convert');\n",
              "        buttonEl.style.display =\n",
              "          google.colab.kernel.accessAllowed ? 'block' : 'none';\n",
              "\n",
              "        async function convertToInteractive(key) {\n",
              "          const element = document.querySelector('#df-f614fe3e-02cc-4956-92b7-43935b55011c');\n",
              "          const dataTable =\n",
              "            await google.colab.kernel.invokeFunction('convertToInteractive',\n",
              "                                                     [key], {});\n",
              "          if (!dataTable) return;\n",
              "\n",
              "          const docLinkHtml = 'Like what you see? Visit the ' +\n",
              "            '<a target=\"_blank\" href=https://colab.research.google.com/notebooks/data_table.ipynb>data table notebook</a>'\n",
              "            + ' to learn more about interactive tables.';\n",
              "          element.innerHTML = '';\n",
              "          dataTable['output_type'] = 'display_data';\n",
              "          await google.colab.output.renderOutput(dataTable, element);\n",
              "          const docLink = document.createElement('div');\n",
              "          docLink.innerHTML = docLinkHtml;\n",
              "          element.appendChild(docLink);\n",
              "        }\n",
              "      </script>\n",
              "    </div>\n",
              "  </div>\n",
              "  "
            ]
          },
          "metadata": {},
          "execution_count": 619
        }
      ]
    },
    {
      "cell_type": "code",
      "source": [
        "%%time\n",
        "test_df = pd.read_excel(\"/content/Airline/Airline/data/Test_set.xlsx\")\n",
        "test_input = preprocess_and_predict(test_df, encoded_dict)"
      ],
      "metadata": {
        "colab": {
          "base_uri": "https://localhost:8080/"
        },
        "id": "7x66jAwb7MZ3",
        "outputId": "3dd0e8dd-2009-4bb5-b4af-1611801ca3b2"
      },
      "execution_count": null,
      "outputs": [
        {
          "output_type": "stream",
          "name": "stdout",
          "text": [
            "CPU times: user 634 ms, sys: 7.12 ms, total: 641 ms\n",
            "Wall time: 638 ms\n"
          ]
        }
      ]
    },
    {
      "cell_type": "code",
      "source": [
        "%%time\n",
        "\n",
        "print(random_regressor.predict(test_input.iloc[0:5, :]))"
      ],
      "metadata": {
        "colab": {
          "base_uri": "https://localhost:8080/"
        },
        "id": "-aS1S1CH7nBm",
        "outputId": "0fbc870e-5224-46e9-81b6-0838a3a2f867"
      },
      "execution_count": null,
      "outputs": [
        {
          "output_type": "stream",
          "name": "stdout",
          "text": [
            "[10991.00664977  4377.77736891 14246.82805607 10558.50481557\n",
            "  3832.81597679]\n",
            "CPU times: user 53 ms, sys: 962 µs, total: 54 ms\n",
            "Wall time: 56.7 ms\n"
          ]
        }
      ]
    },
    {
      "cell_type": "code",
      "execution_count": null,
      "metadata": {
        "id": "gFipaIbtPT8F",
        "colab": {
          "base_uri": "https://localhost:8080/"
        },
        "outputId": "8e892c6f-b450-47a2-8b44-934bf22c2b90"
      },
      "outputs": [
        {
          "output_type": "execute_result",
          "data": {
            "text/plain": [
              "array([11085.86445085,  4334.03956029, 14198.03309312, 10467.37203787,\n",
              "        3904.25108659])"
            ]
          },
          "metadata": {},
          "execution_count": 626
        }
      ],
      "source": [
        "saved_model.predict(test_input.iloc[0:5, :])"
      ]
    },
    {
      "cell_type": "markdown",
      "source": [
        "## Saving Models and other Dependencies:"
      ],
      "metadata": {
        "id": "cxwUvyMsuHrN"
      }
    },
    {
      "cell_type": "code",
      "execution_count": null,
      "metadata": {
        "id": "ZeAQF02JPT-3"
      },
      "outputs": [],
      "source": [
        "# Store data (serialize)\n",
        "with open('encoded.pickle', 'wb') as handle:\n",
        "    pickle.dump(encoded_dict, handle, protocol=pickle.HIGHEST_PROTOCOL)"
      ]
    },
    {
      "cell_type": "code",
      "execution_count": null,
      "metadata": {
        "id": "v2txHB-vPUBk"
      },
      "outputs": [],
      "source": [
        "# Load data (deserialize)\n",
        "with open(\"/content/Airline/Airline/model/encoded.pickle\", 'rb') as handle:\n",
        "    saved_encoding = pickle.load(handle)"
      ]
    },
    {
      "cell_type": "code",
      "execution_count": null,
      "metadata": {
        "id": "xZF4l1e_PUEf",
        "colab": {
          "base_uri": "https://localhost:8080/"
        },
        "outputId": "b63e436f-d3cc-41c3-f838-a793aea97afd"
      },
      "outputs": [
        {
          "output_type": "stream",
          "name": "stdout",
          "text": [
            "[11085.86445085  4334.03956029 14198.03309312 10467.37203787\n",
            "  3904.25108659]\n",
            "CPU times: user 47 ms, sys: 43 µs, total: 47 ms\n",
            "Wall time: 52.5 ms\n"
          ]
        }
      ],
      "source": [
        "%%time\n",
        "print(saved_model.predict(test_input.iloc[0:5, :]))"
      ]
    },
    {
      "cell_type": "markdown",
      "source": [
        "## Deployment and Making Predictions:"
      ],
      "metadata": {
        "id": "1FmeCoRZ9qnv"
      }
    },
    {
      "cell_type": "markdown",
      "source": [
        "### Build Flask Api:"
      ],
      "metadata": {
        "id": "_yi8YPgs90oS"
      }
    },
    {
      "cell_type": "code",
      "execution_count": null,
      "metadata": {
        "id": "DCteLcd8PUHL",
        "colab": {
          "base_uri": "https://localhost:8080/"
        },
        "outputId": "e16d2c28-befd-4ab1-c428-e2de88e2fd1b"
      },
      "outputs": [
        {
          "output_type": "stream",
          "name": "stdout",
          "text": [
            "Collecting flask-ngrok\n",
            "  Downloading flask_ngrok-0.0.25-py3-none-any.whl (3.1 kB)\n",
            "Requirement already satisfied: requests in /usr/local/lib/python3.7/dist-packages (from flask-ngrok) (2.23.0)\n",
            "Requirement already satisfied: Flask>=0.8 in /usr/local/lib/python3.7/dist-packages (from flask-ngrok) (1.1.4)\n",
            "Requirement already satisfied: Jinja2<3.0,>=2.10.1 in /usr/local/lib/python3.7/dist-packages (from Flask>=0.8->flask-ngrok) (2.11.3)\n",
            "Requirement already satisfied: Werkzeug<2.0,>=0.15 in /usr/local/lib/python3.7/dist-packages (from Flask>=0.8->flask-ngrok) (1.0.1)\n",
            "Requirement already satisfied: itsdangerous<2.0,>=0.24 in /usr/local/lib/python3.7/dist-packages (from Flask>=0.8->flask-ngrok) (1.1.0)\n",
            "Requirement already satisfied: click<8.0,>=5.1 in /usr/local/lib/python3.7/dist-packages (from Flask>=0.8->flask-ngrok) (7.1.2)\n",
            "Requirement already satisfied: MarkupSafe>=0.23 in /usr/local/lib/python3.7/dist-packages (from Jinja2<3.0,>=2.10.1->Flask>=0.8->flask-ngrok) (2.0.1)\n",
            "Requirement already satisfied: chardet<4,>=3.0.2 in /usr/local/lib/python3.7/dist-packages (from requests->flask-ngrok) (3.0.4)\n",
            "Requirement already satisfied: certifi>=2017.4.17 in /usr/local/lib/python3.7/dist-packages (from requests->flask-ngrok) (2021.10.8)\n",
            "Requirement already satisfied: idna<3,>=2.5 in /usr/local/lib/python3.7/dist-packages (from requests->flask-ngrok) (2.10)\n",
            "Requirement already satisfied: urllib3!=1.25.0,!=1.25.1,<1.26,>=1.21.1 in /usr/local/lib/python3.7/dist-packages (from requests->flask-ngrok) (1.24.3)\n",
            "Installing collected packages: flask-ngrok\n",
            "Successfully installed flask-ngrok-0.0.25\n"
          ]
        }
      ],
      "source": [
        "# API -  Development:\n",
        "! pip install flask-ngrok"
      ]
    },
    {
      "cell_type": "code",
      "source": [
        "! pip install pyngrok==4.1.1"
      ],
      "metadata": {
        "colab": {
          "base_uri": "https://localhost:8080/"
        },
        "id": "fyBrzf-q6j6-",
        "outputId": "888acd8f-afcb-4121-a1cc-056c825e7c84"
      },
      "execution_count": null,
      "outputs": [
        {
          "output_type": "stream",
          "name": "stdout",
          "text": [
            "Collecting pyngrok==4.1.1\n",
            "  Downloading pyngrok-4.1.1.tar.gz (18 kB)\n",
            "Requirement already satisfied: future in /usr/local/lib/python3.7/dist-packages (from pyngrok==4.1.1) (0.16.0)\n",
            "Requirement already satisfied: PyYAML in /usr/local/lib/python3.7/dist-packages (from pyngrok==4.1.1) (3.13)\n",
            "Building wheels for collected packages: pyngrok\n",
            "  Building wheel for pyngrok (setup.py) ... \u001b[?25l\u001b[?25hdone\n",
            "  Created wheel for pyngrok: filename=pyngrok-4.1.1-py3-none-any.whl size=15983 sha256=905fdc8a18392c0022e35ce6036c2afa52cb7d7cc56437df03f2d6659e2680fd\n",
            "  Stored in directory: /root/.cache/pip/wheels/b1/d9/12/045a042fee3127dc40ba6f5df2798aa2df38c414bf533ca765\n",
            "Successfully built pyngrok\n",
            "Installing collected packages: pyngrok\n",
            "Successfully installed pyngrok-4.1.1\n"
          ]
        }
      ]
    },
    {
      "cell_type": "code",
      "source": [
        "!ngrok authtoken 1WFc9kEXsO0ePPMxP2B0ickiTfn_shWke1zX6gQPRVGoZkuJ"
      ],
      "metadata": {
        "colab": {
          "base_uri": "https://localhost:8080/"
        },
        "id": "TjywEdn26j9v",
        "outputId": "ec392c4f-7449-40eb-8cc5-e7e24320a915"
      },
      "execution_count": null,
      "outputs": [
        {
          "output_type": "stream",
          "name": "stdout",
          "text": [
            "Authtoken saved to configuration file: /root/.ngrok2/ngrok.yml\n"
          ]
        }
      ]
    },
    {
      "cell_type": "code",
      "source": [
        "df = pd.read_excel(\"/content/Airline/Airline/data/Test_set.xlsx\")\n",
        "df.to_json(\"/content/Airline/Airline/data/df_to_json_convert.json\", orient='records', lines=True)"
      ],
      "metadata": {
        "id": "0fdL9zAz6kAj"
      },
      "execution_count": null,
      "outputs": []
    },
    {
      "cell_type": "code",
      "source": [
        "json_data = {\"Airline\":\"Jet Airways\",\"Date_of_Journey\":\"6/06/2019\",\"Source\":\"Delhi\",\"Destination\":\"Cochin\",\"Route\":\"DEL \\u2192 BOM \\u2192 COK\",\"Dep_Time\":\"17:30\",\"Arrival_Time\":\"04:25 07 Jun\",\"Duration\":\"10h 55m\",\"Total_Stops\":\"1 stop\",\"Additional_Info\":\"No info\"}\n",
        "# {\"Airline\":\"Jet Airways\",\"Date_of_Journey\":\"6\\/06\\/2019\",\"Source\":\"Delhi\",\"Destination\":\"Cochin\",\"Route\":\"DEL \\u2192 BOM \\u2192 COK\",\"Dep_Time\":\"17:30\",\"Arrival_Time\":\"04:25 07 Jun\",\"Duration\":\"10h 55m\",\"Total_Stops\":\"1 stop\",\"Additional_Info\":\"No info\"}\n",
        "# Convert json data to dataframe\n",
        "df_record = pd.DataFrame.from_dict(pd.json_normalize(json_data), orient='columns')\n",
        "print(\"-\"*80)\n",
        "print(df_record)"
      ],
      "metadata": {
        "colab": {
          "base_uri": "https://localhost:8080/"
        },
        "id": "OQHyxC-g6kDP",
        "outputId": "6cfa2092-9737-4c32-a694-2385f5d53571"
      },
      "execution_count": null,
      "outputs": [
        {
          "output_type": "stream",
          "name": "stdout",
          "text": [
            "--------------------------------------------------------------------------------\n",
            "       Airline Date_of_Journey Source Destination            Route Dep_Time  \\\n",
            "0  Jet Airways       6/06/2019  Delhi      Cochin  DEL → BOM → COK    17:30   \n",
            "\n",
            "   Arrival_Time Duration Total_Stops Additional_Info  \n",
            "0  04:25 07 Jun  10h 55m      1 stop         No info  \n"
          ]
        }
      ]
    },
    {
      "cell_type": "code",
      "source": [
        "data = preprocess_and_predict(df_record, encoded_dict)\n",
        "print(\"-\" * 80)\n",
        "print(data)\n",
        "print(\"-\" * 80)"
      ],
      "metadata": {
        "colab": {
          "base_uri": "https://localhost:8080/"
        },
        "id": "nzYfjFxy6kIG",
        "outputId": "7ca2daaa-a2f6-4d07-fda3-0212ef3d3888"
      },
      "execution_count": null,
      "outputs": [
        {
          "output_type": "stream",
          "name": "stdout",
          "text": [
            "--------------------------------------------------------------------------------\n",
            "   Duration  Total_Stops  Freq_encoded_Airline  Freq_encoded_Source  \\\n",
            "0       655            1              0.353661             0.415313   \n",
            "\n",
            "   Freq_encoded_Destination  Freq_encoded_Route  Mean_encoded_Airline  \\\n",
            "0                  0.415313            0.227108          11599.021081   \n",
            "\n",
            "   Mean_encoded_Source  Mean_encoded_Destination  Mean_encoded_Route  \\\n",
            "0          10461.60069               10461.60069        10954.205808   \n",
            "\n",
            "   Label_encoded_Airline  Label_encoded_Source  Label_encoded_Destination  \\\n",
            "0                      4                     2                          1   \n",
            "\n",
            "   Label_encoded_Route  Day_of_week  Day_of_month  Weekday  Month  Dep_hour  \n",
            "0                  104            3             6        1      6        17  \n",
            "--------------------------------------------------------------------------------\n"
          ]
        }
      ]
    },
    {
      "cell_type": "code",
      "source": [
        "prediction = saved_model.predict(data)"
      ],
      "metadata": {
        "id": "7MCiwJ9X6kFu"
      },
      "execution_count": null,
      "outputs": []
    },
    {
      "cell_type": "code",
      "source": [
        "prediction"
      ],
      "metadata": {
        "colab": {
          "base_uri": "https://localhost:8080/"
        },
        "id": "eGxLD_-D6kK4",
        "outputId": "d124561b-a5bc-4136-bef3-0480182189dd"
      },
      "execution_count": null,
      "outputs": [
        {
          "output_type": "execute_result",
          "data": {
            "text/plain": [
              "array([11085.86445085])"
            ]
          },
          "metadata": {},
          "execution_count": 647
        }
      ]
    },
    {
      "cell_type": "code",
      "source": [
        "prediction[0]"
      ],
      "metadata": {
        "colab": {
          "base_uri": "https://localhost:8080/"
        },
        "id": "el1HKnut6kNb",
        "outputId": "24298646-295d-44b3-cd12-c72517579ff5"
      },
      "execution_count": null,
      "outputs": [
        {
          "output_type": "execute_result",
          "data": {
            "text/plain": [
              "11085.86445084535"
            ]
          },
          "metadata": {},
          "execution_count": 648
        }
      ]
    },
    {
      "cell_type": "code",
      "source": [
        "from flask import Flask, json, request, jsonify\n",
        "from flask_ngrok import run_with_ngrok\n",
        "import os\n",
        "import urllib.request\n",
        "from werkzeug.utils import secure_filename\n",
        "\n",
        "app = Flask(__name__)\n",
        "run_with_ngrok(app)\n",
        "app.secret_key = \"caircocoders-ednalan\"\n",
        "\n",
        "model = saved_model\n",
        "encoded_dict\n",
        "\n",
        "@app.route('/api', methods=['POST', 'GET'])\n",
        "def predict():\n",
        "    # Get the DataFrame.from_dict(pd.json_normalize(json_data), orient='columns)\n",
        "    json_data = request.get_json(force=True)\n",
        "\n",
        "    # Convert json data to dataframe\n",
        "    df = pd.DataFrame.from_dict(pd.json_normalize(json_data), orient='clumns')\n",
        "    print(\"-\" * 80)\n",
        "    print(df)\n",
        "\n",
        "    # Pre-process and make prediction using model loaded from disk as per the data.\n",
        "    data = preprocess_and_predict(df, encoded_dict)\n",
        "    print(\"-\" * 80)\n",
        "    print(data)\n",
        "    print(\"-\" * 80)\n",
        "\n",
        "    prediction = model.predict(data)\n",
        "\n",
        "    # Take the first value of prediction\n",
        "    output = prediction[0]\n",
        "    print(\"price : \", output)\n",
        "    return jsonify(output)\n",
        "\n",
        "@app.route(\"/\", methods=['POST', 'GET'])\n",
        "def root():\n",
        "    return 'This is the flight price Prediction Application.'"
      ],
      "metadata": {
        "id": "Qw3AkIgR6kPz"
      },
      "execution_count": null,
      "outputs": []
    },
    {
      "cell_type": "code",
      "source": [
        "app.run()"
      ],
      "metadata": {
        "id": "k53d6Twt6kca"
      },
      "execution_count": null,
      "outputs": []
    },
    {
      "cell_type": "code",
      "source": [
        "ls"
      ],
      "metadata": {
        "id": "NibCGtkF6ke8"
      },
      "execution_count": null,
      "outputs": []
    },
    {
      "cell_type": "code",
      "source": [
        ""
      ],
      "metadata": {
        "id": "ilJTJ_5RpvMn"
      },
      "execution_count": null,
      "outputs": []
    },
    {
      "cell_type": "code",
      "source": [
        ""
      ],
      "metadata": {
        "id": "3JtCtz4G6khf"
      },
      "execution_count": null,
      "outputs": []
    },
    {
      "cell_type": "code",
      "source": [
        ""
      ],
      "metadata": {
        "id": "1_Rrg_8V6kkI"
      },
      "execution_count": null,
      "outputs": []
    },
    {
      "cell_type": "code",
      "source": [
        ""
      ],
      "metadata": {
        "id": "SrKMFAzJ6km2"
      },
      "execution_count": null,
      "outputs": []
    },
    {
      "cell_type": "code",
      "source": [
        ""
      ],
      "metadata": {
        "id": "pEJwZTMq6kp0"
      },
      "execution_count": null,
      "outputs": []
    },
    {
      "cell_type": "code",
      "source": [
        ""
      ],
      "metadata": {
        "id": "o2FNXfxr6ksq"
      },
      "execution_count": null,
      "outputs": []
    },
    {
      "cell_type": "code",
      "source": [
        ""
      ],
      "metadata": {
        "id": "yogZCJqP6kvw"
      },
      "execution_count": null,
      "outputs": []
    },
    {
      "cell_type": "code",
      "source": [
        ""
      ],
      "metadata": {
        "id": "eL35YYNi6k5C"
      },
      "execution_count": null,
      "outputs": []
    },
    {
      "cell_type": "code",
      "source": [
        ""
      ],
      "metadata": {
        "id": "mor6cuiQ6k8P"
      },
      "execution_count": null,
      "outputs": []
    },
    {
      "cell_type": "code",
      "source": [
        ""
      ],
      "metadata": {
        "id": "P6KWa_p96k_H"
      },
      "execution_count": null,
      "outputs": []
    },
    {
      "cell_type": "code",
      "source": [
        ""
      ],
      "metadata": {
        "id": "HZ59uqn46lB9"
      },
      "execution_count": null,
      "outputs": []
    },
    {
      "cell_type": "code",
      "source": [
        ""
      ],
      "metadata": {
        "id": "MSIzJjrr6lE9"
      },
      "execution_count": null,
      "outputs": []
    },
    {
      "cell_type": "code",
      "source": [
        ""
      ],
      "metadata": {
        "id": "xQ0l5Izi6lIO"
      },
      "execution_count": null,
      "outputs": []
    },
    {
      "cell_type": "code",
      "source": [
        ""
      ],
      "metadata": {
        "id": "xrQasxGn6lLN"
      },
      "execution_count": null,
      "outputs": []
    },
    {
      "cell_type": "code",
      "source": [
        ""
      ],
      "metadata": {
        "id": "EP_ObTl_6lPN"
      },
      "execution_count": null,
      "outputs": []
    },
    {
      "cell_type": "code",
      "source": [
        ""
      ],
      "metadata": {
        "id": "n4hoWOaD6lSD"
      },
      "execution_count": null,
      "outputs": []
    },
    {
      "cell_type": "code",
      "source": [
        ""
      ],
      "metadata": {
        "id": "b-hlSYNY6lU4"
      },
      "execution_count": null,
      "outputs": []
    }
  ],
  "metadata": {
    "colab": {
      "collapsed_sections": [],
      "name": "FlightPriceTop.ipynb",
      "provenance": [],
      "authorship_tag": "ABX9TyMZ6ZtBR53GxjAotmb2Z5Sk",
      "include_colab_link": true
    },
    "kernelspec": {
      "display_name": "Python 3",
      "name": "python3"
    },
    "language_info": {
      "name": "python"
    }
  },
  "nbformat": 4,
  "nbformat_minor": 0
}